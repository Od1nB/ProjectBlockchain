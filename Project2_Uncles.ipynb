{
 "cells": [
  {
   "cell_type": "markdown",
   "metadata": {},
   "source": [
    "# Project 2: Uncles and Uncles Rewards\n",
    "- Model a Blockchain that uses uncles and uncle rewards\n",
    "- Model rewarding mechanism to reward uncle block creators\n",
    "- Model selfish mining (only one attacker) in this blockchain\n",
    "\n",
    "Try to answer the following questions with your experiment:\n",
    "1. How do uncles improve the fairness of the blockchain? For this, you should compare the outcome of miners with and without uncles.\n",
    "2. What is the impact of uncles on selfish mining? Is selfish mining more profitable with uncles?\n",
    "3. What does it mean in this model for the selfish mining attack to be profitable?\n",
    "\n",
    " Since more miners will get rewards for mining, even if they don't finish a block that is part of the longest chain, they will be rewarded for it. So the time and energy used for that block will not be as wasted, and it seems more rewarding to mine. Show net money with and without uncle rewards to display point. The concept of it is for fairness, but may encourage selfish mining. "
   ]
  },
  {
   "cell_type": "markdown",
   "metadata": {},
   "source": [
    "### Imports"
   ]
  },
  {
   "cell_type": "code",
   "execution_count": 2,
   "metadata": {
    "colab": {
     "base_uri": "https://localhost:8080/"
    },
    "id": "ef05ce3c",
    "outputId": "935d959b-21d0-4d92-bae9-3e8c72e8ae1c"
   },
   "outputs": [],
   "source": [
    "#Import statements\n",
    "from draw_blockchain import show\n",
    "import hashlib as hasher\n",
    "import random\n",
    "import numpy as np"
   ]
  },
  {
   "cell_type": "markdown",
   "metadata": {},
   "source": [
    "### Hash function"
   ]
  },
  {
   "cell_type": "code",
   "execution_count": 3,
   "metadata": {},
   "outputs": [],
   "source": [
    "def hashbits(input):\n",
    "    hash_obj = hasher.sha256()\n",
    "    inputbytes = input.encode()\n",
    "    hash_obj.update(inputbytes)\n",
    "    hashbytes = hash_obj.digest()\n",
    "    return ''.join(f'{x:08b}' for x in hashbytes)\n",
    "\n",
    "def hash(input):\n",
    "    hash_obj = hasher.sha256()\n",
    "    inputbytes = input.encode()\n",
    "    #print(type(inputbytes))\n",
    "    hash_obj.update(inputbytes)\n",
    "    return hash_obj.hexdigest()\n",
    "\n",
    "def numberOfInitZeros(hashStr):\n",
    "    count = 0\n",
    "    for i in range (0 , len(hashStr)):\n",
    "        if hashStr[i] == '1':\n",
    "            break\n",
    "        count += 1\n",
    "    return count"
   ]
  },
  {
   "cell_type": "markdown",
   "metadata": {},
   "source": [
    "### Block"
   ]
  },
  {
   "cell_type": "code",
   "execution_count": 4,
   "metadata": {},
   "outputs": [],
   "source": [
    "class Block:\n",
    "    def __init__(self, data, creator=None, previous=None, nonce=0):\n",
    "        self.data = data\n",
    "        if previous is None:\n",
    "            self.previous = None\n",
    "            self.previous_hash = \"\"\n",
    "            self.creator = Miner(0 , \"0\")\n",
    "            self.height = 0\n",
    "            self.color = \"#AEF751\"\n",
    "        else:\n",
    "            self.previous = previous\n",
    "            self.previous_hash = previous.hash\n",
    "            self.creator = creator\n",
    "            self.height = previous.height+1\n",
    "            self.color = creator.color\n",
    "        self.nonce = nonce\n",
    "        self.hash = self.hash_block()\n",
    "        self.children = []\n",
    "\n",
    "    def hash_block(self):\n",
    "        return hashbits(self.data+ self.creator.name + self.previous_hash + str(self.nonce))\n",
    "\n",
    "    def print(self):\n",
    "        print(self.data + \" \"+ self.creator.name + \" \" + str(self.height))"
   ]
  },
  {
   "cell_type": "markdown",
   "metadata": {
    "id": "ac097c16"
   },
   "source": [
    "### Blockchain"
   ]
  },
  {
   "cell_type": "code",
   "execution_count": 5,
   "metadata": {
    "id": "CDX_Rs4rubpy"
   },
   "outputs": [],
   "source": [
    "class Blockchain:\n",
    "    def __init__(self, genesis_data, difficulty, blockReward=10):\n",
    "        self.chain = []\n",
    "        self.chain.append(Block(genesis_data))\n",
    "        self.difficulty = difficulty\n",
    "        self.size = 0\n",
    "        self.block_reward = blockReward\n",
    "        self.uncles = []\n",
    "\n",
    "    def longestChain(self):\n",
    "      max = self.chain[0].height\n",
    "      for block in self.chain:\n",
    "          if block.height > max:\n",
    "                max = block.height\n",
    "      maxes = [block for block in self.chain if block.height == max]\n",
    "      r = random.choices(maxes, k=1)\n",
    "      return r[0]\n",
    "        \n",
    "    def add(self, newBlock):\n",
    "        self.chain.append(newBlock)\n",
    "        newBlock.previous.children.append(newBlock)\n",
    "        self.size +=1\n",
    "        if self.inlongestChain(newBlock):\n",
    "            newBlock.creator.reward += self.block_reward\n",
    "        else:  \n",
    "            self.uncles.append(newBlock)\n",
    "        \n",
    "    def print(self):\n",
    "        for block in self.chain:\n",
    "            block.print()\n",
    "            print(\"________\")\n",
    "\n",
    "    def hasFork(self):\n",
    "        for block1 in self.chain:\n",
    "            for block2 in self.chain:\n",
    "                if block1!=block2 and block1.height == block2.height:\n",
    "                    return True\n",
    "        return False\n",
    "\n",
    "    def checkMiner(self, miner):\n",
    "      last = self.longestChain()\n",
    "      count = 0\n",
    "      while last!=None:\n",
    "          if last.creator == miner:\n",
    "                count += 1\n",
    "          last = last.previous\n",
    "      return count\n",
    "    \n",
    "    def inlongestChain(self, block):\n",
    "          last = self.longestChain()\n",
    "          while last!= None:\n",
    "                if last == block: #need more of a check for if fork\n",
    "                        # print(\"last\",last.height,\"block\", block.height)\n",
    "                        return True\n",
    "                last = last.previous\n",
    "          return False\n",
    "          \n",
    "    #Think this one works but not 110% sure yet\n",
    "    def forks(self):\n",
    "        fork_list = []\n",
    "        last = self.longestChain()\n",
    "        while last != None:\n",
    "            # print(last.creator.name)\n",
    "            for child in last.children:\n",
    "                if not self.inlongestChain(child):\n",
    "                    length = 1\n",
    "                    forkblock = child\n",
    "                    while forkblock.children:\n",
    "                        length += 1\n",
    "                        forkblock = forkblock.children[0]\n",
    "                    fork_list.append(length)\n",
    "            last = last.previous\n",
    "        return fork_list\n"
   ]
  },
  {
   "cell_type": "markdown",
   "metadata": {},
   "source": [
    "### Uncle blockchain"
   ]
  },
  {
   "cell_type": "code",
   "execution_count": 6,
   "metadata": {},
   "outputs": [],
   "source": [
    "class UncleBlockchain(Blockchain):\n",
    "    def __init__(self, genesis_data, difficulty, block_reward=10, uncle_reward=5):\n",
    "        super().__init__(genesis_data, difficulty, blockReward=block_reward)\n",
    "        self.uncle_reward = uncle_reward\n",
    "        self.uncles = []\n",
    "    \n",
    "    def add(self, new_block):\n",
    "        self.chain.append(new_block)\n",
    "        new_block.previous.children.append(new_block)\n",
    "        self.size +=1\n",
    "        if self.inlongestChain(new_block):\n",
    "            new_block.creator.reward += self.block_reward\n",
    "            if self.uncles and new_block.height > self.uncles[0].height:\n",
    "                self.referenceUncle()\n",
    "        else:  \n",
    "            self.uncles.append(new_block)\n",
    "\n",
    "    def referenceUncle(self):\n",
    "        uncleblock = self.uncles[-1]\n",
    "        uncleblock.creator.reward += self.uncle_reward\n",
    "        self.uncles.pop()"
   ]
  },
  {
   "cell_type": "markdown",
   "metadata": {},
   "source": [
    "## Miners"
   ]
  },
  {
   "cell_type": "markdown",
   "metadata": {},
   "source": [
    "### Normal miner"
   ]
  },
  {
   "cell_type": "code",
   "execution_count": 7,
   "metadata": {},
   "outputs": [],
   "source": [
    "class Miner:\n",
    "    def __init__(self, miningPower, name, blockchain=None):\n",
    "        self.miningPower = miningPower\n",
    "        self.nonce = random.randint(0,100000) #original one\n",
    "        # self.nonce = 0\n",
    "        self.name = name\n",
    "        self.blockchain = blockchain\n",
    "        self.reward = 0\n",
    "        self.color = \"#7EDBF6\"\n",
    "        if self.blockchain != None:\n",
    "            self.lastBlock = blockchain.longestChain()\n",
    "    \n",
    "    def UpdateLast(self):\n",
    "        latest = self.blockchain.longestChain()\n",
    "        if latest.height > self.lastBlock.height:\n",
    "              self.lastBlock = latest\n",
    "\n",
    "    def PoWSolver(self):\n",
    "        for i in range (0 , self.miningPower):\n",
    "            newBlock = Block(str(self.blockchain.size), self, self.lastBlock, self.nonce)\n",
    "            h = newBlock.hash_block()\n",
    "            count = numberOfInitZeros(h)\n",
    "            if count >= self.blockchain.difficulty:\n",
    "                self.blockchain.add(newBlock)\n",
    "                self.lastBlock = newBlock\n",
    "            self.nonce += 1\n"
   ]
  },
  {
   "cell_type": "markdown",
   "metadata": {},
   "source": [
    "### Selfish miner"
   ]
  },
  {
   "cell_type": "code",
   "execution_count": 8,
   "metadata": {},
   "outputs": [],
   "source": [
    "\n",
    "class SelfishMiner(Miner):\n",
    "    def __init__(self, miningPower, name, blockchain=None):\n",
    "        super().__init__(miningPower, name, blockchain)\n",
    "        self.privateBlocks = []\n",
    "        self.publishNext = False\n",
    "        self.color = \"#F59AEE\"\n",
    "\n",
    "    def UpdateLast(self):\n",
    "        #add this function\n",
    "        latest = self.blockchain.longestChain()\n",
    "        publicheight = latest.height\n",
    "        if publicheight > self.lastBlock.height:\n",
    "            self.privateBlocks = []\n",
    "            self.lastBlock = latest\n",
    "            self.publishNext = False\n",
    "        if publicheight == self.lastBlock.height-1 and len(self.privateBlocks)> 1:\n",
    "            for block in self.privateBlocks:\n",
    "                self.blockchain.add(block)\n",
    "                self.privateBlocks = []\n",
    "        if publicheight == self.lastBlock.height:\n",
    "            for block in self.privateBlocks:\n",
    "                self.blockchain.add(block)\n",
    "                self.privateBlocks = []\n",
    "                self.publishNext = True\n",
    "\n",
    "    def PoWSolver(self):\n",
    "        #add this function\n",
    "        for i in range (0 , self.miningPower):\n",
    "            newBlock = Block(str(self.blockchain.size), self, self.lastBlock, self.nonce)\n",
    "            h = newBlock.hash_block()\n",
    "            count = numberOfInitZeros(h)\n",
    "            if count >= self.blockchain.difficulty:\n",
    "                if self.publishNext:\n",
    "                    self.blockchain.add(newBlock)\n",
    "                    self.publishNext = False\n",
    "                else:\n",
    "                    self.privateBlocks.append(newBlock)\n",
    "                self.lastBlock = newBlock\n",
    "            self.nonce += 1"
   ]
  },
  {
   "cell_type": "markdown",
   "metadata": {},
   "source": [
    "## Main program"
   ]
  },
  {
   "cell_type": "markdown",
   "metadata": {},
   "source": [
    "### Run function"
   ]
  },
  {
   "cell_type": "code",
   "execution_count": 9,
   "metadata": {},
   "outputs": [],
   "source": [
    "#Main\n",
    "def run(\n",
    "        reward=10, uncle_reward=0,\n",
    "        difficulty=10,\n",
    "        num_miners=10,\n",
    "        num_selfish_miners=0,\n",
    "        mining_power=10,\n",
    "        mining_power_selfish=15,\n",
    "        genesis_data=\"0\",\n",
    "        num_blocks = 30,\n",
    "        miners = []\n",
    "    ):\n",
    "    bc = None\n",
    "    if uncle_reward > 0:\n",
    "        bc = UncleBlockchain(genesis_data , difficulty, reward, uncle_reward)\n",
    "    else:\n",
    "        bc = Blockchain(genesis_data , difficulty, reward)\n",
    "    miners = [Miner(p, \"m\"+ str(i), bc) for i,p in enumerate(miners)]\n",
    "    selfish = []\n",
    "    len_miners = len(miners)\n",
    "    for i in range(num_miners):\n",
    "        miners.append(Miner(mining_power ,\"m\"+str(len_miners+i), bc))\n",
    "    for i in range(num_selfish_miners):\n",
    "        selfish.append(SelfishMiner(mining_power_selfish ,\"s\"+str(i), bc))\n",
    "    while bc.size < num_blocks:\n",
    "        for s in selfish:\n",
    "            s.PoWSolver()\n",
    "\n",
    "        for m in miners:\n",
    "            m.PoWSolver()\n",
    "\n",
    "        for s in selfish:\n",
    "            s.UpdateLast()\n",
    "\n",
    "        for m in miners:\n",
    "            m.UpdateLast()\n",
    "    return bc, miners, selfish\n",
    "\n",
    "def print_run(bc, miners, selfish):\n",
    "    print(\"Has fork:\", bc.hasFork())\n",
    "    longest_chain = bc.longestChain()\n",
    "    print(\"Longest chain height:\",longest_chain.height)\n",
    "    selfish_power = 0\n",
    "    for s in selfish:\n",
    "        selfish_power+=s.miningPower\n",
    "        print(s.name, bc.checkMiner(s))\n",
    "        print(\"Fraction {}\".format(bc.checkMiner(s) /longest_chain.height ))\n",
    "    total = selfish_power\n",
    "    for m in miners:\n",
    "        total += m.miningPower\n",
    "    print(\"alpha {}\".format(selfish_power / total))\n",
    "    for m in miners:    \n",
    "        print(m.name ,m.reward)\n",
    "    for s in selfish:    \n",
    "        print(s.name ,s.reward)\n",
    "        "
   ]
  },
  {
   "cell_type": "code",
   "execution_count": 25,
   "metadata": {
    "colab": {
     "base_uri": "https://localhost:8080/",
     "height": 710
    },
    "id": "kna594Z_3mYa",
    "outputId": "5547e5db-ed7a-4e59-a4d0-597ee98f89f7"
   },
   "outputs": [],
   "source": [
    "import matplotlib.pyplot as plt\n",
    "from matplotlib import colors\n",
    "# show(bc)\n",
    "# miner_rewards_avg = [0]*20\n",
    "# miner_names_avg = []\n",
    "# for i in range(10):\n",
    "#     bc, m, s = run(num_miners=20, num_blocks=1000)\n",
    "    # for mi in range(0,len(m)):\n",
    "        # print(miner_rewards_avg,\"avg\")\n",
    "        # print(m[mi])\n",
    "        # miner_rewards_avg[mi] += m[mi].reward\n",
    "# miner_rewards_avg[:] = [x / 10 for x in miner_rewards_avg]\n",
    "    \n",
    "# bc, m, s = run(num_miners=20, num_blocks=1000)\n",
    "\n",
    "# miner_rewards = []\n",
    "# for miners in m:\n",
    "#     miner_rewards.append((miners.reward))\n",
    "# miner_names = [\"m\"+ str(i) for i, _ in enumerate(miner_rewards_avg)]\n",
    "# plt.bar(miner_names,miner_rewards_avg)\n",
    "#Need this for testing later :))"
   ]
  },
  {
   "cell_type": "code",
   "execution_count": 11,
   "metadata": {},
   "outputs": [],
   "source": [
    "def getRewards(miners):\n",
    "    miner_rewards = []\n",
    "    for m in miners:\n",
    "        miner_rewards.append(m.reward)\n",
    "    miner_names = [\"m\"+ str(i) for i, _ in enumerate(miner_rewards)]\n",
    "    return miner_names, miner_rewards\n",
    "    \n",
    "def getavg(num):\n",
    "    miner_rewards_avg = [0]*20\n",
    "    for i in range(num):\n",
    "        bc, m, s = run(num_miners=20, num_blocks=1000)\n",
    "        _, rewards = getRewards(m)\n",
    "    for mi in range(len(m)):\n",
    "        miner_rewards_avg[mi] += m[mi].reward \n",
    "    miner_rewards_avg[:] = [x / num for x in miner_rewards_avg]\n",
    "    miner_names = [\"m\"+ str(i) for i, _ in enumerate(miner_rewards_avg)]\n",
    "    return miner_rewards_avg, miner_names"
   ]
  },
  {
   "cell_type": "markdown",
   "metadata": {},
   "source": [
    "### Baseline\n",
    "\n",
    "To begin with we ran the blockchain with 20 different miners and 1000 blocks mined in total. This was done 10 times and we normalised the rewards for each miner and plotted it. This showed us that all the miners had _about_ the same amount of reward when mining for a long time, on many blocks. We can now conclude that the blockchain is somewhat fair, because same amount of mining power roughly equals same reward.\n",
    "\n",
    "We also did this with a single miner that had 3X the mining power of the other nodes to see if there were any difference. The miner with 3X mining power got about 3x the reward of a \"_average_\" miner. This also works as intended."
   ]
  },
  {
   "cell_type": "code",
   "execution_count": 19,
   "metadata": {},
   "outputs": [],
   "source": [
    "# Multiple runs to show normal, uncles, normal big and uncle big\n",
    "miner_rewards_normal = [0]*15\n",
    "for i in range(10):\n",
    "    bc, m, s = run(num_miners=15, num_blocks=1000)\n",
    "    # bc, m, s = run(num_miners=20, num_blocks=1000, miners=[30])\n",
    "    _, rewards = getRewards(m)\n",
    "    for mi in range(len(m)):\n",
    "        # print(mi, len(miner_rewards_avg),len(m))\n",
    "        miner_rewards_normal[mi] += m[mi].reward \n",
    "miner_rewards_normal[:] = [x / 10 for x in miner_rewards_normal]\n",
    "miner_names = [\"m\"+ str(i) for i, _ in enumerate(miner_rewards_normal)]\n",
    "# plt.bar(miner_names,miner_rewards_normal)\n",
    "\n",
    "miner_rewards_uncles = [0]*15\n",
    "for i in range(10):\n",
    "    bc, m, s = run(num_miners=15, num_blocks=1000,uncle_reward=10)\n",
    "    # bc, m, s = run(num_miners=20, num_blocks=1000, miners=[30])\n",
    "    _, rewards = getRewards(m)\n",
    "    for mi in range(len(m)):\n",
    "        # print(mi, len(miner_rewards_avg),len(m))\n",
    "        miner_rewards_uncles[mi] += m[mi].reward \n",
    "miner_rewards_uncles[:] = [x / 10 for x in miner_rewards_uncles]\n",
    "\n",
    "miner_rewards_normal_big = [0]*15\n",
    "for i in range(10):\n",
    "    bc, m, s = run(num_miners=14, num_blocks=1000,miners=[20])\n",
    "    # bc, m, s = run(num_miners=20, num_blocks=1000, miners=[30])\n",
    "    _, rewards = getRewards(m)\n",
    "    for mi in range(len(m)):\n",
    "        # print(mi, len(miner_rewards_avg),len(m))\n",
    "        miner_rewards_normal_big[mi] += m[mi].reward \n",
    "miner_rewards_normal_big[:] = [x / 10 for x in miner_rewards_normal_big]\n",
    "\n",
    "miner_rewards_uncles_big = [0]*15\n",
    "for i in range(10):\n",
    "    bc, m, s = run(num_miners=14, num_blocks=1000,miners=[20], uncle_reward=10)\n",
    "    # bc, m, s = run(num_miners=20, num_blocks=1000, miners=[30])\n",
    "    _, rewards = getRewards(m)\n",
    "    for mi in range(len(m)):\n",
    "        # print(mi, len(miner_rewards_avg),len(m))\n",
    "        miner_rewards_uncles_big[mi] += m[mi].reward \n",
    "miner_rewards_uncles_big[:] = [x / 10 for x in miner_rewards_uncles_big]\n"
   ]
  },
  {
   "cell_type": "code",
   "execution_count": 17,
   "metadata": {},
   "outputs": [],
   "source": [
    "# rewards, names = getavg(100)"
   ]
  },
  {
   "cell_type": "code",
   "execution_count": 30,
   "metadata": {},
   "outputs": [
    {
     "data": {
      "image/png": "[encoded data removed]",
      "text/plain": [
       "<Figure size 432x288 with 1 Axes>"
      ]
     },
     "metadata": {
      "needs_background": "light"
     },
     "output_type": "display_data"
    }
   ],
   "source": [
    "# liste = bc.forks()\n",
    "# print(liste)\n",
    "# print(\"number of forks: \", len(liste))\n",
    "# # show(bc)\n",
    "# miner_rewards = []n xpos   miner_rewards.append((miners.reward))\n",
    "# miner_names = [\"m\"+ str(i) for i, _ in enumerate(miner_rewards)]\n",
    "# plt.bar(miner_names,miner_rewards)\n",
    "# plot for showing forks and \"normal\" run\n",
    "# plt.subplot(1,3,1)\n",
    "# plt.bar(miner_names,miner_rewards_normal)\n",
    "width = 0.35\n",
    "xpos = np.arange(len(miner_names))\n",
    "\n",
    "fig, ax = plt.subplots()\n",
    "normal = ax.bar(xpos - width/2,miner_rewards_normal,width, label=\"Normal\")\n",
    "uncles = ax.bar(xpos + width/2,miner_rewards_uncles,width, label=\"Uncles\")\n",
    "\n",
    "ax.set_ylabel(\"Rewards\")\n",
    "ax.set_title(\"Rewards for miners, uncles vs normal\")\n",
    "ax.set_xticks(xpos)\n",
    "ax.set_xticklabels(miner_names)\n",
    "ax.legend()\n",
    "ax.bar_label(normal,padding=3)\n",
    "ax.bar_label(uncles,padding=3)\n",
    "fig.tight_layout()\n",
    "plt.show()\n",
    "# ax[0,0].plot(miner_names,miner_rewards_normal)\n",
    "# ax[0,0] = \n",
    "\n",
    "# print(np.std(miner_rewards_normal))\n",
    "# print(np.average(miner_rewards_normal))\n",
    "# print(miner_rewards_normal)"
   ]
  },
  {
   "cell_type": "code",
   "execution_count": 29,
   "metadata": {},
   "outputs": [
    {
     "data": {
      "image/png": "[encoded data removed]",
      "text/plain": [
       "<Figure size 432x288 with 1 Axes>"
      ]
     },
     "metadata": {
      "needs_background": "light"
     },
     "output_type": "display_data"
    }
   ],
   "source": [
    "width = 0.35\n",
    "xpos = np.arange(len(miner_names))\n",
    "\n",
    "fig, ax = plt.subplots()\n",
    "normal = ax.bar(xpos - width/2, miner_rewards_normal_big, width, label=\"Normal\")\n",
    "uncles = ax.bar(xpos + width/2, miner_rewards_uncles_big, width, label=\"Uncles\")\n",
    "\n",
    "ax.set_ylabel(\"Rewards\")\n",
    "ax.set_title(\"Rewards for miners, uncles vs normal\")\n",
    "ax.set_xticks(xpos)\n",
    "ax.set_xticklabels(miner_names)\n",
    "ax.legend()\n",
    "ax.bar_label(normal,padding=3)\n",
    "ax.bar_label(uncles,padding=3)\n",
    "fig.tight_layout()\n",
    "plt.show()"
   ]
  },
  {
   "cell_type": "markdown",
   "metadata": {},
   "source": [
    "### Testing unclerewards\n",
    "\n",
    "To test uncle rewards we could employ many different ways of testing fairness, but we chose to do a...? Dunno what to write\n",
    "-> show with code and plot what we mean. Numbers plot, whatever. Below we have run the application X times and the plot proves ..."
   ]
  },
  {
   "cell_type": "code",
   "execution_count": 19,
   "metadata": {},
   "outputs": [
    {
     "name": "stdout",
     "output_type": "stream",
     "text": [
      "8.264381404557755\n",
      "50.0\n"
     ]
    },
    {
     "data": {
      "text/plain": [
       "<BarContainer object of 20 artists>"
      ]
     },
     "execution_count": 19,
     "metadata": {},
     "output_type": "execute_result"
    },
    {
     "data": {
      "image/png": "[encoded data removed]",
      "text/plain": [
       "<Figure size 432x288 with 1 Axes>"
      ]
     },
     "metadata": {
      "needs_background": "light"
     },
     "output_type": "display_data"
    }
   ],
   "source": [
    "miner_rewards_avg_unc = [0]*20\n",
    "for i in range(10):\n",
    "    bc, m, s = run(num_miners=20, num_blocks=1000,uncle_reward=10)\n",
    "    _, rewards = getRewards(m)\n",
    "for mi in range(len(m)):\n",
    "    miner_rewards_avg_unc[mi] += m[mi].reward \n",
    "miner_rewards_avg_unc[:] = [x / 10 for x in miner_rewards_avg_unc]\n",
    "miner_names_unc = [\"m\"+ str(i) for i, _ in enumerate(miner_rewards_avg_unc)]\n",
    "print(np.std(miner_rewards_avg_unc))\n",
    "print(np.average(miner_rewards_avg_unc))\n",
    "plt.bar(miner_names_unc,miner_rewards_avg_unc)"
   ]
  }
 ],
 "metadata": {
  "colab": {
   "collapsed_sections": [],
   "name": "lecture5_Attacks.ipynb",
   "provenance": []
  },
  "interpreter": {
   "hash": "d725e4bef31036ed1fa66d37088c13a5fef31be63a886f5393e2a9fada4ff7cb"
  },
  "kernelspec": {
   "display_name": "Python 3.9.7 64-bit (windows store)",
   "name": "python3"
  },
  "language_info": {
   "codemirror_mode": {
    "name": "ipython",
    "version": 3
   },
   "file_extension": ".py",
   "mimetype": "text/x-python",
   "name": "python",
   "nbconvert_exporter": "python",
   "pygments_lexer": "ipython3",
   "version": "3.9.7"
  }
 },
 "nbformat": 4,
 "nbformat_minor": 5
}
