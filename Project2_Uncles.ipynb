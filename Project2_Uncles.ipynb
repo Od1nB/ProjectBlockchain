{
 "cells": [
  {
   "cell_type": "markdown",
   "metadata": {},
   "source": [
    "# Project 2: Uncles and Uncles Rewards\n",
    "- Model a Blockchain that uses uncles and uncle rewards\n",
    "- Model rewarding mechanism to reward uncle block creators\n",
    "- Model selfish mining (only one attacker) in this blockchain\n",
    "\n",
    "Try to answer the following questions with your experiment:\n",
    "1. How do uncles improve the fairness of the blockchain? For this, you should compare the outcome of miners with and without uncles.\n",
    "2. What is the impact of uncles on selfish mining? Is selfish mining more profitable with uncles?\n",
    "3. What does it mean in this model for the selfish mining attack to be profitable?\n",
    "\n",
    " Since more miners will get rewards for mining, even if they don't finish a block that is part of the longest chain, they will be rewarded for it. So the time and energy used for that block will not be as wasted, and it seems more rewarding to mine. Show net money with and without uncle rewards to display point. The concept of it is for fairness, but may encourage selfish mining. "
   ]
  },
  {
   "cell_type": "markdown",
   "metadata": {},
   "source": [
    "## Introduction\n",
    "\n",
    "Blockchains are currently a hot topic of research, and they have their fair share of problems. In this project, we will explore the concepts of uncles and uncles rewards in blockchains. Uncles is a measure that can be implemented in a blockchain to improve fairness, and it functions by giving some money to miners who lose their mined blocks in a fork while also giving some incentive to the other miners to include this reward in their own blocks. This project assumes knowledge of the implementation of proof-of-work and a full blockchain.\n",
    "\n",
    "### Uncles and uncles reward\n",
    "\n",
    "An uncle is essentailly a block that was discarded because it ended up in a fork that didn't grow to be the longest chain. It is called uncle because it is a block that builds on another block, it's parent, which is also the parent of another block, it's sibling, that ended up in the longest chain, and therefore has a child block that can be regarded as the nephew of that first block. This means it only becomes an uncle block when it has a uncle/nephew relationship with a block in the longest chain. The idea is that the miner who mined the uncle block should also get some reward for the effort they spent to mine that block, and this should in theory increase the fairness of the blockchain.\n",
    "\n",
    "![Uncle and nephew blocks](Figures/UncleBlock.png?raw=true \"Uncle and nephew blocks\")\n",
    "\n",
    "In order to make miners include a uncle reward in the blocks they mine, it is also important that the nephew also gets some reward. So in total, two new rewards/transactions are added, the nephew reward and the uncle reward, in order to help aleviate the loss incured when mining a block that ends up in a discarded fork.\n",
    "\n",
    "There are multiple different implementations possible for this kind of reward system, with differences like:\n",
    "\n",
    "- How many uncles can a single nephew give rewards to?\n",
    "- How far apart in the chain can two blocks be while still being considered uncle/nephew?\n",
    "- If an uncle reward can be given to a block that's further apart than a direct uncle, should the reward be the same? If not, how much should it decrease by?\n",
    "- How much is the uncle reward?\n",
    "- How much is the nephew reward?\n",
    "- Can an uncle reward be given to child blocks of an uncle, or just the uncle?\n",
    "\n",
    "And all of these parameters may affect the fairness. In addition to that, they may have unintended consequenses, like encouraging mining on a fork that isn't the longest, if implemented wrong."
   ]
  },
  {
   "cell_type": "markdown",
   "metadata": {},
   "source": [
    "#### Fairness\n",
    "It is important to define fairness before we continue: the fairness for an individual miner is defined as the portion of the reward given to them compared to the portion of mining power they have. Which is the same as their ratio of reward to power, compared to the total ratio of the same.\n",
    " \n",
    "$Fairness(miner) = \\frac{\\text{miner reward}}{\\text{total reward}} / \\frac{\\text{miner power}}{\\text{total power}} = \\frac{\\text{miner reward} }{\\text{miner power}} / \\frac{\\text{total reward}}{\\text{total power}}$\n",
    "\n",
    "Using this measure, the closer the value is to 1, the more fair the chain is for that particular miner. It is important to note that this measure is defined on the interval $\\left[0, \\frac{\\text{total power}}{\\text{miner power}}\\right].$ The fairness changes equally when increasing or decreasing the reward, in absolute terms, not relative. That means that when increasing the reward by some amount $\\text{k}$ coins, it changes the fairness the same amount as if the reward had been decreased by $\\text{k}$ coins. This is in contrast to a relative fairness measure where increasing the reward by a factor of $\\text{x}$ would have the same amount of dividing the reward by $\\text{x}.$ This means that \n",
    "\n",
    "<!--TODO rewrite-->\n",
    "To figure out how fair the chain as a whole is, we could take the average of the fairness for each miner, but this would be a rather bad measure, since the increased portion of reward for one miner would always result in less for the others, making the average always hover around 1, even when one miner is hoggin a much larger portion than it should. Instead, a cumulative measure of the absolute distance from totally fair, $Fairness = 1$, for each miner would be more useful, however this would be a measure of unfairness, not fariness. Defining the fairness as $\\frac{1}{\\text{unfairness}}$ would result in a value that is hard to manage between 0 and infinity, virtually useless, so instead we are simply going to use $-\\frac{\\text{unfairness}}{\\text{number of miners}}$ as the measure for fairness, even though this value is then between 0 and -infinity.\n",
    "\n",
    "\n",
    "\n",
    "<!-- $Fariness = \\frac{P(t|f) P(f)}{P(t)} = \\frac{P(t|f) P(f)}{\\sum_{f' \\in \\mathcal{F}} P(t|f')P(f')},$ -->"
   ]
  },
  {
   "cell_type": "markdown",
   "metadata": {},
   "source": [
    "### Imports\n",
    "We extracted the drawBlockchain() function from the notebook and it is imported into this notebook "
   ]
  },
  {
   "cell_type": "code",
   "execution_count": 2,
   "metadata": {
    "colab": {
     "base_uri": "https://localhost:8080/"
    },
    "id": "ef05ce3c",
    "outputId": "935d959b-21d0-4d92-bae9-3e8c72e8ae1c"
   },
   "outputs": [],
   "source": [
    "#Import statements\n",
    "from draw_blockchain import show\n",
    "import hashlib as hasher\n",
    "import random\n",
    "import numpy as np\n",
    "import matplotlib.pyplot as plt\n",
    "from matplotlib import colors\n",
    "from dataclasses import dataclass\n",
    "import functools\n",
    "import operator\n",
    "import pandas as pd\n",
    "from scipy import stats"
   ]
  },
  {
   "cell_type": "markdown",
   "metadata": {},
   "source": [
    "### Hash function\n",
    "Copy of the hashing functions used in the lecture 5 notebook. This could have been abstracted to random numbers of some kind, since we are not interesed in the hasing. The mining power is just defined as how many _tries_ each round the miners get at solving the pow. However we did not focus on this, and therefore it is just as in the lectures."
   ]
  },
  {
   "cell_type": "code",
   "execution_count": 3,
   "metadata": {},
   "outputs": [],
   "source": [
    "def hashbits(input):\n",
    "    hash_obj = hasher.sha256()\n",
    "    inputbytes = input.encode()\n",
    "    hash_obj.update(inputbytes)\n",
    "    hashbytes = hash_obj.digest()\n",
    "    return ''.join(f'{x:08b}' for x in hashbytes)\n",
    "\n",
    "def hash(input):\n",
    "    hash_obj = hasher.sha256()\n",
    "    inputbytes = input.encode()\n",
    "    #print(type(inputbytes))\n",
    "    hash_obj.update(inputbytes)\n",
    "    return hash_obj.hexdigest()\n",
    "\n",
    "def numberOfInitZeros(hashStr):\n",
    "    count = 0\n",
    "    for i in range (0 , len(hashStr)):\n",
    "        if hashStr[i] == '1':\n",
    "            break\n",
    "        count += 1\n",
    "    return count"
   ]
  },
  {
   "cell_type": "markdown",
   "metadata": {},
   "source": [
    "### Block\n",
    "Same as in the lecture notebook"
   ]
  },
  {
   "cell_type": "code",
   "execution_count": 4,
   "metadata": {},
   "outputs": [],
   "source": [
    "class Block:\n",
    "    def __init__(self, data, creator=None, previous=None, nonce=0, blockchain=None):\n",
    "        self.data = data\n",
    "        if previous is None:\n",
    "            self.previous = None\n",
    "            self.previous_hash = \"\"\n",
    "            self.creator = Miner(0 , \"0\", blockchain, genesis=True)\n",
    "            self.height = 0\n",
    "            self.color = \"#AEF751\"\n",
    "        else:\n",
    "            self.previous = previous\n",
    "            self.previous_hash = previous.hash\n",
    "            self.creator = creator\n",
    "            self.height = previous.height+1\n",
    "            self.color = creator.color\n",
    "        self.nonce = nonce\n",
    "        self.hash = self.hash_block()\n",
    "        self.children = []\n",
    "\n",
    "    def hash_block(self):\n",
    "        return hashbits(self.data + self.creator.name + self.previous_hash + str(self.nonce))\n",
    "\n",
    "    def print(self):\n",
    "        print(self.data + \" \"+ self.creator.name + \" \" + str(self.height))"
   ]
  },
  {
   "cell_type": "markdown",
   "metadata": {
    "id": "ac097c16"
   },
   "source": [
    "### Blockchain\n",
    "Same as in the lecture notebook, but we added some helper functions, end_with_fork(), inlongestChain(block) and forks(), where the latter two are are to be used after simulation to get information about the state of the chain, like blocks part of the longest chain. forks() was used to monitor how many forks the blockchain ended up with in the end, so we could tune the parameters, and we decided that the blockchain could not end with a fork, so the first additional function checks this."
   ]
  },
  {
   "cell_type": "code",
   "execution_count": 5,
   "metadata": {
    "id": "CDX_Rs4rubpy"
   },
   "outputs": [],
   "source": [
    "class Blockchain:\n",
    "    def __init__(self, genesis_data, difficulty, blockReward=10, static=False):\n",
    "        self.chain = []\n",
    "        self.difficulty = difficulty\n",
    "        self.size = 0\n",
    "        self.block_reward = blockReward\n",
    "        self.uncles = []\n",
    "        self.static = static\n",
    "        self.chain.append(Block(genesis_data, blockchain=self))\n",
    "\n",
    "    def longestChain(self, static=-1):\n",
    "      max = self.chain[0].height\n",
    "      for block in self.chain:\n",
    "          if block.height > max:\n",
    "                max = block.height\n",
    "      maxes = [block for block in self.chain if block.height == max]\n",
    "      static %= len(maxes)\n",
    "      r = maxes[static:static+1] if static >= 0 else random.choices(maxes, k=1)\n",
    "      return r[0]\n",
    "    \n",
    "    def ends_with_fork(self):\n",
    "        max = self.chain[0].height\n",
    "        r = False\n",
    "        for block in self.chain:\n",
    "            if block.height == max: r = True\n",
    "            if block.height > max:\n",
    "                max = block.height\n",
    "                r = False\n",
    "        return r\n",
    "        \n",
    "    def add(self, newBlock):\n",
    "        self.chain.append(newBlock)\n",
    "        newBlock.previous.children.append(newBlock)\n",
    "        self.size +=1\n",
    "        \n",
    "    def print(self):\n",
    "        for block in self.chain:\n",
    "            block.print()\n",
    "            print(\"________\")\n",
    "\n",
    "    def hasFork(self):\n",
    "        for block1 in self.chain:\n",
    "            for block2 in self.chain:\n",
    "                if block1!=block2 and block1.height == block2.height:\n",
    "                    return True\n",
    "        return False\n",
    "\n",
    "    def checkMiner(self, miner):\n",
    "      last = self.longestChain(miner.static)\n",
    "      count = 0\n",
    "      while last!=None:\n",
    "          if last.creator == miner:\n",
    "                count += 1\n",
    "          last = last.previous\n",
    "      return count\n",
    "    \n",
    "    def inlongestChain(self, block):\n",
    "          last = self.longestChain()\n",
    "          while last!= None:\n",
    "                if last == block:\n",
    "                        return True\n",
    "                last = last.previous\n",
    "          return False\n",
    "          \n",
    "    def forks(self):\n",
    "        fork_list = []\n",
    "        last = self.longestChain()\n",
    "        while last != None:\n",
    "            for child in last.children:\n",
    "                if not self.inlongestChain(child):\n",
    "                    length = 1\n",
    "                    forkblock = child\n",
    "                    while forkblock.children:\n",
    "                        length += 1\n",
    "                        forkblock = forkblock.children[0]\n",
    "                    fork_list.append(length)\n",
    "            last = last.previous\n",
    "        return fork_list\n"
   ]
  },
  {
   "cell_type": "markdown",
   "metadata": {},
   "source": [
    "## Miners\n",
    "Same as the lecture notebook, but we added some more attributes to them, like _reward_, and _uncles_ that we calculate after the simulation."
   ]
  },
  {
   "cell_type": "markdown",
   "metadata": {},
   "source": [
    "### Normal miner"
   ]
  },
  {
   "cell_type": "code",
   "execution_count": 6,
   "metadata": {},
   "outputs": [],
   "source": [
    "class Miner:\n",
    "    def __init__(self, miningPower, name, blockchain=None, genesis=False):\n",
    "        self.miningPower = miningPower\n",
    "        self.nonce = 0 if blockchain.static else random.randint(0,100000) #original one\n",
    "        # self.nonce = 0\n",
    "        self.name = name\n",
    "        self.blockchain = blockchain\n",
    "        self.reward = 0\n",
    "        self.uncle_reward = 0\n",
    "        self.color = \"#7EDBF6\"\n",
    "        self.uncles = 0\n",
    "        self.nephews = 0\n",
    "        self.blocks = 0\n",
    "        self.static = sum([ord(c) for c in name]) if blockchain.static else -1\n",
    "        if self.blockchain != None and not genesis:\n",
    "            self.lastBlock = blockchain.longestChain(static=self.static)\n",
    "    \n",
    "    def UpdateLast(self):\n",
    "        latest = self.blockchain.longestChain(static=self.static)\n",
    "        if latest.height > self.lastBlock.height:\n",
    "              self.lastBlock = latest\n",
    "\n",
    "    def PoWSolver(self):\n",
    "        for i in range (0 , self.miningPower):\n",
    "            newBlock = Block(str(self.blockchain.size), self, self.lastBlock, self.nonce)\n",
    "            h = newBlock.hash_block()\n",
    "            count = numberOfInitZeros(h)\n",
    "            if count >= self.blockchain.difficulty:\n",
    "                self.blockchain.add(newBlock)\n",
    "                self.lastBlock = newBlock\n",
    "            self.nonce += 1\n"
   ]
  },
  {
   "cell_type": "markdown",
   "metadata": {},
   "source": [
    "### Selfish miner"
   ]
  },
  {
   "cell_type": "code",
   "execution_count": 7,
   "metadata": {},
   "outputs": [],
   "source": [
    "\n",
    "class SelfishMiner(Miner):\n",
    "    def __init__(self, miningPower, name, blockchain=None):\n",
    "        super().__init__(miningPower, name, blockchain)\n",
    "        self.privateBlocks = []\n",
    "        self.publishNext = False\n",
    "        self.color = \"#F59AEE\"\n",
    "\n",
    "    def UpdateLast(self):\n",
    "        latest = self.blockchain.longestChain()\n",
    "        publicheight = latest.height\n",
    "        if publicheight > self.lastBlock.height:\n",
    "            self.privateBlocks = []\n",
    "            self.lastBlock = latest\n",
    "            self.publishNext = False\n",
    "        if publicheight == self.lastBlock.height-1 and len(self.privateBlocks)> 1:\n",
    "            for block in self.privateBlocks:\n",
    "                self.blockchain.add(block)\n",
    "                self.privateBlocks = []\n",
    "        if publicheight == self.lastBlock.height:\n",
    "            for block in self.privateBlocks:\n",
    "                self.blockchain.add(block)\n",
    "                self.privateBlocks = []\n",
    "                self.publishNext = True\n",
    "\n",
    "    def PoWSolver(self):\n",
    "        for i in range (0 , self.miningPower):\n",
    "            newBlock = Block(str(self.blockchain.size), self, self.lastBlock, self.nonce)\n",
    "            h = newBlock.hash_block()\n",
    "            count = numberOfInitZeros(h)\n",
    "            if count >= self.blockchain.difficulty:\n",
    "                if self.publishNext:\n",
    "                    self.blockchain.add(newBlock)\n",
    "                    self.publishNext = False\n",
    "                else:\n",
    "                    self.privateBlocks.append(newBlock)\n",
    "                self.lastBlock = newBlock\n",
    "            self.nonce += 1"
   ]
  },
  {
   "cell_type": "markdown",
   "metadata": {},
   "source": [
    "## Main program"
   ]
  },
  {
   "cell_type": "markdown",
   "metadata": {},
   "source": [
    "### Run function\n",
    "Based on the main function from the lecture notebook we altered it and made our own run() function with different parameters so we could easily check different configurations. Everything from mining power to number of miners is changable. After the chain has been simulation, we then go through each of them and reward the miners."
   ]
  },
  {
   "cell_type": "code",
   "execution_count": 8,
   "metadata": {},
   "outputs": [],
   "source": [
    "def run(\n",
    "        reward=10, uncle_reward=0, nephew_reward=0,\n",
    "        difficulty=10,\n",
    "        num_miners=10,\n",
    "        num_selfish_miners=0,\n",
    "        mining_power=10,\n",
    "        mining_power_selfish=15,\n",
    "        genesis_data=\"0\",\n",
    "        num_blocks = 30,\n",
    "        miners = [],\n",
    "        static=False\n",
    "    ):\n",
    "    bc = None\n",
    "    bc = Blockchain(genesis_data , difficulty, reward, static)\n",
    "    miners = [Miner(p, \"m\"+ str(i), bc) for i,p in enumerate(miners)]\n",
    "    selfish = []\n",
    "    len_miners = len(miners)\n",
    "    for i in range(num_miners):\n",
    "        miners.append(Miner(mining_power ,\"m\"+str(len_miners+i), bc))\n",
    "    for i in range(num_selfish_miners):\n",
    "        selfish.append(SelfishMiner(mining_power_selfish ,\"s\"+str(i), bc))\n",
    "    while bc.chain[-1].height < num_blocks or bc.ends_with_fork():\n",
    "        for s in selfish:\n",
    "            s.PoWSolver()\n",
    "\n",
    "        for m in miners:\n",
    "            m.PoWSolver()\n",
    "\n",
    "        for s in selfish:\n",
    "            s.UpdateLast()\n",
    "\n",
    "        for m in miners:\n",
    "            m.UpdateLast()\n",
    "    last_block = bc.chain[-1]\n",
    "    while last_block.previous is not None:\n",
    "        last_block.creator.reward += reward\n",
    "        last_block.creator.blocks += 1\n",
    "        if uncle_reward > 0:\n",
    "            grandparent = last_block.previous.previous\n",
    "            if grandparent is not None and len(grandparent.children) > 1:\n",
    "                for uncle in grandparent.children:\n",
    "                    if uncle != last_block.previous:\n",
    "                        uncle.creator.uncle_reward += uncle_reward\n",
    "                        uncle.creator.uncles += 1\n",
    "                        last_block.creator.uncle_reward += nephew_reward\n",
    "                        last_block.creator.nephews += 1\n",
    "        last_block=last_block.previous\n",
    "    return bc, miners, selfish\n",
    "\n",
    "def print_run(bc, miners, selfish):\n",
    "    print(\"Has fork:\", bc.hasFork())\n",
    "    longest_chain = bc.longestChain()\n",
    "    print(\"Longest chain height:\",longest_chain.height)\n",
    "    selfish_power = 0\n",
    "    for s in selfish:\n",
    "        selfish_power+=s.miningPower\n",
    "        print(s.name, bc.checkMiner(s))\n",
    "        print(\"Fraction {}\".format(bc.checkMiner(s) /longest_chain.height ))\n",
    "    total = selfish_power\n",
    "    for m in miners:\n",
    "        total += m.miningPower\n",
    "    print(\"alpha {}\".format(selfish_power / total))\n",
    "    for m in miners:    \n",
    "        print(m.name ,m.reward)\n",
    "    for s in selfish:    \n",
    "        print(s.name ,s.reward)\n",
    "        "
   ]
  },
  {
   "cell_type": "markdown",
   "metadata": {},
   "source": [
    "### Fairness function"
   ]
  },
  {
   "cell_type": "code",
   "execution_count": 9,
   "metadata": {},
   "outputs": [],
   "source": [
    "def fairness(df, reward=10, uncle_reward=3, nephew_reward=2):\n",
    "    total_power = df[[\"power\"]].sum().power\n",
    "    rewards = df[\"blocks\"] * reward + df[\"uncles\"] * uncle_reward + df[\"nephews\"] * nephew_reward\n",
    "    total_reward = rewards.sum()\n",
    "    fairness_miners = (rewards/total_reward)/(df[\"power\"]/total_power)\n",
    "    unfairness = (fairness_miners-1).abs()\n",
    "    fairness_miners.rename(\"fairness\", inplace=True)\n",
    "    relative_fairness = df.join(fairness_miners)\n",
    "    relative_fairness = relative_fairness.apply(lambda row: row.fairness if row.fairness <= 1 else 1-(row.fairness*row.power/total_power), axis=1)\n",
    "    return fairness_miners, unfairness, relative_fairness"
   ]
  },
  {
   "cell_type": "markdown",
   "metadata": {},
   "source": [
    "### Dataclass\n",
    "Used for formatting the run function output. Returns a dataframe that we can easily get the information we need, after simulating."
   ]
  },
  {
   "cell_type": "code",
   "execution_count": 10,
   "metadata": {},
   "outputs": [],
   "source": [
    "@dataclass\n",
    "class Stats:\n",
    "    name: str\n",
    "    reward: int\n",
    "    uncle_reward: int\n",
    "    blocks: int\n",
    "    uncles: int\n",
    "    nephews: int\n",
    "    power: int\n",
    "\n",
    "# Transform irregular 2D list into a regular one.\n",
    "def transform(nested_list):\n",
    "    regular_list = []\n",
    "    for e in nested_list:\n",
    "        if type(e) is list:\n",
    "            regular_list.append(e)\n",
    "        else:\n",
    "            regular_list.append([e])\n",
    "    return functools.reduce(operator.iconcat, regular_list, [])\n",
    "\n",
    "def get_stats(*miners):\n",
    "    if len(miners) == 0:\n",
    "        return []\n",
    "    stats = []\n",
    "    transformed_miners = transform(miners)\n",
    "    \n",
    "    for m in transformed_miners:\n",
    "        stats.append(Stats(\n",
    "            m.name,\n",
    "            m.reward,\n",
    "            m.uncle_reward,\n",
    "            m.blocks,\n",
    "            m.uncles,\n",
    "            m.nephews,\n",
    "            m.miningPower\n",
    "        ))\n",
    "    return pd.DataFrame(stats)"
   ]
  },
  {
   "cell_type": "markdown",
   "metadata": {},
   "source": [
    "### Average function\n",
    "Since we are dealing with randomness, the individual results of each run vary tons, so much in fact that they do not give results that we can base our answers on. One simulation could give miner number 8 (out of 10, and all equal) a reward of 200 out of 100 blocks with blockreward 10, which is twice the _correct_ amount each miner should get, if they were equal and we wanted an equal distribution. Therefore we made an average function that uses the run() function n amount of times, and divides the results based on number of simulations. This gives a better representation of how the blockchain rewards different miners for different configurations. "
   ]
  },
  {
   "cell_type": "code",
   "execution_count": 11,
   "metadata": {},
   "outputs": [],
   "source": [
    "def getavg(tests, run_func, **kwargs):\n",
    "    args = set(kwargs)\n",
    "    num_nodes = 0\n",
    "    if \"num_blocks\" in kwargs:\n",
    "        miner_args = {\"num_miners\",\"miners\",\"num_selfish_miners\"}.intersection(args)\n",
    "        if miner_args:\n",
    "            for arg in miner_args:\n",
    "                val = kwargs.get(arg)\n",
    "                num_nodes += len(val) if type(val) == list else val\n",
    "        miner_rewards_avg = [0]*num_nodes\n",
    "        miner_rewards_avg_uncles = [0]*num_nodes\n",
    "        dfout = pd.DataFrame()\n",
    "        for i in range(tests):\n",
    "            bc, m, s = run_func(**kwargs)\n",
    "            dfa = get_stats(s,m)\n",
    "            if dfout.empty:\n",
    "                dfout = dfa\n",
    "            else:\n",
    "                dfout[['reward', 'uncle_reward', 'blocks', 'uncles', 'nephews']] = \\\n",
    "                dfout[['reward', 'uncle_reward', 'blocks', 'uncles', 'nephews']] + dfa[['reward', 'uncle_reward', 'blocks', 'uncles', 'nephews']]\n",
    "            for mi, miner in enumerate(s + m):\n",
    "                miner_rewards_avg[mi] += miner.reward \n",
    "                miner_rewards_avg_uncles[mi] += miner.uncle_reward + miner.reward\n",
    "        miner_rewards_avg[:] = [x / tests for x in miner_rewards_avg]  \n",
    "        miner_rewards_avg_uncles[:] = [x / tests for x in miner_rewards_avg_uncles]\n",
    "        dfout[['reward', 'uncle_reward', 'blocks', 'uncles', 'nephews']] = dfout[['reward', 'uncle_reward', 'blocks', 'uncles', 'nephews']] / tests\n",
    "    else:\n",
    "        miner_rewards_avg = []\n",
    "        dfout = pd.DataFrame()\n",
    "    return miner_rewards_avg, miner_rewards_avg_uncles, dfout"
   ]
  },
  {
   "cell_type": "markdown",
   "metadata": {},
   "source": [
    "### BarPlot\n",
    "Function for plotting two bar plots in one"
   ]
  },
  {
   "cell_type": "code",
   "execution_count": 56,
   "metadata": {},
   "outputs": [],
   "source": [
    "def bar2groups(group1, group2=None, names=None, label1=None, label2=None, title=None):\n",
    "    if len(group1.tolist()) != len(group2.tolist()):\n",
    "        print(\"groups must be the same length\")\n",
    "        return \"\"\n",
    "    else:\n",
    "        width = 0.35\n",
    "        xpos = np.arange(len(group1))\n",
    "        fig, ax = plt.subplots()\n",
    "        ax.bar(xpos - width/2, group1, width, label= label1)\n",
    "        ax.bar(xpos + width/2, group2, width, label= label2)\n",
    "\n",
    "        ax.set_ylabel(\"Rewards\")\n",
    "        ax.set_title(title)\n",
    "        ax.set_xticks(xpos)\n",
    "        ax.set_xticklabels(names)\n",
    "        ax.legend()\n",
    "        fig.tight_layout()\n",
    "        plt.show()"
   ]
  },
  {
   "cell_type": "code",
   "execution_count": 57,
   "metadata": {},
   "outputs": [],
   "source": [
    "def barplot(vals, names, label, title):\n",
    "        plt.bar(names, vals)\n",
    "        plt.xlabel(label)\n",
    "        plt.ylabel(\"Rewards\")\n",
    "        plt.title(title)\n",
    "        plt.show()"
   ]
  },
  {
   "cell_type": "markdown",
   "metadata": {},
   "source": [
    "### Static chain\n",
    "\n",
    "In order to reliably test this, we decided that it was neccessary to implement a version of the blockchain without any randomness. This is achieved with the static parameter for the run method. Normally, the miners will pick randomly between block of the same height to mine on top of, but for the static chain, they will instead use their name to calculate an index (using the mod operator and sum(ord)) of their name) to select which block to mine on top of. \n",
    "\n",
    "Below you can see a chain that has 8 blocks in the longest, with two forks. It will always be that specific chain with the same miners on the same blocks, i.e. miner 7 will always get block 2. The chain has two forks, one of length 1 and one of length 2. We have implemented a uncle reward where a uncle who gets referenced will get a static reward, and the one referencing it will get a smaller nephew reward. In the case below, only two blocks should receive uncle rewards, the block miner 1 made that is the first in the first fork, and the block made by miner 7, in the second fork. This was easy to debug and below you can see the resulting dataframe.\n"
   ]
  },
  {
   "cell_type": "code",
   "execution_count": null,
   "metadata": {},
   "outputs": [
    {
     "data": {
      "text/html": [
       "<svg height=\"345\" width=\"920\"><defs><marker id=\"markerArrow\" markerWidth=\"10\" markerHeight=\"10\" refX=\"2\" refY=\"6\" orient=\"auto\"><path d=\"M2,2 L2,11 L10,6 L2,2\" style=\"fill: #000000;\" /> </marker> </defs><g><rect x=\"30\" y=\"30\" width=\"60\" height=\"60\" stroke=\"black\" stroke-width=\"1\" fill=\"#AEF751\" /><text x=\"60\" y=\"60\" dominant-baseline=\"middle\" text-anchor=\"middle\" font-family=\"Verdana\" font-size=\"10\" font-weight=\"bold\" fill=\"black\">0</text></g><g><rect x=\"130\" y=\"30\" width=\"60\" height=\"60\" stroke=\"black\" stroke-width=\"1\" fill=\"#7EDBF6\" /><text x=\"160\" y=\"60\" dominant-baseline=\"middle\" text-anchor=\"middle\" font-family=\"Verdana\" font-size=\"10\" font-weight=\"bold\" fill=\"black\">m0</text><line stroke-width=\"1px\" stroke=\"#000000\"  x1=130 y1=\"60\" x2=\"95\" y2=\"60\" style=\"marker-end: url(#markerArrow)\"/></g><g><rect x=\"230\" y=\"30\" width=\"60\" height=\"60\" stroke=\"black\" stroke-width=\"1\" fill=\"#7EDBF6\" /><text x=\"260\" y=\"60\" dominant-baseline=\"middle\" text-anchor=\"middle\" font-family=\"Verdana\" font-size=\"10\" font-weight=\"bold\" fill=\"black\">m7</text><line stroke-width=\"1px\" stroke=\"#000000\"  x1=230 y1=\"60\" x2=\"195\" y2=\"60\" style=\"marker-end: url(#markerArrow)\"/></g><g><rect x=\"330\" y=\"30\" width=\"60\" height=\"60\" stroke=\"black\" stroke-width=\"1\" fill=\"#7EDBF6\" /><text x=\"360\" y=\"60\" dominant-baseline=\"middle\" text-anchor=\"middle\" font-family=\"Verdana\" font-size=\"10\" font-weight=\"bold\" fill=\"black\">m4</text><line stroke-width=\"1px\" stroke=\"#000000\"  x1=330 y1=\"60\" x2=\"295\" y2=\"60\" style=\"marker-end: url(#markerArrow)\"/></g><g><rect x=\"430\" y=\"30\" width=\"60\" height=\"60\" stroke=\"black\" stroke-width=\"1\" fill=\"#7EDBF6\" /><text x=\"460\" y=\"60\" dominant-baseline=\"middle\" text-anchor=\"middle\" font-family=\"Verdana\" font-size=\"10\" font-weight=\"bold\" fill=\"black\">m5</text><line stroke-width=\"1px\" stroke=\"#000000\"  x1=430 y1=\"60\" x2=\"395\" y2=\"60\" style=\"marker-end: url(#markerArrow)\"/></g><g><rect x=\"530\" y=\"30\" width=\"60\" height=\"60\" stroke=\"black\" stroke-width=\"1\" fill=\"#7EDBF6\" /><text x=\"560\" y=\"60\" dominant-baseline=\"middle\" text-anchor=\"middle\" font-family=\"Verdana\" font-size=\"10\" font-weight=\"bold\" fill=\"black\">m3</text><line stroke-width=\"1px\" stroke=\"#000000\"  x1=530 y1=\"60\" x2=\"495\" y2=\"60\" style=\"marker-end: url(#markerArrow)\"/></g><g><rect x=\"630\" y=\"30\" width=\"60\" height=\"60\" stroke=\"black\" stroke-width=\"1\" fill=\"#7EDBF6\" /><text x=\"660\" y=\"60\" dominant-baseline=\"middle\" text-anchor=\"middle\" font-family=\"Verdana\" font-size=\"10\" font-weight=\"bold\" fill=\"black\">m9</text><line stroke-width=\"1px\" stroke=\"#000000\"  x1=630 y1=\"60\" x2=\"595\" y2=\"60\" style=\"marker-end: url(#markerArrow)\"/></g><g><rect x=\"730\" y=\"30\" width=\"60\" height=\"60\" stroke=\"black\" stroke-width=\"1\" fill=\"#7EDBF6\" /><text x=\"760\" y=\"60\" dominant-baseline=\"middle\" text-anchor=\"middle\" font-family=\"Verdana\" font-size=\"10\" font-weight=\"bold\" fill=\"black\">m6</text><line stroke-width=\"1px\" stroke=\"#000000\"  x1=730 y1=\"60\" x2=\"695\" y2=\"60\" style=\"marker-end: url(#markerArrow)\"/></g><g><rect x=\"830\" y=\"30\" width=\"60\" height=\"60\" stroke=\"black\" stroke-width=\"1\" fill=\"#7EDBF6\" /><text x=\"860\" y=\"60\" dominant-baseline=\"middle\" text-anchor=\"middle\" font-family=\"Verdana\" font-size=\"10\" font-weight=\"bold\" fill=\"black\">m7</text><line stroke-width=\"1px\" stroke=\"#000000\"  x1=830 y1=\"60\" x2=\"795\" y2=\"60\" style=\"marker-end: url(#markerArrow)\"/></g><g><rect x=\"630\" y=\"130\" width=\"60\" height=\"60\" stroke=\"black\" stroke-width=\"1\" fill=\"#7EDBF6\" /><text x=\"660\" y=\"160\" dominant-baseline=\"middle\" text-anchor=\"middle\" font-family=\"Verdana\" font-size=\"10\" font-weight=\"bold\" fill=\"black\">m7</text><line stroke-width=\"1px\" stroke=\"#000000\"  x1=630 y1=\"160\" x2=\"565\" y2=\"95\" style=\"marker-end: url(#markerArrow)\"/></g><g><rect x=\"130\" y=\"230\" width=\"60\" height=\"60\" stroke=\"black\" stroke-width=\"1\" fill=\"#7EDBF6\" /><text x=\"160\" y=\"260\" dominant-baseline=\"middle\" text-anchor=\"middle\" font-family=\"Verdana\" font-size=\"10\" font-weight=\"bold\" fill=\"black\">m1</text><line stroke-width=\"1px\" stroke=\"#000000\"  x1=130 y1=\"260\" x2=\"65\" y2=\"95\" style=\"marker-end: url(#markerArrow)\"/></g><g><rect x=\"230\" y=\"230\" width=\"60\" height=\"60\" stroke=\"black\" stroke-width=\"1\" fill=\"#7EDBF6\" /><text x=\"260\" y=\"260\" dominant-baseline=\"middle\" text-anchor=\"middle\" font-family=\"Verdana\" font-size=\"10\" font-weight=\"bold\" fill=\"black\">m2</text><line stroke-width=\"1px\" stroke=\"#000000\"  x1=230 y1=\"260\" x2=\"195\" y2=\"260\" style=\"marker-end: url(#markerArrow)\"/></g></svg>"
      ],
      "text/plain": [
       "<IPython.core.display.HTML object>"
      ]
     },
     "metadata": {},
     "output_type": "display_data"
    },
    {
     "name": "stdout",
     "output_type": "stream",
     "text": [
      "  name  reward  uncle_reward  blocks  uncles  newphes  power\n",
      "0   m0      10             0       1       0        0     40\n",
      "1   m1       0             3       0       1        0     40\n",
      "2   m2       0             0       0       0        0     40\n",
      "3   m3      10             0       1       0        0     40\n",
      "4   m4      10             0       1       0        0     40\n",
      "5   m5      10             0       1       0        0     40\n",
      "6   m6      10             1       1       0        1     40\n",
      "7   m7      20             4       2       1        1     40\n",
      "8   m8       0             0       0       0        0     40\n",
      "9   m9      10             0       1       0        0     40\n"
     ]
    }
   ],
   "source": [
    "bc, m, s = run(mining_power=40, num_blocks=8, uncle_reward=3, nephew_reward=1, static=True)\n",
    "show(bc)\n",
    "print(get_stats(m))"
   ]
  },
  {
   "cell_type": "code",
   "execution_count": null,
   "metadata": {},
   "outputs": [
    {
     "data": {
      "text/html": [
       "<svg height=\"1035\" width=\"3450\"><defs><marker id=\"markerArrow\" markerWidth=\"10\" markerHeight=\"10\" refX=\"2\" refY=\"6\" orient=\"auto\"><path d=\"M2,2 L2,11 L10,6 L2,2\" style=\"fill: #000000;\" /> </marker> </defs><g><rect x=\"30\" y=\"30\" width=\"60\" height=\"60\" stroke=\"black\" stroke-width=\"1\" fill=\"#AEF751\" /><text x=\"60\" y=\"60\" dominant-baseline=\"middle\" text-anchor=\"middle\" font-family=\"Verdana\" font-size=\"10\" font-weight=\"bold\" fill=\"black\">0</text></g><g><rect x=\"130\" y=\"30\" width=\"60\" height=\"60\" stroke=\"black\" stroke-width=\"1\" fill=\"#7EDBF6\" /><text x=\"160\" y=\"60\" dominant-baseline=\"middle\" text-anchor=\"middle\" font-family=\"Verdana\" font-size=\"10\" font-weight=\"bold\" fill=\"black\">m5</text><line stroke-width=\"1px\" stroke=\"#000000\"  x1=130 y1=\"60\" x2=\"95\" y2=\"60\" style=\"marker-end: url(#markerArrow)\"/></g><g><rect x=\"230\" y=\"30\" width=\"60\" height=\"60\" stroke=\"black\" stroke-width=\"1\" fill=\"#7EDBF6\" /><text x=\"260\" y=\"60\" dominant-baseline=\"middle\" text-anchor=\"middle\" font-family=\"Verdana\" font-size=\"10\" font-weight=\"bold\" fill=\"black\">m6</text><line stroke-width=\"1px\" stroke=\"#000000\"  x1=230 y1=\"60\" x2=\"195\" y2=\"60\" style=\"marker-end: url(#markerArrow)\"/></g><g><rect x=\"330\" y=\"30\" width=\"60\" height=\"60\" stroke=\"black\" stroke-width=\"1\" fill=\"#7EDBF6\" /><text x=\"360\" y=\"60\" dominant-baseline=\"middle\" text-anchor=\"middle\" font-family=\"Verdana\" font-size=\"10\" font-weight=\"bold\" fill=\"black\">m4</text><line stroke-width=\"1px\" stroke=\"#000000\"  x1=330 y1=\"60\" x2=\"295\" y2=\"60\" style=\"marker-end: url(#markerArrow)\"/></g><g><rect x=\"430\" y=\"30\" width=\"60\" height=\"60\" stroke=\"black\" stroke-width=\"1\" fill=\"#7EDBF6\" /><text x=\"460\" y=\"60\" dominant-baseline=\"middle\" text-anchor=\"middle\" font-family=\"Verdana\" font-size=\"10\" font-weight=\"bold\" fill=\"black\">m4</text><line stroke-width=\"1px\" stroke=\"#000000\"  x1=430 y1=\"60\" x2=\"395\" y2=\"60\" style=\"marker-end: url(#markerArrow)\"/></g><g><rect x=\"530\" y=\"30\" width=\"60\" height=\"60\" stroke=\"black\" stroke-width=\"1\" fill=\"#7EDBF6\" /><text x=\"560\" y=\"60\" dominant-baseline=\"middle\" text-anchor=\"middle\" font-family=\"Verdana\" font-size=\"10\" font-weight=\"bold\" fill=\"black\">m6</text><line stroke-width=\"1px\" stroke=\"#000000\"  x1=530 y1=\"60\" x2=\"495\" y2=\"60\" style=\"marker-end: url(#markerArrow)\"/></g><g><rect x=\"630\" y=\"30\" width=\"60\" height=\"60\" stroke=\"black\" stroke-width=\"1\" fill=\"#7EDBF6\" /><text x=\"660\" y=\"60\" dominant-baseline=\"middle\" text-anchor=\"middle\" font-family=\"Verdana\" font-size=\"10\" font-weight=\"bold\" fill=\"black\">m6</text><line stroke-width=\"1px\" stroke=\"#000000\"  x1=630 y1=\"60\" x2=\"595\" y2=\"60\" style=\"marker-end: url(#markerArrow)\"/></g><g><rect x=\"730\" y=\"30\" width=\"60\" height=\"60\" stroke=\"black\" stroke-width=\"1\" fill=\"#7EDBF6\" /><text x=\"760\" y=\"60\" dominant-baseline=\"middle\" text-anchor=\"middle\" font-family=\"Verdana\" font-size=\"10\" font-weight=\"bold\" fill=\"black\">m1</text><line stroke-width=\"1px\" stroke=\"#000000\"  x1=730 y1=\"60\" x2=\"695\" y2=\"60\" style=\"marker-end: url(#markerArrow)\"/></g><g><rect x=\"830\" y=\"30\" width=\"60\" height=\"60\" stroke=\"black\" stroke-width=\"1\" fill=\"#7EDBF6\" /><text x=\"860\" y=\"60\" dominant-baseline=\"middle\" text-anchor=\"middle\" font-family=\"Verdana\" font-size=\"10\" font-weight=\"bold\" fill=\"black\">m9</text><line stroke-width=\"1px\" stroke=\"#000000\"  x1=830 y1=\"60\" x2=\"795\" y2=\"60\" style=\"marker-end: url(#markerArrow)\"/></g><g><rect x=\"930\" y=\"30\" width=\"60\" height=\"60\" stroke=\"black\" stroke-width=\"1\" fill=\"#7EDBF6\" /><text x=\"960\" y=\"60\" dominant-baseline=\"middle\" text-anchor=\"middle\" font-family=\"Verdana\" font-size=\"10\" font-weight=\"bold\" fill=\"black\">m8</text><line stroke-width=\"1px\" stroke=\"#000000\"  x1=930 y1=\"60\" x2=\"895\" y2=\"60\" style=\"marker-end: url(#markerArrow)\"/></g><g><rect x=\"1030\" y=\"30\" width=\"60\" height=\"60\" stroke=\"black\" stroke-width=\"1\" fill=\"#7EDBF6\" /><text x=\"1060\" y=\"60\" dominant-baseline=\"middle\" text-anchor=\"middle\" font-family=\"Verdana\" font-size=\"10\" font-weight=\"bold\" fill=\"black\">m4</text><line stroke-width=\"1px\" stroke=\"#000000\"  x1=1030 y1=\"60\" x2=\"995\" y2=\"60\" style=\"marker-end: url(#markerArrow)\"/></g><g><rect x=\"1130\" y=\"30\" width=\"60\" height=\"60\" stroke=\"black\" stroke-width=\"1\" fill=\"#7EDBF6\" /><text x=\"1160\" y=\"60\" dominant-baseline=\"middle\" text-anchor=\"middle\" font-family=\"Verdana\" font-size=\"10\" font-weight=\"bold\" fill=\"black\">m9</text><line stroke-width=\"1px\" stroke=\"#000000\"  x1=1130 y1=\"60\" x2=\"1095\" y2=\"60\" style=\"marker-end: url(#markerArrow)\"/></g><g><rect x=\"1230\" y=\"30\" width=\"60\" height=\"60\" stroke=\"black\" stroke-width=\"1\" fill=\"#7EDBF6\" /><text x=\"1260\" y=\"60\" dominant-baseline=\"middle\" text-anchor=\"middle\" font-family=\"Verdana\" font-size=\"10\" font-weight=\"bold\" fill=\"black\">m7</text><line stroke-width=\"1px\" stroke=\"#000000\"  x1=1230 y1=\"60\" x2=\"1195\" y2=\"60\" style=\"marker-end: url(#markerArrow)\"/></g><g><rect x=\"1330\" y=\"30\" width=\"60\" height=\"60\" stroke=\"black\" stroke-width=\"1\" fill=\"#7EDBF6\" /><text x=\"1360\" y=\"60\" dominant-baseline=\"middle\" text-anchor=\"middle\" font-family=\"Verdana\" font-size=\"10\" font-weight=\"bold\" fill=\"black\">m2</text><line stroke-width=\"1px\" stroke=\"#000000\"  x1=1330 y1=\"60\" x2=\"1295\" y2=\"60\" style=\"marker-end: url(#markerArrow)\"/></g><g><rect x=\"1430\" y=\"30\" width=\"60\" height=\"60\" stroke=\"black\" stroke-width=\"1\" fill=\"#7EDBF6\" /><text x=\"1460\" y=\"60\" dominant-baseline=\"middle\" text-anchor=\"middle\" font-family=\"Verdana\" font-size=\"10\" font-weight=\"bold\" fill=\"black\">m2</text><line stroke-width=\"1px\" stroke=\"#000000\"  x1=1430 y1=\"60\" x2=\"1395\" y2=\"60\" style=\"marker-end: url(#markerArrow)\"/></g><g><rect x=\"1530\" y=\"30\" width=\"60\" height=\"60\" stroke=\"black\" stroke-width=\"1\" fill=\"#7EDBF6\" /><text x=\"1560\" y=\"60\" dominant-baseline=\"middle\" text-anchor=\"middle\" font-family=\"Verdana\" font-size=\"10\" font-weight=\"bold\" fill=\"black\">m0</text><line stroke-width=\"1px\" stroke=\"#000000\"  x1=1530 y1=\"60\" x2=\"1495\" y2=\"60\" style=\"marker-end: url(#markerArrow)\"/></g><g><rect x=\"1630\" y=\"30\" width=\"60\" height=\"60\" stroke=\"black\" stroke-width=\"1\" fill=\"#7EDBF6\" /><text x=\"1660\" y=\"60\" dominant-baseline=\"middle\" text-anchor=\"middle\" font-family=\"Verdana\" font-size=\"10\" font-weight=\"bold\" fill=\"black\">m5</text><line stroke-width=\"1px\" stroke=\"#000000\"  x1=1630 y1=\"60\" x2=\"1595\" y2=\"60\" style=\"marker-end: url(#markerArrow)\"/></g><g><rect x=\"1730\" y=\"30\" width=\"60\" height=\"60\" stroke=\"black\" stroke-width=\"1\" fill=\"#7EDBF6\" /><text x=\"1760\" y=\"60\" dominant-baseline=\"middle\" text-anchor=\"middle\" font-family=\"Verdana\" font-size=\"10\" font-weight=\"bold\" fill=\"black\">m9</text><line stroke-width=\"1px\" stroke=\"#000000\"  x1=1730 y1=\"60\" x2=\"1695\" y2=\"60\" style=\"marker-end: url(#markerArrow)\"/></g><g><rect x=\"1830\" y=\"30\" width=\"60\" height=\"60\" stroke=\"black\" stroke-width=\"1\" fill=\"#7EDBF6\" /><text x=\"1860\" y=\"60\" dominant-baseline=\"middle\" text-anchor=\"middle\" font-family=\"Verdana\" font-size=\"10\" font-weight=\"bold\" fill=\"black\">m4</text><line stroke-width=\"1px\" stroke=\"#000000\"  x1=1830 y1=\"60\" x2=\"1795\" y2=\"60\" style=\"marker-end: url(#markerArrow)\"/></g><g><rect x=\"1930\" y=\"30\" width=\"60\" height=\"60\" stroke=\"black\" stroke-width=\"1\" fill=\"#7EDBF6\" /><text x=\"1960\" y=\"60\" dominant-baseline=\"middle\" text-anchor=\"middle\" font-family=\"Verdana\" font-size=\"10\" font-weight=\"bold\" fill=\"black\">m0</text><line stroke-width=\"1px\" stroke=\"#000000\"  x1=1930 y1=\"60\" x2=\"1895\" y2=\"60\" style=\"marker-end: url(#markerArrow)\"/></g><g><rect x=\"2030\" y=\"30\" width=\"60\" height=\"60\" stroke=\"black\" stroke-width=\"1\" fill=\"#7EDBF6\" /><text x=\"2060\" y=\"60\" dominant-baseline=\"middle\" text-anchor=\"middle\" font-family=\"Verdana\" font-size=\"10\" font-weight=\"bold\" fill=\"black\">m5</text><line stroke-width=\"1px\" stroke=\"#000000\"  x1=2030 y1=\"60\" x2=\"1995\" y2=\"60\" style=\"marker-end: url(#markerArrow)\"/></g><g><rect x=\"2130\" y=\"30\" width=\"60\" height=\"60\" stroke=\"black\" stroke-width=\"1\" fill=\"#7EDBF6\" /><text x=\"2160\" y=\"60\" dominant-baseline=\"middle\" text-anchor=\"middle\" font-family=\"Verdana\" font-size=\"10\" font-weight=\"bold\" fill=\"black\">m2</text><line stroke-width=\"1px\" stroke=\"#000000\"  x1=2130 y1=\"60\" x2=\"2095\" y2=\"60\" style=\"marker-end: url(#markerArrow)\"/></g><g><rect x=\"2230\" y=\"30\" width=\"60\" height=\"60\" stroke=\"black\" stroke-width=\"1\" fill=\"#7EDBF6\" /><text x=\"2260\" y=\"60\" dominant-baseline=\"middle\" text-anchor=\"middle\" font-family=\"Verdana\" font-size=\"10\" font-weight=\"bold\" fill=\"black\">m0</text><line stroke-width=\"1px\" stroke=\"#000000\"  x1=2230 y1=\"60\" x2=\"2195\" y2=\"60\" style=\"marker-end: url(#markerArrow)\"/></g><g><rect x=\"2330\" y=\"30\" width=\"60\" height=\"60\" stroke=\"black\" stroke-width=\"1\" fill=\"#7EDBF6\" /><text x=\"2360\" y=\"60\" dominant-baseline=\"middle\" text-anchor=\"middle\" font-family=\"Verdana\" font-size=\"10\" font-weight=\"bold\" fill=\"black\">m7</text><line stroke-width=\"1px\" stroke=\"#000000\"  x1=2330 y1=\"60\" x2=\"2295\" y2=\"60\" style=\"marker-end: url(#markerArrow)\"/></g><g><rect x=\"2430\" y=\"30\" width=\"60\" height=\"60\" stroke=\"black\" stroke-width=\"1\" fill=\"#7EDBF6\" /><text x=\"2460\" y=\"60\" dominant-baseline=\"middle\" text-anchor=\"middle\" font-family=\"Verdana\" font-size=\"10\" font-weight=\"bold\" fill=\"black\">m8</text><line stroke-width=\"1px\" stroke=\"#000000\"  x1=2430 y1=\"60\" x2=\"2395\" y2=\"60\" style=\"marker-end: url(#markerArrow)\"/></g><g><rect x=\"2530\" y=\"30\" width=\"60\" height=\"60\" stroke=\"black\" stroke-width=\"1\" fill=\"#7EDBF6\" /><text x=\"2560\" y=\"60\" dominant-baseline=\"middle\" text-anchor=\"middle\" font-family=\"Verdana\" font-size=\"10\" font-weight=\"bold\" fill=\"black\">m8</text><line stroke-width=\"1px\" stroke=\"#000000\"  x1=2530 y1=\"60\" x2=\"2495\" y2=\"60\" style=\"marker-end: url(#markerArrow)\"/></g><g><rect x=\"2630\" y=\"30\" width=\"60\" height=\"60\" stroke=\"black\" stroke-width=\"1\" fill=\"#7EDBF6\" /><text x=\"2660\" y=\"60\" dominant-baseline=\"middle\" text-anchor=\"middle\" font-family=\"Verdana\" font-size=\"10\" font-weight=\"bold\" fill=\"black\">m9</text><line stroke-width=\"1px\" stroke=\"#000000\"  x1=2630 y1=\"60\" x2=\"2595\" y2=\"60\" style=\"marker-end: url(#markerArrow)\"/></g><g><rect x=\"2730\" y=\"30\" width=\"60\" height=\"60\" stroke=\"black\" stroke-width=\"1\" fill=\"#7EDBF6\" /><text x=\"2760\" y=\"60\" dominant-baseline=\"middle\" text-anchor=\"middle\" font-family=\"Verdana\" font-size=\"10\" font-weight=\"bold\" fill=\"black\">m7</text><line stroke-width=\"1px\" stroke=\"#000000\"  x1=2730 y1=\"60\" x2=\"2695\" y2=\"60\" style=\"marker-end: url(#markerArrow)\"/></g><g><rect x=\"2830\" y=\"30\" width=\"60\" height=\"60\" stroke=\"black\" stroke-width=\"1\" fill=\"#7EDBF6\" /><text x=\"2860\" y=\"60\" dominant-baseline=\"middle\" text-anchor=\"middle\" font-family=\"Verdana\" font-size=\"10\" font-weight=\"bold\" fill=\"black\">m2</text><line stroke-width=\"1px\" stroke=\"#000000\"  x1=2830 y1=\"60\" x2=\"2795\" y2=\"60\" style=\"marker-end: url(#markerArrow)\"/></g><g><rect x=\"2930\" y=\"30\" width=\"60\" height=\"60\" stroke=\"black\" stroke-width=\"1\" fill=\"#7EDBF6\" /><text x=\"2960\" y=\"60\" dominant-baseline=\"middle\" text-anchor=\"middle\" font-family=\"Verdana\" font-size=\"10\" font-weight=\"bold\" fill=\"black\">m2</text><line stroke-width=\"1px\" stroke=\"#000000\"  x1=2930 y1=\"60\" x2=\"2895\" y2=\"60\" style=\"marker-end: url(#markerArrow)\"/></g><g><rect x=\"3030\" y=\"30\" width=\"60\" height=\"60\" stroke=\"black\" stroke-width=\"1\" fill=\"#7EDBF6\" /><text x=\"3060\" y=\"60\" dominant-baseline=\"middle\" text-anchor=\"middle\" font-family=\"Verdana\" font-size=\"10\" font-weight=\"bold\" fill=\"black\">m7</text><line stroke-width=\"1px\" stroke=\"#000000\"  x1=3030 y1=\"60\" x2=\"2995\" y2=\"60\" style=\"marker-end: url(#markerArrow)\"/></g><g><rect x=\"2730\" y=\"130\" width=\"60\" height=\"60\" stroke=\"black\" stroke-width=\"1\" fill=\"#7EDBF6\" /><text x=\"2760\" y=\"160\" dominant-baseline=\"middle\" text-anchor=\"middle\" font-family=\"Verdana\" font-size=\"10\" font-weight=\"bold\" fill=\"black\">m3</text><line stroke-width=\"1px\" stroke=\"#000000\"  x1=2730 y1=\"160\" x2=\"2665\" y2=\"95\" style=\"marker-end: url(#markerArrow)\"/></g><g><rect x=\"2530\" y=\"230\" width=\"60\" height=\"60\" stroke=\"black\" stroke-width=\"1\" fill=\"#7EDBF6\" /><text x=\"2560\" y=\"260\" dominant-baseline=\"middle\" text-anchor=\"middle\" font-family=\"Verdana\" font-size=\"10\" font-weight=\"bold\" fill=\"black\">m0</text><line stroke-width=\"1px\" stroke=\"#000000\"  x1=2530 y1=\"260\" x2=\"2465\" y2=\"95\" style=\"marker-end: url(#markerArrow)\"/></g><g><rect x=\"2530\" y=\"330\" width=\"60\" height=\"60\" stroke=\"black\" stroke-width=\"1\" fill=\"#7EDBF6\" /><text x=\"2560\" y=\"360\" dominant-baseline=\"middle\" text-anchor=\"middle\" font-family=\"Verdana\" font-size=\"10\" font-weight=\"bold\" fill=\"black\">m4</text><line stroke-width=\"1px\" stroke=\"#000000\"  x1=2530 y1=\"360\" x2=\"2465\" y2=\"95\" style=\"marker-end: url(#markerArrow)\"/></g><g><rect x=\"2330\" y=\"430\" width=\"60\" height=\"60\" stroke=\"black\" stroke-width=\"1\" fill=\"#7EDBF6\" /><text x=\"2360\" y=\"460\" dominant-baseline=\"middle\" text-anchor=\"middle\" font-family=\"Verdana\" font-size=\"10\" font-weight=\"bold\" fill=\"black\">m1</text><line stroke-width=\"1px\" stroke=\"#000000\"  x1=2330 y1=\"460\" x2=\"2265\" y2=\"95\" style=\"marker-end: url(#markerArrow)\"/></g><g><rect x=\"1630\" y=\"530\" width=\"60\" height=\"60\" stroke=\"black\" stroke-width=\"1\" fill=\"#7EDBF6\" /><text x=\"1660\" y=\"560\" dominant-baseline=\"middle\" text-anchor=\"middle\" font-family=\"Verdana\" font-size=\"10\" font-weight=\"bold\" fill=\"black\">m2</text><line stroke-width=\"1px\" stroke=\"#000000\"  x1=1630 y1=\"560\" x2=\"1565\" y2=\"95\" style=\"marker-end: url(#markerArrow)\"/></g><g><rect x=\"1430\" y=\"630\" width=\"60\" height=\"60\" stroke=\"black\" stroke-width=\"1\" fill=\"#7EDBF6\" /><text x=\"1460\" y=\"660\" dominant-baseline=\"middle\" text-anchor=\"middle\" font-family=\"Verdana\" font-size=\"10\" font-weight=\"bold\" fill=\"black\">m1</text><line stroke-width=\"1px\" stroke=\"#000000\"  x1=1430 y1=\"660\" x2=\"1365\" y2=\"95\" style=\"marker-end: url(#markerArrow)\"/></g><g><rect x=\"330\" y=\"730\" width=\"60\" height=\"60\" stroke=\"black\" stroke-width=\"1\" fill=\"#7EDBF6\" /><text x=\"360\" y=\"760\" dominant-baseline=\"middle\" text-anchor=\"middle\" font-family=\"Verdana\" font-size=\"10\" font-weight=\"bold\" fill=\"black\">m3</text><line stroke-width=\"1px\" stroke=\"#000000\"  x1=330 y1=\"760\" x2=\"265\" y2=\"95\" style=\"marker-end: url(#markerArrow)\"/></g><g><rect x=\"130\" y=\"830\" width=\"60\" height=\"60\" stroke=\"black\" stroke-width=\"1\" fill=\"#7EDBF6\" /><text x=\"160\" y=\"860\" dominant-baseline=\"middle\" text-anchor=\"middle\" font-family=\"Verdana\" font-size=\"10\" font-weight=\"bold\" fill=\"black\">m4</text><line stroke-width=\"1px\" stroke=\"#000000\"  x1=130 y1=\"860\" x2=\"65\" y2=\"95\" style=\"marker-end: url(#markerArrow)\"/></g></svg>"
      ],
      "text/plain": [
       "<IPython.core.display.HTML object>"
      ]
     },
     "metadata": {},
     "output_type": "display_data"
    }
   ],
   "source": [
    "bc, m, s = run(mining_power=40, num_blocks=30, uncle_reward=3, nephew_reward=1)\n",
    "show(bc)"
   ]
  },
  {
   "cell_type": "code",
   "execution_count": null,
   "metadata": {},
   "outputs": [
    {
     "name": "stdout",
     "output_type": "stream",
     "text": [
      "  name  reward  uncle_reward  blocks  uncles  newphes  power\n",
      "0   m0      30             4       3       1        1     40\n",
      "1   m1      10             6       1       2        0     40\n",
      "2   m2      50             4       5       1        1     40\n",
      "3   m3       0             6       0       2        0     40\n",
      "4   m4      40             7       4       2        1     40\n",
      "5   m5      30             0       3       0        0     40\n",
      "6   m6      30             1       3       0        1     40\n",
      "7   m7      40             0       4       0        0     40\n",
      "8   m8      30             1       3       0        1     40\n",
      "9   m9      40             3       4       0        3     40\n"
     ]
    }
   ],
   "source": [
    "stats = get_stats(m, s)\n",
    "print(stats)"
   ]
  },
  {
   "cell_type": "markdown",
   "metadata": {},
   "source": [
    "## Uncle BlockChain\n",
    "\n",
    "We chose to reward the miners after running the simulation because of trouble with debugging and finding a good way of implementing uncle in the simulation. In the last part of the run function, implemented above the dataclass section, you can see that there is a while loop at the end of the function. This part adds uncle rewards if the uncle reward is set (uncle_reward > 0). It goes through the chain backwards, blockwise, and if a _grandparent_ has more than one child it will reference each of those not in the chain. That block's creator will then receive the nephew reward times how many uncles it referenced, and the creators of those uncle blocks will receive the uncle reward. The miners have an attribute for uncle reward and this is implemented in the dataframe that will be returned by the get_stats() function.\n",
    "\n",
    "```python\n",
    "def run(\n",
    "    ...\n",
    "    while last_block.previous is not None:\n",
    "        last_block.creator.reward += reward\n",
    "        last_block.creator.blocks += 1\n",
    "        if uncle_reward > 0:\n",
    "            grandparent = last_block.previous.previous\n",
    "            if grandparent is not None and len(grandparent.children) > 1:\n",
    "                for uncle in grandparent.children:\n",
    "                    if uncle != last_block.previous:\n",
    "                        uncle.creator.uncle_reward += uncle_reward\n",
    "                        uncle.creator.uncles += 1\n",
    "                        last_block.creator.uncle_reward += nephew_reward\n",
    "                        last_block.creator.nephews += 1\n",
    "        last_block=last_block.previous\n",
    "    return bc, miners, selfish\n",
    "```"
   ]
  },
  {
   "cell_type": "markdown",
   "metadata": {},
   "source": [
    "## Results"
   ]
  },
  {
   "cell_type": "markdown",
   "metadata": {},
   "source": [
    "### Baseline\n",
    "\n",
    "To begin with we ran the blockchain with 15 different miners and 100 blocks mined in total. This was done 100 times and we normalised the rewards for each miner and plotted it.\n",
    "This showed us that all the miners had _about_ the same amount of reward when mining for a long time, on many blocks.\n",
    " We can now conclude that the blockchain is somewhat fair, because same amount of mining power roughly equals same reward.\n",
    "\n",
    "We also did this with a single miner that had 3X the mining power of the other nodes to see if there were any difference. \n",
    "The miner with 3X mining power got about 3x the reward of a \"_average_\" miner. This also works as intended."
   ]
  },
  {
   "cell_type": "code",
   "execution_count": 47,
   "metadata": {},
   "outputs": [],
   "source": [
    "normal, uncles, df_fewf = getavg(100, run, num_blocks=100, num_miners=15, uncle_reward=3, nephew_reward=2) # [1,12] forks avg at 4/5 forks each chain"
   ]
  },
  {
   "cell_type": "code",
   "execution_count": 59,
   "metadata": {},
   "outputs": [
    {
     "data": {
      "image/png": "[encoded data removed]",
      "text/plain": [
       "<Figure size 432x288 with 1 Axes>"
      ]
     },
     "metadata": {
      "needs_background": "light"
     },
     "output_type": "display_data"
    },
    {
     "name": "stdout",
     "output_type": "stream",
     "text": [
      "fairness 1.0\n",
      "unfairness 0.05787545787545787\n",
      "relative_fairness 0.9380219780219782\n"
     ]
    }
   ],
   "source": [
    "barplot(vals=df_fewf[\"reward\"], names=df_fewf[\"name\"], label=\"Miners\", title=\"Normal miners with equal power\")\n",
    "fairness_normal, unfairness_normal, relative_fairness_normal = fairness(df_fewf, reward=10, uncle_reward=0, nephew_reward=0)\n",
    "print(\"fairness\", np.mean(fairness_normal.tolist()))\n",
    "print(\"unfairness\", np.mean(unfairness_normal.tolist()))\n",
    "print(\"relative_fairness\", np.mean(relative_fairness_normal.tolist()))"
   ]
  },
  {
   "cell_type": "markdown",
   "metadata": {},
   "source": [
    "Something about big vs small, text text"
   ]
  },
  {
   "cell_type": "code",
   "execution_count": null,
   "metadata": {},
   "outputs": [],
   "source": [
    "normal_big, uncles_big, _ = getavg(100, run, num_blocks=100,num_miners=14, uncle_reward=3, nephew_reward=2,miners=[30])\n",
    "#plot"
   ]
  },
  {
   "cell_type": "code",
   "execution_count": 14,
   "metadata": {},
   "outputs": [],
   "source": [
    "normal2, uncles2, df2 = getavg(100, run, reward=33, uncle_reward=22, nephew_reward=1, num_miners=15, num_blocks=100, mining_power=40)"
   ]
  },
  {
   "cell_type": "code",
   "execution_count": 16,
   "metadata": {},
   "outputs": [
    {
     "data": {
      "image/png": "[encoded data removed]",
      "text/plain": [
       "<Figure size 432x288 with 1 Axes>"
      ]
     },
     "metadata": {
      "needs_background": "light"
     },
     "output_type": "display_data"
    }
   ],
   "source": [
    "barplot(df2[\"reward\"],df2[\"reward\"]+ df2[\"uncle_reward\"],df2[\"name\"],\"Normal\", \"Uncles\",\"Rewards for miners, uncles vs normal\")"
   ]
  },
  {
   "cell_type": "code",
   "execution_count": 17,
   "metadata": {},
   "outputs": [
    {
     "name": "stdout",
     "output_type": "stream",
     "text": [
      "fairness miners 1.0\n",
      "unfairness 0.042751994582354604\n",
      "relative_fairness 0.9460878251116329\n"
     ]
    }
   ],
   "source": [
    "fairness_miners, unfairness, relative_fairness = fairness(df2, reward=33, uncle_reward=22, nephew_reward=1)\n",
    "print(\"fairness miners\", np.mean(fairness_miners.tolist()))\n",
    "print(\"unfairness\", np.mean(unfairness.tolist()))\n",
    "print(\"relative_fairness\", np.mean(relative_fairness.tolist()))"
   ]
  },
  {
   "cell_type": "code",
   "execution_count": null,
   "metadata": {},
   "outputs": [
    {
     "data": {
      "image/png": "[encoded data removed]",
      "text/plain": [
       "<Figure size 432x288 with 1 Axes>"
      ]
     },
     "metadata": {
      "needs_background": "light"
     },
     "output_type": "display_data"
    }
   ],
   "source": [
    "width = 0.35\n",
    "xpos = np.arange(len(miner_names))\n",
    "\n",
    "fig, ax = plt.subplots()\n",
    "normal_plot = ax.bar(xpos - width/2, normal_big, width, label=\"Normal\")\n",
    "uncles_plot = ax.bar(xpos + width/2, uncles_big, width, label=\"Uncles\")\n",
    "\n",
    "ax.set_ylabel(\"Rewards\")\n",
    "ax.set_title(\"Rewards for miners and big, uncles vs normal\")\n",
    "ax.set_xticks(xpos)\n",
    "ax.set_xticklabels([\"big\"] + miner_names[:-1])\n",
    "ax.legend()\n",
    "ax.bar_label(normal_plot, padding=3)\n",
    "ax.bar_label(uncles_plot, padding=3)\n",
    "fig.tight_layout()\n",
    "plt.show()"
   ]
  },
  {
   "cell_type": "markdown",
   "metadata": {},
   "source": [
    "## Selfish mining"
   ]
  },
  {
   "cell_type": "markdown",
   "metadata": {},
   "source": [
    "When a blockchain has implemented a uncle reward mechanism it eliminates some risk for the miners. When they mine a block that ends up outside the longest chain it will still be compensated somewhat for the time and energy put into the block, even if it is not on the level of the blockreward. However the blockchain may be more vulnerable to selfish mining attacks. Below you can see a model of a big miner on a uncle blockchain and a selfish miner on a uncle blockchain, where both of these have the same amount of _power_. So the difference is only how each of these miners behave. One of them will try to hide their blocks and one just publishes them. So if a uncle blockchain is more profitable to a selfish miner he should end up with more rewards than the big miner. "
   ]
  },
  {
   "cell_type": "code",
   "execution_count": null,
   "metadata": {},
   "outputs": [],
   "source": [
    "normal_selfish, uncles_selfish, _ = getavg(100,run,num_blocks=100,num_miners=14, uncle_reward=3, nephew_reward=2, num_selfish_miners=1, mining_power_selfish=30)"
   ]
  },
  {
   "cell_type": "code",
   "execution_count": null,
   "metadata": {},
   "outputs": [],
   "source": [
    "normal_self_big, uncles_self_big, _ = getavg(100,run,num_blocks=100,num_miners=13, uncle_reward=3, nephew_reward=2,miners=[30], num_selfish_miners=1, mining_power_selfish=10)"
   ]
  },
  {
   "cell_type": "code",
   "execution_count": null,
   "metadata": {},
   "outputs": [],
   "source": [
    "normal_self30_big, uncles_self30_big, _= getavg(100, run, num_blocks=100, num_miners=13, uncle_reward=3, nephew_reward=2,miners=[30], num_selfish_miners=1, mining_power_selfish=30)"
   ]
  },
  {
   "cell_type": "code",
   "execution_count": null,
   "metadata": {},
   "outputs": [
    {
     "data": {
      "image/png": "[encoded data removed]",
      "text/plain": [
       "<Figure size 432x288 with 1 Axes>"
      ]
     },
     "metadata": {
      "needs_background": "light"
     },
     "output_type": "display_data"
    }
   ],
   "source": [
    "width = 0.35\n",
    "xpos = np.arange(len(miner_names))\n",
    "\n",
    "fig, ax = plt.subplots()\n",
    "normal_plot = ax.bar(xpos - width/2, normal_self30_big, width, label=\"Normal\")\n",
    "uncles_plot = ax.bar(xpos + width/2, uncles_self30_big, width, label=\"Uncle\")\n",
    "\n",
    "ax.set_ylabel(\"Rewards\")\n",
    "ax.set_title(\"Rewards for selfish and big, uncles/normal\")\n",
    "ax.set_xticks(xpos)\n",
    "ax.set_xticklabels([\"S\", \"Big\"] +  miner_names[:-2])\n",
    "ax.legend()\n",
    "ax.bar_label(normal_plot, padding=3)\n",
    "ax.bar_label(uncles_plot, padding=3)\n",
    "fig.tight_layout()\n",
    "plt.show()"
   ]
  },
  {
   "cell_type": "code",
   "execution_count": null,
   "metadata": {},
   "outputs": [
    {
     "name": "stdout",
     "output_type": "stream",
     "text": [
      "[62.3, 62.4, 57.8, 66.6, 65.6, 62.0, 67.8, 69.5, 67.7, 67.5, 67.1, 66.9, 73.9, 73.2, 70.2]\n",
      "[65.21, 65.37, 60.82, 69.73, 68.37, 64.47, 70.06, 71.62, 69.83, 69.47, 68.78, 68.05, 75.29, 74.45, 71.38]\n"
     ]
    },
    {
     "ename": "AttributeError",
     "evalue": "'DataFrame' object has no attribute 'kstest'",
     "output_type": "error",
     "traceback": [
      "\u001b[1;31m---------------------------------------------------------------------------\u001b[0m",
      "\u001b[1;31mAttributeError\u001b[0m                            Traceback (most recent call last)",
      "\u001b[1;32m~\\AppData\\Local\\Temp/ipykernel_7212/1559970764.py\u001b[0m in \u001b[0;36m<module>\u001b[1;34m\u001b[0m\n\u001b[0;32m      3\u001b[0m \u001b[0mavg\u001b[0m \u001b[1;33m=\u001b[0m \u001b[0mnp\u001b[0m\u001b[1;33m.\u001b[0m\u001b[0maverage\u001b[0m\u001b[1;33m(\u001b[0m\u001b[0muncles\u001b[0m\u001b[1;33m)\u001b[0m\u001b[1;33m\u001b[0m\u001b[1;33m\u001b[0m\u001b[0m\n\u001b[0;32m      4\u001b[0m \u001b[0mstd\u001b[0m \u001b[1;33m=\u001b[0m \u001b[0mnp\u001b[0m\u001b[1;33m.\u001b[0m\u001b[0mstd\u001b[0m\u001b[1;33m(\u001b[0m\u001b[0muncles\u001b[0m\u001b[1;33m)\u001b[0m\u001b[1;33m\u001b[0m\u001b[1;33m\u001b[0m\u001b[0m\n\u001b[1;32m----> 5\u001b[1;33m \u001b[0mprint\u001b[0m\u001b[1;33m(\u001b[0m\u001b[0mstats\u001b[0m\u001b[1;33m.\u001b[0m\u001b[0mkstest\u001b[0m\u001b[1;33m(\u001b[0m\u001b[0muncles\u001b[0m\u001b[1;33m,\u001b[0m \u001b[1;32mlambda\u001b[0m \u001b[0mx\u001b[0m\u001b[1;33m:\u001b[0m \u001b[0mstats\u001b[0m\u001b[1;33m.\u001b[0m\u001b[0mnorm\u001b[0m\u001b[1;33m.\u001b[0m\u001b[0mcdf\u001b[0m\u001b[1;33m(\u001b[0m\u001b[0mx\u001b[0m\u001b[1;33m,\u001b[0m \u001b[0mavg\u001b[0m\u001b[1;33m,\u001b[0m \u001b[0mstd\u001b[0m\u001b[1;33m)\u001b[0m\u001b[1;33m)\u001b[0m\u001b[1;33m)\u001b[0m\u001b[1;33m\u001b[0m\u001b[1;33m\u001b[0m\u001b[0m\n\u001b[0m",
      "\u001b[1;32m~\\AppData\\Local\\Packages\\PythonSoftwareFoundation.Python.3.9_qbz5n2kfra8p0\\LocalCache\\local-packages\\Python39\\site-packages\\pandas\\core\\generic.py\u001b[0m in \u001b[0;36m__getattr__\u001b[1;34m(self, name)\u001b[0m\n\u001b[0;32m   5485\u001b[0m         ):\n\u001b[0;32m   5486\u001b[0m             \u001b[1;32mreturn\u001b[0m \u001b[0mself\u001b[0m\u001b[1;33m[\u001b[0m\u001b[0mname\u001b[0m\u001b[1;33m]\u001b[0m\u001b[1;33m\u001b[0m\u001b[1;33m\u001b[0m\u001b[0m\n\u001b[1;32m-> 5487\u001b[1;33m         \u001b[1;32mreturn\u001b[0m \u001b[0mobject\u001b[0m\u001b[1;33m.\u001b[0m\u001b[0m__getattribute__\u001b[0m\u001b[1;33m(\u001b[0m\u001b[0mself\u001b[0m\u001b[1;33m,\u001b[0m \u001b[0mname\u001b[0m\u001b[1;33m)\u001b[0m\u001b[1;33m\u001b[0m\u001b[1;33m\u001b[0m\u001b[0m\n\u001b[0m\u001b[0;32m   5488\u001b[0m \u001b[1;33m\u001b[0m\u001b[0m\n\u001b[0;32m   5489\u001b[0m     \u001b[1;32mdef\u001b[0m \u001b[0m__setattr__\u001b[0m\u001b[1;33m(\u001b[0m\u001b[0mself\u001b[0m\u001b[1;33m,\u001b[0m \u001b[0mname\u001b[0m\u001b[1;33m:\u001b[0m \u001b[0mstr\u001b[0m\u001b[1;33m,\u001b[0m \u001b[0mvalue\u001b[0m\u001b[1;33m)\u001b[0m \u001b[1;33m->\u001b[0m \u001b[1;32mNone\u001b[0m\u001b[1;33m:\u001b[0m\u001b[1;33m\u001b[0m\u001b[1;33m\u001b[0m\u001b[0m\n",
      "\u001b[1;31mAttributeError\u001b[0m: 'DataFrame' object has no attribute 'kstest'"
     ]
    }
   ],
   "source": [
    "print(normal)\n",
    "print(uncles)\n",
    "avg = np.average(uncles)\n",
    "std = np.std(uncles)\n",
    "print(stats.kstest(uncles, lambda x: stats.norm.cdf(x, avg, std)))"
   ]
  }
 ],
 "metadata": {
  "colab": {
   "collapsed_sections": [],
   "name": "lecture5_Attacks.ipynb",
   "provenance": []
  },
  "interpreter": {
   "hash": "d725e4bef31036ed1fa66d37088c13a5fef31be63a886f5393e2a9fada4ff7cb"
  },
  "kernelspec": {
   "display_name": "Python 3.9.7 64-bit (windows store)",
   "name": "python3"
  },
  "language_info": {
   "codemirror_mode": {
    "name": "ipython",
    "version": 3
   },
   "file_extension": ".py",
   "mimetype": "text/x-python",
   "name": "python",
   "nbconvert_exporter": "python",
   "pygments_lexer": "ipython3",
   "version": "3.9.7"
  }
 },
 "nbformat": 4,
 "nbformat_minor": 5
}
