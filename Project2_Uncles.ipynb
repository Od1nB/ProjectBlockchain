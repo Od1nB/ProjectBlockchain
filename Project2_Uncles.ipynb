{
 "cells": [
  {
   "cell_type": "markdown",
   "source": [
    "# Project 2: Uncles and Uncles Rewards\r\n",
    "- Model a Blockchain that uses uncles and uncle rewards\r\n",
    "- Model rewarding mechanism to reward uncle block creators\r\n",
    "- Model selfish mining (only one attacker) in this blockchain\r\n",
    "\r\n",
    "Try to answer the following questions with your experiment:\r\n",
    "1. How do uncles improve the fairness of the blockchain? For this, you should compare the outcome of miners with and without uncles.\r\n",
    "2. What is the impact of uncles on selfish mining? Is selfish mining more profitable with uncles?\r\n",
    "3. What does it mean in this model for the selfish mining attack to be profitable?\r\n",
    "\r\n",
    " Since more miners will get rewards for mining, even if they don't finish a block that is part of the longest chain, they will be rewarded for it. So the time and energy used for that block will not be as wasted, and it seems more rewarding to mine. Show net money with and without uncle rewards to display point. The concept of it is for fairness, but may encourage selfish mining. "
   ],
   "metadata": {}
  },
  {
   "cell_type": "markdown",
   "source": [
    "### Imports"
   ],
   "metadata": {}
  },
  {
   "cell_type": "code",
   "execution_count": 258,
   "source": [
    "#Import statements\r\n",
    "from draw_blockchain import show\r\n",
    "import hashlib as hasher\r\n",
    "import random"
   ],
   "outputs": [],
   "metadata": {
    "colab": {
     "base_uri": "https://localhost:8080/"
    },
    "id": "ef05ce3c",
    "outputId": "935d959b-21d0-4d92-bae9-3e8c72e8ae1c"
   }
  },
  {
   "cell_type": "markdown",
   "source": [
    "### Hash function"
   ],
   "metadata": {}
  },
  {
   "cell_type": "code",
   "execution_count": 259,
   "source": [
    "def hashbits(input):\r\n",
    "    hash_obj = hasher.sha256()\r\n",
    "    inputbytes = input.encode()\r\n",
    "    hash_obj.update(inputbytes)\r\n",
    "    hashbytes = hash_obj.digest()\r\n",
    "    return ''.join(f'{x:08b}' for x in hashbytes)\r\n",
    "\r\n",
    "def hash(input):\r\n",
    "    hash_obj = hasher.sha256()\r\n",
    "    inputbytes = input.encode()\r\n",
    "    #print(type(inputbytes))\r\n",
    "    hash_obj.update(inputbytes)\r\n",
    "    return hash_obj.hexdigest()\r\n",
    "\r\n",
    "def numberOfInitZeros(hashStr):\r\n",
    "    count = 0\r\n",
    "    for i in range (0 , len(hashStr)):\r\n",
    "        if hashStr[i] == '1':\r\n",
    "            break\r\n",
    "        count += 1\r\n",
    "    return count"
   ],
   "outputs": [],
   "metadata": {}
  },
  {
   "cell_type": "markdown",
   "source": [
    "### Block"
   ],
   "metadata": {}
  },
  {
   "cell_type": "code",
   "execution_count": 260,
   "source": [
    "class Block:\r\n",
    "    def __init__(self, data, creator=None, previous=None, nonce=0):\r\n",
    "        self.data = data\r\n",
    "        if previous is None:\r\n",
    "            self.previous = None\r\n",
    "            self.previous_hash = \"\"\r\n",
    "            self.creator = Miner(0 , \"0\")\r\n",
    "            self.height = 0\r\n",
    "            self.color = \"#AEF751\"\r\n",
    "        else:\r\n",
    "            self.previous = previous\r\n",
    "            self.previous_hash = previous.hash\r\n",
    "            self.creator = creator\r\n",
    "            self.height = previous.height+1\r\n",
    "            self.color = creator.color\r\n",
    "        self.nonce = nonce\r\n",
    "        self.hash = self.hash_block()\r\n",
    "        self.children = []\r\n",
    "\r\n",
    "    def hash_block(self):\r\n",
    "        return hashbits(self.data+ self.creator.name + self.previous_hash + str(self.nonce))\r\n",
    "\r\n",
    "    def print(self):\r\n",
    "        print(self.data + \" \"+ self.creator.name + \" \" + str(self.height))"
   ],
   "outputs": [],
   "metadata": {}
  },
  {
   "cell_type": "markdown",
   "source": [
    "### Blockchain"
   ],
   "metadata": {
    "id": "ac097c16"
   }
  },
  {
   "cell_type": "code",
   "execution_count": 261,
   "source": [
    "class Blockchain:\r\n",
    "    def __init__(self, genesis_data, difficulty, blockReward=10):\r\n",
    "        self.chain = []\r\n",
    "        self.chain.append(Block(genesis_data))\r\n",
    "        self.difficulty = difficulty\r\n",
    "        self.size = 0\r\n",
    "        self.block_reward = blockReward\r\n",
    "        self.uncles = []\r\n",
    "\r\n",
    "    def longestChain(self):\r\n",
    "      max = self.chain[0].height\r\n",
    "      for block in self.chain:\r\n",
    "          if block.height > max:\r\n",
    "                max = block.height\r\n",
    "      maxes = [block for block in self.chain if block.height == max]\r\n",
    "      r = random.choices(maxes, k=1)\r\n",
    "      return r[0]\r\n",
    "        \r\n",
    "    def add(self, newBlock):\r\n",
    "        self.chain.append(newBlock)\r\n",
    "        newBlock.previous.children.append(newBlock)\r\n",
    "        self.size +=1\r\n",
    "        if self.inlongestChain(newBlock):\r\n",
    "            newBlock.creator.reward += self.block_reward\r\n",
    "        else:  \r\n",
    "            self.uncles.append(newBlock)\r\n",
    "        \r\n",
    "    def print(self):\r\n",
    "        for block in self.chain:\r\n",
    "            block.print()\r\n",
    "            print(\"________\")\r\n",
    "\r\n",
    "    def hasFork(self):\r\n",
    "        for block1 in self.chain:\r\n",
    "            for block2 in self.chain:\r\n",
    "                if block1!=block2 and block1.height == block2.height:\r\n",
    "                    return True\r\n",
    "        return False\r\n",
    "\r\n",
    "    def checkMiner(self, miner):\r\n",
    "      last = self.longestChain()\r\n",
    "      count = 0\r\n",
    "      while last!=None:\r\n",
    "          if last.creator == miner:\r\n",
    "                count += 1\r\n",
    "          last = last.previous\r\n",
    "      return count\r\n",
    "    \r\n",
    "    def inlongestChain(self, block):\r\n",
    "          last = self.longestChain()\r\n",
    "          while last!= None:\r\n",
    "                if last == block: #need more of a check for if fork\r\n",
    "                        # print(\"last\",last.height,\"block\", block.height)\r\n",
    "                        return True\r\n",
    "                last = last.previous\r\n",
    "          return False\r\n",
    "          \r\n",
    "    #Think this one works but not 110% sure yet\r\n",
    "    def forks(self):\r\n",
    "        fork_list = []\r\n",
    "        last = self.longestChain()\r\n",
    "        while last != None:\r\n",
    "            # print(last.creator.name)\r\n",
    "            for child in last.children:\r\n",
    "                if not self.inlongestChain(child):\r\n",
    "                    length = 1\r\n",
    "                    forkblock = child\r\n",
    "                    while forkblock.children:\r\n",
    "                        length += 1\r\n",
    "                        forkblock = forkblock.children[0]\r\n",
    "                    fork_list.append(length)\r\n",
    "            last = last.previous\r\n",
    "        return fork_list\r\n"
   ],
   "outputs": [],
   "metadata": {
    "id": "CDX_Rs4rubpy"
   }
  },
  {
   "cell_type": "markdown",
   "source": [
    "### Uncle blockchain"
   ],
   "metadata": {}
  },
  {
   "cell_type": "code",
   "execution_count": 262,
   "source": [
    "class UncleBlockchain(Blockchain):\r\n",
    "    def __init__(self, genesis_data, difficulty, block_reward=10, uncle_reward=5):\r\n",
    "        super().__init__(genesis_data, difficulty, blockReward=block_reward)\r\n",
    "        self.uncle_reward = uncle_reward\r\n",
    "        self.uncles = []\r\n",
    "    \r\n",
    "    def add(self, new_block):\r\n",
    "        self.chain.append(new_block)\r\n",
    "        new_block.previous.children.append(new_block)\r\n",
    "        self.size +=1\r\n",
    "        if self.inlongestChain(new_block):\r\n",
    "            new_block.creator.reward += self.block_reward\r\n",
    "            if self.uncles and new_block.height > self.uncles[0].height:\r\n",
    "                self.referenceUncle()\r\n",
    "        else:  \r\n",
    "            self.uncles.append(new_block)\r\n",
    "\r\n",
    "    def referenceUncle(self):\r\n",
    "        uncleblock = self.uncles[-1]\r\n",
    "        uncleblock.creator.reward += self.uncle_reward\r\n",
    "        self.uncles.pop()"
   ],
   "outputs": [],
   "metadata": {}
  },
  {
   "cell_type": "markdown",
   "source": [
    "## Miners"
   ],
   "metadata": {}
  },
  {
   "cell_type": "markdown",
   "source": [
    "### Normal miner"
   ],
   "metadata": {}
  },
  {
   "cell_type": "code",
   "execution_count": 263,
   "source": [
    "class Miner:\r\n",
    "    def __init__(self, miningPower, name, blockchain=None):\r\n",
    "        self.miningPower = miningPower\r\n",
    "        self.nonce = random.randint(0,100000) #original one\r\n",
    "        # self.nonce = 0\r\n",
    "        self.name = name\r\n",
    "        self.blockchain = blockchain\r\n",
    "        self.reward = 0\r\n",
    "        self.color = \"#7EDBF6\"\r\n",
    "        if self.blockchain != None:\r\n",
    "            self.lastBlock = blockchain.longestChain()\r\n",
    "    \r\n",
    "    def UpdateLast(self):\r\n",
    "        latest = self.blockchain.longestChain()\r\n",
    "        if latest.height > self.lastBlock.height:\r\n",
    "              self.lastBlock = latest\r\n",
    "\r\n",
    "    def PoWSolver(self):\r\n",
    "        for i in range (0 , self.miningPower):\r\n",
    "            newBlock = Block(str(self.blockchain.size), self, self.lastBlock, self.nonce)\r\n",
    "            h = newBlock.hash_block()\r\n",
    "            count = numberOfInitZeros(h)\r\n",
    "            if count >= self.blockchain.difficulty:\r\n",
    "                self.blockchain.add(newBlock)\r\n",
    "                self.lastBlock = newBlock\r\n",
    "            self.nonce += 1\r\n"
   ],
   "outputs": [],
   "metadata": {}
  },
  {
   "cell_type": "markdown",
   "source": [
    "### Selfish miner"
   ],
   "metadata": {}
  },
  {
   "cell_type": "code",
   "execution_count": 264,
   "source": [
    "\r\n",
    "class SelfishMiner(Miner):\r\n",
    "    def __init__(self, miningPower, name, blockchain=None):\r\n",
    "        super().__init__(miningPower, name, blockchain)\r\n",
    "        self.privateBlocks = []\r\n",
    "        self.publishNext = False\r\n",
    "        self.color = \"#F59AEE\"\r\n",
    "\r\n",
    "    def UpdateLast(self):\r\n",
    "        #add this function\r\n",
    "        latest = self.blockchain.longestChain()\r\n",
    "        publicheight = latest.height\r\n",
    "        if publicheight > self.lastBlock.height:\r\n",
    "            self.privateBlocks = []\r\n",
    "            self.lastBlock = latest\r\n",
    "            self.publishNext = False\r\n",
    "        if publicheight == self.lastBlock.height-1 and len(self.privateBlocks)> 1:\r\n",
    "            for block in self.privateBlocks:\r\n",
    "                self.blockchain.add(block)\r\n",
    "                self.privateBlocks = []\r\n",
    "        if publicheight == self.lastBlock.height:\r\n",
    "            for block in self.privateBlocks:\r\n",
    "                self.blockchain.add(block)\r\n",
    "                self.privateBlocks = []\r\n",
    "                self.publishNext = True\r\n",
    "\r\n",
    "    def PoWSolver(self):\r\n",
    "        #add this function\r\n",
    "        for i in range (0 , self.miningPower):\r\n",
    "            newBlock = Block(str(self.blockchain.size), self, self.lastBlock, self.nonce)\r\n",
    "            h = newBlock.hash_block()\r\n",
    "            count = numberOfInitZeros(h)\r\n",
    "            if count >= self.blockchain.difficulty:\r\n",
    "                if self.publishNext:\r\n",
    "                    self.blockchain.add(newBlock)\r\n",
    "                    self.publishNext = False\r\n",
    "                else:\r\n",
    "                    self.privateBlocks.append(newBlock)\r\n",
    "                self.lastBlock = newBlock\r\n",
    "            self.nonce += 1"
   ],
   "outputs": [],
   "metadata": {}
  },
  {
   "cell_type": "markdown",
   "source": [
    "## Main program"
   ],
   "metadata": {}
  },
  {
   "cell_type": "markdown",
   "source": [
    "### Run function"
   ],
   "metadata": {}
  },
  {
   "cell_type": "code",
   "execution_count": 265,
   "source": [
    "#Main\r\n",
    "def run(\r\n",
    "        reward=10, uncle_reward=0,\r\n",
    "        difficulty=10,\r\n",
    "        num_miners=10,\r\n",
    "        num_selfish_miners=0,\r\n",
    "        mining_power=10,\r\n",
    "        mining_power_selfish=15,\r\n",
    "        genesis_data=\"0\",\r\n",
    "        num_blocks = 30,\r\n",
    "        miners = []\r\n",
    "    ):\r\n",
    "    bc = None\r\n",
    "    if uncle_reward > 0:\r\n",
    "        bc = UncleBlockchain(genesis_data , difficulty, reward, uncle_reward)\r\n",
    "    else:\r\n",
    "        bc = Blockchain(genesis_data , difficulty, reward)\r\n",
    "    miners = [Miner(p, \"m\"+ str(i), bc) for i,p in enumerate(miners)]\r\n",
    "    selfish = []\r\n",
    "    len_miners = len(miners)\r\n",
    "    for i in range(num_miners):\r\n",
    "        miners.append(Miner(mining_power ,\"m\"+str(len_miners+i), bc))\r\n",
    "    for i in range(num_selfish_miners):\r\n",
    "        selfish.append(SelfishMiner(mining_power_selfish ,\"s\"+str(i), bc))\r\n",
    "    while bc.size < num_blocks:\r\n",
    "        for s in selfish:\r\n",
    "            s.PoWSolver()\r\n",
    "\r\n",
    "        for m in miners:\r\n",
    "            m.PoWSolver()\r\n",
    "\r\n",
    "        for s in selfish:\r\n",
    "            s.UpdateLast()\r\n",
    "\r\n",
    "        for m in miners:\r\n",
    "            m.UpdateLast()\r\n",
    "    return bc, miners, selfish\r\n",
    "\r\n",
    "def print_run(bc, miners, selfish):\r\n",
    "    print(\"Has fork:\", bc.hasFork())\r\n",
    "    longest_chain = bc.longestChain()\r\n",
    "    print(\"Longest chain height:\",longest_chain.height)\r\n",
    "    selfish_power = 0\r\n",
    "    for s in selfish:\r\n",
    "        selfish_power+=s.miningPower\r\n",
    "        print(s.name, bc.checkMiner(s))\r\n",
    "        print(\"Fraction {}\".format(bc.checkMiner(s) /longest_chain.height ))\r\n",
    "    total = selfish_power\r\n",
    "    for m in miners:\r\n",
    "        total += m.miningPower\r\n",
    "    print(\"alpha {}\".format(selfish_power / total))\r\n",
    "    for m in miners:    \r\n",
    "        print(m.name ,m.reward)\r\n",
    "    for s in selfish:    \r\n",
    "        print(s.name ,s.reward)\r\n",
    "        "
   ],
   "outputs": [],
   "metadata": {}
  },
  {
   "cell_type": "code",
   "execution_count": 266,
   "source": [
    "import matplotlib.pyplot as plt\r\n",
    "from matplotlib import colors\r\n",
    "# show(bc)\r\n",
    "# miner_rewards_avg = [0]*20\r\n",
    "# miner_names_avg = []\r\n",
    "# for i in range(10):\r\n",
    "#     bc, m, s = run(num_miners=20, num_blocks=1000)\r\n",
    "    # for mi in range(0,len(m)):\r\n",
    "        # print(miner_rewards_avg,\"avg\")\r\n",
    "        # print(m[mi])\r\n",
    "        # miner_rewards_avg[mi] += m[mi].reward\r\n",
    "# miner_rewards_avg[:] = [x / 10 for x in miner_rewards_avg]\r\n",
    "    \r\n",
    "# bc, m, s = run(num_miners=20, num_blocks=1000)\r\n",
    "\r\n",
    "# miner_rewards = []\r\n",
    "# for miners in m:\r\n",
    "#     miner_rewards.append((miners.reward))\r\n",
    "# miner_names = [\"m\"+ str(i) for i, _ in enumerate(miner_rewards_avg)]\r\n",
    "# plt.bar(miner_names,miner_rewards_avg)\r\n",
    "#Need this for testing later :))"
   ],
   "outputs": [],
   "metadata": {
    "colab": {
     "base_uri": "https://localhost:8080/",
     "height": 710
    },
    "id": "kna594Z_3mYa",
    "outputId": "5547e5db-ed7a-4e59-a4d0-597ee98f89f7"
   }
  },
  {
   "cell_type": "code",
   "execution_count": 269,
   "source": [
    "def getRewards(miners):\r\n",
    "    miner_rewards = []\r\n",
    "    for m in miners:\r\n",
    "        miner_rewards.append(m.reward)\r\n",
    "    miner_names = [\"m\"+ str(i) for i, _ in enumerate(miner_rewards)]\r\n",
    "    return miner_names, miner_rewards"
   ],
   "outputs": [],
   "metadata": {}
  },
  {
   "cell_type": "markdown",
   "source": [
    "### Baseline\r\n",
    "\r\n",
    "To begin with we ran the blockchain with 20 different miners and 1000 blocks mined in total. This was done 10 times and we normalised the rewards for each miner and plotted it. This showed us that all the miners had _about_ the same amount of reward when mining for a long time, on many blocks. We can now conclude that the blockchain is somewhat fair, because same amount of mining power roughly equals same reward. We also did this with a single miner that 3X the mining power of the other nodes to see if there were any difference."
   ],
   "metadata": {}
  },
  {
   "cell_type": "code",
   "execution_count": null,
   "source": [
    "bcbig, mbig, sbig = run(num_miners=20, num_blocks=1000)"
   ],
   "outputs": [],
   "metadata": {}
  },
  {
   "cell_type": "code",
   "execution_count": 271,
   "source": [
    "miner_rewards_avg = [0]*21\r\n",
    "for i in range(10):\r\n",
    "    bc, m, s = run(num_miners=20, num_blocks=1000, miners=[30])\r\n",
    "    _, rewards = getRewards(m)\r\n",
    "    for mi in range(len(m)):\r\n",
    "        # print(mi, len(miner_rewards_avg),len(m))\r\n",
    "        miner_rewards_avg[mi] += m[mi].reward \r\n",
    "miner_rewards_avg[:] = [x / 10 for x in miner_rewards_avg]\r\n",
    "miner_names = [\"m\"+ str(i) for i, _ in enumerate(miner_rewards_avg)]\r\n",
    "plt.bar(miner_names,miner_rewards_avg)\r\n"
   ],
   "outputs": [
    {
     "output_type": "stream",
     "name": "stdout",
     "text": [
      "0 20 21\n",
      "1 20 21\n",
      "2 20 21\n",
      "3 20 21\n",
      "4 20 21\n",
      "5 20 21\n",
      "6 20 21\n",
      "7 20 21\n",
      "8 20 21\n",
      "9 20 21\n",
      "10 20 21\n",
      "11 20 21\n",
      "12 20 21\n",
      "13 20 21\n",
      "14 20 21\n",
      "15 20 21\n",
      "16 20 21\n",
      "17 20 21\n",
      "18 20 21\n",
      "19 20 21\n",
      "20 20 21\n"
     ]
    },
    {
     "output_type": "error",
     "ename": "IndexError",
     "evalue": "list index out of range",
     "traceback": [
      "\u001b[1;31m---------------------------------------------------------------------------\u001b[0m",
      "\u001b[1;31mIndexError\u001b[0m                                Traceback (most recent call last)",
      "\u001b[1;32m~\\AppData\\Local\\Temp/ipykernel_11376/1908811785.py\u001b[0m in \u001b[0;36m<module>\u001b[1;34m\u001b[0m\n\u001b[0;32m      5\u001b[0m     \u001b[1;32mfor\u001b[0m \u001b[0mmi\u001b[0m \u001b[1;32min\u001b[0m \u001b[0mrange\u001b[0m\u001b[1;33m(\u001b[0m\u001b[0mlen\u001b[0m\u001b[1;33m(\u001b[0m\u001b[0mm\u001b[0m\u001b[1;33m)\u001b[0m\u001b[1;33m)\u001b[0m\u001b[1;33m:\u001b[0m\u001b[1;33m\u001b[0m\u001b[1;33m\u001b[0m\u001b[0m\n\u001b[0;32m      6\u001b[0m         \u001b[0mprint\u001b[0m\u001b[1;33m(\u001b[0m\u001b[0mmi\u001b[0m\u001b[1;33m,\u001b[0m \u001b[0mlen\u001b[0m\u001b[1;33m(\u001b[0m\u001b[0mminer_rewards_avg\u001b[0m\u001b[1;33m)\u001b[0m\u001b[1;33m,\u001b[0m\u001b[0mlen\u001b[0m\u001b[1;33m(\u001b[0m\u001b[0mm\u001b[0m\u001b[1;33m)\u001b[0m\u001b[1;33m)\u001b[0m\u001b[1;33m\u001b[0m\u001b[1;33m\u001b[0m\u001b[0m\n\u001b[1;32m----> 7\u001b[1;33m         \u001b[0mminer_rewards_avg\u001b[0m\u001b[1;33m[\u001b[0m\u001b[0mmi\u001b[0m\u001b[1;33m]\u001b[0m \u001b[1;33m+=\u001b[0m \u001b[0mm\u001b[0m\u001b[1;33m[\u001b[0m\u001b[0mmi\u001b[0m\u001b[1;33m]\u001b[0m\u001b[1;33m.\u001b[0m\u001b[0mreward\u001b[0m\u001b[1;33m\u001b[0m\u001b[1;33m\u001b[0m\u001b[0m\n\u001b[0m\u001b[0;32m      8\u001b[0m \u001b[0mminer_rewards_avg\u001b[0m\u001b[1;33m[\u001b[0m\u001b[1;33m:\u001b[0m\u001b[1;33m]\u001b[0m \u001b[1;33m=\u001b[0m \u001b[1;33m[\u001b[0m\u001b[0mx\u001b[0m \u001b[1;33m/\u001b[0m \u001b[1;36m10\u001b[0m \u001b[1;32mfor\u001b[0m \u001b[0mx\u001b[0m \u001b[1;32min\u001b[0m \u001b[0mminer_rewards_avg\u001b[0m\u001b[1;33m]\u001b[0m\u001b[1;33m\u001b[0m\u001b[1;33m\u001b[0m\u001b[0m\n\u001b[0;32m      9\u001b[0m \u001b[0mminer_names\u001b[0m \u001b[1;33m=\u001b[0m \u001b[1;33m[\u001b[0m\u001b[1;34m\"m\"\u001b[0m\u001b[1;33m+\u001b[0m \u001b[0mstr\u001b[0m\u001b[1;33m(\u001b[0m\u001b[0mi\u001b[0m\u001b[1;33m)\u001b[0m \u001b[1;32mfor\u001b[0m \u001b[0mi\u001b[0m\u001b[1;33m,\u001b[0m \u001b[0m_\u001b[0m \u001b[1;32min\u001b[0m \u001b[0menumerate\u001b[0m\u001b[1;33m(\u001b[0m\u001b[0mminer_rewards_avg\u001b[0m\u001b[1;33m)\u001b[0m\u001b[1;33m]\u001b[0m\u001b[1;33m\u001b[0m\u001b[1;33m\u001b[0m\u001b[0m\n",
      "\u001b[1;31mIndexError\u001b[0m: list index out of range"
     ]
    }
   ],
   "metadata": {}
  },
  {
   "cell_type": "code",
   "execution_count": 268,
   "source": [
    "liste = bc.forks()\r\n",
    "print(liste)\r\n",
    "print(\"number of forks: \", len(liste))\r\n",
    "show(bc)\r\n",
    "miner_rewards = []\r\n",
    "for miners in m:\r\n",
    "    miner_rewards.append((miners.reward))\r\n",
    "miner_names = [\"m\"+ str(i) for i, _ in enumerate(miner_rewards)]\r\n",
    "plt.bar(miner_names,miner_rewards)"
   ],
   "outputs": [
    {
     "output_type": "stream",
     "name": "stdout",
     "text": [
      "[1, 2, 1, 1, 1, 1, 1, 1, 1, 2, 1, 1, 1, 2, 2, 1, 1]\n",
      "number of forks:  17\n"
     ]
    },
    {
     "output_type": "display_data",
     "data": {
      "text/html": [
       "<svg height=\"2070\" width=\"9085\"><defs><marker id=\"markerArrow\" markerWidth=\"10\" markerHeight=\"10\" refX=\"2\" refY=\"6\" orient=\"auto\"><path d=\"M2,2 L2,11 L10,6 L2,2\" style=\"fill: #000000;\" /> </marker> </defs><g><rect x=\"30\" y=\"30\" width=\"60\" height=\"60\" stroke=\"black\" stroke-width=\"1\" fill=\"#AEF751\" /><text x=\"60\" y=\"60\" dominant-baseline=\"middle\" text-anchor=\"middle\" font-family=\"Verdana\" font-size=\"10\" font-weight=\"bold\" fill=\"black\">0</text></g><g><rect x=\"130\" y=\"30\" width=\"60\" height=\"60\" stroke=\"black\" stroke-width=\"1\" fill=\"#7EDBF6\" /><text x=\"160\" y=\"60\" dominant-baseline=\"middle\" text-anchor=\"middle\" font-family=\"Verdana\" font-size=\"10\" font-weight=\"bold\" fill=\"black\">m4</text><line stroke-width=\"1px\" stroke=\"#000000\"  x1=130 y1=\"60\" x2=\"95\" y2=\"60\" style=\"marker-end: url(#markerArrow)\"/></g><g><rect x=\"230\" y=\"30\" width=\"60\" height=\"60\" stroke=\"black\" stroke-width=\"1\" fill=\"#7EDBF6\" /><text x=\"260\" y=\"60\" dominant-baseline=\"middle\" text-anchor=\"middle\" font-family=\"Verdana\" font-size=\"10\" font-weight=\"bold\" fill=\"black\">m8</text><line stroke-width=\"1px\" stroke=\"#000000\"  x1=230 y1=\"60\" x2=\"195\" y2=\"60\" style=\"marker-end: url(#markerArrow)\"/></g><g><rect x=\"330\" y=\"30\" width=\"60\" height=\"60\" stroke=\"black\" stroke-width=\"1\" fill=\"#7EDBF6\" /><text x=\"360\" y=\"60\" dominant-baseline=\"middle\" text-anchor=\"middle\" font-family=\"Verdana\" font-size=\"10\" font-weight=\"bold\" fill=\"black\">m37</text><line stroke-width=\"1px\" stroke=\"#000000\"  x1=330 y1=\"60\" x2=\"295\" y2=\"60\" style=\"marker-end: url(#markerArrow)\"/></g><g><rect x=\"430\" y=\"30\" width=\"60\" height=\"60\" stroke=\"black\" stroke-width=\"1\" fill=\"#7EDBF6\" /><text x=\"460\" y=\"60\" dominant-baseline=\"middle\" text-anchor=\"middle\" font-family=\"Verdana\" font-size=\"10\" font-weight=\"bold\" fill=\"black\">m33</text><line stroke-width=\"1px\" stroke=\"#000000\"  x1=430 y1=\"60\" x2=\"395\" y2=\"60\" style=\"marker-end: url(#markerArrow)\"/></g><g><rect x=\"530\" y=\"30\" width=\"60\" height=\"60\" stroke=\"black\" stroke-width=\"1\" fill=\"#7EDBF6\" /><text x=\"560\" y=\"60\" dominant-baseline=\"middle\" text-anchor=\"middle\" font-family=\"Verdana\" font-size=\"10\" font-weight=\"bold\" fill=\"black\">m32</text><line stroke-width=\"1px\" stroke=\"#000000\"  x1=530 y1=\"60\" x2=\"495\" y2=\"60\" style=\"marker-end: url(#markerArrow)\"/></g><g><rect x=\"630\" y=\"30\" width=\"60\" height=\"60\" stroke=\"black\" stroke-width=\"1\" fill=\"#7EDBF6\" /><text x=\"660\" y=\"60\" dominant-baseline=\"middle\" text-anchor=\"middle\" font-family=\"Verdana\" font-size=\"10\" font-weight=\"bold\" fill=\"black\">m2</text><line stroke-width=\"1px\" stroke=\"#000000\"  x1=630 y1=\"60\" x2=\"595\" y2=\"60\" style=\"marker-end: url(#markerArrow)\"/></g><g><rect x=\"730\" y=\"30\" width=\"60\" height=\"60\" stroke=\"black\" stroke-width=\"1\" fill=\"#7EDBF6\" /><text x=\"760\" y=\"60\" dominant-baseline=\"middle\" text-anchor=\"middle\" font-family=\"Verdana\" font-size=\"10\" font-weight=\"bold\" fill=\"black\">m14</text><line stroke-width=\"1px\" stroke=\"#000000\"  x1=730 y1=\"60\" x2=\"695\" y2=\"60\" style=\"marker-end: url(#markerArrow)\"/></g><g><rect x=\"830\" y=\"30\" width=\"60\" height=\"60\" stroke=\"black\" stroke-width=\"1\" fill=\"#7EDBF6\" /><text x=\"860\" y=\"60\" dominant-baseline=\"middle\" text-anchor=\"middle\" font-family=\"Verdana\" font-size=\"10\" font-weight=\"bold\" fill=\"black\">m29</text><line stroke-width=\"1px\" stroke=\"#000000\"  x1=830 y1=\"60\" x2=\"795\" y2=\"60\" style=\"marker-end: url(#markerArrow)\"/></g><g><rect x=\"930\" y=\"30\" width=\"60\" height=\"60\" stroke=\"black\" stroke-width=\"1\" fill=\"#7EDBF6\" /><text x=\"960\" y=\"60\" dominant-baseline=\"middle\" text-anchor=\"middle\" font-family=\"Verdana\" font-size=\"10\" font-weight=\"bold\" fill=\"black\">m6</text><line stroke-width=\"1px\" stroke=\"#000000\"  x1=930 y1=\"60\" x2=\"895\" y2=\"60\" style=\"marker-end: url(#markerArrow)\"/></g><g><rect x=\"1030\" y=\"30\" width=\"60\" height=\"60\" stroke=\"black\" stroke-width=\"1\" fill=\"#7EDBF6\" /><text x=\"1060\" y=\"60\" dominant-baseline=\"middle\" text-anchor=\"middle\" font-family=\"Verdana\" font-size=\"10\" font-weight=\"bold\" fill=\"black\">m29</text><line stroke-width=\"1px\" stroke=\"#000000\"  x1=1030 y1=\"60\" x2=\"995\" y2=\"60\" style=\"marker-end: url(#markerArrow)\"/></g><g><rect x=\"1130\" y=\"30\" width=\"60\" height=\"60\" stroke=\"black\" stroke-width=\"1\" fill=\"#7EDBF6\" /><text x=\"1160\" y=\"60\" dominant-baseline=\"middle\" text-anchor=\"middle\" font-family=\"Verdana\" font-size=\"10\" font-weight=\"bold\" fill=\"black\">m37</text><line stroke-width=\"1px\" stroke=\"#000000\"  x1=1130 y1=\"60\" x2=\"1095\" y2=\"60\" style=\"marker-end: url(#markerArrow)\"/></g><g><rect x=\"1230\" y=\"30\" width=\"60\" height=\"60\" stroke=\"black\" stroke-width=\"1\" fill=\"#7EDBF6\" /><text x=\"1260\" y=\"60\" dominant-baseline=\"middle\" text-anchor=\"middle\" font-family=\"Verdana\" font-size=\"10\" font-weight=\"bold\" fill=\"black\">m11</text><line stroke-width=\"1px\" stroke=\"#000000\"  x1=1230 y1=\"60\" x2=\"1195\" y2=\"60\" style=\"marker-end: url(#markerArrow)\"/></g><g><rect x=\"1330\" y=\"30\" width=\"60\" height=\"60\" stroke=\"black\" stroke-width=\"1\" fill=\"#7EDBF6\" /><text x=\"1360\" y=\"60\" dominant-baseline=\"middle\" text-anchor=\"middle\" font-family=\"Verdana\" font-size=\"10\" font-weight=\"bold\" fill=\"black\">m11</text><line stroke-width=\"1px\" stroke=\"#000000\"  x1=1330 y1=\"60\" x2=\"1295\" y2=\"60\" style=\"marker-end: url(#markerArrow)\"/></g><g><rect x=\"1430\" y=\"30\" width=\"60\" height=\"60\" stroke=\"black\" stroke-width=\"1\" fill=\"#7EDBF6\" /><text x=\"1460\" y=\"60\" dominant-baseline=\"middle\" text-anchor=\"middle\" font-family=\"Verdana\" font-size=\"10\" font-weight=\"bold\" fill=\"black\">m37</text><line stroke-width=\"1px\" stroke=\"#000000\"  x1=1430 y1=\"60\" x2=\"1395\" y2=\"60\" style=\"marker-end: url(#markerArrow)\"/></g><g><rect x=\"1530\" y=\"30\" width=\"60\" height=\"60\" stroke=\"black\" stroke-width=\"1\" fill=\"#7EDBF6\" /><text x=\"1560\" y=\"60\" dominant-baseline=\"middle\" text-anchor=\"middle\" font-family=\"Verdana\" font-size=\"10\" font-weight=\"bold\" fill=\"black\">m26</text><line stroke-width=\"1px\" stroke=\"#000000\"  x1=1530 y1=\"60\" x2=\"1495\" y2=\"60\" style=\"marker-end: url(#markerArrow)\"/></g><g><rect x=\"1630\" y=\"30\" width=\"60\" height=\"60\" stroke=\"black\" stroke-width=\"1\" fill=\"#7EDBF6\" /><text x=\"1660\" y=\"60\" dominant-baseline=\"middle\" text-anchor=\"middle\" font-family=\"Verdana\" font-size=\"10\" font-weight=\"bold\" fill=\"black\">m29</text><line stroke-width=\"1px\" stroke=\"#000000\"  x1=1630 y1=\"60\" x2=\"1595\" y2=\"60\" style=\"marker-end: url(#markerArrow)\"/></g><g><rect x=\"1730\" y=\"30\" width=\"60\" height=\"60\" stroke=\"black\" stroke-width=\"1\" fill=\"#7EDBF6\" /><text x=\"1760\" y=\"60\" dominant-baseline=\"middle\" text-anchor=\"middle\" font-family=\"Verdana\" font-size=\"10\" font-weight=\"bold\" fill=\"black\">m25</text><line stroke-width=\"1px\" stroke=\"#000000\"  x1=1730 y1=\"60\" x2=\"1695\" y2=\"60\" style=\"marker-end: url(#markerArrow)\"/></g><g><rect x=\"1830\" y=\"30\" width=\"60\" height=\"60\" stroke=\"black\" stroke-width=\"1\" fill=\"#7EDBF6\" /><text x=\"1860\" y=\"60\" dominant-baseline=\"middle\" text-anchor=\"middle\" font-family=\"Verdana\" font-size=\"10\" font-weight=\"bold\" fill=\"black\">m10</text><line stroke-width=\"1px\" stroke=\"#000000\"  x1=1830 y1=\"60\" x2=\"1795\" y2=\"60\" style=\"marker-end: url(#markerArrow)\"/></g><g><rect x=\"1930\" y=\"30\" width=\"60\" height=\"60\" stroke=\"black\" stroke-width=\"1\" fill=\"#7EDBF6\" /><text x=\"1960\" y=\"60\" dominant-baseline=\"middle\" text-anchor=\"middle\" font-family=\"Verdana\" font-size=\"10\" font-weight=\"bold\" fill=\"black\">m4</text><line stroke-width=\"1px\" stroke=\"#000000\"  x1=1930 y1=\"60\" x2=\"1895\" y2=\"60\" style=\"marker-end: url(#markerArrow)\"/></g><g><rect x=\"2030\" y=\"30\" width=\"60\" height=\"60\" stroke=\"black\" stroke-width=\"1\" fill=\"#7EDBF6\" /><text x=\"2060\" y=\"60\" dominant-baseline=\"middle\" text-anchor=\"middle\" font-family=\"Verdana\" font-size=\"10\" font-weight=\"bold\" fill=\"black\">m4</text><line stroke-width=\"1px\" stroke=\"#000000\"  x1=2030 y1=\"60\" x2=\"1995\" y2=\"60\" style=\"marker-end: url(#markerArrow)\"/></g><g><rect x=\"2130\" y=\"30\" width=\"60\" height=\"60\" stroke=\"black\" stroke-width=\"1\" fill=\"#F59AEE\" /><text x=\"2160\" y=\"60\" dominant-baseline=\"middle\" text-anchor=\"middle\" font-family=\"Verdana\" font-size=\"10\" font-weight=\"bold\" fill=\"black\">s0</text><line stroke-width=\"1px\" stroke=\"#000000\"  x1=2130 y1=\"60\" x2=\"2095\" y2=\"60\" style=\"marker-end: url(#markerArrow)\"/></g><g><rect x=\"2230\" y=\"30\" width=\"60\" height=\"60\" stroke=\"black\" stroke-width=\"1\" fill=\"#7EDBF6\" /><text x=\"2260\" y=\"60\" dominant-baseline=\"middle\" text-anchor=\"middle\" font-family=\"Verdana\" font-size=\"10\" font-weight=\"bold\" fill=\"black\">m12</text><line stroke-width=\"1px\" stroke=\"#000000\"  x1=2230 y1=\"60\" x2=\"2195\" y2=\"60\" style=\"marker-end: url(#markerArrow)\"/></g><g><rect x=\"2330\" y=\"30\" width=\"60\" height=\"60\" stroke=\"black\" stroke-width=\"1\" fill=\"#7EDBF6\" /><text x=\"2360\" y=\"60\" dominant-baseline=\"middle\" text-anchor=\"middle\" font-family=\"Verdana\" font-size=\"10\" font-weight=\"bold\" fill=\"black\">m18</text><line stroke-width=\"1px\" stroke=\"#000000\"  x1=2330 y1=\"60\" x2=\"2295\" y2=\"60\" style=\"marker-end: url(#markerArrow)\"/></g><g><rect x=\"2430\" y=\"30\" width=\"60\" height=\"60\" stroke=\"black\" stroke-width=\"1\" fill=\"#7EDBF6\" /><text x=\"2460\" y=\"60\" dominant-baseline=\"middle\" text-anchor=\"middle\" font-family=\"Verdana\" font-size=\"10\" font-weight=\"bold\" fill=\"black\">m5</text><line stroke-width=\"1px\" stroke=\"#000000\"  x1=2430 y1=\"60\" x2=\"2395\" y2=\"60\" style=\"marker-end: url(#markerArrow)\"/></g><g><rect x=\"2530\" y=\"30\" width=\"60\" height=\"60\" stroke=\"black\" stroke-width=\"1\" fill=\"#7EDBF6\" /><text x=\"2560\" y=\"60\" dominant-baseline=\"middle\" text-anchor=\"middle\" font-family=\"Verdana\" font-size=\"10\" font-weight=\"bold\" fill=\"black\">m5</text><line stroke-width=\"1px\" stroke=\"#000000\"  x1=2530 y1=\"60\" x2=\"2495\" y2=\"60\" style=\"marker-end: url(#markerArrow)\"/></g><g><rect x=\"2630\" y=\"30\" width=\"60\" height=\"60\" stroke=\"black\" stroke-width=\"1\" fill=\"#7EDBF6\" /><text x=\"2660\" y=\"60\" dominant-baseline=\"middle\" text-anchor=\"middle\" font-family=\"Verdana\" font-size=\"10\" font-weight=\"bold\" fill=\"black\">m21</text><line stroke-width=\"1px\" stroke=\"#000000\"  x1=2630 y1=\"60\" x2=\"2595\" y2=\"60\" style=\"marker-end: url(#markerArrow)\"/></g><g><rect x=\"2730\" y=\"30\" width=\"60\" height=\"60\" stroke=\"black\" stroke-width=\"1\" fill=\"#7EDBF6\" /><text x=\"2760\" y=\"60\" dominant-baseline=\"middle\" text-anchor=\"middle\" font-family=\"Verdana\" font-size=\"10\" font-weight=\"bold\" fill=\"black\">m22</text><line stroke-width=\"1px\" stroke=\"#000000\"  x1=2730 y1=\"60\" x2=\"2695\" y2=\"60\" style=\"marker-end: url(#markerArrow)\"/></g><g><rect x=\"2830\" y=\"30\" width=\"60\" height=\"60\" stroke=\"black\" stroke-width=\"1\" fill=\"#7EDBF6\" /><text x=\"2860\" y=\"60\" dominant-baseline=\"middle\" text-anchor=\"middle\" font-family=\"Verdana\" font-size=\"10\" font-weight=\"bold\" fill=\"black\">m21</text><line stroke-width=\"1px\" stroke=\"#000000\"  x1=2830 y1=\"60\" x2=\"2795\" y2=\"60\" style=\"marker-end: url(#markerArrow)\"/></g><g><rect x=\"2930\" y=\"30\" width=\"60\" height=\"60\" stroke=\"black\" stroke-width=\"1\" fill=\"#7EDBF6\" /><text x=\"2960\" y=\"60\" dominant-baseline=\"middle\" text-anchor=\"middle\" font-family=\"Verdana\" font-size=\"10\" font-weight=\"bold\" fill=\"black\">m11</text><line stroke-width=\"1px\" stroke=\"#000000\"  x1=2930 y1=\"60\" x2=\"2895\" y2=\"60\" style=\"marker-end: url(#markerArrow)\"/></g><g><rect x=\"3030\" y=\"30\" width=\"60\" height=\"60\" stroke=\"black\" stroke-width=\"1\" fill=\"#7EDBF6\" /><text x=\"3060\" y=\"60\" dominant-baseline=\"middle\" text-anchor=\"middle\" font-family=\"Verdana\" font-size=\"10\" font-weight=\"bold\" fill=\"black\">m34</text><line stroke-width=\"1px\" stroke=\"#000000\"  x1=3030 y1=\"60\" x2=\"2995\" y2=\"60\" style=\"marker-end: url(#markerArrow)\"/></g><g><rect x=\"3130\" y=\"30\" width=\"60\" height=\"60\" stroke=\"black\" stroke-width=\"1\" fill=\"#7EDBF6\" /><text x=\"3160\" y=\"60\" dominant-baseline=\"middle\" text-anchor=\"middle\" font-family=\"Verdana\" font-size=\"10\" font-weight=\"bold\" fill=\"black\">m22</text><line stroke-width=\"1px\" stroke=\"#000000\"  x1=3130 y1=\"60\" x2=\"3095\" y2=\"60\" style=\"marker-end: url(#markerArrow)\"/></g><g><rect x=\"3230\" y=\"30\" width=\"60\" height=\"60\" stroke=\"black\" stroke-width=\"1\" fill=\"#7EDBF6\" /><text x=\"3260\" y=\"60\" dominant-baseline=\"middle\" text-anchor=\"middle\" font-family=\"Verdana\" font-size=\"10\" font-weight=\"bold\" fill=\"black\">m2</text><line stroke-width=\"1px\" stroke=\"#000000\"  x1=3230 y1=\"60\" x2=\"3195\" y2=\"60\" style=\"marker-end: url(#markerArrow)\"/></g><g><rect x=\"3330\" y=\"30\" width=\"60\" height=\"60\" stroke=\"black\" stroke-width=\"1\" fill=\"#7EDBF6\" /><text x=\"3360\" y=\"60\" dominant-baseline=\"middle\" text-anchor=\"middle\" font-family=\"Verdana\" font-size=\"10\" font-weight=\"bold\" fill=\"black\">m17</text><line stroke-width=\"1px\" stroke=\"#000000\"  x1=3330 y1=\"60\" x2=\"3295\" y2=\"60\" style=\"marker-end: url(#markerArrow)\"/></g><g><rect x=\"3430\" y=\"30\" width=\"60\" height=\"60\" stroke=\"black\" stroke-width=\"1\" fill=\"#7EDBF6\" /><text x=\"3460\" y=\"60\" dominant-baseline=\"middle\" text-anchor=\"middle\" font-family=\"Verdana\" font-size=\"10\" font-weight=\"bold\" fill=\"black\">m2</text><line stroke-width=\"1px\" stroke=\"#000000\"  x1=3430 y1=\"60\" x2=\"3395\" y2=\"60\" style=\"marker-end: url(#markerArrow)\"/></g><g><rect x=\"3530\" y=\"30\" width=\"60\" height=\"60\" stroke=\"black\" stroke-width=\"1\" fill=\"#7EDBF6\" /><text x=\"3560\" y=\"60\" dominant-baseline=\"middle\" text-anchor=\"middle\" font-family=\"Verdana\" font-size=\"10\" font-weight=\"bold\" fill=\"black\">m22</text><line stroke-width=\"1px\" stroke=\"#000000\"  x1=3530 y1=\"60\" x2=\"3495\" y2=\"60\" style=\"marker-end: url(#markerArrow)\"/></g><g><rect x=\"3630\" y=\"30\" width=\"60\" height=\"60\" stroke=\"black\" stroke-width=\"1\" fill=\"#7EDBF6\" /><text x=\"3660\" y=\"60\" dominant-baseline=\"middle\" text-anchor=\"middle\" font-family=\"Verdana\" font-size=\"10\" font-weight=\"bold\" fill=\"black\">m30</text><line stroke-width=\"1px\" stroke=\"#000000\"  x1=3630 y1=\"60\" x2=\"3595\" y2=\"60\" style=\"marker-end: url(#markerArrow)\"/></g><g><rect x=\"3730\" y=\"30\" width=\"60\" height=\"60\" stroke=\"black\" stroke-width=\"1\" fill=\"#7EDBF6\" /><text x=\"3760\" y=\"60\" dominant-baseline=\"middle\" text-anchor=\"middle\" font-family=\"Verdana\" font-size=\"10\" font-weight=\"bold\" fill=\"black\">m27</text><line stroke-width=\"1px\" stroke=\"#000000\"  x1=3730 y1=\"60\" x2=\"3695\" y2=\"60\" style=\"marker-end: url(#markerArrow)\"/></g><g><rect x=\"3830\" y=\"30\" width=\"60\" height=\"60\" stroke=\"black\" stroke-width=\"1\" fill=\"#7EDBF6\" /><text x=\"3860\" y=\"60\" dominant-baseline=\"middle\" text-anchor=\"middle\" font-family=\"Verdana\" font-size=\"10\" font-weight=\"bold\" fill=\"black\">m14</text><line stroke-width=\"1px\" stroke=\"#000000\"  x1=3830 y1=\"60\" x2=\"3795\" y2=\"60\" style=\"marker-end: url(#markerArrow)\"/></g><g><rect x=\"3930\" y=\"30\" width=\"60\" height=\"60\" stroke=\"black\" stroke-width=\"1\" fill=\"#7EDBF6\" /><text x=\"3960\" y=\"60\" dominant-baseline=\"middle\" text-anchor=\"middle\" font-family=\"Verdana\" font-size=\"10\" font-weight=\"bold\" fill=\"black\">m23</text><line stroke-width=\"1px\" stroke=\"#000000\"  x1=3930 y1=\"60\" x2=\"3895\" y2=\"60\" style=\"marker-end: url(#markerArrow)\"/></g><g><rect x=\"4030\" y=\"30\" width=\"60\" height=\"60\" stroke=\"black\" stroke-width=\"1\" fill=\"#7EDBF6\" /><text x=\"4060\" y=\"60\" dominant-baseline=\"middle\" text-anchor=\"middle\" font-family=\"Verdana\" font-size=\"10\" font-weight=\"bold\" fill=\"black\">m7</text><line stroke-width=\"1px\" stroke=\"#000000\"  x1=4030 y1=\"60\" x2=\"3995\" y2=\"60\" style=\"marker-end: url(#markerArrow)\"/></g><g><rect x=\"4130\" y=\"30\" width=\"60\" height=\"60\" stroke=\"black\" stroke-width=\"1\" fill=\"#7EDBF6\" /><text x=\"4160\" y=\"60\" dominant-baseline=\"middle\" text-anchor=\"middle\" font-family=\"Verdana\" font-size=\"10\" font-weight=\"bold\" fill=\"black\">m0</text><line stroke-width=\"1px\" stroke=\"#000000\"  x1=4130 y1=\"60\" x2=\"4095\" y2=\"60\" style=\"marker-end: url(#markerArrow)\"/></g><g><rect x=\"4230\" y=\"30\" width=\"60\" height=\"60\" stroke=\"black\" stroke-width=\"1\" fill=\"#7EDBF6\" /><text x=\"4260\" y=\"60\" dominant-baseline=\"middle\" text-anchor=\"middle\" font-family=\"Verdana\" font-size=\"10\" font-weight=\"bold\" fill=\"black\">m6</text><line stroke-width=\"1px\" stroke=\"#000000\"  x1=4230 y1=\"60\" x2=\"4195\" y2=\"60\" style=\"marker-end: url(#markerArrow)\"/></g><g><rect x=\"4330\" y=\"30\" width=\"60\" height=\"60\" stroke=\"black\" stroke-width=\"1\" fill=\"#7EDBF6\" /><text x=\"4360\" y=\"60\" dominant-baseline=\"middle\" text-anchor=\"middle\" font-family=\"Verdana\" font-size=\"10\" font-weight=\"bold\" fill=\"black\">m0</text><line stroke-width=\"1px\" stroke=\"#000000\"  x1=4330 y1=\"60\" x2=\"4295\" y2=\"60\" style=\"marker-end: url(#markerArrow)\"/></g><g><rect x=\"4430\" y=\"30\" width=\"60\" height=\"60\" stroke=\"black\" stroke-width=\"1\" fill=\"#7EDBF6\" /><text x=\"4460\" y=\"60\" dominant-baseline=\"middle\" text-anchor=\"middle\" font-family=\"Verdana\" font-size=\"10\" font-weight=\"bold\" fill=\"black\">m25</text><line stroke-width=\"1px\" stroke=\"#000000\"  x1=4430 y1=\"60\" x2=\"4395\" y2=\"60\" style=\"marker-end: url(#markerArrow)\"/></g><g><rect x=\"4530\" y=\"30\" width=\"60\" height=\"60\" stroke=\"black\" stroke-width=\"1\" fill=\"#7EDBF6\" /><text x=\"4560\" y=\"60\" dominant-baseline=\"middle\" text-anchor=\"middle\" font-family=\"Verdana\" font-size=\"10\" font-weight=\"bold\" fill=\"black\">m3</text><line stroke-width=\"1px\" stroke=\"#000000\"  x1=4530 y1=\"60\" x2=\"4495\" y2=\"60\" style=\"marker-end: url(#markerArrow)\"/></g><g><rect x=\"4630\" y=\"30\" width=\"60\" height=\"60\" stroke=\"black\" stroke-width=\"1\" fill=\"#7EDBF6\" /><text x=\"4660\" y=\"60\" dominant-baseline=\"middle\" text-anchor=\"middle\" font-family=\"Verdana\" font-size=\"10\" font-weight=\"bold\" fill=\"black\">m16</text><line stroke-width=\"1px\" stroke=\"#000000\"  x1=4630 y1=\"60\" x2=\"4595\" y2=\"60\" style=\"marker-end: url(#markerArrow)\"/></g><g><rect x=\"4730\" y=\"30\" width=\"60\" height=\"60\" stroke=\"black\" stroke-width=\"1\" fill=\"#7EDBF6\" /><text x=\"4760\" y=\"60\" dominant-baseline=\"middle\" text-anchor=\"middle\" font-family=\"Verdana\" font-size=\"10\" font-weight=\"bold\" fill=\"black\">m17</text><line stroke-width=\"1px\" stroke=\"#000000\"  x1=4730 y1=\"60\" x2=\"4695\" y2=\"60\" style=\"marker-end: url(#markerArrow)\"/></g><g><rect x=\"4830\" y=\"30\" width=\"60\" height=\"60\" stroke=\"black\" stroke-width=\"1\" fill=\"#7EDBF6\" /><text x=\"4860\" y=\"60\" dominant-baseline=\"middle\" text-anchor=\"middle\" font-family=\"Verdana\" font-size=\"10\" font-weight=\"bold\" fill=\"black\">m28</text><line stroke-width=\"1px\" stroke=\"#000000\"  x1=4830 y1=\"60\" x2=\"4795\" y2=\"60\" style=\"marker-end: url(#markerArrow)\"/></g><g><rect x=\"4930\" y=\"30\" width=\"60\" height=\"60\" stroke=\"black\" stroke-width=\"1\" fill=\"#7EDBF6\" /><text x=\"4960\" y=\"60\" dominant-baseline=\"middle\" text-anchor=\"middle\" font-family=\"Verdana\" font-size=\"10\" font-weight=\"bold\" fill=\"black\">m15</text><line stroke-width=\"1px\" stroke=\"#000000\"  x1=4930 y1=\"60\" x2=\"4895\" y2=\"60\" style=\"marker-end: url(#markerArrow)\"/></g><g><rect x=\"5030\" y=\"30\" width=\"60\" height=\"60\" stroke=\"black\" stroke-width=\"1\" fill=\"#7EDBF6\" /><text x=\"5060\" y=\"60\" dominant-baseline=\"middle\" text-anchor=\"middle\" font-family=\"Verdana\" font-size=\"10\" font-weight=\"bold\" fill=\"black\">m34</text><line stroke-width=\"1px\" stroke=\"#000000\"  x1=5030 y1=\"60\" x2=\"4995\" y2=\"60\" style=\"marker-end: url(#markerArrow)\"/></g><g><rect x=\"5130\" y=\"30\" width=\"60\" height=\"60\" stroke=\"black\" stroke-width=\"1\" fill=\"#7EDBF6\" /><text x=\"5160\" y=\"60\" dominant-baseline=\"middle\" text-anchor=\"middle\" font-family=\"Verdana\" font-size=\"10\" font-weight=\"bold\" fill=\"black\">m20</text><line stroke-width=\"1px\" stroke=\"#000000\"  x1=5130 y1=\"60\" x2=\"5095\" y2=\"60\" style=\"marker-end: url(#markerArrow)\"/></g><g><rect x=\"5230\" y=\"30\" width=\"60\" height=\"60\" stroke=\"black\" stroke-width=\"1\" fill=\"#7EDBF6\" /><text x=\"5260\" y=\"60\" dominant-baseline=\"middle\" text-anchor=\"middle\" font-family=\"Verdana\" font-size=\"10\" font-weight=\"bold\" fill=\"black\">m15</text><line stroke-width=\"1px\" stroke=\"#000000\"  x1=5230 y1=\"60\" x2=\"5195\" y2=\"60\" style=\"marker-end: url(#markerArrow)\"/></g><g><rect x=\"5330\" y=\"30\" width=\"60\" height=\"60\" stroke=\"black\" stroke-width=\"1\" fill=\"#7EDBF6\" /><text x=\"5360\" y=\"60\" dominant-baseline=\"middle\" text-anchor=\"middle\" font-family=\"Verdana\" font-size=\"10\" font-weight=\"bold\" fill=\"black\">m36</text><line stroke-width=\"1px\" stroke=\"#000000\"  x1=5330 y1=\"60\" x2=\"5295\" y2=\"60\" style=\"marker-end: url(#markerArrow)\"/></g><g><rect x=\"5430\" y=\"30\" width=\"60\" height=\"60\" stroke=\"black\" stroke-width=\"1\" fill=\"#7EDBF6\" /><text x=\"5460\" y=\"60\" dominant-baseline=\"middle\" text-anchor=\"middle\" font-family=\"Verdana\" font-size=\"10\" font-weight=\"bold\" fill=\"black\">m21</text><line stroke-width=\"1px\" stroke=\"#000000\"  x1=5430 y1=\"60\" x2=\"5395\" y2=\"60\" style=\"marker-end: url(#markerArrow)\"/></g><g><rect x=\"5530\" y=\"30\" width=\"60\" height=\"60\" stroke=\"black\" stroke-width=\"1\" fill=\"#7EDBF6\" /><text x=\"5560\" y=\"60\" dominant-baseline=\"middle\" text-anchor=\"middle\" font-family=\"Verdana\" font-size=\"10\" font-weight=\"bold\" fill=\"black\">m8</text><line stroke-width=\"1px\" stroke=\"#000000\"  x1=5530 y1=\"60\" x2=\"5495\" y2=\"60\" style=\"marker-end: url(#markerArrow)\"/></g><g><rect x=\"5630\" y=\"30\" width=\"60\" height=\"60\" stroke=\"black\" stroke-width=\"1\" fill=\"#7EDBF6\" /><text x=\"5660\" y=\"60\" dominant-baseline=\"middle\" text-anchor=\"middle\" font-family=\"Verdana\" font-size=\"10\" font-weight=\"bold\" fill=\"black\">m13</text><line stroke-width=\"1px\" stroke=\"#000000\"  x1=5630 y1=\"60\" x2=\"5595\" y2=\"60\" style=\"marker-end: url(#markerArrow)\"/></g><g><rect x=\"5730\" y=\"30\" width=\"60\" height=\"60\" stroke=\"black\" stroke-width=\"1\" fill=\"#7EDBF6\" /><text x=\"5760\" y=\"60\" dominant-baseline=\"middle\" text-anchor=\"middle\" font-family=\"Verdana\" font-size=\"10\" font-weight=\"bold\" fill=\"black\">m37</text><line stroke-width=\"1px\" stroke=\"#000000\"  x1=5730 y1=\"60\" x2=\"5695\" y2=\"60\" style=\"marker-end: url(#markerArrow)\"/></g><g><rect x=\"5830\" y=\"30\" width=\"60\" height=\"60\" stroke=\"black\" stroke-width=\"1\" fill=\"#7EDBF6\" /><text x=\"5860\" y=\"60\" dominant-baseline=\"middle\" text-anchor=\"middle\" font-family=\"Verdana\" font-size=\"10\" font-weight=\"bold\" fill=\"black\">m26</text><line stroke-width=\"1px\" stroke=\"#000000\"  x1=5830 y1=\"60\" x2=\"5795\" y2=\"60\" style=\"marker-end: url(#markerArrow)\"/></g><g><rect x=\"5930\" y=\"30\" width=\"60\" height=\"60\" stroke=\"black\" stroke-width=\"1\" fill=\"#7EDBF6\" /><text x=\"5960\" y=\"60\" dominant-baseline=\"middle\" text-anchor=\"middle\" font-family=\"Verdana\" font-size=\"10\" font-weight=\"bold\" fill=\"black\">m7</text><line stroke-width=\"1px\" stroke=\"#000000\"  x1=5930 y1=\"60\" x2=\"5895\" y2=\"60\" style=\"marker-end: url(#markerArrow)\"/></g><g><rect x=\"6030\" y=\"30\" width=\"60\" height=\"60\" stroke=\"black\" stroke-width=\"1\" fill=\"#7EDBF6\" /><text x=\"6060\" y=\"60\" dominant-baseline=\"middle\" text-anchor=\"middle\" font-family=\"Verdana\" font-size=\"10\" font-weight=\"bold\" fill=\"black\">m5</text><line stroke-width=\"1px\" stroke=\"#000000\"  x1=6030 y1=\"60\" x2=\"5995\" y2=\"60\" style=\"marker-end: url(#markerArrow)\"/></g><g><rect x=\"6130\" y=\"30\" width=\"60\" height=\"60\" stroke=\"black\" stroke-width=\"1\" fill=\"#7EDBF6\" /><text x=\"6160\" y=\"60\" dominant-baseline=\"middle\" text-anchor=\"middle\" font-family=\"Verdana\" font-size=\"10\" font-weight=\"bold\" fill=\"black\">m8</text><line stroke-width=\"1px\" stroke=\"#000000\"  x1=6130 y1=\"60\" x2=\"6095\" y2=\"60\" style=\"marker-end: url(#markerArrow)\"/></g><g><rect x=\"6230\" y=\"30\" width=\"60\" height=\"60\" stroke=\"black\" stroke-width=\"1\" fill=\"#7EDBF6\" /><text x=\"6260\" y=\"60\" dominant-baseline=\"middle\" text-anchor=\"middle\" font-family=\"Verdana\" font-size=\"10\" font-weight=\"bold\" fill=\"black\">m0</text><line stroke-width=\"1px\" stroke=\"#000000\"  x1=6230 y1=\"60\" x2=\"6195\" y2=\"60\" style=\"marker-end: url(#markerArrow)\"/></g><g><rect x=\"6330\" y=\"30\" width=\"60\" height=\"60\" stroke=\"black\" stroke-width=\"1\" fill=\"#7EDBF6\" /><text x=\"6360\" y=\"60\" dominant-baseline=\"middle\" text-anchor=\"middle\" font-family=\"Verdana\" font-size=\"10\" font-weight=\"bold\" fill=\"black\">m35</text><line stroke-width=\"1px\" stroke=\"#000000\"  x1=6330 y1=\"60\" x2=\"6295\" y2=\"60\" style=\"marker-end: url(#markerArrow)\"/></g><g><rect x=\"6430\" y=\"30\" width=\"60\" height=\"60\" stroke=\"black\" stroke-width=\"1\" fill=\"#7EDBF6\" /><text x=\"6460\" y=\"60\" dominant-baseline=\"middle\" text-anchor=\"middle\" font-family=\"Verdana\" font-size=\"10\" font-weight=\"bold\" fill=\"black\">m5</text><line stroke-width=\"1px\" stroke=\"#000000\"  x1=6430 y1=\"60\" x2=\"6395\" y2=\"60\" style=\"marker-end: url(#markerArrow)\"/></g><g><rect x=\"6530\" y=\"30\" width=\"60\" height=\"60\" stroke=\"black\" stroke-width=\"1\" fill=\"#7EDBF6\" /><text x=\"6560\" y=\"60\" dominant-baseline=\"middle\" text-anchor=\"middle\" font-family=\"Verdana\" font-size=\"10\" font-weight=\"bold\" fill=\"black\">m23</text><line stroke-width=\"1px\" stroke=\"#000000\"  x1=6530 y1=\"60\" x2=\"6495\" y2=\"60\" style=\"marker-end: url(#markerArrow)\"/></g><g><rect x=\"6630\" y=\"30\" width=\"60\" height=\"60\" stroke=\"black\" stroke-width=\"1\" fill=\"#7EDBF6\" /><text x=\"6660\" y=\"60\" dominant-baseline=\"middle\" text-anchor=\"middle\" font-family=\"Verdana\" font-size=\"10\" font-weight=\"bold\" fill=\"black\">m18</text><line stroke-width=\"1px\" stroke=\"#000000\"  x1=6630 y1=\"60\" x2=\"6595\" y2=\"60\" style=\"marker-end: url(#markerArrow)\"/></g><g><rect x=\"6730\" y=\"30\" width=\"60\" height=\"60\" stroke=\"black\" stroke-width=\"1\" fill=\"#7EDBF6\" /><text x=\"6760\" y=\"60\" dominant-baseline=\"middle\" text-anchor=\"middle\" font-family=\"Verdana\" font-size=\"10\" font-weight=\"bold\" fill=\"black\">m9</text><line stroke-width=\"1px\" stroke=\"#000000\"  x1=6730 y1=\"60\" x2=\"6695\" y2=\"60\" style=\"marker-end: url(#markerArrow)\"/></g><g><rect x=\"6830\" y=\"30\" width=\"60\" height=\"60\" stroke=\"black\" stroke-width=\"1\" fill=\"#7EDBF6\" /><text x=\"6860\" y=\"60\" dominant-baseline=\"middle\" text-anchor=\"middle\" font-family=\"Verdana\" font-size=\"10\" font-weight=\"bold\" fill=\"black\">m9</text><line stroke-width=\"1px\" stroke=\"#000000\"  x1=6830 y1=\"60\" x2=\"6795\" y2=\"60\" style=\"marker-end: url(#markerArrow)\"/></g><g><rect x=\"6930\" y=\"30\" width=\"60\" height=\"60\" stroke=\"black\" stroke-width=\"1\" fill=\"#7EDBF6\" /><text x=\"6960\" y=\"60\" dominant-baseline=\"middle\" text-anchor=\"middle\" font-family=\"Verdana\" font-size=\"10\" font-weight=\"bold\" fill=\"black\">m33</text><line stroke-width=\"1px\" stroke=\"#000000\"  x1=6930 y1=\"60\" x2=\"6895\" y2=\"60\" style=\"marker-end: url(#markerArrow)\"/></g><g><rect x=\"7030\" y=\"30\" width=\"60\" height=\"60\" stroke=\"black\" stroke-width=\"1\" fill=\"#7EDBF6\" /><text x=\"7060\" y=\"60\" dominant-baseline=\"middle\" text-anchor=\"middle\" font-family=\"Verdana\" font-size=\"10\" font-weight=\"bold\" fill=\"black\">m0</text><line stroke-width=\"1px\" stroke=\"#000000\"  x1=7030 y1=\"60\" x2=\"6995\" y2=\"60\" style=\"marker-end: url(#markerArrow)\"/></g><g><rect x=\"7130\" y=\"30\" width=\"60\" height=\"60\" stroke=\"black\" stroke-width=\"1\" fill=\"#7EDBF6\" /><text x=\"7160\" y=\"60\" dominant-baseline=\"middle\" text-anchor=\"middle\" font-family=\"Verdana\" font-size=\"10\" font-weight=\"bold\" fill=\"black\">m19</text><line stroke-width=\"1px\" stroke=\"#000000\"  x1=7130 y1=\"60\" x2=\"7095\" y2=\"60\" style=\"marker-end: url(#markerArrow)\"/></g><g><rect x=\"7230\" y=\"30\" width=\"60\" height=\"60\" stroke=\"black\" stroke-width=\"1\" fill=\"#7EDBF6\" /><text x=\"7260\" y=\"60\" dominant-baseline=\"middle\" text-anchor=\"middle\" font-family=\"Verdana\" font-size=\"10\" font-weight=\"bold\" fill=\"black\">m15</text><line stroke-width=\"1px\" stroke=\"#000000\"  x1=7230 y1=\"60\" x2=\"7195\" y2=\"60\" style=\"marker-end: url(#markerArrow)\"/></g><g><rect x=\"7330\" y=\"30\" width=\"60\" height=\"60\" stroke=\"black\" stroke-width=\"1\" fill=\"#7EDBF6\" /><text x=\"7360\" y=\"60\" dominant-baseline=\"middle\" text-anchor=\"middle\" font-family=\"Verdana\" font-size=\"10\" font-weight=\"bold\" fill=\"black\">m30</text><line stroke-width=\"1px\" stroke=\"#000000\"  x1=7330 y1=\"60\" x2=\"7295\" y2=\"60\" style=\"marker-end: url(#markerArrow)\"/></g><g><rect x=\"7430\" y=\"30\" width=\"60\" height=\"60\" stroke=\"black\" stroke-width=\"1\" fill=\"#7EDBF6\" /><text x=\"7460\" y=\"60\" dominant-baseline=\"middle\" text-anchor=\"middle\" font-family=\"Verdana\" font-size=\"10\" font-weight=\"bold\" fill=\"black\">m24</text><line stroke-width=\"1px\" stroke=\"#000000\"  x1=7430 y1=\"60\" x2=\"7395\" y2=\"60\" style=\"marker-end: url(#markerArrow)\"/></g><g><rect x=\"7530\" y=\"30\" width=\"60\" height=\"60\" stroke=\"black\" stroke-width=\"1\" fill=\"#7EDBF6\" /><text x=\"7560\" y=\"60\" dominant-baseline=\"middle\" text-anchor=\"middle\" font-family=\"Verdana\" font-size=\"10\" font-weight=\"bold\" fill=\"black\">m38</text><line stroke-width=\"1px\" stroke=\"#000000\"  x1=7530 y1=\"60\" x2=\"7495\" y2=\"60\" style=\"marker-end: url(#markerArrow)\"/></g><g><rect x=\"7630\" y=\"30\" width=\"60\" height=\"60\" stroke=\"black\" stroke-width=\"1\" fill=\"#7EDBF6\" /><text x=\"7660\" y=\"60\" dominant-baseline=\"middle\" text-anchor=\"middle\" font-family=\"Verdana\" font-size=\"10\" font-weight=\"bold\" fill=\"black\">m25</text><line stroke-width=\"1px\" stroke=\"#000000\"  x1=7630 y1=\"60\" x2=\"7595\" y2=\"60\" style=\"marker-end: url(#markerArrow)\"/></g><g><rect x=\"7730\" y=\"30\" width=\"60\" height=\"60\" stroke=\"black\" stroke-width=\"1\" fill=\"#7EDBF6\" /><text x=\"7760\" y=\"60\" dominant-baseline=\"middle\" text-anchor=\"middle\" font-family=\"Verdana\" font-size=\"10\" font-weight=\"bold\" fill=\"black\">m20</text><line stroke-width=\"1px\" stroke=\"#000000\"  x1=7730 y1=\"60\" x2=\"7695\" y2=\"60\" style=\"marker-end: url(#markerArrow)\"/></g><g><rect x=\"7830\" y=\"30\" width=\"60\" height=\"60\" stroke=\"black\" stroke-width=\"1\" fill=\"#7EDBF6\" /><text x=\"7860\" y=\"60\" dominant-baseline=\"middle\" text-anchor=\"middle\" font-family=\"Verdana\" font-size=\"10\" font-weight=\"bold\" fill=\"black\">m28</text><line stroke-width=\"1px\" stroke=\"#000000\"  x1=7830 y1=\"60\" x2=\"7795\" y2=\"60\" style=\"marker-end: url(#markerArrow)\"/></g><g><rect x=\"7930\" y=\"30\" width=\"60\" height=\"60\" stroke=\"black\" stroke-width=\"1\" fill=\"#7EDBF6\" /><text x=\"7960\" y=\"60\" dominant-baseline=\"middle\" text-anchor=\"middle\" font-family=\"Verdana\" font-size=\"10\" font-weight=\"bold\" fill=\"black\">m28</text><line stroke-width=\"1px\" stroke=\"#000000\"  x1=7930 y1=\"60\" x2=\"7895\" y2=\"60\" style=\"marker-end: url(#markerArrow)\"/></g><g><rect x=\"7030\" y=\"130\" width=\"60\" height=\"60\" stroke=\"black\" stroke-width=\"1\" fill=\"#7EDBF6\" /><text x=\"7060\" y=\"160\" dominant-baseline=\"middle\" text-anchor=\"middle\" font-family=\"Verdana\" font-size=\"10\" font-weight=\"bold\" fill=\"black\">m5</text><line stroke-width=\"1px\" stroke=\"#000000\"  x1=7030 y1=\"160\" x2=\"6965\" y2=\"95\" style=\"marker-end: url(#markerArrow)\"/></g><g><rect x=\"6430\" y=\"230\" width=\"60\" height=\"60\" stroke=\"black\" stroke-width=\"1\" fill=\"#7EDBF6\" /><text x=\"6460\" y=\"260\" dominant-baseline=\"middle\" text-anchor=\"middle\" font-family=\"Verdana\" font-size=\"10\" font-weight=\"bold\" fill=\"black\">m6</text><line stroke-width=\"1px\" stroke=\"#000000\"  x1=6430 y1=\"260\" x2=\"6365\" y2=\"95\" style=\"marker-end: url(#markerArrow)\"/></g><g><rect x=\"6530\" y=\"230\" width=\"60\" height=\"60\" stroke=\"black\" stroke-width=\"1\" fill=\"#7EDBF6\" /><text x=\"6560\" y=\"260\" dominant-baseline=\"middle\" text-anchor=\"middle\" font-family=\"Verdana\" font-size=\"10\" font-weight=\"bold\" fill=\"black\">m17</text><line stroke-width=\"1px\" stroke=\"#000000\"  x1=6530 y1=\"260\" x2=\"6495\" y2=\"260\" style=\"marker-end: url(#markerArrow)\"/></g><g><rect x=\"6430\" y=\"330\" width=\"60\" height=\"60\" stroke=\"black\" stroke-width=\"1\" fill=\"#7EDBF6\" /><text x=\"6460\" y=\"360\" dominant-baseline=\"middle\" text-anchor=\"middle\" font-family=\"Verdana\" font-size=\"10\" font-weight=\"bold\" fill=\"black\">m7</text><line stroke-width=\"1px\" stroke=\"#000000\"  x1=6430 y1=\"360\" x2=\"6365\" y2=\"95\" style=\"marker-end: url(#markerArrow)\"/></g><g><rect x=\"6430\" y=\"430\" width=\"60\" height=\"60\" stroke=\"black\" stroke-width=\"1\" fill=\"#7EDBF6\" /><text x=\"6460\" y=\"460\" dominant-baseline=\"middle\" text-anchor=\"middle\" font-family=\"Verdana\" font-size=\"10\" font-weight=\"bold\" fill=\"black\">m15</text><line stroke-width=\"1px\" stroke=\"#000000\"  x1=6430 y1=\"460\" x2=\"6365\" y2=\"95\" style=\"marker-end: url(#markerArrow)\"/></g><g><rect x=\"6130\" y=\"530\" width=\"60\" height=\"60\" stroke=\"black\" stroke-width=\"1\" fill=\"#7EDBF6\" /><text x=\"6160\" y=\"560\" dominant-baseline=\"middle\" text-anchor=\"middle\" font-family=\"Verdana\" font-size=\"10\" font-weight=\"bold\" fill=\"black\">m7</text><line stroke-width=\"1px\" stroke=\"#000000\"  x1=6130 y1=\"560\" x2=\"6065\" y2=\"95\" style=\"marker-end: url(#markerArrow)\"/></g><g><rect x=\"5830\" y=\"630\" width=\"60\" height=\"60\" stroke=\"black\" stroke-width=\"1\" fill=\"#F59AEE\" /><text x=\"5860\" y=\"660\" dominant-baseline=\"middle\" text-anchor=\"middle\" font-family=\"Verdana\" font-size=\"10\" font-weight=\"bold\" fill=\"black\">s0</text><line stroke-width=\"1px\" stroke=\"#000000\"  x1=5830 y1=\"660\" x2=\"5765\" y2=\"95\" style=\"marker-end: url(#markerArrow)\"/></g><g><rect x=\"4530\" y=\"730\" width=\"60\" height=\"60\" stroke=\"black\" stroke-width=\"1\" fill=\"#7EDBF6\" /><text x=\"4560\" y=\"760\" dominant-baseline=\"middle\" text-anchor=\"middle\" font-family=\"Verdana\" font-size=\"10\" font-weight=\"bold\" fill=\"black\">m23</text><line stroke-width=\"1px\" stroke=\"#000000\"  x1=4530 y1=\"760\" x2=\"4465\" y2=\"95\" style=\"marker-end: url(#markerArrow)\"/></g><g><rect x=\"4130\" y=\"830\" width=\"60\" height=\"60\" stroke=\"black\" stroke-width=\"1\" fill=\"#7EDBF6\" /><text x=\"4160\" y=\"860\" dominant-baseline=\"middle\" text-anchor=\"middle\" font-family=\"Verdana\" font-size=\"10\" font-weight=\"bold\" fill=\"black\">m26</text><line stroke-width=\"1px\" stroke=\"#000000\"  x1=4130 y1=\"860\" x2=\"4065\" y2=\"95\" style=\"marker-end: url(#markerArrow)\"/></g><g><rect x=\"3930\" y=\"930\" width=\"60\" height=\"60\" stroke=\"black\" stroke-width=\"1\" fill=\"#7EDBF6\" /><text x=\"3960\" y=\"960\" dominant-baseline=\"middle\" text-anchor=\"middle\" font-family=\"Verdana\" font-size=\"10\" font-weight=\"bold\" fill=\"black\">m38</text><line stroke-width=\"1px\" stroke=\"#000000\"  x1=3930 y1=\"960\" x2=\"3865\" y2=\"95\" style=\"marker-end: url(#markerArrow)\"/></g><g><rect x=\"3030\" y=\"1030\" width=\"60\" height=\"60\" stroke=\"black\" stroke-width=\"1\" fill=\"#7EDBF6\" /><text x=\"3060\" y=\"1060\" dominant-baseline=\"middle\" text-anchor=\"middle\" font-family=\"Verdana\" font-size=\"10\" font-weight=\"bold\" fill=\"black\">m6</text><line stroke-width=\"1px\" stroke=\"#000000\"  x1=3030 y1=\"1060\" x2=\"2965\" y2=\"95\" style=\"marker-end: url(#markerArrow)\"/></g><g><rect x=\"3130\" y=\"1030\" width=\"60\" height=\"60\" stroke=\"black\" stroke-width=\"1\" fill=\"#7EDBF6\" /><text x=\"3160\" y=\"1060\" dominant-baseline=\"middle\" text-anchor=\"middle\" font-family=\"Verdana\" font-size=\"10\" font-weight=\"bold\" fill=\"black\">m35</text><line stroke-width=\"1px\" stroke=\"#000000\"  x1=3130 y1=\"1060\" x2=\"3095\" y2=\"1060\" style=\"marker-end: url(#markerArrow)\"/></g><g><rect x=\"2630\" y=\"1130\" width=\"60\" height=\"60\" stroke=\"black\" stroke-width=\"1\" fill=\"#7EDBF6\" /><text x=\"2660\" y=\"1160\" dominant-baseline=\"middle\" text-anchor=\"middle\" font-family=\"Verdana\" font-size=\"10\" font-weight=\"bold\" fill=\"black\">m16</text><line stroke-width=\"1px\" stroke=\"#000000\"  x1=2630 y1=\"1160\" x2=\"2565\" y2=\"95\" style=\"marker-end: url(#markerArrow)\"/></g><g><rect x=\"2430\" y=\"1230\" width=\"60\" height=\"60\" stroke=\"black\" stroke-width=\"1\" fill=\"#7EDBF6\" /><text x=\"2460\" y=\"1260\" dominant-baseline=\"middle\" text-anchor=\"middle\" font-family=\"Verdana\" font-size=\"10\" font-weight=\"bold\" fill=\"black\">m23</text><line stroke-width=\"1px\" stroke=\"#000000\"  x1=2430 y1=\"1260\" x2=\"2365\" y2=\"95\" style=\"marker-end: url(#markerArrow)\"/></g><g><rect x=\"2130\" y=\"1330\" width=\"60\" height=\"60\" stroke=\"black\" stroke-width=\"1\" fill=\"#7EDBF6\" /><text x=\"2160\" y=\"1360\" dominant-baseline=\"middle\" text-anchor=\"middle\" font-family=\"Verdana\" font-size=\"10\" font-weight=\"bold\" fill=\"black\">m14</text><line stroke-width=\"1px\" stroke=\"#000000\"  x1=2130 y1=\"1360\" x2=\"2065\" y2=\"95\" style=\"marker-end: url(#markerArrow)\"/></g><g><rect x=\"2230\" y=\"1330\" width=\"60\" height=\"60\" stroke=\"black\" stroke-width=\"1\" fill=\"#7EDBF6\" /><text x=\"2260\" y=\"1360\" dominant-baseline=\"middle\" text-anchor=\"middle\" font-family=\"Verdana\" font-size=\"10\" font-weight=\"bold\" fill=\"black\">m35</text><line stroke-width=\"1px\" stroke=\"#000000\"  x1=2230 y1=\"1360\" x2=\"2195\" y2=\"1360\" style=\"marker-end: url(#markerArrow)\"/></g><g><rect x=\"2130\" y=\"1430\" width=\"60\" height=\"60\" stroke=\"black\" stroke-width=\"1\" fill=\"#7EDBF6\" /><text x=\"2160\" y=\"1460\" dominant-baseline=\"middle\" text-anchor=\"middle\" font-family=\"Verdana\" font-size=\"10\" font-weight=\"bold\" fill=\"black\">m9</text><line stroke-width=\"1px\" stroke=\"#000000\"  x1=2130 y1=\"1460\" x2=\"2065\" y2=\"95\" style=\"marker-end: url(#markerArrow)\"/></g><g><rect x=\"1430\" y=\"1530\" width=\"60\" height=\"60\" stroke=\"black\" stroke-width=\"1\" fill=\"#7EDBF6\" /><text x=\"1460\" y=\"1560\" dominant-baseline=\"middle\" text-anchor=\"middle\" font-family=\"Verdana\" font-size=\"10\" font-weight=\"bold\" fill=\"black\">m24</text><line stroke-width=\"1px\" stroke=\"#000000\"  x1=1430 y1=\"1560\" x2=\"1365\" y2=\"95\" style=\"marker-end: url(#markerArrow)\"/></g><g><rect x=\"1530\" y=\"1530\" width=\"60\" height=\"60\" stroke=\"black\" stroke-width=\"1\" fill=\"#7EDBF6\" /><text x=\"1560\" y=\"1560\" dominant-baseline=\"middle\" text-anchor=\"middle\" font-family=\"Verdana\" font-size=\"10\" font-weight=\"bold\" fill=\"black\">m24</text><line stroke-width=\"1px\" stroke=\"#000000\"  x1=1530 y1=\"1560\" x2=\"1495\" y2=\"1560\" style=\"marker-end: url(#markerArrow)\"/></g><g><rect x=\"930\" y=\"1630\" width=\"60\" height=\"60\" stroke=\"black\" stroke-width=\"1\" fill=\"#7EDBF6\" /><text x=\"960\" y=\"1660\" dominant-baseline=\"middle\" text-anchor=\"middle\" font-family=\"Verdana\" font-size=\"10\" font-weight=\"bold\" fill=\"black\">m9</text><line stroke-width=\"1px\" stroke=\"#000000\"  x1=930 y1=\"1660\" x2=\"865\" y2=\"95\" style=\"marker-end: url(#markerArrow)\"/></g><g><rect x=\"330\" y=\"1730\" width=\"60\" height=\"60\" stroke=\"black\" stroke-width=\"1\" fill=\"#7EDBF6\" /><text x=\"360\" y=\"1760\" dominant-baseline=\"middle\" text-anchor=\"middle\" font-family=\"Verdana\" font-size=\"10\" font-weight=\"bold\" fill=\"black\">m17</text><line stroke-width=\"1px\" stroke=\"#000000\"  x1=330 y1=\"1760\" x2=\"265\" y2=\"95\" style=\"marker-end: url(#markerArrow)\"/></g></svg>"
      ],
      "text/plain": [
       "<IPython.core.display.HTML object>"
      ]
     },
     "metadata": {}
    },
    {
     "output_type": "execute_result",
     "data": {
      "text/plain": [
       "<BarContainer object of 41 artists>"
      ]
     },
     "metadata": {},
     "execution_count": 268
    },
    {
     "output_type": "display_data",
     "data": {
      "image/png": "[encoded data removed]",
      "text/plain": [
       "<Figure size 432x288 with 1 Axes>"
      ]
     },
     "metadata": {
      "needs_background": "light"
     }
    }
   ],
   "metadata": {}
  }
 ],
 "metadata": {
  "colab": {
   "collapsed_sections": [],
   "name": "lecture5_Attacks.ipynb",
   "provenance": []
  },
  "kernelspec": {
   "name": "python3",
   "display_name": "Python 3.9.7 64-bit (windows store)"
  },
  "language_info": {
   "name": "python",
   "version": "3.9.7",
   "mimetype": "text/x-python",
   "codemirror_mode": {
    "name": "ipython",
    "version": 3
   },
   "pygments_lexer": "ipython3",
   "nbconvert_exporter": "python",
   "file_extension": ".py"
  },
  "interpreter": {
   "hash": "2e5f00c86f82e8626bcf438a22bf019644939299f8b9f90a74399eb4e5a788c5"
  }
 },
 "nbformat": 4,
 "nbformat_minor": 5
}