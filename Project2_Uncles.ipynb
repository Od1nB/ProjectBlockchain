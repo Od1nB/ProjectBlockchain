{
 "cells": [
  {
   "cell_type": "markdown",
   "metadata": {},
   "source": [
    "# Project 2: Uncles and Uncles Rewards\n",
    "- Model a Blockchain that uses uncles and uncle rewards\n",
    "- Model rewarding mechanism to reward uncle block creators\n",
    "- Model selfish mining (only one attacker) in this blockchain\n",
    "\n",
    "Try to answer the following questions with your experiment:\n",
    "1. How do uncles improve the fairness of the blockchain? For this, you should compare the outcome of miners with and without uncles.\n",
    "2. What is the impact of uncles on selfish mining? Is selfish mining more profitable with uncles?\n",
    "3. What does it mean in this model for the selfish mining attack to be profitable?\n",
    "\n",
    " Since more miners will get rewards for mining, even if they don't finish a block that is part of the longest chain, they will be rewarded for it. So the time and energy used for that block will not be as wasted, and it seems more rewarding to mine. Show net money with and without uncle rewards to display point. The concept of it is for fairness, but may encourage selfish mining. "
   ]
  },
  {
   "cell_type": "markdown",
   "metadata": {},
   "source": [
    "### Imports"
   ]
  },
  {
   "cell_type": "code",
   "execution_count": 317,
   "metadata": {
    "colab": {
     "base_uri": "https://localhost:8080/"
    },
    "id": "ef05ce3c",
    "outputId": "935d959b-21d0-4d92-bae9-3e8c72e8ae1c"
   },
   "outputs": [],
   "source": [
    "#Import statements\n",
    "from draw_blockchain import show\n",
    "import hashlib as hasher\n",
    "import random\n",
    "import numpy as np\n",
    "import matplotlib.pyplot as plt\n",
    "from matplotlib import colors\n",
    "from dataclasses import dataclass\n",
    "import functools\n",
    "import operator\n",
    "import pandas as pd"
   ]
  },
  {
   "cell_type": "markdown",
   "metadata": {},
   "source": [
    "### Hash function"
   ]
  },
  {
   "cell_type": "code",
   "execution_count": 318,
   "metadata": {},
   "outputs": [],
   "source": [
    "def hashbits(input):\n",
    "    hash_obj = hasher.sha256()\n",
    "    inputbytes = input.encode()\n",
    "    hash_obj.update(inputbytes)\n",
    "    hashbytes = hash_obj.digest()\n",
    "    return ''.join(f'{x:08b}' for x in hashbytes)\n",
    "\n",
    "def hash(input):\n",
    "    hash_obj = hasher.sha256()\n",
    "    inputbytes = input.encode()\n",
    "    #print(type(inputbytes))\n",
    "    hash_obj.update(inputbytes)\n",
    "    return hash_obj.hexdigest()\n",
    "\n",
    "def numberOfInitZeros(hashStr):\n",
    "    count = 0\n",
    "    for i in range (0 , len(hashStr)):\n",
    "        if hashStr[i] == '1':\n",
    "            break\n",
    "        count += 1\n",
    "    return count"
   ]
  },
  {
   "cell_type": "markdown",
   "metadata": {},
   "source": [
    "### Block"
   ]
  },
  {
   "cell_type": "code",
   "execution_count": 319,
   "metadata": {},
   "outputs": [],
   "source": [
    "class Block:\n",
    "    def __init__(self, data, creator=None, previous=None, nonce=0, blockchain=None):\n",
    "        self.data = data\n",
    "        if previous is None:\n",
    "            self.previous = None\n",
    "            self.previous_hash = \"\"\n",
    "            self.creator = Miner(0 , \"0\", blockchain, genesis=True)\n",
    "            self.height = 0\n",
    "            self.color = \"#AEF751\"\n",
    "        else:\n",
    "            self.previous = previous\n",
    "            self.previous_hash = previous.hash\n",
    "            self.creator = creator\n",
    "            self.height = previous.height+1\n",
    "            self.color = creator.color\n",
    "        self.nonce = nonce\n",
    "        self.hash = self.hash_block()\n",
    "        self.children = []\n",
    "\n",
    "    def hash_block(self):\n",
    "        return hashbits(self.data + self.creator.name + self.previous_hash + str(self.nonce))\n",
    "\n",
    "    def print(self):\n",
    "        print(self.data + \" \"+ self.creator.name + \" \" + str(self.height))"
   ]
  },
  {
   "cell_type": "markdown",
   "metadata": {
    "id": "ac097c16"
   },
   "source": [
    "### Blockchain"
   ]
  },
  {
   "cell_type": "code",
   "execution_count": 320,
   "metadata": {
    "id": "CDX_Rs4rubpy"
   },
   "outputs": [],
   "source": [
    "class Blockchain:\n",
    "    def __init__(self, genesis_data, difficulty, blockReward=10, static=False):\n",
    "        self.chain = []\n",
    "        self.difficulty = difficulty\n",
    "        self.size = 0\n",
    "        self.block_reward = blockReward\n",
    "        self.uncles = []\n",
    "        self.static = static\n",
    "        self.chain.append(Block(genesis_data, blockchain=self))\n",
    "\n",
    "    def longestChain(self, static=-1):\n",
    "      max = self.chain[0].height\n",
    "      for block in self.chain:\n",
    "          if block.height > max:\n",
    "                max = block.height\n",
    "      maxes = [block for block in self.chain if block.height == max]\n",
    "      static %= len(maxes)\n",
    "      r = maxes[static:static+1] if static >= 0 else random.choices(maxes, k=1)\n",
    "      return r[0]\n",
    "    \n",
    "    def ends_with_fork(self):\n",
    "        max = self.chain[0].height\n",
    "        r = False\n",
    "        for block in self.chain:\n",
    "            if block.height == max: r = True\n",
    "            if block.height > max:\n",
    "                max = block.height\n",
    "                r = False\n",
    "        return r\n",
    "        \n",
    "    def add(self, newBlock):\n",
    "        self.chain.append(newBlock)\n",
    "        newBlock.previous.children.append(newBlock)\n",
    "        self.size +=1\n",
    "        # if self.inlongestChain(newBlock):\n",
    "        #     newBlock.creator.reward += self.block_reward\n",
    "        # else:  \n",
    "        #     self.uncles.append(newBlock)\n",
    "        \n",
    "    def print(self):\n",
    "        for block in self.chain:\n",
    "            block.print()\n",
    "            print(\"________\")\n",
    "\n",
    "    def hasFork(self):\n",
    "        for block1 in self.chain:\n",
    "            for block2 in self.chain:\n",
    "                if block1!=block2 and block1.height == block2.height:\n",
    "                    return True\n",
    "        return False\n",
    "\n",
    "    def checkMiner(self, miner):\n",
    "      last = self.longestChain(miner.static)\n",
    "      count = 0\n",
    "      while last!=None:\n",
    "          if last.creator == miner:\n",
    "                count += 1\n",
    "          last = last.previous\n",
    "      return count\n",
    "    \n",
    "    def inlongestChain(self, block):\n",
    "          last = self.longestChain()\n",
    "          while last!= None:\n",
    "                if last == block: #need more of a check for if fork\n",
    "                        # print(\"last\",last.height,\"block\", block.height)\n",
    "                        return True\n",
    "                last = last.previous\n",
    "          return False\n",
    "          \n",
    "    #Think this one works but not 110% sure yet\n",
    "    def forks(self):\n",
    "        fork_list = []\n",
    "        last = self.longestChain()\n",
    "        while last != None:\n",
    "            # print(last.creator.name)\n",
    "            for child in last.children:\n",
    "                if not self.inlongestChain(child):\n",
    "                    length = 1\n",
    "                    forkblock = child\n",
    "                    while forkblock.children:\n",
    "                        length += 1\n",
    "                        forkblock = forkblock.children[0]\n",
    "                    fork_list.append(length)\n",
    "            last = last.previous\n",
    "        return fork_list\n"
   ]
  },
  {
   "cell_type": "markdown",
   "metadata": {},
   "source": [
    "## Miners"
   ]
  },
  {
   "cell_type": "markdown",
   "metadata": {},
   "source": [
    "### Normal miner"
   ]
  },
  {
   "cell_type": "code",
   "execution_count": 321,
   "metadata": {},
   "outputs": [],
   "source": [
    "class Miner:\n",
    "    def __init__(self, miningPower, name, blockchain=None, genesis=False):\n",
    "        self.miningPower = miningPower\n",
    "        self.nonce = 0 if blockchain.static else random.randint(0,100000) #original one\n",
    "        # self.nonce = 0\n",
    "        self.name = name\n",
    "        self.blockchain = blockchain\n",
    "        self.reward = 0\n",
    "        self.uncle_reward = 0\n",
    "        self.color = \"#7EDBF6\"\n",
    "        self.uncles = 0\n",
    "        self.nephews = 0\n",
    "        self.blocks = 0\n",
    "        self.static = sum([ord(c) for c in name]) if blockchain.static else -1\n",
    "        if self.blockchain != None and not genesis:\n",
    "            self.lastBlock = blockchain.longestChain(static=self.static)\n",
    "    \n",
    "    def UpdateLast(self):\n",
    "        latest = self.blockchain.longestChain(static=self.static)\n",
    "        if latest.height > self.lastBlock.height:\n",
    "              self.lastBlock = latest\n",
    "\n",
    "    def PoWSolver(self):\n",
    "        for i in range (0 , self.miningPower):\n",
    "            newBlock = Block(str(self.blockchain.size), self, self.lastBlock, self.nonce)\n",
    "            h = newBlock.hash_block()\n",
    "            count = numberOfInitZeros(h)\n",
    "            if count >= self.blockchain.difficulty:\n",
    "                self.blockchain.add(newBlock)\n",
    "                self.lastBlock = newBlock\n",
    "            self.nonce += 1\n"
   ]
  },
  {
   "cell_type": "markdown",
   "metadata": {},
   "source": [
    "### Selfish miner"
   ]
  },
  {
   "cell_type": "code",
   "execution_count": 322,
   "metadata": {},
   "outputs": [],
   "source": [
    "\n",
    "class SelfishMiner(Miner):\n",
    "    def __init__(self, miningPower, name, blockchain=None):\n",
    "        super().__init__(miningPower, name, blockchain)\n",
    "        self.privateBlocks = []\n",
    "        self.publishNext = False\n",
    "        self.color = \"#F59AEE\"\n",
    "\n",
    "    def UpdateLast(self):\n",
    "        #add this function\n",
    "        latest = self.blockchain.longestChain()\n",
    "        publicheight = latest.height\n",
    "        if publicheight > self.lastBlock.height:\n",
    "            self.privateBlocks = []\n",
    "            self.lastBlock = latest\n",
    "            self.publishNext = False\n",
    "        if publicheight == self.lastBlock.height-1 and len(self.privateBlocks)> 1:\n",
    "            for block in self.privateBlocks:\n",
    "                self.blockchain.add(block)\n",
    "                self.privateBlocks = []\n",
    "        if publicheight == self.lastBlock.height:\n",
    "            for block in self.privateBlocks:\n",
    "                self.blockchain.add(block)\n",
    "                self.privateBlocks = []\n",
    "                self.publishNext = True\n",
    "\n",
    "    def PoWSolver(self):\n",
    "        #add this function\n",
    "        for i in range (0 , self.miningPower):\n",
    "            newBlock = Block(str(self.blockchain.size), self, self.lastBlock, self.nonce)\n",
    "            h = newBlock.hash_block()\n",
    "            count = numberOfInitZeros(h)\n",
    "            if count >= self.blockchain.difficulty:\n",
    "                if self.publishNext:\n",
    "                    self.blockchain.add(newBlock)\n",
    "                    self.publishNext = False\n",
    "                else:\n",
    "                    self.privateBlocks.append(newBlock)\n",
    "                self.lastBlock = newBlock\n",
    "            self.nonce += 1"
   ]
  },
  {
   "cell_type": "markdown",
   "metadata": {},
   "source": [
    "## Main program"
   ]
  },
  {
   "cell_type": "markdown",
   "metadata": {},
   "source": [
    "### Run function"
   ]
  },
  {
   "cell_type": "code",
   "execution_count": 323,
   "metadata": {},
   "outputs": [],
   "source": [
    "#Main\n",
    "def run(\n",
    "        reward=10, uncle_reward=0, nephew_reward=0,\n",
    "        difficulty=10,\n",
    "        num_miners=10,\n",
    "        num_selfish_miners=0,\n",
    "        mining_power=10,\n",
    "        mining_power_selfish=15,\n",
    "        genesis_data=\"0\",\n",
    "        num_blocks = 30,\n",
    "        miners = [],\n",
    "        static=False\n",
    "    ):\n",
    "    bc = None\n",
    "    bc = Blockchain(genesis_data , difficulty, reward, static)\n",
    "    miners = [Miner(p, \"m\"+ str(i), bc) for i,p in enumerate(miners)]\n",
    "    selfish = []\n",
    "    len_miners = len(miners)\n",
    "    for i in range(num_miners):\n",
    "        miners.append(Miner(mining_power ,\"m\"+str(len_miners+i), bc))\n",
    "    for i in range(num_selfish_miners):\n",
    "        selfish.append(SelfishMiner(mining_power_selfish ,\"s\"+str(i), bc))\n",
    "    while bc.chain[-1].height < num_blocks or bc.ends_with_fork():\n",
    "        for s in selfish:\n",
    "            s.PoWSolver()\n",
    "\n",
    "        for m in miners:\n",
    "            m.PoWSolver()\n",
    "\n",
    "        for s in selfish:\n",
    "            s.UpdateLast()\n",
    "\n",
    "        for m in miners:\n",
    "            m.UpdateLast()\n",
    "    last_block = bc.chain[-1]\n",
    "    while last_block.previous is not None:\n",
    "        last_block.creator.reward += reward\n",
    "        last_block.creator.blocks += 1\n",
    "        if uncle_reward > 0:\n",
    "            grandparent = last_block.previous.previous\n",
    "            if grandparent is not None and len(grandparent.children) > 1:\n",
    "                for uncle in grandparent.children:\n",
    "                    if uncle != last_block.previous:\n",
    "                        uncle.creator.uncle_reward += uncle_reward\n",
    "                        uncle.creator.uncles += 1\n",
    "                        last_block.creator.uncle_reward += nephew_reward\n",
    "                        last_block.creator.nephews += 1\n",
    "        last_block=last_block.previous\n",
    "    return bc, miners, selfish\n",
    "\n",
    "def print_run(bc, miners, selfish):\n",
    "    print(\"Has fork:\", bc.hasFork())\n",
    "    longest_chain = bc.longestChain()\n",
    "    print(\"Longest chain height:\",longest_chain.height)\n",
    "    selfish_power = 0\n",
    "    for s in selfish:\n",
    "        selfish_power+=s.miningPower\n",
    "        print(s.name, bc.checkMiner(s))\n",
    "        print(\"Fraction {}\".format(bc.checkMiner(s) /longest_chain.height ))\n",
    "    total = selfish_power\n",
    "    for m in miners:\n",
    "        total += m.miningPower\n",
    "    print(\"alpha {}\".format(selfish_power / total))\n",
    "    for m in miners:    \n",
    "        print(m.name ,m.reward)\n",
    "    for s in selfish:    \n",
    "        print(s.name ,s.reward)\n",
    "        "
   ]
  },
  {
   "cell_type": "code",
   "execution_count": 324,
   "metadata": {
    "colab": {
     "base_uri": "https://localhost:8080/",
     "height": 710
    },
    "id": "kna594Z_3mYa",
    "outputId": "5547e5db-ed7a-4e59-a4d0-597ee98f89f7"
   },
   "outputs": [],
   "source": [
    "\n",
    "# show(bc)\n",
    "# miner_rewards_avg = [0]*20\n",
    "# miner_names_avg = []\n",
    "# for i in range(10):\n",
    "#     bc, m, s = run(num_miners=20, num_blocks=1000)\n",
    "    # for mi in range(0,len(m)):\n",
    "        # print(miner_rewards_avg,\"avg\")\n",
    "        # print(m[mi])\n",
    "        # miner_rewards_avg[mi] += m[mi].reward\n",
    "# miner_rewards_avg[:] = [x / 10 for x in miner_rewards_avg]\n",
    "    \n",
    "# bc, m, s = run(num_miners=20, num_blocks=1000)\n",
    "\n",
    "# miner_rewards = []\n",
    "# for miners in m:\n",
    "#     miner_rewards.append((miners.reward))\n",
    "# miner_names = [\"m\"+ str(i) for i, _ in enumerate(miner_rewards_avg)]\n",
    "# plt.bar(miner_names,miner_rewards_avg)\n",
    "#Need this for testing later :))"
   ]
  },
  {
   "cell_type": "code",
   "execution_count": 325,
   "metadata": {},
   "outputs": [],
   "source": [
    "# def getRewards(miners):\n",
    "#     miner_rewards = []\n",
    "#     for m in miners:\n",
    "#         miner_rewards.append(m.reward)\n",
    "#     miner_names = [\"m\"+ str(i) for i, _ in enumerate(miner_rewards)]\n",
    "#     return miner_names, miner_rewards\n",
    "\n",
    "\n",
    "@dataclass\n",
    "class Stats:\n",
    "    name: str\n",
    "    reward: int\n",
    "    uncle_reward: int\n",
    "    blocks: int\n",
    "    uncles: int\n",
    "    newphes: int\n",
    "    power: int\n",
    "\n",
    "# Transform irregular 2D list into a regular one.\n",
    "def transform(nested_list):\n",
    "    regular_list = []\n",
    "    for e in nested_list:\n",
    "        if type(e) is list:\n",
    "            regular_list.append(e)\n",
    "        else:\n",
    "            regular_list.append([e])\n",
    "    return functools.reduce(operator.iconcat, regular_list, [])\n",
    "\n",
    "def get_stats(*miners):\n",
    "    if len(miners) == 0:\n",
    "        return []\n",
    "    stats = []\n",
    "    transformed_miners = transform(miners)\n",
    "    \n",
    "    for m in transformed_miners:\n",
    "        stats.append(Stats(\n",
    "            m.name,\n",
    "            m.reward,\n",
    "            m.uncle_reward,\n",
    "            m.blocks,\n",
    "            m.uncles,\n",
    "            m.nephews,\n",
    "            m.miningPower\n",
    "        ))\n",
    "    return pd.DataFrame(stats)"
   ]
  },
  {
   "cell_type": "markdown",
   "metadata": {},
   "source": [
    "### Average function\n",
    "Function to do multiple runs of simulation"
   ]
  },
  {
   "cell_type": "code",
   "execution_count": 326,
   "metadata": {},
   "outputs": [],
   "source": [
    "def getavg(tests, run_func, **kwargs):\n",
    "    args = set(kwargs)\n",
    "    num_nodes = 0\n",
    "    if \"num_blocks\" in kwargs:\n",
    "        miner_args = {\"num_miners\",\"miners\",\"num_selfish_miners\"}.intersection(args)\n",
    "        if miner_args:\n",
    "            for arg in miner_args:\n",
    "                val = kwargs.get(arg)\n",
    "                num_nodes += len(val) if type(val) == list else val\n",
    "        miner_rewards_avg = [0]*num_nodes\n",
    "        miner_rewards_avg_uncles = [0]*num_nodes\n",
    "        for i in range(tests):\n",
    "            bc, m, s = run_func(**kwargs)\n",
    "            # df = get_stats(m,s)\n",
    "            for mi, miner in enumerate(m + s):\n",
    "                miner_rewards_avg[mi] += miner.reward \n",
    "                miner_rewards_avg_uncles[mi] += miner.uncle_reward + miner.reward\n",
    "        miner_rewards_avg[:] = [x / tests for x in miner_rewards_avg]  \n",
    "        miner_rewards_avg_uncles[:] = [x / tests for x in miner_rewards_avg_uncles]  \n",
    "    else:\n",
    "        miner_rewards_avg = []\n",
    "    return miner_rewards_avg, miner_rewards_avg_uncles"
   ]
  },
  {
   "cell_type": "markdown",
   "metadata": {},
   "source": [
    "### Baseline\n",
    "\n",
    "To begin with we ran the blockchain with 20 different miners and 1000 blocks mined in total. This was done 10 times and we normalised the rewards for each miner and plotted it. This showed us that all the miners had _about_ the same amount of reward when mining for a long time, on many blocks. We can now conclude that the blockchain is somewhat fair, because same amount of mining power roughly equals same reward.\n",
    "\n",
    "We also did this with a single miner that had 3X the mining power of the other nodes to see if there were any difference. The miner with 3X mining power got about 3x the reward of a \"_average_\" miner. This also works as intended."
   ]
  },
  {
   "cell_type": "code",
   "execution_count": 327,
   "metadata": {},
   "outputs": [],
   "source": [
    "# # Multiple runs to show normal, uncles, normal big and uncle big\n",
    "miner_names = [\"m\"+ str(i) for i in range(15)]\n",
    "miner_rewards_normal, miner_rewards_uncles = getavg(100,run,num_blocks=100,num_miners=15, uncle_reward=3, nephew_reward=2)\n",
    "miner_rewards_normal_big, miner_rewards_uncles_big = getavg(100,run,num_blocks=100,num_miners=14, uncle_reward=3, nephew_reward=2,miners=[30])"
   ]
  },
  {
   "cell_type": "code",
   "execution_count": 338,
   "metadata": {},
   "outputs": [
    {
     "data": {
      "image/png": "[encoded data removed]",
      "text/plain": [
       "<Figure size 432x288 with 1 Axes>"
      ]
     },
     "metadata": {
      "needs_background": "light"
     },
     "output_type": "display_data"
    },
    {
     "name": "stdout",
     "output_type": "stream",
     "text": [
      "3.740849576707885\n",
      "66.70666666666666\n",
      "3.150667654111849\n",
      "69.1\n"
     ]
    }
   ],
   "source": [
    "\n",
    "width = 0.35\n",
    "xpos = np.arange(len(miner_names))\n",
    "\n",
    "fig, ax = plt.subplots()\n",
    "normal = ax.bar(xpos - width/2,miner_rewards_normal,width, label=\"Normal\")\n",
    "uncles = ax.bar(xpos + width/2,miner_rewards_uncles,width, label=\"Uncles\")\n",
    "\n",
    "ax.set_ylabel(\"Rewards\")\n",
    "ax.set_title(\"Rewards for miners, uncles vs normal\")\n",
    "ax.set_xticks(xpos)\n",
    "ax.set_xticklabels(miner_names)\n",
    "ax.legend()\n",
    "ax.bar_label(normal,padding=3)\n",
    "ax.bar_label(uncles,padding=3)\n",
    "fig.tight_layout()\n",
    "plt.show()\n",
    "\n",
    "print(np.std(miner_rewards_normal))\n",
    "print(np.average(miner_rewards_normal))\n",
    "print(np.std(miner_rewards_uncles))\n",
    "print(np.average(miner_rewards_uncles))"
   ]
  },
  {
   "cell_type": "code",
   "execution_count": 329,
   "metadata": {},
   "outputs": [
    {
     "data": {
      "image/png": "[encoded data removed]",
      "text/plain": [
       "<Figure size 432x288 with 1 Axes>"
      ]
     },
     "metadata": {
      "needs_background": "light"
     },
     "output_type": "display_data"
    }
   ],
   "source": [
    "width = 0.35\n",
    "xpos = np.arange(len(miner_names))\n",
    "\n",
    "fig, ax = plt.subplots()\n",
    "normal = ax.bar(xpos - width/2, miner_rewards_normal_big, width, label=\"Normal\")\n",
    "uncles = ax.bar(xpos + width/2, miner_rewards_uncles_big, width, label=\"Uncles\")\n",
    "\n",
    "ax.set_ylabel(\"Rewards\")\n",
    "ax.set_title(\"Rewards for miners and big, uncles vs normal\")\n",
    "ax.set_xticks(xpos)\n",
    "ax.set_xticklabels(miner_names)\n",
    "ax.legend()\n",
    "ax.bar_label(normal,padding=3)\n",
    "ax.bar_label(uncles,padding=3)\n",
    "fig.tight_layout()\n",
    "plt.show()"
   ]
  },
  {
   "cell_type": "code",
   "execution_count": 330,
   "metadata": {},
   "outputs": [],
   "source": [
    "# print(np.std(miner_rewards_normal))\n",
    "# print(np.average(miner_rewards_normal))\n",
    "# print(sum(miner_rewards_normal))\n",
    "\n",
    "# print(np.std(miner_rewards_uncles))\n",
    "# print(np.average(miner_rewards_uncles))\n",
    "# print(sum(miner_rewards_uncles))\n",
    "# ## Standard deviation for uncles is less than normal bc, aka more \"fair\""
   ]
  },
  {
   "cell_type": "markdown",
   "metadata": {},
   "source": [
    "### Testing unclerewards\n",
    "\n",
    "To test uncle rewards we could employ many different ways of testing fairness, but we chose to do a...? Dunno what to write\n",
    "-> show with code and plot what we mean. Numbers plot, whatever. Below we have run the application X times and the plot proves ... Code for uncles does not seem to work :((\n",
    "\n",
    "### Static chain\n",
    "\n",
    "In order to reliably test this, we decided that it was neccessary to implement a version of the blockchain without any randomness. This is achieved with the static parameter for the run method. Normally, the miners will pick randomly between block of the same height to mine on top of, but for the static chain, they will instead use their name to calculate an index (using the mod operator and sum(ord)) of their name) to select which block to mine on top of. \n"
   ]
  },
  {
   "cell_type": "code",
   "execution_count": 331,
   "metadata": {},
   "outputs": [
    {
     "data": {
      "text/html": [
       "<svg height=\"345\" width=\"920\"><defs><marker id=\"markerArrow\" markerWidth=\"10\" markerHeight=\"10\" refX=\"2\" refY=\"6\" orient=\"auto\"><path d=\"M2,2 L2,11 L10,6 L2,2\" style=\"fill: #000000;\" /> </marker> </defs><g><rect x=\"30\" y=\"30\" width=\"60\" height=\"60\" stroke=\"black\" stroke-width=\"1\" fill=\"#AEF751\" /><text x=\"60\" y=\"60\" dominant-baseline=\"middle\" text-anchor=\"middle\" font-family=\"Verdana\" font-size=\"10\" font-weight=\"bold\" fill=\"black\">0</text></g><g><rect x=\"130\" y=\"30\" width=\"60\" height=\"60\" stroke=\"black\" stroke-width=\"1\" fill=\"#7EDBF6\" /><text x=\"160\" y=\"60\" dominant-baseline=\"middle\" text-anchor=\"middle\" font-family=\"Verdana\" font-size=\"10\" font-weight=\"bold\" fill=\"black\">m0</text><line stroke-width=\"1px\" stroke=\"#000000\"  x1=130 y1=\"60\" x2=\"95\" y2=\"60\" style=\"marker-end: url(#markerArrow)\"/></g><g><rect x=\"230\" y=\"30\" width=\"60\" height=\"60\" stroke=\"black\" stroke-width=\"1\" fill=\"#7EDBF6\" /><text x=\"260\" y=\"60\" dominant-baseline=\"middle\" text-anchor=\"middle\" font-family=\"Verdana\" font-size=\"10\" font-weight=\"bold\" fill=\"black\">m7</text><line stroke-width=\"1px\" stroke=\"#000000\"  x1=230 y1=\"60\" x2=\"195\" y2=\"60\" style=\"marker-end: url(#markerArrow)\"/></g><g><rect x=\"330\" y=\"30\" width=\"60\" height=\"60\" stroke=\"black\" stroke-width=\"1\" fill=\"#7EDBF6\" /><text x=\"360\" y=\"60\" dominant-baseline=\"middle\" text-anchor=\"middle\" font-family=\"Verdana\" font-size=\"10\" font-weight=\"bold\" fill=\"black\">m4</text><line stroke-width=\"1px\" stroke=\"#000000\"  x1=330 y1=\"60\" x2=\"295\" y2=\"60\" style=\"marker-end: url(#markerArrow)\"/></g><g><rect x=\"430\" y=\"30\" width=\"60\" height=\"60\" stroke=\"black\" stroke-width=\"1\" fill=\"#7EDBF6\" /><text x=\"460\" y=\"60\" dominant-baseline=\"middle\" text-anchor=\"middle\" font-family=\"Verdana\" font-size=\"10\" font-weight=\"bold\" fill=\"black\">m5</text><line stroke-width=\"1px\" stroke=\"#000000\"  x1=430 y1=\"60\" x2=\"395\" y2=\"60\" style=\"marker-end: url(#markerArrow)\"/></g><g><rect x=\"530\" y=\"30\" width=\"60\" height=\"60\" stroke=\"black\" stroke-width=\"1\" fill=\"#7EDBF6\" /><text x=\"560\" y=\"60\" dominant-baseline=\"middle\" text-anchor=\"middle\" font-family=\"Verdana\" font-size=\"10\" font-weight=\"bold\" fill=\"black\">m3</text><line stroke-width=\"1px\" stroke=\"#000000\"  x1=530 y1=\"60\" x2=\"495\" y2=\"60\" style=\"marker-end: url(#markerArrow)\"/></g><g><rect x=\"630\" y=\"30\" width=\"60\" height=\"60\" stroke=\"black\" stroke-width=\"1\" fill=\"#7EDBF6\" /><text x=\"660\" y=\"60\" dominant-baseline=\"middle\" text-anchor=\"middle\" font-family=\"Verdana\" font-size=\"10\" font-weight=\"bold\" fill=\"black\">m9</text><line stroke-width=\"1px\" stroke=\"#000000\"  x1=630 y1=\"60\" x2=\"595\" y2=\"60\" style=\"marker-end: url(#markerArrow)\"/></g><g><rect x=\"730\" y=\"30\" width=\"60\" height=\"60\" stroke=\"black\" stroke-width=\"1\" fill=\"#7EDBF6\" /><text x=\"760\" y=\"60\" dominant-baseline=\"middle\" text-anchor=\"middle\" font-family=\"Verdana\" font-size=\"10\" font-weight=\"bold\" fill=\"black\">m6</text><line stroke-width=\"1px\" stroke=\"#000000\"  x1=730 y1=\"60\" x2=\"695\" y2=\"60\" style=\"marker-end: url(#markerArrow)\"/></g><g><rect x=\"830\" y=\"30\" width=\"60\" height=\"60\" stroke=\"black\" stroke-width=\"1\" fill=\"#7EDBF6\" /><text x=\"860\" y=\"60\" dominant-baseline=\"middle\" text-anchor=\"middle\" font-family=\"Verdana\" font-size=\"10\" font-weight=\"bold\" fill=\"black\">m7</text><line stroke-width=\"1px\" stroke=\"#000000\"  x1=830 y1=\"60\" x2=\"795\" y2=\"60\" style=\"marker-end: url(#markerArrow)\"/></g><g><rect x=\"630\" y=\"130\" width=\"60\" height=\"60\" stroke=\"black\" stroke-width=\"1\" fill=\"#7EDBF6\" /><text x=\"660\" y=\"160\" dominant-baseline=\"middle\" text-anchor=\"middle\" font-family=\"Verdana\" font-size=\"10\" font-weight=\"bold\" fill=\"black\">m7</text><line stroke-width=\"1px\" stroke=\"#000000\"  x1=630 y1=\"160\" x2=\"565\" y2=\"95\" style=\"marker-end: url(#markerArrow)\"/></g><g><rect x=\"130\" y=\"230\" width=\"60\" height=\"60\" stroke=\"black\" stroke-width=\"1\" fill=\"#7EDBF6\" /><text x=\"160\" y=\"260\" dominant-baseline=\"middle\" text-anchor=\"middle\" font-family=\"Verdana\" font-size=\"10\" font-weight=\"bold\" fill=\"black\">m1</text><line stroke-width=\"1px\" stroke=\"#000000\"  x1=130 y1=\"260\" x2=\"65\" y2=\"95\" style=\"marker-end: url(#markerArrow)\"/></g><g><rect x=\"230\" y=\"230\" width=\"60\" height=\"60\" stroke=\"black\" stroke-width=\"1\" fill=\"#7EDBF6\" /><text x=\"260\" y=\"260\" dominant-baseline=\"middle\" text-anchor=\"middle\" font-family=\"Verdana\" font-size=\"10\" font-weight=\"bold\" fill=\"black\">m2</text><line stroke-width=\"1px\" stroke=\"#000000\"  x1=230 y1=\"260\" x2=\"195\" y2=\"260\" style=\"marker-end: url(#markerArrow)\"/></g></svg>"
      ],
      "text/plain": [
       "<IPython.core.display.HTML object>"
      ]
     },
     "metadata": {},
     "output_type": "display_data"
    }
   ],
   "source": [
    "bc, m, s = run(mining_power=40, num_blocks=8, static=True)\n",
    "show(bc)"
   ]
  },
  {
   "cell_type": "code",
   "execution_count": 332,
   "metadata": {},
   "outputs": [
    {
     "name": "stdout",
     "output_type": "stream",
     "text": [
      "  name  reward  uncle_reward  blocks  uncles  newphes  power\n",
      "0   m0      10             0       1       0        0     40\n",
      "1   m1       0             0       0       0        0     40\n",
      "2   m2       0             0       0       0        0     40\n",
      "3   m3      10             0       1       0        0     40\n",
      "4   m4      10             0       1       0        0     40\n",
      "5   m5      10             0       1       0        0     40\n",
      "6   m6      10             0       1       0        0     40\n",
      "7   m7      20             0       2       0        0     40\n",
      "8   m8       0             0       0       0        0     40\n",
      "9   m9      10             0       1       0        0     40\n"
     ]
    }
   ],
   "source": [
    "stats = get_stats(m, s)\n",
    "print(stats)"
   ]
  },
  {
   "cell_type": "code",
   "execution_count": 333,
   "metadata": {},
   "outputs": [
    {
     "data": {
      "text/html": [
       "<svg height=\"345\" width=\"920\"><defs><marker id=\"markerArrow\" markerWidth=\"10\" markerHeight=\"10\" refX=\"2\" refY=\"6\" orient=\"auto\"><path d=\"M2,2 L2,11 L10,6 L2,2\" style=\"fill: #000000;\" /> </marker> </defs><g><rect x=\"30\" y=\"30\" width=\"60\" height=\"60\" stroke=\"black\" stroke-width=\"1\" fill=\"#AEF751\" /><text x=\"60\" y=\"60\" dominant-baseline=\"middle\" text-anchor=\"middle\" font-family=\"Verdana\" font-size=\"10\" font-weight=\"bold\" fill=\"black\">0</text></g><g><rect x=\"130\" y=\"30\" width=\"60\" height=\"60\" stroke=\"black\" stroke-width=\"1\" fill=\"#7EDBF6\" /><text x=\"160\" y=\"60\" dominant-baseline=\"middle\" text-anchor=\"middle\" font-family=\"Verdana\" font-size=\"10\" font-weight=\"bold\" fill=\"black\">m0</text><line stroke-width=\"1px\" stroke=\"#000000\"  x1=130 y1=\"60\" x2=\"95\" y2=\"60\" style=\"marker-end: url(#markerArrow)\"/></g><g><rect x=\"230\" y=\"30\" width=\"60\" height=\"60\" stroke=\"black\" stroke-width=\"1\" fill=\"#7EDBF6\" /><text x=\"260\" y=\"60\" dominant-baseline=\"middle\" text-anchor=\"middle\" font-family=\"Verdana\" font-size=\"10\" font-weight=\"bold\" fill=\"black\">m7</text><line stroke-width=\"1px\" stroke=\"#000000\"  x1=230 y1=\"60\" x2=\"195\" y2=\"60\" style=\"marker-end: url(#markerArrow)\"/></g><g><rect x=\"330\" y=\"30\" width=\"60\" height=\"60\" stroke=\"black\" stroke-width=\"1\" fill=\"#7EDBF6\" /><text x=\"360\" y=\"60\" dominant-baseline=\"middle\" text-anchor=\"middle\" font-family=\"Verdana\" font-size=\"10\" font-weight=\"bold\" fill=\"black\">m4</text><line stroke-width=\"1px\" stroke=\"#000000\"  x1=330 y1=\"60\" x2=\"295\" y2=\"60\" style=\"marker-end: url(#markerArrow)\"/></g><g><rect x=\"430\" y=\"30\" width=\"60\" height=\"60\" stroke=\"black\" stroke-width=\"1\" fill=\"#7EDBF6\" /><text x=\"460\" y=\"60\" dominant-baseline=\"middle\" text-anchor=\"middle\" font-family=\"Verdana\" font-size=\"10\" font-weight=\"bold\" fill=\"black\">m5</text><line stroke-width=\"1px\" stroke=\"#000000\"  x1=430 y1=\"60\" x2=\"395\" y2=\"60\" style=\"marker-end: url(#markerArrow)\"/></g><g><rect x=\"530\" y=\"30\" width=\"60\" height=\"60\" stroke=\"black\" stroke-width=\"1\" fill=\"#7EDBF6\" /><text x=\"560\" y=\"60\" dominant-baseline=\"middle\" text-anchor=\"middle\" font-family=\"Verdana\" font-size=\"10\" font-weight=\"bold\" fill=\"black\">m3</text><line stroke-width=\"1px\" stroke=\"#000000\"  x1=530 y1=\"60\" x2=\"495\" y2=\"60\" style=\"marker-end: url(#markerArrow)\"/></g><g><rect x=\"630\" y=\"30\" width=\"60\" height=\"60\" stroke=\"black\" stroke-width=\"1\" fill=\"#7EDBF6\" /><text x=\"660\" y=\"60\" dominant-baseline=\"middle\" text-anchor=\"middle\" font-family=\"Verdana\" font-size=\"10\" font-weight=\"bold\" fill=\"black\">m9</text><line stroke-width=\"1px\" stroke=\"#000000\"  x1=630 y1=\"60\" x2=\"595\" y2=\"60\" style=\"marker-end: url(#markerArrow)\"/></g><g><rect x=\"730\" y=\"30\" width=\"60\" height=\"60\" stroke=\"black\" stroke-width=\"1\" fill=\"#7EDBF6\" /><text x=\"760\" y=\"60\" dominant-baseline=\"middle\" text-anchor=\"middle\" font-family=\"Verdana\" font-size=\"10\" font-weight=\"bold\" fill=\"black\">m6</text><line stroke-width=\"1px\" stroke=\"#000000\"  x1=730 y1=\"60\" x2=\"695\" y2=\"60\" style=\"marker-end: url(#markerArrow)\"/></g><g><rect x=\"830\" y=\"30\" width=\"60\" height=\"60\" stroke=\"black\" stroke-width=\"1\" fill=\"#7EDBF6\" /><text x=\"860\" y=\"60\" dominant-baseline=\"middle\" text-anchor=\"middle\" font-family=\"Verdana\" font-size=\"10\" font-weight=\"bold\" fill=\"black\">m7</text><line stroke-width=\"1px\" stroke=\"#000000\"  x1=830 y1=\"60\" x2=\"795\" y2=\"60\" style=\"marker-end: url(#markerArrow)\"/></g><g><rect x=\"630\" y=\"130\" width=\"60\" height=\"60\" stroke=\"black\" stroke-width=\"1\" fill=\"#7EDBF6\" /><text x=\"660\" y=\"160\" dominant-baseline=\"middle\" text-anchor=\"middle\" font-family=\"Verdana\" font-size=\"10\" font-weight=\"bold\" fill=\"black\">m7</text><line stroke-width=\"1px\" stroke=\"#000000\"  x1=630 y1=\"160\" x2=\"565\" y2=\"95\" style=\"marker-end: url(#markerArrow)\"/></g><g><rect x=\"130\" y=\"230\" width=\"60\" height=\"60\" stroke=\"black\" stroke-width=\"1\" fill=\"#7EDBF6\" /><text x=\"160\" y=\"260\" dominant-baseline=\"middle\" text-anchor=\"middle\" font-family=\"Verdana\" font-size=\"10\" font-weight=\"bold\" fill=\"black\">m1</text><line stroke-width=\"1px\" stroke=\"#000000\"  x1=130 y1=\"260\" x2=\"65\" y2=\"95\" style=\"marker-end: url(#markerArrow)\"/></g><g><rect x=\"230\" y=\"230\" width=\"60\" height=\"60\" stroke=\"black\" stroke-width=\"1\" fill=\"#7EDBF6\" /><text x=\"260\" y=\"260\" dominant-baseline=\"middle\" text-anchor=\"middle\" font-family=\"Verdana\" font-size=\"10\" font-weight=\"bold\" fill=\"black\">m2</text><line stroke-width=\"1px\" stroke=\"#000000\"  x1=230 y1=\"260\" x2=\"195\" y2=\"260\" style=\"marker-end: url(#markerArrow)\"/></g></svg>"
      ],
      "text/plain": [
       "<IPython.core.display.HTML object>"
      ]
     },
     "metadata": {},
     "output_type": "display_data"
    }
   ],
   "source": [
    "bc, m, s = run(mining_power=40, num_blocks=8, uncle_reward=3, nephew_reward=1, static=True)\n",
    "show(bc)"
   ]
  },
  {
   "cell_type": "code",
   "execution_count": 334,
   "metadata": {},
   "outputs": [
    {
     "name": "stdout",
     "output_type": "stream",
     "text": [
      "  name  reward  uncle_reward  blocks  uncles  newphes  power\n",
      "0   m0      10             0       1       0        0     40\n",
      "1   m1       0             3       0       1        0     40\n",
      "2   m2       0             0       0       0        0     40\n",
      "3   m3      10             0       1       0        0     40\n",
      "4   m4      10             0       1       0        0     40\n",
      "5   m5      10             0       1       0        0     40\n",
      "6   m6      10             1       1       0        1     40\n",
      "7   m7      20             4       2       1        1     40\n",
      "8   m8       0             0       0       0        0     40\n",
      "9   m9      10             0       1       0        0     40\n"
     ]
    }
   ],
   "source": [
    "stats = get_stats(m, s)\n",
    "print(stats)"
   ]
  },
  {
   "cell_type": "code",
   "execution_count": 335,
   "metadata": {},
   "outputs": [
    {
     "data": {
      "text/html": [
       "<svg height=\"1265\" width=\"3450\"><defs><marker id=\"markerArrow\" markerWidth=\"10\" markerHeight=\"10\" refX=\"2\" refY=\"6\" orient=\"auto\"><path d=\"M2,2 L2,11 L10,6 L2,2\" style=\"fill: #000000;\" /> </marker> </defs><g><rect x=\"30\" y=\"30\" width=\"60\" height=\"60\" stroke=\"black\" stroke-width=\"1\" fill=\"#AEF751\" /><text x=\"60\" y=\"60\" dominant-baseline=\"middle\" text-anchor=\"middle\" font-family=\"Verdana\" font-size=\"10\" font-weight=\"bold\" fill=\"black\">0</text></g><g><rect x=\"130\" y=\"30\" width=\"60\" height=\"60\" stroke=\"black\" stroke-width=\"1\" fill=\"#7EDBF6\" /><text x=\"160\" y=\"60\" dominant-baseline=\"middle\" text-anchor=\"middle\" font-family=\"Verdana\" font-size=\"10\" font-weight=\"bold\" fill=\"black\">m9</text><line stroke-width=\"1px\" stroke=\"#000000\"  x1=130 y1=\"60\" x2=\"95\" y2=\"60\" style=\"marker-end: url(#markerArrow)\"/></g><g><rect x=\"230\" y=\"30\" width=\"60\" height=\"60\" stroke=\"black\" stroke-width=\"1\" fill=\"#7EDBF6\" /><text x=\"260\" y=\"60\" dominant-baseline=\"middle\" text-anchor=\"middle\" font-family=\"Verdana\" font-size=\"10\" font-weight=\"bold\" fill=\"black\">m9</text><line stroke-width=\"1px\" stroke=\"#000000\"  x1=230 y1=\"60\" x2=\"195\" y2=\"60\" style=\"marker-end: url(#markerArrow)\"/></g><g><rect x=\"330\" y=\"30\" width=\"60\" height=\"60\" stroke=\"black\" stroke-width=\"1\" fill=\"#7EDBF6\" /><text x=\"360\" y=\"60\" dominant-baseline=\"middle\" text-anchor=\"middle\" font-family=\"Verdana\" font-size=\"10\" font-weight=\"bold\" fill=\"black\">m3</text><line stroke-width=\"1px\" stroke=\"#000000\"  x1=330 y1=\"60\" x2=\"295\" y2=\"60\" style=\"marker-end: url(#markerArrow)\"/></g><g><rect x=\"430\" y=\"30\" width=\"60\" height=\"60\" stroke=\"black\" stroke-width=\"1\" fill=\"#7EDBF6\" /><text x=\"460\" y=\"60\" dominant-baseline=\"middle\" text-anchor=\"middle\" font-family=\"Verdana\" font-size=\"10\" font-weight=\"bold\" fill=\"black\">m6</text><line stroke-width=\"1px\" stroke=\"#000000\"  x1=430 y1=\"60\" x2=\"395\" y2=\"60\" style=\"marker-end: url(#markerArrow)\"/></g><g><rect x=\"530\" y=\"30\" width=\"60\" height=\"60\" stroke=\"black\" stroke-width=\"1\" fill=\"#7EDBF6\" /><text x=\"560\" y=\"60\" dominant-baseline=\"middle\" text-anchor=\"middle\" font-family=\"Verdana\" font-size=\"10\" font-weight=\"bold\" fill=\"black\">m0</text><line stroke-width=\"1px\" stroke=\"#000000\"  x1=530 y1=\"60\" x2=\"495\" y2=\"60\" style=\"marker-end: url(#markerArrow)\"/></g><g><rect x=\"630\" y=\"30\" width=\"60\" height=\"60\" stroke=\"black\" stroke-width=\"1\" fill=\"#7EDBF6\" /><text x=\"660\" y=\"60\" dominant-baseline=\"middle\" text-anchor=\"middle\" font-family=\"Verdana\" font-size=\"10\" font-weight=\"bold\" fill=\"black\">m5</text><line stroke-width=\"1px\" stroke=\"#000000\"  x1=630 y1=\"60\" x2=\"595\" y2=\"60\" style=\"marker-end: url(#markerArrow)\"/></g><g><rect x=\"730\" y=\"30\" width=\"60\" height=\"60\" stroke=\"black\" stroke-width=\"1\" fill=\"#7EDBF6\" /><text x=\"760\" y=\"60\" dominant-baseline=\"middle\" text-anchor=\"middle\" font-family=\"Verdana\" font-size=\"10\" font-weight=\"bold\" fill=\"black\">m5</text><line stroke-width=\"1px\" stroke=\"#000000\"  x1=730 y1=\"60\" x2=\"695\" y2=\"60\" style=\"marker-end: url(#markerArrow)\"/></g><g><rect x=\"830\" y=\"30\" width=\"60\" height=\"60\" stroke=\"black\" stroke-width=\"1\" fill=\"#7EDBF6\" /><text x=\"860\" y=\"60\" dominant-baseline=\"middle\" text-anchor=\"middle\" font-family=\"Verdana\" font-size=\"10\" font-weight=\"bold\" fill=\"black\">m7</text><line stroke-width=\"1px\" stroke=\"#000000\"  x1=830 y1=\"60\" x2=\"795\" y2=\"60\" style=\"marker-end: url(#markerArrow)\"/></g><g><rect x=\"930\" y=\"30\" width=\"60\" height=\"60\" stroke=\"black\" stroke-width=\"1\" fill=\"#7EDBF6\" /><text x=\"960\" y=\"60\" dominant-baseline=\"middle\" text-anchor=\"middle\" font-family=\"Verdana\" font-size=\"10\" font-weight=\"bold\" fill=\"black\">m7</text><line stroke-width=\"1px\" stroke=\"#000000\"  x1=930 y1=\"60\" x2=\"895\" y2=\"60\" style=\"marker-end: url(#markerArrow)\"/></g><g><rect x=\"1030\" y=\"30\" width=\"60\" height=\"60\" stroke=\"black\" stroke-width=\"1\" fill=\"#7EDBF6\" /><text x=\"1060\" y=\"60\" dominant-baseline=\"middle\" text-anchor=\"middle\" font-family=\"Verdana\" font-size=\"10\" font-weight=\"bold\" fill=\"black\">m4</text><line stroke-width=\"1px\" stroke=\"#000000\"  x1=1030 y1=\"60\" x2=\"995\" y2=\"60\" style=\"marker-end: url(#markerArrow)\"/></g><g><rect x=\"1130\" y=\"30\" width=\"60\" height=\"60\" stroke=\"black\" stroke-width=\"1\" fill=\"#7EDBF6\" /><text x=\"1160\" y=\"60\" dominant-baseline=\"middle\" text-anchor=\"middle\" font-family=\"Verdana\" font-size=\"10\" font-weight=\"bold\" fill=\"black\">m6</text><line stroke-width=\"1px\" stroke=\"#000000\"  x1=1130 y1=\"60\" x2=\"1095\" y2=\"60\" style=\"marker-end: url(#markerArrow)\"/></g><g><rect x=\"1230\" y=\"30\" width=\"60\" height=\"60\" stroke=\"black\" stroke-width=\"1\" fill=\"#7EDBF6\" /><text x=\"1260\" y=\"60\" dominant-baseline=\"middle\" text-anchor=\"middle\" font-family=\"Verdana\" font-size=\"10\" font-weight=\"bold\" fill=\"black\">m5</text><line stroke-width=\"1px\" stroke=\"#000000\"  x1=1230 y1=\"60\" x2=\"1195\" y2=\"60\" style=\"marker-end: url(#markerArrow)\"/></g><g><rect x=\"1330\" y=\"30\" width=\"60\" height=\"60\" stroke=\"black\" stroke-width=\"1\" fill=\"#7EDBF6\" /><text x=\"1360\" y=\"60\" dominant-baseline=\"middle\" text-anchor=\"middle\" font-family=\"Verdana\" font-size=\"10\" font-weight=\"bold\" fill=\"black\">m2</text><line stroke-width=\"1px\" stroke=\"#000000\"  x1=1330 y1=\"60\" x2=\"1295\" y2=\"60\" style=\"marker-end: url(#markerArrow)\"/></g><g><rect x=\"1430\" y=\"30\" width=\"60\" height=\"60\" stroke=\"black\" stroke-width=\"1\" fill=\"#7EDBF6\" /><text x=\"1460\" y=\"60\" dominant-baseline=\"middle\" text-anchor=\"middle\" font-family=\"Verdana\" font-size=\"10\" font-weight=\"bold\" fill=\"black\">m9</text><line stroke-width=\"1px\" stroke=\"#000000\"  x1=1430 y1=\"60\" x2=\"1395\" y2=\"60\" style=\"marker-end: url(#markerArrow)\"/></g><g><rect x=\"1530\" y=\"30\" width=\"60\" height=\"60\" stroke=\"black\" stroke-width=\"1\" fill=\"#7EDBF6\" /><text x=\"1560\" y=\"60\" dominant-baseline=\"middle\" text-anchor=\"middle\" font-family=\"Verdana\" font-size=\"10\" font-weight=\"bold\" fill=\"black\">m6</text><line stroke-width=\"1px\" stroke=\"#000000\"  x1=1530 y1=\"60\" x2=\"1495\" y2=\"60\" style=\"marker-end: url(#markerArrow)\"/></g><g><rect x=\"1630\" y=\"30\" width=\"60\" height=\"60\" stroke=\"black\" stroke-width=\"1\" fill=\"#7EDBF6\" /><text x=\"1660\" y=\"60\" dominant-baseline=\"middle\" text-anchor=\"middle\" font-family=\"Verdana\" font-size=\"10\" font-weight=\"bold\" fill=\"black\">m6</text><line stroke-width=\"1px\" stroke=\"#000000\"  x1=1630 y1=\"60\" x2=\"1595\" y2=\"60\" style=\"marker-end: url(#markerArrow)\"/></g><g><rect x=\"1730\" y=\"30\" width=\"60\" height=\"60\" stroke=\"black\" stroke-width=\"1\" fill=\"#7EDBF6\" /><text x=\"1760\" y=\"60\" dominant-baseline=\"middle\" text-anchor=\"middle\" font-family=\"Verdana\" font-size=\"10\" font-weight=\"bold\" fill=\"black\">m7</text><line stroke-width=\"1px\" stroke=\"#000000\"  x1=1730 y1=\"60\" x2=\"1695\" y2=\"60\" style=\"marker-end: url(#markerArrow)\"/></g><g><rect x=\"1830\" y=\"30\" width=\"60\" height=\"60\" stroke=\"black\" stroke-width=\"1\" fill=\"#7EDBF6\" /><text x=\"1860\" y=\"60\" dominant-baseline=\"middle\" text-anchor=\"middle\" font-family=\"Verdana\" font-size=\"10\" font-weight=\"bold\" fill=\"black\">m1</text><line stroke-width=\"1px\" stroke=\"#000000\"  x1=1830 y1=\"60\" x2=\"1795\" y2=\"60\" style=\"marker-end: url(#markerArrow)\"/></g><g><rect x=\"1930\" y=\"30\" width=\"60\" height=\"60\" stroke=\"black\" stroke-width=\"1\" fill=\"#7EDBF6\" /><text x=\"1960\" y=\"60\" dominant-baseline=\"middle\" text-anchor=\"middle\" font-family=\"Verdana\" font-size=\"10\" font-weight=\"bold\" fill=\"black\">m1</text><line stroke-width=\"1px\" stroke=\"#000000\"  x1=1930 y1=\"60\" x2=\"1895\" y2=\"60\" style=\"marker-end: url(#markerArrow)\"/></g><g><rect x=\"2030\" y=\"30\" width=\"60\" height=\"60\" stroke=\"black\" stroke-width=\"1\" fill=\"#7EDBF6\" /><text x=\"2060\" y=\"60\" dominant-baseline=\"middle\" text-anchor=\"middle\" font-family=\"Verdana\" font-size=\"10\" font-weight=\"bold\" fill=\"black\">m9</text><line stroke-width=\"1px\" stroke=\"#000000\"  x1=2030 y1=\"60\" x2=\"1995\" y2=\"60\" style=\"marker-end: url(#markerArrow)\"/></g><g><rect x=\"2130\" y=\"30\" width=\"60\" height=\"60\" stroke=\"black\" stroke-width=\"1\" fill=\"#7EDBF6\" /><text x=\"2160\" y=\"60\" dominant-baseline=\"middle\" text-anchor=\"middle\" font-family=\"Verdana\" font-size=\"10\" font-weight=\"bold\" fill=\"black\">m8</text><line stroke-width=\"1px\" stroke=\"#000000\"  x1=2130 y1=\"60\" x2=\"2095\" y2=\"60\" style=\"marker-end: url(#markerArrow)\"/></g><g><rect x=\"2230\" y=\"30\" width=\"60\" height=\"60\" stroke=\"black\" stroke-width=\"1\" fill=\"#7EDBF6\" /><text x=\"2260\" y=\"60\" dominant-baseline=\"middle\" text-anchor=\"middle\" font-family=\"Verdana\" font-size=\"10\" font-weight=\"bold\" fill=\"black\">m3</text><line stroke-width=\"1px\" stroke=\"#000000\"  x1=2230 y1=\"60\" x2=\"2195\" y2=\"60\" style=\"marker-end: url(#markerArrow)\"/></g><g><rect x=\"2330\" y=\"30\" width=\"60\" height=\"60\" stroke=\"black\" stroke-width=\"1\" fill=\"#7EDBF6\" /><text x=\"2360\" y=\"60\" dominant-baseline=\"middle\" text-anchor=\"middle\" font-family=\"Verdana\" font-size=\"10\" font-weight=\"bold\" fill=\"black\">m8</text><line stroke-width=\"1px\" stroke=\"#000000\"  x1=2330 y1=\"60\" x2=\"2295\" y2=\"60\" style=\"marker-end: url(#markerArrow)\"/></g><g><rect x=\"2430\" y=\"30\" width=\"60\" height=\"60\" stroke=\"black\" stroke-width=\"1\" fill=\"#7EDBF6\" /><text x=\"2460\" y=\"60\" dominant-baseline=\"middle\" text-anchor=\"middle\" font-family=\"Verdana\" font-size=\"10\" font-weight=\"bold\" fill=\"black\">m6</text><line stroke-width=\"1px\" stroke=\"#000000\"  x1=2430 y1=\"60\" x2=\"2395\" y2=\"60\" style=\"marker-end: url(#markerArrow)\"/></g><g><rect x=\"2530\" y=\"30\" width=\"60\" height=\"60\" stroke=\"black\" stroke-width=\"1\" fill=\"#7EDBF6\" /><text x=\"2560\" y=\"60\" dominant-baseline=\"middle\" text-anchor=\"middle\" font-family=\"Verdana\" font-size=\"10\" font-weight=\"bold\" fill=\"black\">m9</text><line stroke-width=\"1px\" stroke=\"#000000\"  x1=2530 y1=\"60\" x2=\"2495\" y2=\"60\" style=\"marker-end: url(#markerArrow)\"/></g><g><rect x=\"2630\" y=\"30\" width=\"60\" height=\"60\" stroke=\"black\" stroke-width=\"1\" fill=\"#7EDBF6\" /><text x=\"2660\" y=\"60\" dominant-baseline=\"middle\" text-anchor=\"middle\" font-family=\"Verdana\" font-size=\"10\" font-weight=\"bold\" fill=\"black\">m6</text><line stroke-width=\"1px\" stroke=\"#000000\"  x1=2630 y1=\"60\" x2=\"2595\" y2=\"60\" style=\"marker-end: url(#markerArrow)\"/></g><g><rect x=\"2730\" y=\"30\" width=\"60\" height=\"60\" stroke=\"black\" stroke-width=\"1\" fill=\"#7EDBF6\" /><text x=\"2760\" y=\"60\" dominant-baseline=\"middle\" text-anchor=\"middle\" font-family=\"Verdana\" font-size=\"10\" font-weight=\"bold\" fill=\"black\">m2</text><line stroke-width=\"1px\" stroke=\"#000000\"  x1=2730 y1=\"60\" x2=\"2695\" y2=\"60\" style=\"marker-end: url(#markerArrow)\"/></g><g><rect x=\"2830\" y=\"30\" width=\"60\" height=\"60\" stroke=\"black\" stroke-width=\"1\" fill=\"#7EDBF6\" /><text x=\"2860\" y=\"60\" dominant-baseline=\"middle\" text-anchor=\"middle\" font-family=\"Verdana\" font-size=\"10\" font-weight=\"bold\" fill=\"black\">m7</text><line stroke-width=\"1px\" stroke=\"#000000\"  x1=2830 y1=\"60\" x2=\"2795\" y2=\"60\" style=\"marker-end: url(#markerArrow)\"/></g><g><rect x=\"2930\" y=\"30\" width=\"60\" height=\"60\" stroke=\"black\" stroke-width=\"1\" fill=\"#7EDBF6\" /><text x=\"2960\" y=\"60\" dominant-baseline=\"middle\" text-anchor=\"middle\" font-family=\"Verdana\" font-size=\"10\" font-weight=\"bold\" fill=\"black\">m7</text><line stroke-width=\"1px\" stroke=\"#000000\"  x1=2930 y1=\"60\" x2=\"2895\" y2=\"60\" style=\"marker-end: url(#markerArrow)\"/></g><g><rect x=\"3030\" y=\"30\" width=\"60\" height=\"60\" stroke=\"black\" stroke-width=\"1\" fill=\"#7EDBF6\" /><text x=\"3060\" y=\"60\" dominant-baseline=\"middle\" text-anchor=\"middle\" font-family=\"Verdana\" font-size=\"10\" font-weight=\"bold\" fill=\"black\">m3</text><line stroke-width=\"1px\" stroke=\"#000000\"  x1=3030 y1=\"60\" x2=\"2995\" y2=\"60\" style=\"marker-end: url(#markerArrow)\"/></g><g><rect x=\"2830\" y=\"130\" width=\"60\" height=\"60\" stroke=\"black\" stroke-width=\"1\" fill=\"#7EDBF6\" /><text x=\"2860\" y=\"160\" dominant-baseline=\"middle\" text-anchor=\"middle\" font-family=\"Verdana\" font-size=\"10\" font-weight=\"bold\" fill=\"black\">m6</text><line stroke-width=\"1px\" stroke=\"#000000\"  x1=2830 y1=\"160\" x2=\"2765\" y2=\"95\" style=\"marker-end: url(#markerArrow)\"/></g><g><rect x=\"2530\" y=\"230\" width=\"60\" height=\"60\" stroke=\"black\" stroke-width=\"1\" fill=\"#7EDBF6\" /><text x=\"2560\" y=\"260\" dominant-baseline=\"middle\" text-anchor=\"middle\" font-family=\"Verdana\" font-size=\"10\" font-weight=\"bold\" fill=\"black\">m4</text><line stroke-width=\"1px\" stroke=\"#000000\"  x1=2530 y1=\"260\" x2=\"2465\" y2=\"95\" style=\"marker-end: url(#markerArrow)\"/></g><g><rect x=\"2230\" y=\"330\" width=\"60\" height=\"60\" stroke=\"black\" stroke-width=\"1\" fill=\"#7EDBF6\" /><text x=\"2260\" y=\"360\" dominant-baseline=\"middle\" text-anchor=\"middle\" font-family=\"Verdana\" font-size=\"10\" font-weight=\"bold\" fill=\"black\">m0</text><line stroke-width=\"1px\" stroke=\"#000000\"  x1=2230 y1=\"360\" x2=\"2165\" y2=\"95\" style=\"marker-end: url(#markerArrow)\"/></g><g><rect x=\"2130\" y=\"430\" width=\"60\" height=\"60\" stroke=\"black\" stroke-width=\"1\" fill=\"#7EDBF6\" /><text x=\"2160\" y=\"460\" dominant-baseline=\"middle\" text-anchor=\"middle\" font-family=\"Verdana\" font-size=\"10\" font-weight=\"bold\" fill=\"black\">m1</text><line stroke-width=\"1px\" stroke=\"#000000\"  x1=2130 y1=\"460\" x2=\"2065\" y2=\"95\" style=\"marker-end: url(#markerArrow)\"/></g><g><rect x=\"2030\" y=\"530\" width=\"60\" height=\"60\" stroke=\"black\" stroke-width=\"1\" fill=\"#7EDBF6\" /><text x=\"2060\" y=\"560\" dominant-baseline=\"middle\" text-anchor=\"middle\" font-family=\"Verdana\" font-size=\"10\" font-weight=\"bold\" fill=\"black\">m0</text><line stroke-width=\"1px\" stroke=\"#000000\"  x1=2030 y1=\"560\" x2=\"1965\" y2=\"95\" style=\"marker-end: url(#markerArrow)\"/></g><g><rect x=\"2030\" y=\"630\" width=\"60\" height=\"60\" stroke=\"black\" stroke-width=\"1\" fill=\"#7EDBF6\" /><text x=\"2060\" y=\"660\" dominant-baseline=\"middle\" text-anchor=\"middle\" font-family=\"Verdana\" font-size=\"10\" font-weight=\"bold\" fill=\"black\">m4</text><line stroke-width=\"1px\" stroke=\"#000000\"  x1=2030 y1=\"660\" x2=\"1965\" y2=\"95\" style=\"marker-end: url(#markerArrow)\"/></g><g><rect x=\"1830\" y=\"730\" width=\"60\" height=\"60\" stroke=\"black\" stroke-width=\"1\" fill=\"#7EDBF6\" /><text x=\"1860\" y=\"760\" dominant-baseline=\"middle\" text-anchor=\"middle\" font-family=\"Verdana\" font-size=\"10\" font-weight=\"bold\" fill=\"black\">m9</text><line stroke-width=\"1px\" stroke=\"#000000\"  x1=1830 y1=\"760\" x2=\"1765\" y2=\"95\" style=\"marker-end: url(#markerArrow)\"/></g><g><rect x=\"330\" y=\"830\" width=\"60\" height=\"60\" stroke=\"black\" stroke-width=\"1\" fill=\"#7EDBF6\" /><text x=\"360\" y=\"860\" dominant-baseline=\"middle\" text-anchor=\"middle\" font-family=\"Verdana\" font-size=\"10\" font-weight=\"bold\" fill=\"black\">m1</text><line stroke-width=\"1px\" stroke=\"#000000\"  x1=330 y1=\"860\" x2=\"265\" y2=\"95\" style=\"marker-end: url(#markerArrow)\"/></g><g><rect x=\"230\" y=\"930\" width=\"60\" height=\"60\" stroke=\"black\" stroke-width=\"1\" fill=\"#7EDBF6\" /><text x=\"260\" y=\"960\" dominant-baseline=\"middle\" text-anchor=\"middle\" font-family=\"Verdana\" font-size=\"10\" font-weight=\"bold\" fill=\"black\">m0</text><line stroke-width=\"1px\" stroke=\"#000000\"  x1=230 y1=\"960\" x2=\"165\" y2=\"95\" style=\"marker-end: url(#markerArrow)\"/></g><g><rect x=\"230\" y=\"1030\" width=\"60\" height=\"60\" stroke=\"black\" stroke-width=\"1\" fill=\"#7EDBF6\" /><text x=\"260\" y=\"1060\" dominant-baseline=\"middle\" text-anchor=\"middle\" font-family=\"Verdana\" font-size=\"10\" font-weight=\"bold\" fill=\"black\">m5</text><line stroke-width=\"1px\" stroke=\"#000000\"  x1=230 y1=\"1060\" x2=\"165\" y2=\"95\" style=\"marker-end: url(#markerArrow)\"/></g></svg>"
      ],
      "text/plain": [
       "<IPython.core.display.HTML object>"
      ]
     },
     "metadata": {},
     "output_type": "display_data"
    }
   ],
   "source": [
    "bc, m, s = run(mining_power=40, num_blocks=30, uncle_reward=3, nephew_reward=1)\n",
    "show(bc)"
   ]
  },
  {
   "cell_type": "code",
   "execution_count": 336,
   "metadata": {},
   "outputs": [
    {
     "name": "stdout",
     "output_type": "stream",
     "text": [
      "  name  reward  uncle_reward  blocks  uncles  newphes  power\n",
      "0   m0      10             9       1       3        0     40\n",
      "1   m1      20             7       2       2        1     40\n",
      "2   m2      20             0       2       0        0     40\n",
      "3   m3      30             3       3       0        3     40\n",
      "4   m4      10             6       1       2        0     40\n",
      "5   m5      30             3       3       1        0     40\n",
      "6   m6      60             5       6       1        2     40\n",
      "7   m7      50             1       5       0        1     40\n",
      "8   m8      20             3       2       0        3     40\n",
      "9   m9      50             3       5       1        0     40\n"
     ]
    }
   ],
   "source": [
    "stats = get_stats(m, s)\n",
    "print(stats)"
   ]
  },
  {
   "cell_type": "markdown",
   "metadata": {},
   "source": [
    "## Selfish mining"
   ]
  },
  {
   "cell_type": "markdown",
   "metadata": {},
   "source": [
    "When a blockchain has implemented a uncle reward mechanism it eliminates some risk for the miners. When they mine a block that ends up outside the longest chain it will still be compensated somewhat for the time and energy put into the block, even if it is not on the level of the blockreward. However the blockchain may be more vulnerable to selfish mining attacks. Below you can see a model of a big miner on a uncle blockchain and a selfish miner on a uncle blockchain, where both of these have the same amount of _power_. So the difference is only how each of these miners behave. One of them will try to hide their blocks and one just publishes them. So if a uncle blockchain is more profitable to a selfish miner he should end up with more rewards than the big miner. "
   ]
  },
  {
   "cell_type": "code",
   "execution_count": 339,
   "metadata": {},
   "outputs": [],
   "source": [
    "miner_rewards_normal_selfish, miner_rewards_uncles_selfish = getavg(100,run,num_blocks=100,num_miners=14, uncle_reward=3, nephew_reward=2, num_selfish_miners=1, mining_power_selfish=30)"
   ]
  },
  {
   "cell_type": "code",
   "execution_count": 341,
   "metadata": {},
   "outputs": [],
   "source": [
    "miner_rewards_normal_self_big, miner_rewards_uncles_self_big = getavg(100,run,num_blocks=100,num_miners=13, uncle_reward=3, nephew_reward=2,miners=[30], num_selfish_miners=1, mining_power_selfish=10)"
   ]
  },
  {
   "cell_type": "code",
   "execution_count": 342,
   "metadata": {},
   "outputs": [
    {
     "data": {
      "image/png": "[encoded data removed]",
      "text/plain": [
       "<Figure size 432x288 with 1 Axes>"
      ]
     },
     "metadata": {
      "needs_background": "light"
     },
     "output_type": "display_data"
    }
   ],
   "source": [
    "width = 0.35\n",
    "xpos = np.arange(len(miner_names))\n",
    "\n",
    "fig, ax = plt.subplots()\n",
    "normal = ax.bar(xpos - width/2, miner_rewards_uncles_big, width, label=\"Big, uncles\")\n",
    "uncles = ax.bar(xpos + width/2, miner_rewards_uncles_selfish, width, label=\"Selfish, uncles\")\n",
    "\n",
    "ax.set_ylabel(\"Rewards\")\n",
    "ax.set_title(\"Rewards for selfish and big, uncles\")\n",
    "ax.set_xticks(xpos)\n",
    "ax.set_xticklabels(miner_names)\n",
    "ax.legend()\n",
    "ax.bar_label(normal,padding=3)\n",
    "ax.bar_label(uncles,padding=3)\n",
    "fig.tight_layout()\n",
    "plt.show()"
   ]
  }
 ],
 "metadata": {
  "colab": {
   "collapsed_sections": [],
   "name": "lecture5_Attacks.ipynb",
   "provenance": []
  },
  "interpreter": {
   "hash": "d725e4bef31036ed1fa66d37088c13a5fef31be63a886f5393e2a9fada4ff7cb"
  },
  "kernelspec": {
   "display_name": "Python 3.9.7 64-bit (windows store)",
   "name": "python3"
  },
  "language_info": {
   "codemirror_mode": {
    "name": "ipython",
    "version": 3
   },
   "file_extension": ".py",
   "mimetype": "text/x-python",
   "name": "python",
   "nbconvert_exporter": "python",
   "pygments_lexer": "ipython3",
   "version": "3.9.7"
  }
 },
 "nbformat": 4,
 "nbformat_minor": 5
}
