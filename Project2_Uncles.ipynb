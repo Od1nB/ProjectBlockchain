{
 "cells": [
  {
   "cell_type": "markdown",
   "source": [
    "# Project 2: Uncles and Uncles Rewards\r\n",
    "- Model a Blockchain that uses uncles and uncle rewards\r\n",
    "- Model rewarding mechanism to reward uncle block creators\r\n",
    "- Model selfish mining (only one attacker) in this blockchain\r\n",
    "\r\n",
    "Try to answer the following questions with your experiment:\r\n",
    "1. How do uncles improve the fairness of the blockchain? For this, you should compare the outcome of miners with and without uncles.\r\n",
    "2. What is the impact of uncles on selfish mining? Is selfish mining more profitable with uncles?\r\n",
    "3. What does it mean in this model for the selfish mining attack to be profitable?\r\n",
    "\r\n",
    " Since more miners will get rewards for mining, even if they don't finish a block that is part of the longest chain, they will be rewarded for it. So the time and energy used for that block will not be as wasted, and it seems more rewarding to mine. Show net money with and without uncle rewards to display point. The concept of it is for fairness, but may encourage selfish mining. "
   ],
   "metadata": {}
  },
  {
   "cell_type": "markdown",
   "source": [
    "### Imports"
   ],
   "metadata": {}
  },
  {
   "cell_type": "code",
   "execution_count": 51,
   "source": [
    "#Import statements\r\n",
    "from draw_blockchain import show\r\n",
    "import hashlib as hasher\r\n",
    "import random"
   ],
   "outputs": [],
   "metadata": {
    "colab": {
     "base_uri": "https://localhost:8080/"
    },
    "id": "ef05ce3c",
    "outputId": "935d959b-21d0-4d92-bae9-3e8c72e8ae1c"
   }
  },
  {
   "cell_type": "markdown",
   "source": [
    "### Hash function"
   ],
   "metadata": {}
  },
  {
   "cell_type": "code",
   "execution_count": 52,
   "source": [
    "def hashbits(input):\r\n",
    "    hash_obj = hasher.sha256()\r\n",
    "    inputbytes = input.encode()\r\n",
    "    hash_obj.update(inputbytes)\r\n",
    "    hashbytes = hash_obj.digest()\r\n",
    "    return ''.join(f'{x:08b}' for x in hashbytes)\r\n",
    "\r\n",
    "def hash(input):\r\n",
    "    hash_obj = hasher.sha256()\r\n",
    "    inputbytes = input.encode()\r\n",
    "    #print(type(inputbytes))\r\n",
    "    hash_obj.update(inputbytes)\r\n",
    "    return hash_obj.hexdigest()\r\n",
    "\r\n",
    "def numberOfInitZeros(hashStr):\r\n",
    "    count = 0\r\n",
    "    for i in range (0 , len(hashStr)):\r\n",
    "        if hashStr[i] == '1':\r\n",
    "            break\r\n",
    "        count += 1\r\n",
    "    return count"
   ],
   "outputs": [],
   "metadata": {}
  },
  {
   "cell_type": "markdown",
   "source": [
    "### Block"
   ],
   "metadata": {}
  },
  {
   "cell_type": "code",
   "execution_count": 53,
   "source": [
    "class Block:\r\n",
    "    def __init__(self, data, creator=None, previous=None, nonce=0):\r\n",
    "        self.data = data\r\n",
    "        if previous is None:\r\n",
    "            self.previous = None\r\n",
    "            self.previous_hash = \"\"\r\n",
    "            self.creator = Miner(0 , \"0\")\r\n",
    "            self.height = 0\r\n",
    "            self.color = \"#AEF751\"\r\n",
    "        else:\r\n",
    "            self.previous = previous\r\n",
    "            self.previous_hash = previous.hash\r\n",
    "            self.creator = creator\r\n",
    "            self.height = previous.height+1\r\n",
    "            self.color = creator.color\r\n",
    "        self.nonce = nonce\r\n",
    "        self.hash = self.hash_block()\r\n",
    "        self.children = []\r\n",
    "\r\n",
    "    def hash_block(self):\r\n",
    "        return hashbits(self.data+ self.creator.name + self.previous_hash + str(self.nonce))\r\n",
    "\r\n",
    "    def print(self):\r\n",
    "        print(self.data + \" \"+ self.creator.name + \" \" + str(self.height))"
   ],
   "outputs": [],
   "metadata": {}
  },
  {
   "cell_type": "markdown",
   "source": [
    "### Blockchain"
   ],
   "metadata": {
    "id": "ac097c16"
   }
  },
  {
   "cell_type": "code",
   "execution_count": 54,
   "source": [
    "class Blockchain:\r\n",
    "    def __init__(self, genesis_data, difficulty, blockReward=10):\r\n",
    "        self.chain = []\r\n",
    "        self.chain.append(Block(genesis_data))\r\n",
    "        self.difficulty = difficulty\r\n",
    "        self.size = 0\r\n",
    "        self.block_reward = blockReward\r\n",
    "        self.uncles = []\r\n",
    "\r\n",
    "    def longestChain(self):\r\n",
    "      max = self.chain[0].height\r\n",
    "      for block in self.chain:\r\n",
    "          if block.height > max:\r\n",
    "                max = block.height\r\n",
    "      maxes = [block for block in self.chain if block.height == max]\r\n",
    "      r = random.choices(maxes, k=1)\r\n",
    "      return r[0]\r\n",
    "        \r\n",
    "    def add(self, newBlock):\r\n",
    "        self.chain.append(newBlock)\r\n",
    "        newBlock.previous.children.append(newBlock)\r\n",
    "        self.size +=1\r\n",
    "        if self.inlongestChain(newBlock):\r\n",
    "            newBlock.creator.reward += self.block_reward\r\n",
    "        else:  \r\n",
    "            self.uncles.append(newBlock)\r\n",
    "        \r\n",
    "    def print(self):\r\n",
    "        for block in self.chain:\r\n",
    "            block.print()\r\n",
    "            print(\"________\")\r\n",
    "\r\n",
    "    def hasFork(self):\r\n",
    "        for block1 in self.chain:\r\n",
    "            for block2 in self.chain:\r\n",
    "                if block1!=block2 and block1.height == block2.height:\r\n",
    "                    return True\r\n",
    "        return False\r\n",
    "\r\n",
    "    def checkMiner(self, miner):\r\n",
    "      last = self.longestChain()\r\n",
    "      count = 0\r\n",
    "      while last!=None:\r\n",
    "          if last.creator == miner:\r\n",
    "                count += 1\r\n",
    "          last = last.previous\r\n",
    "      return count\r\n",
    "    \r\n",
    "    def inlongestChain(self, block):\r\n",
    "          last = self.longestChain()\r\n",
    "          while last!= None:\r\n",
    "                if last == block: #need more of a check for if fork\r\n",
    "                        # print(\"last\",last.height,\"block\", block.height)\r\n",
    "                        return True\r\n",
    "                last = last.previous\r\n",
    "          return False"
   ],
   "outputs": [],
   "metadata": {
    "id": "CDX_Rs4rubpy"
   }
  },
  {
   "cell_type": "markdown",
   "source": [
    "### Uncle blockchain"
   ],
   "metadata": {}
  },
  {
   "cell_type": "code",
   "execution_count": 55,
   "source": [
    "class UncleBlockchain(Blockchain):\r\n",
    "    def __init__(self, genesis_data, difficulty, block_reward=10, uncle_reward=5):\r\n",
    "        super().__init__(genesis_data, difficulty, blockReward=block_reward)\r\n",
    "        self.uncle_reward = uncle_reward\r\n",
    "        self.uncles = []\r\n",
    "    \r\n",
    "    def add(self, new_block):\r\n",
    "        self.chain.append(new_block)\r\n",
    "        new_block.previous.children.append(new_block)\r\n",
    "        self.size +=1\r\n",
    "        if self.inlongestChain(new_block):\r\n",
    "            new_block.creator.reward += self.block_reward\r\n",
    "            if self.uncles and new_block.height > self.uncles[0].height:\r\n",
    "                self.referenceUncle()\r\n",
    "        else:  \r\n",
    "            self.uncles.append(new_block)\r\n",
    "\r\n",
    "    def referenceUncle(self):\r\n",
    "        uncleblock = self.uncles[-1]\r\n",
    "        uncleblock.creator.reward += self.uncle_reward\r\n",
    "        self.uncles.pop()"
   ],
   "outputs": [],
   "metadata": {}
  },
  {
   "cell_type": "markdown",
   "source": [
    "## Miners"
   ],
   "metadata": {}
  },
  {
   "cell_type": "markdown",
   "source": [
    "### Normal miner"
   ],
   "metadata": {}
  },
  {
   "cell_type": "code",
   "execution_count": 56,
   "source": [
    "class Miner:\r\n",
    "    def __init__(self, miningPower, name, blockchain=None):\r\n",
    "        self.miningPower = miningPower\r\n",
    "        self.nonce = random.randint(0,100000) #original one\r\n",
    "        # self.nonce = 0\r\n",
    "        self.name = name\r\n",
    "        self.blockchain = blockchain\r\n",
    "        self.reward = 0\r\n",
    "        self.color = \"#7EDBF6\"\r\n",
    "        if self.blockchain != None:\r\n",
    "            self.lastBlock = blockchain.longestChain()\r\n",
    "    \r\n",
    "    def UpdateLast(self):\r\n",
    "        latest = self.blockchain.longestChain()\r\n",
    "        if latest.height > self.lastBlock.height:\r\n",
    "              self.lastBlock = latest\r\n",
    "\r\n",
    "    def PoWSolver(self):\r\n",
    "        for i in range (0 , self.miningPower):\r\n",
    "            newBlock = Block(str(self.blockchain.size), self, self.lastBlock, self.nonce)\r\n",
    "            h = newBlock.hash_block()\r\n",
    "            count = numberOfInitZeros(h)\r\n",
    "            if count >= self.blockchain.difficulty:\r\n",
    "                self.blockchain.add(newBlock)\r\n",
    "                self.lastBlock = newBlock\r\n",
    "            self.nonce += 1\r\n"
   ],
   "outputs": [],
   "metadata": {}
  },
  {
   "cell_type": "markdown",
   "source": [
    "### Selfish miner"
   ],
   "metadata": {}
  },
  {
   "cell_type": "code",
   "execution_count": 57,
   "source": [
    "\r\n",
    "class SelfishMiner(Miner):\r\n",
    "    def __init__(self, miningPower, name, blockchain=None):\r\n",
    "        super().__init__(miningPower, name, blockchain)\r\n",
    "        self.privateBlocks = []\r\n",
    "        self.publishNext = False\r\n",
    "        self.color = \"#F59AEE\"\r\n",
    "\r\n",
    "    def UpdateLast(self):\r\n",
    "        #add this function\r\n",
    "        latest = self.blockchain.longestChain()\r\n",
    "        publicheight = latest.height\r\n",
    "        if publicheight > self.lastBlock.height:\r\n",
    "            self.privateBlocks = []\r\n",
    "            self.lastBlock = latest\r\n",
    "            self.publishNext = False\r\n",
    "        if publicheight == self.lastBlock.height-1 and len(self.privateBlocks)> 1:\r\n",
    "            for block in self.privateBlocks:\r\n",
    "                self.blockchain.add(block)\r\n",
    "                self.privateBlocks = []\r\n",
    "        if publicheight == self.lastBlock.height:\r\n",
    "            for block in self.privateBlocks:\r\n",
    "                self.blockchain.add(block)\r\n",
    "                self.privateBlocks = []\r\n",
    "                self.publishNext = True\r\n",
    "\r\n",
    "    def PoWSolver(self):\r\n",
    "        #add this function\r\n",
    "        for i in range (0 , self.miningPower):\r\n",
    "            newBlock = Block(str(self.blockchain.size), self, self.lastBlock, self.nonce)\r\n",
    "            h = newBlock.hash_block()\r\n",
    "            count = numberOfInitZeros(h)\r\n",
    "            if count >= self.blockchain.difficulty:\r\n",
    "                if self.publishNext:\r\n",
    "                    self.blockchain.add(newBlock)\r\n",
    "                    self.publishNext = False\r\n",
    "                else:\r\n",
    "                    self.privateBlocks.append(newBlock)\r\n",
    "                self.lastBlock = newBlock\r\n",
    "            self.nonce += 1"
   ],
   "outputs": [],
   "metadata": {}
  },
  {
   "cell_type": "markdown",
   "source": [
    "## Main program"
   ],
   "metadata": {}
  },
  {
   "cell_type": "code",
   "execution_count": 58,
   "source": [
    "#Main\r\n",
    "def run(\r\n",
    "        reward=10, uncle_reward=0,\r\n",
    "        difficulty=10,\r\n",
    "        num_miners=10,\r\n",
    "        num_selfish_miners=0,\r\n",
    "        mining_power=10,\r\n",
    "        mining_power_selfish=15,\r\n",
    "        genesis_data=\"0\",\r\n",
    "        num_blocks = 30\r\n",
    "    ):\r\n",
    "    bc = None\r\n",
    "    if uncle_reward > 0:\r\n",
    "        bc = UncleBlockchain(genesis_data , difficulty, reward, uncle_reward)\r\n",
    "    else:\r\n",
    "        bc = Blockchain(genesis_data , difficulty, reward)\r\n",
    "    miners = []\r\n",
    "    selfish = []\r\n",
    "    for i in range(num_miners):\r\n",
    "        miners.append(Miner(mining_power ,\"m\"+str(i), bc))\r\n",
    "    for i in range(num_selfish_miners):\r\n",
    "        selfish.append(SelfishMiner(mining_power_selfish ,\"s\"+str(i), bc))\r\n",
    "    while bc.size < num_blocks:\r\n",
    "        for s in selfish:\r\n",
    "            s.PoWSolver()\r\n",
    "\r\n",
    "        for m in miners:\r\n",
    "            m.PoWSolver()\r\n",
    "\r\n",
    "        for s in selfish:\r\n",
    "            s.UpdateLast()\r\n",
    "\r\n",
    "        for m in miners:\r\n",
    "            m.UpdateLast()\r\n",
    "    return bc, miners, selfish\r\n",
    "\r\n",
    "def print_run(bc, miners, selfish):\r\n",
    "    print(\"Has fork:\", bc.hasFork())\r\n",
    "    longest_chain = bc.longestChain()\r\n",
    "    print(\"Longest chain height:\",longest_chain.height)\r\n",
    "    selfish_power = 0\r\n",
    "    for s in selfish:\r\n",
    "        selfish_power+=s.miningPower\r\n",
    "        print(s.name, bc.checkMiner(s))\r\n",
    "        print(\"Fraction {}\".format(bc.checkMiner(s) /longest_chain.height ))\r\n",
    "    total = selfish_power\r\n",
    "    for m in miners:\r\n",
    "        total += m.miningPower\r\n",
    "    print(\"alpha {}\".format(selfish_power / total))\r\n",
    "    for m in miners:    \r\n",
    "        print(m.name ,m.reward)\r\n",
    "    for s in selfish:    \r\n",
    "        print(s.name ,s.reward)\r\n",
    "        "
   ],
   "outputs": [],
   "metadata": {}
  },
  {
   "cell_type": "code",
   "execution_count": 68,
   "source": [
    "import matplotlib.pyplot as plt\r\n",
    "from matplotlib import colors\r\n",
    "# show(bc)\r\n",
    "# miner_rewards_avg = [0]*20\r\n",
    "# miner_names_avg = []\r\n",
    "# for i in range(10):\r\n",
    "#     bc, m, s = run(num_miners=20, num_blocks=1000)\r\n",
    "    # for mi in range(0,len(m)):\r\n",
    "        # print(miner_rewards_avg,\"avg\")\r\n",
    "        # print(m[mi])\r\n",
    "        # miner_rewards_avg[mi] += m[mi].reward\r\n",
    "# miner_rewards_avg[:] = [x / 10 for x in miner_rewards_avg]\r\n",
    "    \r\n",
    "# bc, m, s = run(num_miners=20, num_blocks=1000)\r\n",
    "\r\n",
    "# miner_rewards = []\r\n",
    "# for miners in m:\r\n",
    "#     miner_rewards.append((miners.reward))\r\n",
    "# miner_names = [\"m\"+ str(i) for i, _ in enumerate(miner_rewards_avg)]\r\n",
    "# plt.bar(miner_names,miner_rewards_avg)"
   ],
   "outputs": [
    {
     "output_type": "execute_result",
     "data": {
      "text/plain": [
       "<BarContainer object of 20 artists>"
      ]
     },
     "metadata": {},
     "execution_count": 68
    },
    {
     "output_type": "display_data",
     "data": {
      "image/png": "[encoded data removed]",
      "text/plain": [
       "<Figure size 432x288 with 1 Axes>"
      ]
     },
     "metadata": {
      "needs_background": "light"
     }
    }
   ],
   "metadata": {
    "colab": {
     "base_uri": "https://localhost:8080/",
     "height": 710
    },
    "id": "kna594Z_3mYa",
    "outputId": "5547e5db-ed7a-4e59-a4d0-597ee98f89f7"
   }
  }
 ],
 "metadata": {
  "colab": {
   "collapsed_sections": [],
   "name": "lecture5_Attacks.ipynb",
   "provenance": []
  },
  "kernelspec": {
   "name": "python3",
   "display_name": "Python 3.9.7 64-bit (windows store)"
  },
  "language_info": {
   "name": "python",
   "version": "3.9.7",
   "mimetype": "text/x-python",
   "codemirror_mode": {
    "name": "ipython",
    "version": 3
   },
   "pygments_lexer": "ipython3",
   "nbconvert_exporter": "python",
   "file_extension": ".py"
  },
  "interpreter": {
   "hash": "2e5f00c86f82e8626bcf438a22bf019644939299f8b9f90a74399eb4e5a788c5"
  }
 },
 "nbformat": 4,
 "nbformat_minor": 5
}