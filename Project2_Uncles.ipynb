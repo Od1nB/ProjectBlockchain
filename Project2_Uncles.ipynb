{
 "cells": [
  {
   "cell_type": "markdown",
   "metadata": {},
   "source": [
    "# Project 2: Uncles and Uncles Rewards\n",
    "- Model a Blockchain that uses uncles and uncle rewards\n",
    "- Model rewarding mechanism to reward uncle block creators\n",
    "- Model selfish mining (only one attacker) in this blockchain\n",
    "\n",
    "Try to answer the following questions with your experiment:\n",
    "1. How do uncles improve the fairness of the blockchain? For this, you should compare the outcome of miners with and without uncles.\n",
    "2. What is the impact of uncles on selfish mining? Is selfish mining more profitable with uncles?\n",
    "3. What does it mean in this model for the selfish mining attack to be profitable?\n",
    "\n",
    " Since more miners will get rewards for mining, even if they don't finish a block that is part of the longest chain, they will be rewarded for it. So the time and energy used for that block will not be as wasted, and it seems more rewarding to mine. Show net money with and without uncle rewards to display point. The concept of it is for fairness, but may encourage selfish mining. "
   ]
  },
  {
   "cell_type": "markdown",
   "metadata": {},
   "source": [
    "## Introduction\n",
    "\n",
    "Blockchains are currently a hot topic of research, and they have their fair share of problems. In this project, we will explore the concepts of uncles and uncles rewards in blockchains. Uncles is a measure that can be implemented in a blockchain to improve fairness, and it functions by giving some money to miners who lose their mined blocks in a fork while also giving some incentive to the other miners to include this reward in their own blocks. This project assumes knowledge of the implementation of proof-of-work and a full blockchain.\n",
    "\n",
    "### Uncles and uncles reward\n",
    "\n",
    "An uncle is essentailly a block that was discarded because it ended up in a fork that didn't grow to be the longest chain. It is called uncle because it is a block that builds on another block, it's parent, which is also the parent of another block, it's sibling, that ended up in the longest chain, and therefore has a child block that can be regarded as the nephew of that first block. This means it only becomes an uncle block when it has a uncle/nephew relationship with a block in the longest chain. The idea is that the miner who mined the uncle block should also get some reward for the effort they spent to mine that block, and this should in theory increase the fairness of the blockchain.\n",
    "\n",
    "![Uncle and nephew blocks](Figures/UncleBlock.png?raw=true \"Uncle and nephew blocks\")\n",
    "\n",
    "In order to make miners include a uncle reward in the blocks they mine, it is also important that the nephew also gets some reward. So in total, two new rewards/transactions are added, the nephew reward and the uncle reward, in order to help aleviate the loss incured when mining a block that ends up in a discarded fork.\n",
    "\n",
    "There are multiple different implementations possible for this kind of reward system, with differences like:\n",
    "\n",
    "- How many uncles can a single nephew give rewards to?\n",
    "- How far apart in the chain can two blocks be while still being considered uncle/nephew?\n",
    "- If an uncle reward can be given to a block that's further apart than a direct uncle, should the reward be the same? If not, how much should it decrease by?\n",
    "- How much is the uncle reward?\n",
    "- How much is the nephew reward?\n",
    "- Can an uncle reward be given to child blocks of an uncle, or just the uncle?\n",
    "\n",
    "And all of these parameters may affect the fairness. In addition to that, they may have unintended consequenses, like encouraging mining on a fork that isn't the longest, if implemented wrong.\n",
    "\n",
    "Our assumptions before we run any experiments: We believe that\n",
    "\n",
    "- adding uncles rewards will increase the fairness, and that a block and uncle reward configuration similar to ethereum will be optimal.\n",
    "- adding uncles rewards will make selfish mining less risky, since the selfish miner is prone to ending up in forks if it does not have a large portion of the mining power.\n",
    "- selfish mining will be more profitable with uncles, both with great mining power, but also with lower mining power, as compared to selfish mining without uncles.\n",
    "- selfish mining will profit more with more mining power, compared to an honest miner with similar mining power."
   ]
  },
  {
   "cell_type": "markdown",
   "metadata": {},
   "source": [
    "### Imports\n",
    "We extracted the drawBlockchain() function from the notebook and it is imported into this notebook "
   ]
  },
  {
   "cell_type": "code",
   "execution_count": 27,
   "metadata": {
    "colab": {
     "base_uri": "https://localhost:8080/"
    },
    "id": "ef05ce3c",
    "outputId": "935d959b-21d0-4d92-bae9-3e8c72e8ae1c"
   },
   "outputs": [],
   "source": [
    "#Import statements\n",
    "from draw_blockchain import show\n",
    "import hashlib as hasher\n",
    "import random\n",
    "import numpy as np\n",
    "import matplotlib.pyplot as plt\n",
    "from dataclasses import dataclass\n",
    "import functools\n",
    "import operator\n",
    "import pandas as pd"
   ]
  },
  {
   "cell_type": "markdown",
   "metadata": {},
   "source": [
    "### Hash function\n",
    "Copy of the hashing functions used in the lecture 5 notebook. This could have been abstracted to random numbers of some kind, since we are not interesed in the hasing. The mining power is just defined as how many _tries_ each round the miners get at solving the pow. However we did not focus on this, and therefore it is just as in the lectures."
   ]
  },
  {
   "cell_type": "code",
   "execution_count": 28,
   "metadata": {},
   "outputs": [],
   "source": [
    "def hashbits(input):\n",
    "    hash_obj = hasher.sha256()\n",
    "    inputbytes = input.encode()\n",
    "    hash_obj.update(inputbytes)\n",
    "    hashbytes = hash_obj.digest()\n",
    "    return ''.join(f'{x:08b}' for x in hashbytes)\n",
    "\n",
    "def hash(input):\n",
    "    hash_obj = hasher.sha256()\n",
    "    inputbytes = input.encode()\n",
    "    #print(type(inputbytes))\n",
    "    hash_obj.update(inputbytes)\n",
    "    return hash_obj.hexdigest()\n",
    "\n",
    "def numberOfInitZeros(hashStr):\n",
    "    count = 0\n",
    "    for i in range (0 , len(hashStr)):\n",
    "        if hashStr[i] == '1':\n",
    "            break\n",
    "        count += 1\n",
    "    return count"
   ]
  },
  {
   "cell_type": "markdown",
   "metadata": {},
   "source": [
    "### Block\n",
    "Same as in the lecture notebook. A block in this simulation is just a container for each node in the blockchain with reference to the previous block, the miner who created it, blocks to which this block is a parent, it's distance from the genesis block, and everything needed to produce the hash(like the data and the nonce). It does not include any transactions or any reward."
   ]
  },
  {
   "cell_type": "code",
   "execution_count": 29,
   "metadata": {},
   "outputs": [],
   "source": [
    "class Block:\n",
    "    def __init__(self, data, creator=None, previous=None, nonce=0, blockchain=None):\n",
    "        self.data = data\n",
    "        if previous is None:\n",
    "            self.previous = None\n",
    "            self.previous_hash = \"\"\n",
    "            self.creator = Miner(0 , \"0\", blockchain, genesis=True)\n",
    "            self.height = 0\n",
    "            self.color = \"#AEF751\"\n",
    "        else:\n",
    "            self.previous = previous\n",
    "            self.previous_hash = previous.hash\n",
    "            self.creator = creator\n",
    "            self.height = previous.height+1\n",
    "            self.color = creator.color\n",
    "        self.nonce = nonce\n",
    "        self.hash = self.hash_block()\n",
    "        self.children = []\n",
    "\n",
    "    def hash_block(self):\n",
    "        return hashbits(self.data + self.creator.name + self.previous_hash + str(self.nonce))\n",
    "\n",
    "    def print(self):\n",
    "        print(self.data + \" \"+ self.creator.name + \" \" + str(self.height))"
   ]
  },
  {
   "cell_type": "markdown",
   "metadata": {
    "id": "ac097c16"
   },
   "source": [
    "### Blockchain\n",
    "Same as in the lecture notebook, but we added some helper functions, end_with_fork(), inlongestChain(block) and forks(), where the latter two are are to be used after simulation to get information about the state of the chain, like blocks part of the longest chain. forks() was used to monitor how many forks the blockchain ended up with in the end, so we could tune the parameters. It was decided that the blockchain could not end with a fork, so ends_with_fork was made to check this."
   ]
  },
  {
   "cell_type": "code",
   "execution_count": 30,
   "metadata": {
    "id": "CDX_Rs4rubpy"
   },
   "outputs": [],
   "source": [
    "class Blockchain:\n",
    "    def __init__(self, genesis_data, difficulty, static=False):\n",
    "        self.chain = []\n",
    "        self.difficulty = difficulty\n",
    "        self.size = 0\n",
    "        self.static = static\n",
    "        self.chain.append(Block(genesis_data, blockchain=self))\n",
    "\n",
    "    def longestChain(self, static=-1):\n",
    "      max = self.chain[0].height\n",
    "      for block in self.chain:\n",
    "          if block.height > max:\n",
    "                max = block.height\n",
    "      maxes = [block for block in self.chain if block.height == max]\n",
    "      r = maxes[static%len(maxes):static%len(maxes)+1] if static >= 0 else random.choices(maxes, k=1)\n",
    "      return r[0]\n",
    "    \n",
    "    def ends_with_fork(self):\n",
    "        max = self.chain[0].height\n",
    "        r = False\n",
    "        for block in self.chain:\n",
    "            if block.height == max: r = True\n",
    "            if block.height > max:\n",
    "                max = block.height\n",
    "                r = False\n",
    "        return r\n",
    "        \n",
    "    def add(self, newBlock):\n",
    "        self.chain.append(newBlock)\n",
    "        newBlock.previous.children.append(newBlock)\n",
    "        self.size +=1\n",
    "        \n",
    "    def print(self):\n",
    "        for block in self.chain:\n",
    "            block.print()\n",
    "            print(\"________\")\n",
    "\n",
    "    def hasFork(self):\n",
    "        for block1 in self.chain:\n",
    "            for block2 in self.chain:\n",
    "                if block1!=block2 and block1.height == block2.height:\n",
    "                    return True\n",
    "        return False\n",
    "\n",
    "    def checkMiner(self, miner):\n",
    "      last = self.longestChain(miner.static)\n",
    "      count = 0\n",
    "      while last!=None:\n",
    "          if last.creator == miner:\n",
    "                count += 1\n",
    "          last = last.previous\n",
    "      return count\n",
    "    \n",
    "    def inlongestChain(self, block):\n",
    "          last = self.longestChain()\n",
    "          while last!= None:\n",
    "                if last == block:\n",
    "                        return True\n",
    "                last = last.previous\n",
    "          return False\n",
    "          \n",
    "    def forks(self):\n",
    "        fork_list = []\n",
    "        last = self.longestChain()\n",
    "        while last != None:\n",
    "            for child in last.children:\n",
    "                if not self.inlongestChain(child):\n",
    "                    length = 1\n",
    "                    forkblock = child\n",
    "                    while forkblock.children:\n",
    "                        length += 1\n",
    "                        forkblock = forkblock.children[0]\n",
    "                    fork_list.append(length)\n",
    "            last = last.previous\n",
    "        return fork_list\n"
   ]
  },
  {
   "cell_type": "markdown",
   "metadata": {},
   "source": [
    "## Miners\n",
    "A miner is an actor who mines blocks. Miner has a name, a reference to the blockchain they are mining on, a certain power(which is just a number), and some data used to calculate rewards and display the blockchain later on. The miner will have a property called static if the blockchain they are mining on is static(explained later) used for debugging. The update last function will get a block with the greatest height, at random if there are multiple(there is a fork), and set this as the new block to be \"mined on top of\". The PoWSolver function will make and hash a block, trying to solve Proof-of-Work as many times as the miner has mining power. This means that a miner with $\\text{n}$ mining power will try to solve PoW $\\text{n}$ times each round. If it finds a solution, it will add it to the blockchain and continue until it has used up it's power."
   ]
  },
  {
   "cell_type": "markdown",
   "metadata": {},
   "source": [
    "### Normal miner"
   ]
  },
  {
   "cell_type": "code",
   "execution_count": 31,
   "metadata": {},
   "outputs": [],
   "source": [
    "class Miner:\n",
    "    def __init__(self, miningPower, name, blockchain=None, genesis=False):\n",
    "        self.miningPower = miningPower\n",
    "        self.nonce = 0 if blockchain.static else random.randint(0,100000) #original one\n",
    "        # self.nonce = 0\n",
    "        self.name = name\n",
    "        self.blockchain = blockchain\n",
    "        self.color = \"#7EDBF6\"\n",
    "        self.uncles = 0\n",
    "        self.nephews = 0\n",
    "        self.blocks = 0\n",
    "        self.static = sum([ord(c) for c in name]) if blockchain.static else -1\n",
    "        if self.blockchain != None and not genesis:\n",
    "            self.lastBlock = blockchain.longestChain(static=self.static)\n",
    "    \n",
    "    def UpdateLast(self):\n",
    "        latest = self.blockchain.longestChain(static=self.static)\n",
    "        if latest.height > self.lastBlock.height:\n",
    "              self.lastBlock = latest\n",
    "\n",
    "    def PoWSolver(self):\n",
    "        for i in range (0 , self.miningPower):\n",
    "            newBlock = Block(str(self.blockchain.size), self, self.lastBlock, self.nonce)\n",
    "            h = newBlock.hash_block()\n",
    "            count = numberOfInitZeros(h)\n",
    "            if count >= self.blockchain.difficulty:\n",
    "                self.blockchain.add(newBlock)\n",
    "                self.lastBlock = newBlock\n",
    "            self.nonce += 1\n"
   ]
  },
  {
   "cell_type": "markdown",
   "metadata": {},
   "source": [
    "### Selfish miner\n",
    "A selfish miner is a miner who does not publish it's blocks immediately upon solving PoW. It will update it's last block as a normal miner unless it finds a solution to PoW, in which case it will instead keep this block hidden and mine on top of it, effectively making a new separate chain/fork that runs paralell to the public chain. If the public chain catches up to the hidden one, the selfish miner will publish this hidden chain, in order to make this the new longest public chain. The selfish miner will publish it's chain when the public chain has height one less than it's own hidden chain, or if it is equal(in which case the hidden chain should have length 1). The PoWSolver is the same as a normal miner, except the block is added to the hidden chain instead of the pulic one. The Finish method is used to make sure the selfish miner publishes all blocks in the hidden chain when the simulation ends, to make sure that a selfish miner doesn't lose rewards because it \"forgot\" to publish blocks."
   ]
  },
  {
   "cell_type": "code",
   "execution_count": 32,
   "metadata": {},
   "outputs": [],
   "source": [
    "class SelfishMiner(Miner):\n",
    "    def __init__(self, miningPower, name, blockchain=None):\n",
    "        super().__init__(miningPower, name, blockchain)\n",
    "        self.privateBlocks = []\n",
    "        self.publishNext = False\n",
    "        self.color = \"#F59AEE\"\n",
    "\n",
    "    def UpdateLast(self):\n",
    "        latest = self.blockchain.longestChain()\n",
    "        publicheight = latest.height\n",
    "        if publicheight > self.lastBlock.height:\n",
    "            self.privateBlocks = []\n",
    "            self.lastBlock = latest\n",
    "        if publicheight == self.lastBlock.height-1 and len(self.privateBlocks) > 1:\n",
    "            for block in self.privateBlocks:\n",
    "                self.blockchain.add(block)\n",
    "            self.privateBlocks = []\n",
    "        if publicheight == self.lastBlock.height and len(self.privateBlocks) > 0:\n",
    "            for block in self.privateBlocks:\n",
    "                self.blockchain.add(block)\n",
    "            self.privateBlocks = []\n",
    "    \n",
    "    def Finish(self):\n",
    "        for block in self.privateBlocks:\n",
    "            self.blockchain.add(block)\n",
    "        self.privateBlocks = []\n",
    "\n",
    "    def PoWSolver(self):\n",
    "        for i in range (0 , self.miningPower):\n",
    "            newBlock = Block(str(self.blockchain.size), self, self.lastBlock, self.nonce)\n",
    "            h = newBlock.hash_block()\n",
    "            count = numberOfInitZeros(h)\n",
    "            if count >= self.blockchain.difficulty:\n",
    "                self.privateBlocks.append(newBlock)\n",
    "                self.lastBlock = newBlock\n",
    "            self.nonce += 1"
   ]
  },
  {
   "cell_type": "markdown",
   "metadata": {},
   "source": [
    "## Main program"
   ]
  },
  {
   "cell_type": "markdown",
   "metadata": {},
   "source": [
    "### Run function\n",
    "run() will run the simulation once. First it will create the blockchain, miners and selfish miners, then it will run rounds of PoW and updating for each miner, starting with the selfish ones. It will run rounds until the public chain is at least num_blocks long, but it will not end on a fork, and if the selfish miner has hidden blocks, the finish method will make sure they are included. This method should only be run with a single selfish miner, since it has not been tested with more than one. The run function is made to be very configurable, allowing for miners with different mining power. Lastly, the mined blocks will be claculated and awarded to each miner, as well as finding which blocks are uncle blocks and nephew blocks, which is all stored with the miner. The simulation returns the blockchain that was made and the miners, where honest miners is separated from selfish miners."
   ]
  },
  {
   "cell_type": "code",
   "execution_count": 33,
   "metadata": {},
   "outputs": [],
   "source": [
    "def run(\n",
    "        difficulty=10,\n",
    "        num_miners=10,\n",
    "        num_selfish_miners=0,\n",
    "        mining_power=10,\n",
    "        mining_power_selfish=15,\n",
    "        genesis_data=\"0\",\n",
    "        num_blocks = 30,\n",
    "        miners = [],\n",
    "        static=False\n",
    "    ):\n",
    "    bc = None\n",
    "    bc = Blockchain(genesis_data , difficulty, static)\n",
    "    miners = [Miner(p, \"m\"+ str(i), bc) for i,p in enumerate(miners)]\n",
    "    selfish = []\n",
    "    len_miners = len(miners)\n",
    "    for i in range(num_miners):\n",
    "        miners.append(Miner(mining_power ,\"m\"+str(len_miners+i), bc))\n",
    "    for i in range(num_selfish_miners):\n",
    "        selfish.append(SelfishMiner(mining_power_selfish ,\"s\"+str(i), bc))\n",
    "    while bc.chain[-1].height < num_blocks or bc.ends_with_fork():\n",
    "        for s in selfish:\n",
    "            s.PoWSolver()\n",
    "\n",
    "        for m in miners:\n",
    "            m.PoWSolver()\n",
    "\n",
    "        for s in selfish:\n",
    "            s.UpdateLast()\n",
    "\n",
    "        for m in miners:\n",
    "            m.UpdateLast()\n",
    "\n",
    "    # Making sure the private blocks are published.\n",
    "    for s in selfish:\n",
    "        s.Finish()\n",
    "\n",
    "    for s in selfish:\n",
    "        s.UpdateLast()\n",
    "\n",
    "    for m in miners:\n",
    "        m.UpdateLast()\n",
    "    \n",
    "    calculate_blocks(bc)\n",
    "    return bc, miners, selfish\n",
    "\n",
    "def calculate_blocks(bc):\n",
    "    last_block = bc.chain[-1]\n",
    "    while last_block.previous is not None:\n",
    "        last_block.creator.blocks += 1\n",
    "        grandparent = last_block.previous.previous\n",
    "        if grandparent is not None and len(grandparent.children) > 1:\n",
    "            for uncle in grandparent.children:\n",
    "                if uncle != last_block.previous:\n",
    "                    uncle.creator.uncles += 1\n",
    "                    last_block.creator.nephews += 1\n",
    "        last_block=last_block.previous"
   ]
  },
  {
   "cell_type": "markdown",
   "metadata": {},
   "source": [
    "### Fairness function"
   ]
  },
  {
   "cell_type": "markdown",
   "metadata": {},
   "source": [
    "#### Fairness\n",
    "Before we continue, it is important to define fairness: the fairness for an individual miner is defined as the portion of the reward given to them compared to the portion of mining power they have. Which is the same as their ratio of reward to power, compared to the total ratio of the same.\n",
    " \n",
    "$Fairness(miner) = \\frac{\\text{miner reward}}{\\text{total reward}} / \\frac{\\text{miner power}}{\\text{total power}}$\n",
    "\n",
    "Using this measure, the closer the value is to 1, the more fair the chain is for that particular miner. It is important to note that this measure is defined on the interval $\\left[0, \\frac{\\text{total power}}{\\text{miner power}}\\right].$ The fairness changes equally when increasing or decreasing the reward, in absolute terms, not relative. That means that when increasing the reward by some amount $\\text{k}$ coins, it changes the fairness the same amount as if the reward had been decreased by $\\text{k}$ coins. This is in contrast to a relative fairness measure where increasing the reward by a factor of $\\text{x}$ would have the same amount of dividing the reward by $\\text{x}.$\n",
    "\n",
    "To figure out how fair the chain as a whole is, we cannot take the average of the fairness for each miner, since the increased portion of reward for one miner would always result in less for the others, making the average always hover around 1, even when one miner is hoggin a much larger portion than it should. Instead, a cumulative measure of the absolute distance from totally fair, $Fairness = 1$, for each miner would be more useful, however this would be a measure of unfairness, not fariness. This unfairness measurement is useful however, as it has the same properties as the fairness, but can be used to measure the blockchain as a whole. In addition to this, we will use a relative fairness measure, defined as\n",
    "\n",
    "$$\n",
    "    \\begin{equation}\n",
    "       RF = \n",
    "        \\begin{cases}\n",
    "            1-\\frac{\\text{fairness} \\times \\text{miner power}}{\\text{total power}} & \\text{if fairness > 1} \\\\\n",
    "            \\text{fairness} & \\text{otherwise}\n",
    "        \\end{cases}\n",
    "    \\end{equation}\n",
    "$$\n",
    "\n",
    "This measure $\\text{RF}$ has the properties that it will always be between 0 and 1, where 1 is totally fair and 0 is totally unfair, and doubling the reward will have the same effect on the fairness as halving it. The fairness of the whole blockchain can then be meausred as the average of either $\\text{RF}$ or the average of the unfairness."
   ]
  },
  {
   "cell_type": "code",
   "execution_count": 34,
   "metadata": {},
   "outputs": [],
   "source": [
    "def fairness(df, reward=32, uncle_reward=22, nephew_reward=1, suffix=\"\"):\n",
    "    total_power = df[[\"power\"]].sum().power\n",
    "    rewards = df[\"blocks\"] * reward + df[\"uncles\"] * uncle_reward + df[\"nephews\"] * nephew_reward\n",
    "    total_reward = rewards.sum()\n",
    "    fairness_miners = (rewards/total_reward)/(df[\"power\"]/total_power)\n",
    "    unfairness = (fairness_miners-1).abs()\n",
    "    fairness_miners.rename(\"fairness\", inplace=True)\n",
    "    relative_fairness = df.join(fairness_miners)\n",
    "    relative_fairness = relative_fairness.apply(lambda row: row.fairness if row.fairness <= 1 else 1-(row.fairness*row.power/total_power), axis=1)\n",
    "    fairness_miners.rename(\"fairness\" + suffix, inplace=True)\n",
    "    unfairness.rename(\"unfairness\" + suffix, inplace=True)\n",
    "    relative_fairness.rename(\"relative_fairness\" + suffix, inplace=True)\n",
    "    return fairness_miners, unfairness, relative_fairness"
   ]
  },
  {
   "cell_type": "markdown",
   "metadata": {},
   "source": [
    "### Dataclass\n",
    "Used for formatting the run function output. Returns a dataframe that we can easily get the information we need, after simulating."
   ]
  },
  {
   "cell_type": "code",
   "execution_count": 35,
   "metadata": {},
   "outputs": [],
   "source": [
    "@dataclass\n",
    "class Stats:\n",
    "    name: str\n",
    "    blocks: int\n",
    "    uncles: int\n",
    "    nephews: int\n",
    "    power: int\n",
    "\n",
    "# Transform irregular 2D list into a regular one.\n",
    "def transform(nested_list):\n",
    "    regular_list = []\n",
    "    for e in nested_list:\n",
    "        if type(e) is list:\n",
    "            regular_list.append(e)\n",
    "        else:\n",
    "            regular_list.append([e])\n",
    "    return functools.reduce(operator.iconcat, regular_list, [])\n",
    "\n",
    "def get_stats(*miners):\n",
    "    if len(miners) == 0:\n",
    "        return []\n",
    "    stats = []\n",
    "    transformed_miners = transform(miners)\n",
    "    \n",
    "    for m in transformed_miners:\n",
    "        stats.append(Stats(\n",
    "            m.name,\n",
    "            m.blocks,\n",
    "            m.uncles,\n",
    "            m.nephews,\n",
    "            m.miningPower\n",
    "        ))\n",
    "    return pd.DataFrame(stats)"
   ]
  },
  {
   "cell_type": "markdown",
   "metadata": {},
   "source": [
    "The reward is calculated after the simulation by simply taking the blocks, uncle blocks and nephew blocks for each miner and multiplying it by the supplied amount. This is inserted directly onto the dataframe for miners."
   ]
  },
  {
   "cell_type": "code",
   "execution_count": 36,
   "metadata": {},
   "outputs": [],
   "source": [
    "def add_rewards(df, block_reward=10, uncle_reward=0, nephew_reward=0):\n",
    "    df[\"reward\"] = df[\"blocks\"] * block_reward\n",
    "    df[\"uncle_reward\"] = df[\"blocks\"] * block_reward + df[\"uncles\"] * uncle_reward + df[\"nephews\"] * nephew_reward\n",
    "    df[\"portion_reward\"] = df[\"reward\"]*100/df[\"reward\"].sum()\n",
    "    df[\"portion_uncle_reward\"] = df[\"uncle_reward\"]*100/df[\"uncle_reward\"].sum()"
   ]
  },
  {
   "cell_type": "markdown",
   "metadata": {},
   "source": [
    "### Average function\n",
    "Since we are dealing with randomness, the individual results of each run vary tons, so much in fact that they do not give results that we can base our answers on. One simulation could give miner number 8 (out of 10, and all equal) a reward of 200 out of 100 blocks with blockreward 10, which is twice the _correct_ amount each miner should get, if they were equal and we wanted an equal distribution. Therefore we made an average function that uses the run() function n amount of times, and divides the results based on number of simulations. This gives a better representation of how the blockchain rewards different miners for different configurations. "
   ]
  },
  {
   "cell_type": "code",
   "execution_count": 37,
   "metadata": {},
   "outputs": [],
   "source": [
    "def getavg(tests, run_func, **kwargs):\n",
    "    args = set(kwargs)\n",
    "    num_nodes = 0\n",
    "    if \"num_blocks\" in kwargs:\n",
    "        miner_args = {\"num_miners\",\"miners\",\"num_selfish_miners\"}.intersection(args)\n",
    "        if miner_args:\n",
    "            for arg in miner_args:\n",
    "                val = kwargs.get(arg)\n",
    "                num_nodes += len(val) if type(val) == list else val\n",
    "        dfout = pd.DataFrame()\n",
    "        for i in range(tests):\n",
    "            bc, m, s = run_func(**kwargs)\n",
    "            dfa = get_stats(s,m)\n",
    "            if dfout.empty:\n",
    "                dfout = dfa\n",
    "            else:\n",
    "                dfout[['blocks', 'uncles', 'nephews']] += dfa[['blocks', 'uncles', 'nephews']]\n",
    "        dfout[['blocks', 'uncles', 'nephews']] = dfout[['blocks', 'uncles', 'nephews']] / tests\n",
    "    else:\n",
    "        dfout = pd.DataFrame()\n",
    "    return dfout"
   ]
  },
  {
   "cell_type": "markdown",
   "metadata": {},
   "source": [
    "### BarPlot\n",
    "Two bar plot functions, one for a single data source, and one for two groups that we would want to compare"
   ]
  },
  {
   "cell_type": "code",
   "execution_count": 38,
   "metadata": {},
   "outputs": [],
   "source": [
    "def bar2groups(group1, group2, names=None, label1=None, label2=None, title=None):\n",
    "    if len(group1.tolist()) != len(group2.tolist()):\n",
    "        print(\"groups must be the same length\")\n",
    "        return \"\"\n",
    "    else:\n",
    "        width = 0.35\n",
    "        xpos = np.arange(len(group1))\n",
    "        fig, ax = plt.subplots()\n",
    "        ax.bar(xpos - width/2, group1, width, label= label1)\n",
    "        ax.bar(xpos + width/2, group2, width, label= label2)\n",
    "\n",
    "        ax.set_ylabel(\"Rewards\")\n",
    "        ax.set_title(title)\n",
    "        ax.set_xticks(xpos)\n",
    "        ax.set_xticklabels(names)\n",
    "        ax.legend()\n",
    "        fig.tight_layout()\n",
    "        plt.show()"
   ]
  },
  {
   "cell_type": "code",
   "execution_count": 39,
   "metadata": {},
   "outputs": [],
   "source": [
    "def barplot(vals, names, label, title):\n",
    "        plt.bar(names, vals)\n",
    "        plt.xlabel(label)\n",
    "        plt.ylabel(\"Rewards\")\n",
    "        plt.title(title)\n",
    "        plt.show()"
   ]
  },
  {
   "cell_type": "markdown",
   "metadata": {},
   "source": [
    "### Static chain\n",
    "\n",
    "In order to reliably test the code, we decided that it was neccessary to implement a version of the blockchain without any randomness. This is achieved with the static parameter for the run method. Normally, the miners will pick randomly between block of the same height to mine on top of, but for the static chain, they will instead use their name to calculate an index (using the mod operator and sum(ord)) of their name) to select which block to mine on top of. \n",
    "\n",
    "Below you can see a chain that has 8 blocks in the longest, with two forks. It will always be that specific chain with the same miners on the same blocks, i.e. miner 7 will always get block 2. The chain has two forks, one of length 1 and one of length 2. We have implemented a uncle reward where a uncle who gets referenced will get a static reward, and the one referencing it will get a smaller nephew reward. In the case below, only two blocks should receive uncle rewards, the block miner 1 made that is the first in the first fork, and the block made by miner 7, in the second fork. This was easy to debug and below you can see the resulting dataframe.\n"
   ]
  },
  {
   "cell_type": "code",
   "execution_count": 40,
   "metadata": {},
   "outputs": [
    {
     "data": {
      "text/html": [
       "<svg height=\"345\" width=\"920\"><defs><marker id=\"markerArrow\" markerWidth=\"10\" markerHeight=\"10\" refX=\"2\" refY=\"6\" orient=\"auto\"><path d=\"M2,2 L2,11 L10,6 L2,2\" style=\"fill: #000000;\" /> </marker> </defs><g><rect x=\"30\" y=\"30\" width=\"60\" height=\"60\" stroke=\"black\" stroke-width=\"1\" fill=\"#AEF751\" /><text x=\"60\" y=\"60\" dominant-baseline=\"middle\" text-anchor=\"middle\" font-family=\"Verdana\" font-size=\"10\" font-weight=\"bold\" fill=\"black\">0</text></g><g><rect x=\"130\" y=\"30\" width=\"60\" height=\"60\" stroke=\"black\" stroke-width=\"1\" fill=\"#7EDBF6\" /><text x=\"160\" y=\"60\" dominant-baseline=\"middle\" text-anchor=\"middle\" font-family=\"Verdana\" font-size=\"10\" font-weight=\"bold\" fill=\"black\">m0</text><line stroke-width=\"1px\" stroke=\"#000000\"  x1=130 y1=\"60\" x2=\"95\" y2=\"60\" style=\"marker-end: url(#markerArrow)\"/></g><g><rect x=\"230\" y=\"30\" width=\"60\" height=\"60\" stroke=\"black\" stroke-width=\"1\" fill=\"#7EDBF6\" /><text x=\"260\" y=\"60\" dominant-baseline=\"middle\" text-anchor=\"middle\" font-family=\"Verdana\" font-size=\"10\" font-weight=\"bold\" fill=\"black\">m7</text><line stroke-width=\"1px\" stroke=\"#000000\"  x1=230 y1=\"60\" x2=\"195\" y2=\"60\" style=\"marker-end: url(#markerArrow)\"/></g><g><rect x=\"330\" y=\"30\" width=\"60\" height=\"60\" stroke=\"black\" stroke-width=\"1\" fill=\"#7EDBF6\" /><text x=\"360\" y=\"60\" dominant-baseline=\"middle\" text-anchor=\"middle\" font-family=\"Verdana\" font-size=\"10\" font-weight=\"bold\" fill=\"black\">m4</text><line stroke-width=\"1px\" stroke=\"#000000\"  x1=330 y1=\"60\" x2=\"295\" y2=\"60\" style=\"marker-end: url(#markerArrow)\"/></g><g><rect x=\"430\" y=\"30\" width=\"60\" height=\"60\" stroke=\"black\" stroke-width=\"1\" fill=\"#7EDBF6\" /><text x=\"460\" y=\"60\" dominant-baseline=\"middle\" text-anchor=\"middle\" font-family=\"Verdana\" font-size=\"10\" font-weight=\"bold\" fill=\"black\">m5</text><line stroke-width=\"1px\" stroke=\"#000000\"  x1=430 y1=\"60\" x2=\"395\" y2=\"60\" style=\"marker-end: url(#markerArrow)\"/></g><g><rect x=\"530\" y=\"30\" width=\"60\" height=\"60\" stroke=\"black\" stroke-width=\"1\" fill=\"#7EDBF6\" /><text x=\"560\" y=\"60\" dominant-baseline=\"middle\" text-anchor=\"middle\" font-family=\"Verdana\" font-size=\"10\" font-weight=\"bold\" fill=\"black\">m3</text><line stroke-width=\"1px\" stroke=\"#000000\"  x1=530 y1=\"60\" x2=\"495\" y2=\"60\" style=\"marker-end: url(#markerArrow)\"/></g><g><rect x=\"630\" y=\"30\" width=\"60\" height=\"60\" stroke=\"black\" stroke-width=\"1\" fill=\"#7EDBF6\" /><text x=\"660\" y=\"60\" dominant-baseline=\"middle\" text-anchor=\"middle\" font-family=\"Verdana\" font-size=\"10\" font-weight=\"bold\" fill=\"black\">m9</text><line stroke-width=\"1px\" stroke=\"#000000\"  x1=630 y1=\"60\" x2=\"595\" y2=\"60\" style=\"marker-end: url(#markerArrow)\"/></g><g><rect x=\"730\" y=\"30\" width=\"60\" height=\"60\" stroke=\"black\" stroke-width=\"1\" fill=\"#7EDBF6\" /><text x=\"760\" y=\"60\" dominant-baseline=\"middle\" text-anchor=\"middle\" font-family=\"Verdana\" font-size=\"10\" font-weight=\"bold\" fill=\"black\">m6</text><line stroke-width=\"1px\" stroke=\"#000000\"  x1=730 y1=\"60\" x2=\"695\" y2=\"60\" style=\"marker-end: url(#markerArrow)\"/></g><g><rect x=\"830\" y=\"30\" width=\"60\" height=\"60\" stroke=\"black\" stroke-width=\"1\" fill=\"#7EDBF6\" /><text x=\"860\" y=\"60\" dominant-baseline=\"middle\" text-anchor=\"middle\" font-family=\"Verdana\" font-size=\"10\" font-weight=\"bold\" fill=\"black\">m7</text><line stroke-width=\"1px\" stroke=\"#000000\"  x1=830 y1=\"60\" x2=\"795\" y2=\"60\" style=\"marker-end: url(#markerArrow)\"/></g><g><rect x=\"630\" y=\"130\" width=\"60\" height=\"60\" stroke=\"black\" stroke-width=\"1\" fill=\"#7EDBF6\" /><text x=\"660\" y=\"160\" dominant-baseline=\"middle\" text-anchor=\"middle\" font-family=\"Verdana\" font-size=\"10\" font-weight=\"bold\" fill=\"black\">m7</text><line stroke-width=\"1px\" stroke=\"#000000\"  x1=630 y1=\"160\" x2=\"565\" y2=\"95\" style=\"marker-end: url(#markerArrow)\"/></g><g><rect x=\"130\" y=\"230\" width=\"60\" height=\"60\" stroke=\"black\" stroke-width=\"1\" fill=\"#7EDBF6\" /><text x=\"160\" y=\"260\" dominant-baseline=\"middle\" text-anchor=\"middle\" font-family=\"Verdana\" font-size=\"10\" font-weight=\"bold\" fill=\"black\">m1</text><line stroke-width=\"1px\" stroke=\"#000000\"  x1=130 y1=\"260\" x2=\"65\" y2=\"95\" style=\"marker-end: url(#markerArrow)\"/></g><g><rect x=\"230\" y=\"230\" width=\"60\" height=\"60\" stroke=\"black\" stroke-width=\"1\" fill=\"#7EDBF6\" /><text x=\"260\" y=\"260\" dominant-baseline=\"middle\" text-anchor=\"middle\" font-family=\"Verdana\" font-size=\"10\" font-weight=\"bold\" fill=\"black\">m2</text><line stroke-width=\"1px\" stroke=\"#000000\"  x1=230 y1=\"260\" x2=\"195\" y2=\"260\" style=\"marker-end: url(#markerArrow)\"/></g></svg>"
      ],
      "text/plain": [
       "<IPython.core.display.HTML object>"
      ]
     },
     "metadata": {},
     "output_type": "display_data"
    },
    {
     "name": "stdout",
     "output_type": "stream",
     "text": [
      "  name  blocks  uncles  nephews  power\n",
      "0   m0       1       0        0     40\n",
      "1   m1       0       1        0     40\n",
      "2   m2       0       0        0     40\n",
      "3   m3       1       0        0     40\n",
      "4   m4       1       0        0     40\n",
      "5   m5       1       0        0     40\n",
      "6   m6       1       0        1     40\n",
      "7   m7       2       1        1     40\n",
      "8   m8       0       0        0     40\n",
      "9   m9       1       0        0     40\n"
     ]
    }
   ],
   "source": [
    "bc, m, s = run(mining_power=40, num_blocks=8, static=True)\n",
    "show(bc)\n",
    "print(get_stats(m))"
   ]
  },
  {
   "cell_type": "markdown",
   "metadata": {},
   "source": [
    "## Results"
   ]
  },
  {
   "cell_type": "markdown",
   "metadata": {},
   "source": [
    "### Baseline\n",
    "\n",
    "Now that the modeling and functions are in place we will test that the blockchain we simulate is somewhat fair, even with the randomness applied.\n",
    "To begin with we ran the blockchain with 15 different miners and 100 blocks mined in total. This was done 100 times and we normalised the rewards for each miner and plotted it. In this example the miners were rewarded 10 for each block, mining power were at 10 and difficulty at 10, but we will get back to reward tweaking later."
   ]
  },
  {
   "cell_type": "code",
   "execution_count": 41,
   "metadata": {},
   "outputs": [],
   "source": [
    "df_equal = getavg(100, run, num_blocks=100, num_miners=15) # [1,12] forks avg at 4/5 forks each chain"
   ]
  },
  {
   "cell_type": "code",
   "execution_count": 42,
   "metadata": {},
   "outputs": [
    {
     "data": {
      "image/png": "[encoded data removed]",
      "text/plain": [
       "<Figure size 432x288 with 1 Axes>"
      ]
     },
     "metadata": {
      "needs_background": "light"
     },
     "output_type": "display_data"
    },
    {
     "name": "stdout",
     "output_type": "stream",
     "text": [
      "Avg reward:  66.73333333333333 vs Total block reward/15:  66.73333333333333\n",
      "Fairness:  1.0000000000000002\n",
      "Unfairness:  0.026640026640026647\n",
      "Relative fairness:  0.9635697635697635\n"
     ]
    }
   ],
   "source": [
    "barplot(df_equal[\"blocks\"]*10, df_equal[\"name\"], \"Miners\", \"Equal power miners\")\n",
    "fairness_equal, unfairness_equal, relative_fairness_equal =  fairness(df_equal, reward=10, uncle_reward=0, nephew_reward=0)\n",
    "print(\"Avg reward: \", np.mean(df_equal[\"blocks\"]*10), \"vs Total block reward/15: \", (df_equal[\"blocks\"].sum()*10)/15)\n",
    "print(\"Fairness: \", np.mean(fairness_equal.tolist()))\n",
    "print(\"Unfairness: \", np.mean(unfairness_equal.tolist()))\n",
    "print(\"Relative fairness: \", np.mean(relative_fairness_equal.tolist()))"
   ]
  },
  {
   "cell_type": "markdown",
   "metadata": {},
   "source": [
    "This showed us that all the miners had _about_ the same amount of reward when mining for a long time, on many blocks.\n",
    "The blockchain model is now somewhat fair and works as intended.\n",
    "\n",
    "\n",
    "We also did this with a single miner that had 3X the mining power of the other nodes to see if there were any difference there.\n"
   ]
  },
  {
   "cell_type": "code",
   "execution_count": 43,
   "metadata": {},
   "outputs": [],
   "source": [
    "df_big = getavg(100, run, num_blocks=100, num_miners=14, miners=[30])"
   ]
  },
  {
   "cell_type": "code",
   "execution_count": 44,
   "metadata": {},
   "outputs": [
    {
     "data": {
      "image/png": "[encoded data removed]",
      "text/plain": [
       "<Figure size 432x288 with 1 Axes>"
      ]
     },
     "metadata": {
      "needs_background": "light"
     },
     "output_type": "display_data"
    },
    {
     "name": "stdout",
     "output_type": "stream",
     "text": [
      "Avg reward:  66.69333333333334 vs Total block reward/15:  66.69333333333333\n",
      "Big miner:  182.8 vs Total block reward/15:  66.69333333333333\n",
      "Fairness:  0.9952730019103468\n",
      "Unfairness:  0.026140654849171475\n",
      "Relative fairness:  0.9522857523657201\n"
     ]
    }
   ],
   "source": [
    "barplot(df_big[\"blocks\"]*10, df_big[\"name\"], \"Miners\", \"Equal power miners\")\n",
    "fairness_equal, unfairness_equal, relative_fairness_equal =  fairness(df_big, reward=10, uncle_reward=0, nephew_reward=0)\n",
    "print(\"Avg reward: \", np.mean(df_big[\"blocks\"]*10), \"vs Total block reward/15: \", (df_big[\"blocks\"].sum()*10)/15)\n",
    "print(\"Big miner: \", df_big.loc[0,\"blocks\"]*10, \"vs Total block reward/15: \", (df_big[\"blocks\"].sum()*10)/15 )\n",
    "print(\"Fairness: \", np.mean(fairness_equal.tolist()))\n",
    "print(\"Unfairness: \", np.mean(unfairness_equal.tolist()))\n",
    "print(\"Relative fairness: \", np.mean(relative_fairness_equal.tolist()))"
   ]
  },
  {
   "cell_type": "markdown",
   "metadata": {},
   "source": [
    "The miner with 3X mining power got about 3x the reward of a \"_average_\" miner. This also works as intended. The fairness is still perserved."
   ]
  },
  {
   "cell_type": "markdown",
   "metadata": {},
   "source": [
    "### Uncle BlockChain\n",
    "\n",
    "We chose to reward the miners after running the simulation because of trouble with debugging and finding a good way of implementing uncle in the simulation. In the last part of the run function, implemented above the dataclass section, you can see that there is a calculate_blocks function call at the end. This function adds \"uncles\" to the creator. It goes through the chain backwards, blockwise, and if a _grandparent_ has more than one child it will reference each of those not in the chain. That block's creator will then increment the \"nephew\" attribute times how many uncles it referenced, and the creators of those uncle blocks will have their uncle attribute incremented. A dataframe can be be returned by the get_stats() function, and it will implement the blocks each miner got in longest, how many blocks they were uncles for and how many blocks they were nephews for.\n",
    "\n",
    "```python\n",
    "def run(\n",
    "    ...\n",
    "    calculate_blocks(bc)\n",
    "    return bc, miners, selfish\n",
    "\n",
    "def calculate_blocks(bc):\n",
    "    last_block = bc.chain[-1]\n",
    "    while last_block.previous is not None:\n",
    "        last_block.creator.blocks += 1\n",
    "        grandparent = last_block.previous.previous\n",
    "        if grandparent is not None and len(grandparent.children) > 1:\n",
    "            for uncle in grandparent.children:\n",
    "                if uncle != last_block.previous:\n",
    "                    uncle.creator.uncles += 1\n",
    "                    last_block.creator.nephews += 1\n",
    "        last_block=last_block.previous\n",
    "```"
   ]
  },
  {
   "cell_type": "markdown",
   "metadata": {},
   "source": [
    "### Configuration of rewards\n",
    "\n",
    "To find a configuration that gives good fairness we calculate the fairness for a variety of configurations. We make the assumption that the block reward should be highest, the uncle reward should be smaller, but not very small, while the nephew reward should be very small in comparison. As a starting point, ethereum can be used, which has a ratio of 28:20:1 for reward, uncle reward and nephew reward [(source)](https://medium.com/@ShariHunt/there-are-two-uncle-rewards-a67e06fa17de). The numbers 100, 30 and 10 here are picked in such a way that that configuration is possible, while allowing for some more exploration of other configurations."
   ]
  },
  {
   "cell_type": "code",
   "execution_count": 57,
   "metadata": {},
   "outputs": [],
   "source": [
    "unfairnesses = {}\n",
    "fairnesses = {}\n",
    "for r in range(10, 50):\n",
    "    for ur in range(0, min(30,r)):\n",
    "        for nr in range(min(ur,10)):\n",
    "            _, unfairness, relative = fairness(df_equal, r, ur, nr)\n",
    "            s = f\"{r},{ur},{nr}\"\n",
    "            unfairnesses[s] = np.average(unfairness)\n",
    "            fairnesses[s] = np.average(relative)"
   ]
  },
  {
   "cell_type": "markdown",
   "metadata": {},
   "source": [
    "We examine both the unfairness and the relative fairness to see which configuration would make this chain most fair. Only the top 10 are examined, for the sake of simplicity."
   ]
  },
  {
   "cell_type": "code",
   "execution_count": 58,
   "metadata": {},
   "outputs": [
    {
     "name": "stdout",
     "output_type": "stream",
     "text": [
      "32,9,8 0.926587036924756\n",
      "36,10,9 0.9265807773165865\n",
      "17,5,4 0.9265685043564282\n",
      "34,10,8 0.9265685043564282\n",
      "38,11,9 0.9265645216207014\n",
      "21,6,5 0.9265612964845796\n",
      "25,7,6 0.926556392534493\n",
      "32,10,7 0.9265546999737262\n",
      "29,8,7 0.926552840084812\n",
      "36,11,8 0.9265520277433381\n",
      "\n",
      "32,9,8 0.0876493057660826\n",
      "28,8,7 0.08765731439787552\n",
      "36,10,9 0.08766104253139988\n",
      "35,10,9 0.08766273336657249\n",
      "24,7,6 0.08767337265357786\n",
      "31,9,8 0.08767585818795723\n",
      "30,9,7 0.0876832212450422\n",
      "37,11,9 0.0876834381551362\n",
      "17,5,4 0.08768405433169726\n",
      "34,10,8 0.08768405433169726\n"
     ]
    }
   ],
   "source": [
    "for k in sorted(fairnesses, key=fairnesses.get, reverse=True)[:10]:\n",
    "    print(k, fairnesses[k])\n",
    "print(\"\")\n",
    "for k in sorted(unfairnesses, key=unfairnesses.get, reverse=False)[:10]:\n",
    "    print(k, unfairnesses[k])"
   ]
  },
  {
   "cell_type": "markdown",
   "metadata": {},
   "source": [
    "Looking at the results, it seemed to us that the nephew reward had little impact on the fairness, and may even lead to less fairness, however this has not been thoroughly examined here. \n",
    "\n",
    "We saw that a ratio of reward to uncle reward similar to that of ethereum results in highest fairness, and we saw that the differences between the top 10 are miniscule. Therefore the conclusion we made was that any of the configurations that are included in both top 10s should be decent. We found that 32:22:1 was a good options. We want a configuration that is as fair as possible, but it must also include a nephew reward in order to encourage giving uncle rewards. As such, we conclude by using the values 32:22:1 as our reward configuration, since this seemed to be a decent configuration, although we do not conclude that this is the best configuration."
   ]
  },
  {
   "cell_type": "code",
   "execution_count": 61,
   "metadata": {},
   "outputs": [],
   "source": [
    "reward = 32\n",
    "uncle_reward = 22\n",
    "nephew_reward = 1"
   ]
  },
  {
   "cell_type": "markdown",
   "metadata": {},
   "source": [
    "### Uncle rewards\n",
    "We have then found a good combination of rewards for uncle-, nephew- and normal blocks. We will then use these to model a blockchain with equal powered miners and one with a big miner. However for uncle rewards to have an effect there needs to be some amount of forks. So let us look at the difference:"
   ]
  },
  {
   "cell_type": "code",
   "execution_count": null,
   "metadata": {},
   "outputs": [],
   "source": []
  },
  {
   "cell_type": "markdown",
   "metadata": {},
   "source": [
    "## Selfish mining"
   ]
  },
  {
   "cell_type": "markdown",
   "metadata": {},
   "source": [
    "When a blockchain has implemented a uncle reward mechanism it eliminates some risk for the miners. When they mine a block that ends up outside the longest chain it will still be compensated somewhat for the time and energy put into the block, even if it is not on the level of the blockreward. However the blockchain may be more vulnerable to selfish mining attacks. Below you can see a model of a big miner on a uncle blockchain and a selfish miner on a uncle blockchain, where both of these have the same amount of _power_. So the difference is only how each of these miners behave. One of them will try to hide their blocks and one just publishes them. So if a uncle blockchain is more profitable to a selfish miner he should end up with more rewards than the big miner. "
   ]
  },
  {
   "cell_type": "code",
   "execution_count": 59,
   "metadata": {},
   "outputs": [],
   "source": [
    "df_selfish = getavg(100, run, num_blocks=100, num_miners=14, mining_power=10, num_selfish_miners=1, mining_power_selfish=10)"
   ]
  },
  {
   "cell_type": "code",
   "execution_count": 62,
   "metadata": {},
   "outputs": [
    {
     "name": "stdout",
     "output_type": "stream",
     "text": [
      "   name  reward  uncle_reward  portion_reward  portion_uncle_reward\n",
      "0    s0  134.08        210.73        4.184560              6.026108\n",
      "1    m0  216.32        231.84        6.751223              6.629777\n",
      "2    m1  212.48        230.83        6.631379              6.600895\n",
      "3    m2  219.52        234.29        6.851094              6.699838\n",
      "4    m3  212.48        227.35        6.631379              6.501380\n",
      "5    m4  222.72        238.81        6.950964              6.829094\n",
      "6    m5  230.72        247.06        7.200639              7.065014\n",
      "7    m6  232.00        243.14        7.240587              6.952916\n",
      "8    m7  215.68        230.45        6.731249              6.590028\n",
      "9    m8  218.88        234.02        6.831120              6.692117\n",
      "10   m9  205.12        218.68        6.401678              6.253449\n",
      "11  m10  219.52        233.45        6.851094              6.675817\n",
      "12  m11  234.56        251.31        7.320483              7.186548\n",
      "13  m12  218.24        237.50        6.811146              6.791633\n",
      "14  m13  211.84        227.49        6.611405              6.505383\n"
     ]
    }
   ],
   "source": [
    "add_rewards(df_selfish, reward, uncle_reward, nephew_reward)\n",
    "print(df_selfish[[\"name\", \"reward\", \"uncle_reward\", \"portion_reward\", \"portion_uncle_reward\"]])"
   ]
  },
  {
   "cell_type": "code",
   "execution_count": 63,
   "metadata": {},
   "outputs": [
    {
     "data": {
      "image/png": "[encoded data removed]",
      "text/plain": [
       "<Figure size 432x288 with 1 Axes>"
      ]
     },
     "metadata": {
      "needs_background": "light"
     },
     "output_type": "display_data"
    },
    {
     "name": "stdout",
     "output_type": "stream",
     "text": [
      "   name  power  fairness  fairness_uncle\n",
      "0    s0     10  0.627684        0.903916\n",
      "1    m0     10  1.012684        0.994467\n",
      "2    m1     10  0.994707        0.990134\n",
      "3    m2     10  1.027664        1.004976\n",
      "4    m3     10  0.994707        0.975207\n",
      "5    m4     10  1.042645        1.024364\n",
      "6    m5     10  1.080096        1.059752\n",
      "7    m6     10  1.086088        1.042937\n",
      "8    m7     10  1.009687        0.988504\n",
      "9    m8     10  1.024668        1.003818\n",
      "10   m9     10  0.960252        0.938017\n",
      "11  m10     10  1.027664        1.001373\n",
      "12  m11     10  1.098073        1.077982\n",
      "13  m12     10  1.021672        1.018745\n",
      "14  m13     10  0.991711        0.975807\n"
     ]
    }
   ],
   "source": [
    "bar2groups(df_selfish[\"reward\"], df_selfish[\"uncle_reward\"], df_selfish[\"name\"], \"reward\",\"uncle_reward\", \"Selfish miner with and without uncle reward\")\n",
    "fairnesses_selfish, _, _ = fairness(df_selfish, reward=reward, uncle_reward=0, nephew_reward=0)\n",
    "fairnesses_uncle_selfish, _, _ = fairness(df_selfish, reward=reward, uncle_reward=uncle_reward, nephew_reward=nephew_reward, suffix=\"_uncle\")\n",
    "print(df_selfish.join(fairnesses_selfish).join(fairnesses_uncle_selfish)[[\"name\", \"power\", \"fairness\", \"fairness_uncle\"]])"
   ]
  },
  {
   "cell_type": "markdown",
   "metadata": {},
   "source": [
    "This shows that a selfish miner with similar or equal mining power to the others, meaning it's portion of the mining power is equal and small, will have a much lower reward than the honest miners. It also shows that the impact of uncle rewards is much higher for the selfish miner. Now let us run the experiment again with a selfish miner that has a larger portion of the mining power."
   ]
  },
  {
   "cell_type": "code",
   "execution_count": 64,
   "metadata": {},
   "outputs": [],
   "source": [
    "df_selfish_big = getavg(100, run, num_blocks=100, num_miners=14, mining_power=10, num_selfish_miners=1, mining_power_selfish=60)"
   ]
  },
  {
   "cell_type": "code",
   "execution_count": 65,
   "metadata": {},
   "outputs": [
    {
     "name": "stdout",
     "output_type": "stream",
     "text": [
      "   name   reward  uncle_reward  portion_reward  portion_uncle_reward\n",
      "0    s0  1114.88       1269.92       34.673567             33.019069\n",
      "1    m0   149.76        181.60        4.657643              4.721764\n",
      "2    m1   147.84        181.49        4.597930              4.718904\n",
      "3    m2   151.68        187.39        4.717357              4.872310\n",
      "4    m3   141.44        173.17        4.398885              4.502577\n",
      "5    m4   157.12        186.56        4.886545              4.850729\n",
      "6    m5   145.60        180.93        4.528264              4.704344\n",
      "7    m6   147.84        181.23        4.597930              4.712144\n",
      "8    m7   154.88        188.46        4.816879              4.900131\n",
      "9    m8   162.24        197.57        5.045780              5.136999\n",
      "10   m9   134.40        168.57        4.179936              4.382973\n",
      "11  m10   159.04        198.01        4.946258              5.148439\n",
      "12  m11   140.48        174.49        4.369029              4.536898\n",
      "13  m12   155.52        187.00        4.836783              4.862169\n",
      "14  m13   152.64        189.63        4.747213              4.930552\n"
     ]
    }
   ],
   "source": [
    "add_rewards(df_selfish_big, reward, uncle_reward, nephew_reward)\n",
    "print(df_selfish_big[[\"name\", \"reward\", \"uncle_reward\", \"portion_reward\", \"portion_uncle_reward\"]])"
   ]
  },
  {
   "cell_type": "code",
   "execution_count": 66,
   "metadata": {},
   "outputs": [
    {
     "data": {
      "image/png": "[encoded data removed]",
      "text/plain": [
       "<Figure size 432x288 with 1 Axes>"
      ]
     },
     "metadata": {
      "needs_background": "light"
     },
     "output_type": "display_data"
    },
    {
     "name": "stdout",
     "output_type": "stream",
     "text": [
      "   name  power  fairness  fairness_uncle\n",
      "0    s0     60  1.155786        1.100636\n",
      "1    m0     10  0.931529        0.944353\n",
      "2    m1     10  0.919586        0.943781\n",
      "3    m2     10  0.943471        0.974462\n",
      "4    m3     10  0.879777        0.900515\n",
      "5    m4     10  0.977309        0.970146\n",
      "6    m5     10  0.905653        0.940869\n",
      "7    m6     10  0.919586        0.942429\n",
      "8    m7     10  0.963376        0.980026\n",
      "9    m8     10  1.009156        1.027400\n",
      "10   m9     10  0.835987        0.876595\n",
      "11  m10     10  0.989252        1.029688\n",
      "12  m11     10  0.873806        0.907380\n",
      "13  m12     10  0.967357        0.972434\n",
      "14  m13     10  0.949443        0.986110\n"
     ]
    }
   ],
   "source": [
    "bar2groups(df_selfish_big[\"reward\"], df_selfish_big[\"uncle_reward\"], df_selfish_big[\"name\"], \"reward\",\"uncle_reward\", \"Selfish miner with and without uncle reward\")\n",
    "fairnesses_selfish_big, unfairnesses_selfish_big, relative_fairnesses_selfish_big = fairness(df_selfish_big, reward=reward, uncle_reward=0, nephew_reward=0)\n",
    "fairnesses_uncle_selfish_big, unfairnesses_uncle_selfish_big, relative_fairnesses_uncle_selfish_big = fairness(df_selfish_big, reward=reward, uncle_reward=uncle_reward, nephew_reward=nephew_reward, suffix=\"_uncle\")\n",
    "print(df_selfish_big.join(fairnesses_selfish_big).join(fairnesses_uncle_selfish_big)[[\"name\", \"power\", \"fairness\", \"fairness_uncle\"]])"
   ]
  },
  {
   "cell_type": "code",
   "execution_count": 67,
   "metadata": {},
   "outputs": [
    {
     "name": "stdout",
     "output_type": "stream",
     "text": [
      "Unfairness:  0.07392073602264686\n",
      "Unfairness with uncle rewards:  0.05457497476467746\n",
      "Relative fairness:  0.9105958067940553\n",
      "Relative fairness with uncle rewards:  0.9270702353775244\n"
     ]
    }
   ],
   "source": [
    "print(\"Unfairness: \", np.average(unfairnesses_selfish_big))\n",
    "print(\"Unfairness with uncle rewards: \", np.average(unfairnesses_uncle_selfish_big))\n",
    "print(\"Relative fairness: \", np.average(relative_fairnesses_selfish_big))\n",
    "print(\"Relative fairness with uncle rewards: \", np.average(relative_fairnesses_uncle_selfish_big))"
   ]
  },
  {
   "cell_type": "markdown",
   "metadata": {},
   "source": [
    "With this setup, the selfish miner recieves a much larger portion of the reward than they are deserved, but we can also see that the inclusion of uncle rewards negatively affects the selfish miner."
   ]
  }
 ],
 "metadata": {
  "colab": {
   "collapsed_sections": [],
   "name": "lecture5_Attacks.ipynb",
   "provenance": []
  },
  "interpreter": {
   "hash": "31f2aee4e71d21fbe5cf8b01ff0e069b9275f58929596ceb00d14d90e3e16cd6"
  },
  "kernelspec": {
   "display_name": "Python 3.8.5 64-bit",
   "name": "python3"
  },
  "language_info": {
   "codemirror_mode": {
    "name": "ipython",
    "version": 3
   },
   "file_extension": ".py",
   "mimetype": "text/x-python",
   "name": "python",
   "nbconvert_exporter": "python",
   "pygments_lexer": "ipython3",
   "version": "3.8.5"
  }
 },
 "nbformat": 4,
 "nbformat_minor": 5
}
