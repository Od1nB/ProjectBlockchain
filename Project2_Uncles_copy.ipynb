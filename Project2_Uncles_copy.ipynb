{
 "cells": [
  {
   "cell_type": "markdown",
   "metadata": {},
   "source": [
    "# Project 2: Uncles and Uncles Rewards\n",
    "- Model a Blockchain that uses uncles and uncle rewards\n",
    "- Model rewarding mechanism to reward uncle block creators\n",
    "- Model selfish mining (only one attacker) in this blockchain\n",
    "\n",
    "Try to answer the following questions with your experiment:\n",
    "1. How do uncles improve the fairness of the blockchain? For this, you should compare the outcome of miners with and without uncles.\n",
    "2. What is the impact of uncles on selfish mining? Is selfish mining more profitable with uncles?\n",
    "3. What does it mean in this model for the selfish mining attack to be profitable?\n",
    "\n",
    " Since more miners will get rewards for mining, even if they don't finish a block that is part of the longest chain, they will be rewarded for it. So the time and energy used for that block will not be as wasted, and it seems more rewarding to mine. Show net money with and without uncle rewards to display point. The concept of it is for fairness, but may encourage selfish mining. "
   ]
  },
  {
   "cell_type": "markdown",
   "metadata": {},
   "source": []
  },
  {
   "cell_type": "markdown",
   "metadata": {},
   "source": [
    "## Introduction\n",
    "\n",
    "Blockchains are currently a hot topic of research, and they have their fair share of problems. In this project, we will explore the concepts of uncles and uncles rewards in blockchains. Uncles is a measure that can be implemented in a blockchain to improve fairness, and it functions by giving some money to miners who lose their mined blocks in a fork while also giving some incentive to the other miners to include this reward in their own blocks. This project assumes knowledge of the implementation of proof-of-work and a full blockchain.\n",
    "\n",
    "### Uncles and uncles reward\n",
    "\n",
    "An uncle is essentailly a block that was discarded because it ended up in a fork that didn't grow to be the longest chain. It is called uncle because it is a block that builds on another block, it's parent, which is also the parent of another block, it's sibling, that ended up in the longest chain, and therefore has a child block that can be regarded as the nephew of that first block. This means it only becomes an uncle block when it has a uncle/nephew relationship with a block in the longest chain. The idea is that the miner who mined the uncle block should also get some reward for the effort they spent to mine that block, and this should in theory increase the fairness of the blockchain.\n",
    "\n",
    "![Uncle and nephew blocks](Figures/UncleBlock.png?raw=true \"Uncle and nephew blocks\")\n",
    "\n",
    "In order to make miners include a uncle reward in the blocks they mine, it is also important that the nephew also gets some reward. So in total, two new rewards/transactions are added, the nephew reward and the uncle reward, in order to help aleviate the loss incured when mining a block that ends up in a discarded fork.\n",
    "\n",
    "There are multiple different implementations possible for this kind of reward system, with differences like:\n",
    "\n",
    "- How many uncles can a single nephew give rewards to?\n",
    "- How far apart in the chain can two blocks be while still being considered uncle/nephew?\n",
    "- If an uncle reward can be given to a block that's further apart than a direct uncle, should the reward be the same? If not, how much should it decrease by?\n",
    "- How much is the uncle reward?\n",
    "- How much is the nephew reward?\n",
    "- Can an uncle reward be given to child blocks of an uncle, or just the uncle?\n",
    "\n",
    "And all of these parameters may affect the fairness. In addition to that, they may have unintended consequenses, like encouraging mining on a fork that isn't the longest, if implemented wrong."
   ]
  },
  {
   "cell_type": "markdown",
   "metadata": {},
   "source": [
    "#### Fairness\n",
    "It is important to define fairness before we continue: the fairness for an individual miner is defined as the portion of the reward given to them compared to the portion of mining power they have. Which is the same as their ratio of reward to power, compared to the total ratio of the same.\n",
    " \n",
    "$Fairness(miner) = \\frac{\\text{miner reward}}{\\text{total reward}} / \\frac{\\text{miner power}}{\\text{total power}} = \\frac{\\text{miner reward} }{\\text{miner power}} / \\frac{\\text{total reward}}{\\text{total power}}$\n",
    "\n",
    "Using this measure, the closer the value is to 1, the more fair the chain is for that particular miner. It is important to note that this measure is defined on the interval $\\left[0, \\frac{\\text{total power}}{\\text{miner power}}\\right].$ The fairness changes equally when increasing or decreasing the reward, in absolute terms, not relative. That means that when increasing the reward by some amount $\\text{k}$ coins, it changes the fairness the same amount as if the reward had been decreased by $\\text{k}$ coins. This is in contrast to a relative fairness measure where increasing the reward by a factor of $\\text{x}$ would have the same amount of dividing the reward by $\\text{x}.$ This means that \n",
    "\n",
    "<!--TODO rewrite-->\n",
    "To figure out how fair the chain as a whole is, we could take the average of the fairness for each miner, but this would be a rather bad measure, since the increased portion of reward for one miner would always result in less for the others, making the average always hover around 1, even when one miner is hoggin a much larger portion than it should. Instead, a cumulative measure of the absolute distance from totally fair, $Fairness = 1$, for each miner would be more useful, however this would be a measure of unfairness, not fariness. Defining the fairness as $\\frac{1}{\\text{unfairness}}$ would result in a value that is hard to manage between 0 and infinity, virtually useless, so instead we are simply going to use $-\\frac{\\text{unfairness}}{\\text{number of miners}}$ as the measure for fairness, even though this value is then between 0 and -infinity.\n",
    "\n",
    "\n",
    "\n",
    "<!-- $Fariness = \\frac{P(t|f) P(f)}{P(t)} = \\frac{P(t|f) P(f)}{\\sum_{f' \\in \\mathcal{F}} P(t|f')P(f')},$ -->"
   ]
  },
  {
   "cell_type": "markdown",
   "metadata": {},
   "source": [
    "### Imports"
   ]
  },
  {
   "cell_type": "code",
   "execution_count": 6,
   "metadata": {
    "colab": {
     "base_uri": "https://localhost:8080/"
    },
    "id": "ef05ce3c",
    "outputId": "935d959b-21d0-4d92-bae9-3e8c72e8ae1c"
   },
   "outputs": [],
   "source": [
    "#Import statements\n",
    "from draw_blockchain import show\n",
    "import hashlib as hasher\n",
    "import random\n",
    "import numpy as np\n",
    "import matplotlib.pyplot as plt\n",
    "from matplotlib import colors\n",
    "from dataclasses import dataclass\n",
    "import functools\n",
    "import operator\n",
    "import pandas as pd\n",
    "from scipy import stats"
   ]
  },
  {
   "cell_type": "markdown",
   "metadata": {},
   "source": [
    "### Hash function"
   ]
  },
  {
   "cell_type": "code",
   "execution_count": 7,
   "metadata": {},
   "outputs": [],
   "source": [
    "def hashbits(input):\n",
    "    hash_obj = hasher.sha256()\n",
    "    inputbytes = input.encode()\n",
    "    hash_obj.update(inputbytes)\n",
    "    hashbytes = hash_obj.digest()\n",
    "    return ''.join(f'{x:08b}' for x in hashbytes)\n",
    "\n",
    "def hash(input):\n",
    "    hash_obj = hasher.sha256()\n",
    "    inputbytes = input.encode()\n",
    "    hash_obj.update(inputbytes)\n",
    "    return hash_obj.hexdigest()\n",
    "\n",
    "def numberOfInitZeros(hashStr):\n",
    "    count = 0\n",
    "    for i in range (0 , len(hashStr)):\n",
    "        if hashStr[i] == '1':\n",
    "            break\n",
    "        count += 1\n",
    "    return count"
   ]
  },
  {
   "cell_type": "markdown",
   "metadata": {},
   "source": [
    "### Block"
   ]
  },
  {
   "cell_type": "code",
   "execution_count": 8,
   "metadata": {},
   "outputs": [],
   "source": [
    "class Block:\n",
    "    def __init__(self, data, creator=None, previous=None, nonce=0, blockchain=None):\n",
    "        self.data = data\n",
    "        if previous is None:\n",
    "            self.previous = None\n",
    "            self.previous_hash = \"\"\n",
    "            self.creator = Miner(0 , \"0\", blockchain, genesis=True)\n",
    "            self.height = 0\n",
    "            self.color = \"#AEF751\"\n",
    "        else:\n",
    "            self.previous = previous\n",
    "            self.previous_hash = previous.hash\n",
    "            self.creator = creator\n",
    "            self.height = previous.height+1\n",
    "            self.color = creator.color\n",
    "        self.nonce = nonce\n",
    "        self.hash = self.hash_block()\n",
    "        self.children = []\n",
    "\n",
    "    def hash_block(self):\n",
    "        return hashbits(self.data + self.creator.name + self.previous_hash + str(self.nonce))\n",
    "\n",
    "    def print(self):\n",
    "        print(self.data + \" \"+ self.creator.name + \" \" + str(self.height))"
   ]
  },
  {
   "cell_type": "markdown",
   "metadata": {
    "id": "ac097c16"
   },
   "source": [
    "### Blockchain"
   ]
  },
  {
   "cell_type": "code",
   "execution_count": 9,
   "metadata": {
    "id": "CDX_Rs4rubpy"
   },
   "outputs": [],
   "source": [
    "class Blockchain:\n",
    "    def __init__(self, genesis_data, difficulty, static=False):\n",
    "        self.chain = []\n",
    "        self.difficulty = difficulty\n",
    "        self.size = 0\n",
    "        self.uncles = []\n",
    "        self.static = static\n",
    "        self.chain.append(Block(genesis_data, blockchain=self))\n",
    "\n",
    "    def longestChain(self, static=-1):\n",
    "      max = self.chain[0].height\n",
    "      for block in self.chain:\n",
    "          if block.height > max:\n",
    "                max = block.height\n",
    "      maxes = [block for block in self.chain if block.height == max]\n",
    "      static %= len(maxes)\n",
    "      r = maxes[static:static+1] if static >= 0 else random.choices(maxes, k=1)\n",
    "      return r[0]\n",
    "    \n",
    "    def ends_with_fork(self):\n",
    "        max = self.chain[0].height\n",
    "        r = False\n",
    "        for block in self.chain:\n",
    "            if block.height == max: r = True\n",
    "            if block.height > max:\n",
    "                max = block.height\n",
    "                r = False\n",
    "        return r\n",
    "        \n",
    "    def add(self, newBlock):\n",
    "        self.chain.append(newBlock)\n",
    "        newBlock.previous.children.append(newBlock)\n",
    "        self.size +=1\n",
    "        \n",
    "    def print(self):\n",
    "        for block in self.chain:\n",
    "            block.print()\n",
    "            print(\"________\")\n",
    "\n",
    "    def hasFork(self):\n",
    "        for block1 in self.chain:\n",
    "            for block2 in self.chain:\n",
    "                if block1!=block2 and block1.height == block2.height:\n",
    "                    return True\n",
    "        return False\n",
    "\n",
    "    def checkMiner(self, miner):\n",
    "      last = self.longestChain(miner.static)\n",
    "      count = 0\n",
    "      while last!=None:\n",
    "          if last.creator == miner:\n",
    "                count += 1\n",
    "          last = last.previous\n",
    "      return count\n",
    "    \n",
    "    def inlongestChain(self, block):\n",
    "          last = self.longestChain()\n",
    "          while last!= None:\n",
    "                if last == block:\n",
    "                        return True\n",
    "                last = last.previous\n",
    "          return False\n",
    "          \n",
    "    def forks(self):\n",
    "        fork_list = []\n",
    "        last = self.longestChain()\n",
    "        while last != None:\n",
    "            # print(last.creator.name)\n",
    "            for child in last.children:\n",
    "                if not self.inlongestChain(child):\n",
    "                    length = 1\n",
    "                    forkblock = child\n",
    "                    while forkblock.children:\n",
    "                        length += 1\n",
    "                        forkblock = forkblock.children[0]\n",
    "                    fork_list.append(length)\n",
    "            last = last.previous\n",
    "        return fork_list\n"
   ]
  },
  {
   "cell_type": "markdown",
   "metadata": {},
   "source": [
    "## Miners"
   ]
  },
  {
   "cell_type": "markdown",
   "metadata": {},
   "source": [
    "### Normal miner"
   ]
  },
  {
   "cell_type": "code",
   "execution_count": 10,
   "metadata": {},
   "outputs": [],
   "source": [
    "class Miner:\n",
    "    def __init__(self, miningPower, name, blockchain=None, genesis=False):\n",
    "        self.miningPower = miningPower\n",
    "        self.nonce = 0 if blockchain.static else random.randint(0,100000) #original one\n",
    "        # self.nonce = 0\n",
    "        self.name = name\n",
    "        self.blockchain = blockchain\n",
    "        self.color = \"#7EDBF6\"\n",
    "        self.uncles = 0\n",
    "        self.nephews = 0\n",
    "        self.blocks = 0\n",
    "        self.static = sum([ord(c) for c in name]) if blockchain.static else -1\n",
    "        if self.blockchain != None and not genesis:\n",
    "            self.lastBlock = blockchain.longestChain(static=self.static)\n",
    "    \n",
    "    def UpdateLast(self):\n",
    "        latest = self.blockchain.longestChain(static=self.static)\n",
    "        if latest.height > self.lastBlock.height:\n",
    "              self.lastBlock = latest\n",
    "\n",
    "    def PoWSolver(self):\n",
    "        for i in range (0 , self.miningPower):\n",
    "            newBlock = Block(str(self.blockchain.size), self, self.lastBlock, self.nonce)\n",
    "            h = newBlock.hash_block()\n",
    "            count = numberOfInitZeros(h)\n",
    "            if count >= self.blockchain.difficulty:\n",
    "                self.blockchain.add(newBlock)\n",
    "                self.lastBlock = newBlock\n",
    "            self.nonce += 1\n"
   ]
  },
  {
   "cell_type": "markdown",
   "metadata": {},
   "source": [
    "### Selfish miner"
   ]
  },
  {
   "cell_type": "code",
   "execution_count": 11,
   "metadata": {},
   "outputs": [],
   "source": [
    "\n",
    "class SelfishMiner(Miner):\n",
    "    def __init__(self, miningPower, name, blockchain=None):\n",
    "        super().__init__(miningPower, name, blockchain)\n",
    "        self.privateBlocks = []\n",
    "        self.publishNext = False\n",
    "        self.color = \"#F59AEE\"\n",
    "\n",
    "    def UpdateLast(self):\n",
    "        latest = self.blockchain.longestChain()\n",
    "        publicheight = latest.height\n",
    "        if publicheight > self.lastBlock.height:\n",
    "            self.privateBlocks = []\n",
    "            self.lastBlock = latest\n",
    "            self.publishNext = False\n",
    "        if publicheight == self.lastBlock.height-1 and len(self.privateBlocks) > 1:\n",
    "            for block in self.privateBlocks:\n",
    "                self.blockchain.add(block)\n",
    "                self.privateBlocks = []\n",
    "        if publicheight == self.lastBlock.height:\n",
    "            for block in self.privateBlocks:\n",
    "                self.blockchain.add(block)\n",
    "                self.privateBlocks = []\n",
    "                self.publishNext = True\n",
    "    \n",
    "    def Finish(self):\n",
    "        if len(self.privateBlocks) > 1:\n",
    "            for block in self.privateBlocks:\n",
    "                self.blockchain.add(block)\n",
    "            self.privateBlocks = []\n",
    "\n",
    "    def PoWSolver(self):\n",
    "        for i in range (0 , self.miningPower):\n",
    "            newBlock = Block(str(self.blockchain.size), self, self.lastBlock, self.nonce)\n",
    "            h = newBlock.hash_block()\n",
    "            count = numberOfInitZeros(h)\n",
    "            if count >= self.blockchain.difficulty:\n",
    "                if self.publishNext:\n",
    "                    self.blockchain.add(newBlock)\n",
    "                    self.publishNext = False\n",
    "                else:\n",
    "                    self.privateBlocks.append(newBlock)\n",
    "                self.lastBlock = newBlock\n",
    "            self.nonce += 1"
   ]
  },
  {
   "cell_type": "markdown",
   "metadata": {},
   "source": [
    "## Main program"
   ]
  },
  {
   "cell_type": "markdown",
   "metadata": {},
   "source": [
    "### Run function"
   ]
  },
  {
   "cell_type": "code",
   "execution_count": 12,
   "metadata": {},
   "outputs": [],
   "source": [
    "def run(\n",
    "        difficulty=10,\n",
    "        num_miners=10,\n",
    "        num_selfish_miners=0,\n",
    "        mining_power=10,\n",
    "        mining_power_selfish=15,\n",
    "        genesis_data=\"0\",\n",
    "        num_blocks = 30,\n",
    "        miners = [],\n",
    "        static=False\n",
    "    ):\n",
    "    bc = None\n",
    "    bc = Blockchain(genesis_data , difficulty, static)\n",
    "    miners = [Miner(p, \"m\"+ str(i), bc) for i,p in enumerate(miners)]\n",
    "    selfish = []\n",
    "    len_miners = len(miners)\n",
    "    for i in range(num_miners):\n",
    "        miners.append(Miner(mining_power ,\"m\"+str(len_miners+i), bc))\n",
    "    for i in range(num_selfish_miners):\n",
    "        selfish.append(SelfishMiner(mining_power_selfish ,\"s\"+str(i), bc))\n",
    "    while bc.chain[-1].height < num_blocks or bc.ends_with_fork():\n",
    "        for s in selfish:\n",
    "            s.PoWSolver()\n",
    "\n",
    "        for m in miners:\n",
    "            m.PoWSolver()\n",
    "\n",
    "        for s in selfish:\n",
    "            s.UpdateLast()\n",
    "\n",
    "        for m in miners:\n",
    "            m.UpdateLast()\n",
    "\n",
    "    # Making sure the private blocks are published.\n",
    "    for s in selfish:\n",
    "        s.Finish()\n",
    "\n",
    "    for s in selfish:\n",
    "        s.UpdateLast()\n",
    "\n",
    "    for m in miners:\n",
    "        m.UpdateLast()\n",
    "    \n",
    "    calculate_blocks(bc)\n",
    "    return bc, miners, selfish\n",
    "\n",
    "def calculate_blocks(bc):\n",
    "    last_block = bc.chain[-1]\n",
    "    while last_block.previous is not None:\n",
    "        last_block.creator.blocks += 1\n",
    "        grandparent = last_block.previous.previous\n",
    "        if grandparent is not None and len(grandparent.children) > 1:\n",
    "            for uncle in grandparent.children:\n",
    "                if uncle != last_block.previous:\n",
    "                    uncle.creator.uncles += 1\n",
    "                    last_block.creator.nephews += 1\n",
    "        last_block=last_block.previous\n",
    "        "
   ]
  },
  {
   "cell_type": "code",
   "execution_count": 13,
   "metadata": {},
   "outputs": [],
   "source": [
    "def fairness(df, reward=32, uncle_reward=22, nephew_reward=1):\n",
    "    total_power = df[[\"power\"]].sum().power\n",
    "    rewards = df[\"blocks\"] * reward + df[\"uncles\"] * uncle_reward + df[\"nephews\"] * nephew_reward\n",
    "    total_reward = rewards.sum()\n",
    "    fairness_miners = (rewards/total_reward)/(df[\"power\"]/total_power)\n",
    "    unfairness = (fairness_miners-1).abs()\n",
    "    fairness_miners.rename(\"fairness\", inplace=True)\n",
    "    relative_fairness = df.join(fairness_miners)\n",
    "    relative_fairness = relative_fairness.apply(lambda row: row.fairness if row.fairness <= 1 else 1-(row.fairness*row.power/total_power), axis=1)\n",
    "    return fairness_miners, unfairness, relative_fairness"
   ]
  },
  {
   "cell_type": "markdown",
   "metadata": {},
   "source": [
    "### Dataclass\n",
    "Used for formatting the run function output"
   ]
  },
  {
   "cell_type": "code",
   "execution_count": 14,
   "metadata": {},
   "outputs": [],
   "source": [
    "@dataclass\n",
    "class Stats:\n",
    "    name: str\n",
    "    blocks: int\n",
    "    uncles: int\n",
    "    nephews: int\n",
    "    power: int\n",
    "\n",
    "# Transform irregular 2D list into a regular one.\n",
    "def transform(nested_list):\n",
    "    regular_list = []\n",
    "    for e in nested_list:\n",
    "        if type(e) is list:\n",
    "            regular_list.append(e)\n",
    "        else:\n",
    "            regular_list.append([e])\n",
    "    return functools.reduce(operator.iconcat, regular_list, [])\n",
    "\n",
    "def get_stats(*miners):\n",
    "    if len(miners) == 0:\n",
    "        return []\n",
    "    stats = []\n",
    "    transformed_miners = transform(miners)\n",
    "    \n",
    "    for m in transformed_miners:\n",
    "        stats.append(Stats(\n",
    "            m.name,\n",
    "            m.blocks,\n",
    "            m.uncles,\n",
    "            m.nephews,\n",
    "            m.miningPower\n",
    "        ))\n",
    "    return pd.DataFrame(stats)"
   ]
  },
  {
   "cell_type": "markdown",
   "metadata": {},
   "source": [
    "### Average function\n",
    "Function to do multiple runs of simulation"
   ]
  },
  {
   "cell_type": "code",
   "execution_count": 17,
   "metadata": {},
   "outputs": [],
   "source": [
    "def getavg(tests, run_func, **kwargs):\n",
    "    args = set(kwargs)\n",
    "    num_nodes = 0\n",
    "    if \"num_blocks\" in kwargs:\n",
    "        miner_args = {\"num_miners\",\"miners\",\"num_selfish_miners\"}.intersection(args)\n",
    "        if miner_args:\n",
    "            for arg in miner_args:\n",
    "                val = kwargs.get(arg)\n",
    "                num_nodes += len(val) if type(val) == list else val\n",
    "        dfout = pd.DataFrame()\n",
    "        for i in range(tests):\n",
    "            bc, m, s = run_func(**kwargs)\n",
    "            dfa = get_stats(s,m)\n",
    "            if dfout.empty:\n",
    "                dfout = dfa\n",
    "            else:\n",
    "                dfout[['blocks', 'uncles', 'nephews']] += dfa[['blocks', 'uncles', 'nephews']]\n",
    "        dfout[['blocks', 'uncles', 'nephews']] = dfout[['blocks', 'uncles', 'nephews']] / tests\n",
    "    else:\n",
    "        dfout = pd.DataFrame()\n",
    "    return dfout"
   ]
  },
  {
   "cell_type": "markdown",
   "metadata": {},
   "source": [
    "## Uncle BlockChain\n",
    "\n",
    "We chose to reward the miners after running the simulation because of trouble with debugging and finding a good way of implementing uncle in the simulation. In the last part of the run function, implemented above the dataclass section, you can see that there is a while loop at the end of the function. This part adds uncle rewards if the uncle reward is set (uncle_reward > 0). It goes through the chain backwards, blockwise, and if a _grandparent_ has more than one child it will reference each of those not in the chain. That block's creator will then receive the nephew reward times how many uncles it referenced, and the creators of those uncle blocks will receive the uncle reward. The miners have an attribute for uncle reward and this is implemented in the dataframe that will be returned by the get_stats() function.\n",
    "\n",
    "```python\n",
    "def run(\n",
    "    ...\n",
    "    while last_block.previous is not None:\n",
    "        last_block.creator.reward += reward\n",
    "        last_block.creator.blocks += 1\n",
    "        if uncle_reward > 0:\n",
    "            grandparent = last_block.previous.previous\n",
    "            if grandparent is not None and len(grandparent.children) > 1:\n",
    "                for uncle in grandparent.children:\n",
    "                    if uncle != last_block.previous:\n",
    "                        uncle.creator.uncle_reward += uncle_reward\n",
    "                        uncle.creator.uncles += 1\n",
    "                        last_block.creator.uncle_reward += nephew_reward\n",
    "                        last_block.creator.nephews += 1\n",
    "        last_block=last_block.previous\n",
    "    return bc, miners, selfish\n",
    "```"
   ]
  },
  {
   "cell_type": "markdown",
   "metadata": {},
   "source": [
    "## Testing"
   ]
  },
  {
   "cell_type": "markdown",
   "metadata": {},
   "source": [
    "### Baseline\n",
    "\n",
    "To begin with we ran the blockchain with 20 different miners and 1000 blocks mined in total. This was done 10 times and we normalised the rewards for each miner and plotted it. This showed us that all the miners had _about_ the same amount of reward when mining for a long time, on many blocks. We can now conclude that the blockchain is somewhat fair, because same amount of mining power roughly equals same reward.\n",
    "\n",
    "We also did this with a single miner that had 3X the mining power of the other nodes to see if there were any difference. The miner with 3X mining power got about 3x the reward of a \"_average_\" miner. This also works as intended."
   ]
  },
  {
   "cell_type": "code",
   "execution_count": 18,
   "metadata": {},
   "outputs": [],
   "source": [
    "# # Multiple runs to show normal, uncles, normal big and uncle big\n",
<<<<<<< HEAD
    "df_nobig = getavg(10, run, num_blocks=100, num_miners=15)\n",
    "df_big = getavg(10, run, num_blocks=100, num_miners=14, miners=[30])"
=======
    "miner_names = [\"m\"+ str(i) for i in range(15)]\n",
    "normal, uncles, df_nobig = getavg(100, run, num_blocks=100,num_miners=15, uncle_reward=3, nephew_reward=2)\n",
    "# normal_big, uncles_big, df_big = getavg(10, run, num_blocks=100,num_miners=14, uncle_reward=3, nephew_reward=2,miners=[30])"
>>>>>>> e359ba9e183697a1366d104b42bb123f54bcf30b
   ]
  },
  {
   "cell_type": "markdown",
   "metadata": {},
   "source": [
    "### Configuration of rewards\n",
    "\n",
    "To find a configuration that gives good fairness we calculate the fairness for a variety of configurations. We make the assumption that the block reward should be highest, the uncle reward should be smaller, but not very small, while the nephew reward should be very small in comparison. As a starting point, ethereum can be used, which has a ratio of 28:20:1 for reward, uncle reward and nephew reward [(source)](https://medium.com/@ShariHunt/there-are-two-uncle-rewards-a67e06fa17de). The numbers 100, 30 and 10 here are picked in such a way that that configuration is possible, while allowing for some more exploration of other configurations."
   ]
  },
  {
   "cell_type": "code",
   "execution_count": 19,
   "metadata": {},
   "outputs": [],
   "source": [
    "unfairnesses = {}\n",
    "fairnesses = {}\n",
    "for r in range(1, 50):\n",
    "    for ur in range(r-1):\n",
    "        for nr in range(min(ur,10)):\n",
    "            _, unfairness, relative = fairness(df_nobig, r, ur, nr)\n",
    "            s = f\"{r},{ur},{nr}\"\n",
    "            unfairnesses[s] = np.average(unfairness)\n",
    "            fairnesses[s] = np.average(relative)"
   ]
  },
  {
   "cell_type": "markdown",
   "metadata": {},
   "source": [
    "We examine both the unfairness and the relative fairness to see which configuration would make this chain most fair. Only the top 10 are examined, for the sake of simplicity."
   ]
  },
  {
   "cell_type": "code",
   "execution_count": 20,
   "metadata": {},
<<<<<<< HEAD
   "outputs": [
    {
     "name": "stdout",
     "output_type": "stream",
     "text": [
      "14,5,0 0.9232949389179754\n",
      "28,10,0 0.9232949389179754\n",
      "42,15,0 0.9232949389179754\n",
      "56,20,0 0.9232949389179754\n",
      "70,25,0 0.9232949389179754\n",
      "84,30,0 0.9232949389179754\n",
      "98,35,0 0.9232949389179754\n",
      "87,31,0 0.9232923290082197\n",
      "73,26,0 0.9232918284464676\n",
      "59,21,0 0.923291090311715\n",
      "\n",
      "42,15,0 0.0938219895287958\n",
      "84,30,0 0.0938219895287958\n",
      "98,35,0 0.0938219895287958\n",
      "14,5,0 0.09382198952879582\n",
      "28,10,0 0.09382198952879582\n",
      "56,20,0 0.09382198952879582\n",
      "70,25,0 0.09382198952879582\n",
      "95,34,0 0.09382436649178756\n",
      "81,29,0 0.09382477730188413\n",
      "67,24,0 0.09382535978218591\n"
     ]
    }
   ],
=======
   "outputs": [],
>>>>>>> e359ba9e183697a1366d104b42bb123f54bcf30b
   "source": [
    "for k in sorted(fairnesses, key=fairnesses.get, reverse=True)[:10]:\n",
    "    print(k, fairnesses[k])\n",
    "print(\"\")\n",
    "for k in sorted(unfairnesses, key=unfairnesses.get, reverse=False)[:10]:\n",
    "    print(k, unfairnesses[k])"
   ]
  },
  {
   "cell_type": "markdown",
   "metadata": {},
   "source": [
    "Sample output:\\\n",
    "16,11,0 0.9200181857716104\\\n",
    "32,22,0 0.9200181857716104\\\n",
    "32,22,1 0.9200164820342863\\\n",
    "35,24,0 0.9200155446502\\\n",
    "35,24,1 0.9200139872650831\\\n",
    "19,13,0 0.9200133200133199\\\n",
    "38,26,0 0.9200133200133199\\\n",
    "35,24,2 0.92001243052996\\\n",
    "38,26,1 0.9200118858261523\\\n",
    "41,28,0 0.92001142054618\n",
    "\n",
    "29,20,0 0.09163095510702561\\\n",
    "16,11,0 0.09163256834489708\\\n",
    "32,22,0 0.09163256834489708\\\n",
    "32,22,1 0.09163576285238004\\\n",
    "35,24,0 0.09163752044754132\\\n",
    "42,29,0 0.091639375117636\\\n",
    "35,24,1 0.09164044054463588\\\n",
    "19,13,0 0.09164169164169163\\\n",
    "38,26,0 0.09164169164169163\\\n",
    "35,24,2 0.09164335942299216\n",
    "\n",
    "Looking at the results, it is fairly obvious that the nephew reward has little impact on the fairness, and may even lead to less fairness, however this has not been thoroughly examined here. \n",
    "\n",
    "We see that a ratio of reward to uncle reward similar to that of ethereum results in highest fairness, and see that the differences between the top 10 are miniscule. Therefor the conclusion is that any of the configurations that are included in both top 10s should be decent. Looking at just the reward and uncle reward, we can see that 32:22 or 35:24 are good options. We want a configuration that is as fair as possible, but it must also include a nephew reward in order to encourage giving uncle rewards. As such, we conclude by using the values 32:22:1 as our reward configuration, since this seemed to be a decent configuration, although we do not conclude that this is the best configuration."
   ]
  },
  {
   "cell_type": "code",
   "execution_count": 21,
   "metadata": {},
   "outputs": [],
   "source": [
    "reward = 42\n",
    "uncle_reward = 15\n",
    "nephew_reward = 1"
   ]
  },
  {
   "cell_type": "code",
   "execution_count": 23,
   "metadata": {},
   "outputs": [],
   "source": [
    "normal = df_nobig[\"blocks\"] * reward\n",
    "uncles = df_nobig[\"blocks\"] * reward + df_nobig[\"uncles\"] * uncle_reward + df_nobig[\"nephews\"] * nephew_reward\n",
    "normal_big = df_big[\"blocks\"] * reward\n",
    "uncles_big = df_big[\"blocks\"] * reward + df_big[\"uncles\"] * uncle_reward + df_big[\"nephews\"] * nephew_reward"
   ]
  },
  {
   "cell_type": "markdown",
   "metadata": {},
   "source": [
    "## Selfish mining"
   ]
  },
  {
   "cell_type": "markdown",
   "metadata": {},
   "source": [
    "When a blockchain has implemented a uncle reward mechanism it eliminates some risk for the miners. When they mine a block that ends up outside the longest chain it will still be compensated somewhat for the time and energy put into the block, even if it is not on the level of the blockreward. However the blockchain may be more vulnerable to selfish mining attacks. Below you can see a model of a big miner on a uncle blockchain and a selfish miner on a uncle blockchain, where both of these have the same amount of _power_. So the difference is only how each of these miners behave. One of them will try to hide their blocks and one just publishes them. So if a uncle blockchain is more profitable to a selfish miner he should end up with more rewards than the big miner. "
   ]
  },
  {
   "cell_type": "code",
   "execution_count": 25,
   "metadata": {},
   "outputs": [],
   "source": [
    "df_selfish = getavg(10, run, num_blocks=100, num_miners=14, mining_power=10, num_selfish_miners=1, mining_power_selfish=10)"
   ]
  },
  {
   "cell_type": "code",
   "execution_count": 34,
   "metadata": {},
   "outputs": [
    {
     "name": "stdout",
     "output_type": "stream",
     "text": [
      "   name  reward  uncle_reward  portion_reward  portion_uncle_reward\n",
      "0    s0   302.4         312.9        7.192807              7.053334\n",
      "1    m0   277.2         298.7        6.593407              6.733240\n",
      "2    m1   243.6         268.6        5.794206              6.054732\n",
      "3    m2   285.6         306.2        6.793207              6.902304\n",
      "4    m3   252.0         270.7        5.994006              6.102069\n",
      "5    m4   294.0         303.6        6.993007              6.843695\n",
      "6    m5   235.2         252.4        5.594406              5.689554\n",
      "7    m6   243.6         259.4        5.794206              5.847347\n",
      "8    m7   247.8         263.3        5.894106              5.935260\n",
      "9    m8   327.6         344.1        7.792208              7.756639\n",
      "10   m9   319.2         327.6        7.592408              7.384699\n",
      "11  m10   289.8         307.6        6.893107              6.933862\n",
      "12  m11   281.4         291.6        6.693307              6.573193\n",
      "13  m12   273.0         288.9        6.493506              6.512330\n",
      "14  m13   331.8         340.6        7.892108              7.677742\n",
      "6.666666666666666\n",
      "6.666666666666666\n"
     ]
    }
   ],
   "source": [
    "df_selfish[\"reward\"] = df_selfish[\"blocks\"] * reward\n",
    "df_selfish[\"uncle_reward\"] = df_selfish[\"blocks\"] * reward + df_selfish[\"uncles\"] * uncle_reward + df_selfish[\"nephews\"] * nephew_reward\n",
    "df_selfish[\"portion_reward\"] = df_selfish[\"reward\"]*100/df_selfish[\"reward\"].sum()\n",
    "df_selfish[\"portion_uncle_reward\"] = df_selfish[\"uncle_reward\"]*100/df_selfish[\"uncle_reward\"].sum()\n",
    "print(df_selfish[[\"name\", \"reward\", \"uncle_reward\", \"portion_reward\", \"portion_uncle_reward\"]])"
   ]
  },
  {
   "cell_type": "code",
   "execution_count": null,
   "metadata": {},
   "outputs": [],
   "source": [
    "normal_self_big, uncles_self_big, _ = getavg(100,run,num_blocks=100,num_miners=13, uncle_reward=3, nephew_reward=2,miners=[30], num_selfish_miners=1, mining_power_selfish=10)"
   ]
  },
  {
   "cell_type": "code",
   "execution_count": null,
   "metadata": {},
   "outputs": [],
   "source": [
    "normal_self30_big, uncles_self30_big, _= getavg(100, run, num_blocks=100, num_miners=13, uncle_reward=3, nephew_reward=2,miners=[30], num_selfish_miners=1, mining_power_selfish=30)"
   ]
  },
  {
   "cell_type": "code",
   "execution_count": null,
   "metadata": {},
   "outputs": [
    {
     "data": {
      "image/png": "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",
      "text/plain": [
       "<Figure size 432x288 with 1 Axes>"
      ]
     },
     "metadata": {
      "needs_background": "light"
     },
     "output_type": "display_data"
    }
   ],
   "source": [
    "width = 0.35\n",
    "xpos = np.arange(len(miner_names))\n",
    "\n",
    "fig, ax = plt.subplots()\n",
    "normal_plot = ax.bar(xpos - width/2, normal_self30_big, width, label=\"Normal\")\n",
    "uncles_plot = ax.bar(xpos + width/2, uncles_self30_big, width, label=\"Uncle\")\n",
    "\n",
    "ax.set_ylabel(\"Rewards\")\n",
    "ax.set_title(\"Rewards for selfish and big, uncles/normal\")\n",
    "ax.set_xticks(xpos)\n",
    "ax.set_xticklabels([\"S\", \"Big\"] +  miner_names[:-2])\n",
    "ax.legend()\n",
    "ax.bar_label(normal_plot, padding=3)\n",
    "ax.bar_label(uncles_plot, padding=3)\n",
    "fig.tight_layout()\n",
    "plt.show()"
   ]
  },
  {
   "cell_type": "code",
   "execution_count": null,
   "metadata": {},
   "outputs": [],
   "source": [
    "print(normal)\n",
    "print(uncles)\n",
    "avg = np.average(uncles)\n",
    "std = np.std(uncles)\n",
    "print(stats.kstest(uncles, lambda x: stats.norm.cdf(x, avg, std)))"
   ]
  }
 ],
 "metadata": {
  "colab": {
   "collapsed_sections": [],
   "name": "lecture5_Attacks.ipynb",
   "provenance": []
  },
  "interpreter": {
   "hash": "31f2aee4e71d21fbe5cf8b01ff0e069b9275f58929596ceb00d14d90e3e16cd6"
  },
  "kernelspec": {
   "display_name": "Python 3.8.5 64-bit",
   "name": "python3"
  },
  "language_info": {
   "codemirror_mode": {
    "name": "ipython",
    "version": 3
   },
   "file_extension": ".py",
   "mimetype": "text/x-python",
   "name": "python",
   "nbconvert_exporter": "python",
   "pygments_lexer": "ipython3",
   "version": "3.8.5"
  }
 },
 "nbformat": 4,
 "nbformat_minor": 5
}
