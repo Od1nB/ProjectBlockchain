{
 "cells": [
  {
   "cell_type": "markdown",
   "metadata": {},
   "source": [
    "# Project 2: Uncles and Uncles Rewards\n",
    "- Model a Blockchain that uses uncles and uncle rewards\n",
    "- Model rewarding mechanism to reward uncle block creators\n",
    "- Model selfish mining (only one attacker) in this blockchain\n",
    "\n",
    "Try to answer the following questions with your experiment:\n",
    "1. How do uncles improve the fairness of the blockchain? For this, you should compare the outcome of miners with and without uncles.\n",
    "2. What is the impact of uncles on selfish mining? Is selfish mining more profitable with uncles?\n",
    "3. What does it mean in this model for the selfish mining attack to be profitable?\n",
    "\n",
    " Since more miners will get rewards for mining, even if they don't finish a block that is part of the longest chain, they will be rewarded for it. So the time and energy used for that block will not be as wasted, and it seems more rewarding to mine. Show net money with and without uncle rewards to display point. The concept of it is for fairness, but may encourage selfish mining. "
   ]
  },
  {
   "cell_type": "markdown",
   "metadata": {},
   "source": []
  },
  {
   "cell_type": "markdown",
   "metadata": {},
   "source": [
    "## Introduction\n",
    "\n",
    "Blockchains are currently a hot topic of research, and they have their fair share of problems. In this project, we will explore the concepts of uncles and uncles rewards in blockchains. Uncles is a measure that can be implemented in a blockchain to improve fairness, and it functions by giving some money to miners who lose their mined blocks in a fork while also giving some incentive to the other miners to include this reward in their own blocks. This project assumes knowledge of the implementation of proof-of-work and a full blockchain.\n",
    "\n",
    "### Uncles and uncles reward\n",
    "\n",
    "An uncle is essentailly a block that was discarded because it ended up in a fork that didn't grow to be the longest chain. It is called uncle because it is a block that builds on another block, it's parent, which is also the parent of another block, it's sibling, that ended up in the longest chain, and therefore has a child block that can be regarded as the nephew of that first block. This means it only becomes an uncle block when it has a uncle/nephew relationship with a block in the longest chain. The idea is that the miner who mined the uncle block should also get some reward for the effort they spent to mine that block, and this should in theory increase the fairness of the blockchain.\n",
    "\n",
    "![Uncle and nephew blocks](Figures/UncleBlock.png?raw=true \"Uncle and nephew blocks\")\n",
    "\n",
    "In order to make miners include a uncle reward in the blocks they mine, it is also important that the nephew also gets some reward. So in total, two new rewards/transactions are added, the nephew reward and the uncle reward, in order to help aleviate the loss incured when mining a block that ends up in a discarded fork.\n",
    "\n",
    "There are multiple different implementations possible for this kind of reward system, with differences like:\n",
    "\n",
    "- How many uncles can a single nephew give rewards to?\n",
    "- How far apart in the chain can two blocks be while still being considered uncle/nephew?\n",
    "- If an uncle reward can be given to a block that's further apart than a direct uncle, should the reward be the same? If not, how much should it decrease by?\n",
    "- How much is the uncle reward?\n",
    "- How much is the nephew reward?\n",
    "- Can an uncle reward be given to child blocks of an uncle, or just the uncle?\n",
    "\n",
    "And all of these parameters may affect the fairness. In addition to that, they may have unintended consequenses, like encouraging mining on a fork that isn't the longest, if implemented wrong."
   ]
  },
  {
   "cell_type": "markdown",
   "metadata": {},
   "source": [
    "#### Fairness\n",
    "It is important to define fairness before we continue: the fairness for an individual miner is defined as the portion of the reward given to them compared to the portion of mining power they have. Which is the same as their ratio of reward to power, compared to the total ratio of the same.\n",
    " \n",
    "$Fairness(miner) = \\frac{\\text{miner reward}}{\\text{total reward}} / \\frac{\\text{miner power}}{\\text{total power}} = \\frac{\\text{miner reward} }{\\text{miner power}} / \\frac{\\text{total reward}}{\\text{total power}}$\n",
    "\n",
    "Using this measure, the closer the value is to 1, the more fair the chain is for that particular miner. It is important to note that this measure is defined on the interval $\\left[0, \\frac{\\text{total power}}{\\text{miner power}}\\right].$ The fairness changes equally when increasing or decreasing the reward, in absolute terms, not relative. That means that when increasing the reward by some amount $\\text{k}$ coins, it changes the fairness the same amount as if the reward had been decreased by $\\text{k}$ coins. This is in contrast to a relative fairness measure where increasing the reward by a factor of $\\text{x}$ would have the same amount of dividing the reward by $\\text{x}.$ This means that \n",
    "\n",
    "<!--TODO rewrite-->\n",
    "To figure out how fair the chain as a whole is, we could take the average of the fairness for each miner, but this would be a rather bad measure, since the increased portion of reward for one miner would always result in less for the others, making the average always hover around 1, even when one miner is hoggin a much larger portion than it should. Instead, a cumulative measure of the absolute distance from totally fair, $Fairness = 1$, for each miner would be more useful, however this would be a measure of unfairness, not fariness. Defining the fairness as $\\frac{1}{\\text{unfairness}}$ would result in a value that is hard to manage between 0 and infinity, virtually useless, so instead we are simply going to use $-\\frac{\\text{unfairness}}{\\text{number of miners}}$ as the measure for fairness, even though this value is then between 0 and -infinity.\n",
    "\n",
    "\n",
    "\n",
    "<!-- $Fariness = \\frac{P(t|f) P(f)}{P(t)} = \\frac{P(t|f) P(f)}{\\sum_{f' \\in \\mathcal{F}} P(t|f')P(f')},$ -->"
   ]
  },
  {
   "cell_type": "markdown",
   "metadata": {},
   "source": [
    "### Imports"
   ]
  },
  {
   "cell_type": "code",
   "execution_count": 2,
   "metadata": {
    "colab": {
     "base_uri": "https://localhost:8080/"
    },
    "id": "ef05ce3c",
    "outputId": "935d959b-21d0-4d92-bae9-3e8c72e8ae1c"
   },
   "outputs": [],
   "source": [
    "#Import statements\n",
    "from draw_blockchain import show\n",
    "import hashlib as hasher\n",
    "import random\n",
    "import numpy as np\n",
    "import matplotlib.pyplot as plt\n",
    "from matplotlib import colors\n",
    "from dataclasses import dataclass\n",
    "import functools\n",
    "import operator\n",
    "import pandas as pd\n",
    "from scipy import stats"
   ]
  },
  {
   "cell_type": "markdown",
   "metadata": {},
   "source": [
    "### Hash function"
   ]
  },
  {
   "cell_type": "code",
   "execution_count": 3,
   "metadata": {},
   "outputs": [],
   "source": [
    "def hashbits(input):\n",
    "    hash_obj = hasher.sha256()\n",
    "    inputbytes = input.encode()\n",
    "    hash_obj.update(inputbytes)\n",
    "    hashbytes = hash_obj.digest()\n",
    "    return ''.join(f'{x:08b}' for x in hashbytes)\n",
    "\n",
    "def hash(input):\n",
    "    hash_obj = hasher.sha256()\n",
    "    inputbytes = input.encode()\n",
    "    hash_obj.update(inputbytes)\n",
    "    return hash_obj.hexdigest()\n",
    "\n",
    "def numberOfInitZeros(hashStr):\n",
    "    count = 0\n",
    "    for i in range (0 , len(hashStr)):\n",
    "        if hashStr[i] == '1':\n",
    "            break\n",
    "        count += 1\n",
    "    return count"
   ]
  },
  {
   "cell_type": "markdown",
   "metadata": {},
   "source": [
    "### Block"
   ]
  },
  {
   "cell_type": "code",
   "execution_count": 4,
   "metadata": {},
   "outputs": [],
   "source": [
    "class Block:\n",
    "    def __init__(self, data, creator=None, previous=None, nonce=0, blockchain=None):\n",
    "        self.data = data\n",
    "        if previous is None:\n",
    "            self.previous = None\n",
    "            self.previous_hash = \"\"\n",
    "            self.creator = Miner(0 , \"0\", blockchain, genesis=True)\n",
    "            self.height = 0\n",
    "            self.color = \"#AEF751\"\n",
    "        else:\n",
    "            self.previous = previous\n",
    "            self.previous_hash = previous.hash\n",
    "            self.creator = creator\n",
    "            self.height = previous.height+1\n",
    "            self.color = creator.color\n",
    "        self.nonce = nonce\n",
    "        self.hash = self.hash_block()\n",
    "        self.children = []\n",
    "\n",
    "    def hash_block(self):\n",
    "        return hashbits(self.data + self.creator.name + self.previous_hash + str(self.nonce))\n",
    "\n",
    "    def print(self):\n",
    "        print(self.data + \" \"+ self.creator.name + \" \" + str(self.height))"
   ]
  },
  {
   "cell_type": "markdown",
   "metadata": {
    "id": "ac097c16"
   },
   "source": [
    "### Blockchain"
   ]
  },
  {
   "cell_type": "code",
   "execution_count": 5,
   "metadata": {
    "id": "CDX_Rs4rubpy"
   },
   "outputs": [],
   "source": [
    "class Blockchain:\n",
    "    def __init__(self, genesis_data, difficulty, blockReward=10, static=False):\n",
    "        self.chain = []\n",
    "        self.difficulty = difficulty\n",
    "        self.size = 0\n",
    "        self.block_reward = blockReward\n",
    "        self.uncles = []\n",
    "        self.static = static\n",
    "        self.chain.append(Block(genesis_data, blockchain=self))\n",
    "\n",
    "    def longestChain(self, static=-1):\n",
    "      max = self.chain[0].height\n",
    "      for block in self.chain:\n",
    "          if block.height > max:\n",
    "                max = block.height\n",
    "      maxes = [block for block in self.chain if block.height == max]\n",
    "      static %= len(maxes)\n",
    "      r = maxes[static:static+1] if static >= 0 else random.choices(maxes, k=1)\n",
    "      return r[0]\n",
    "    \n",
    "    def ends_with_fork(self):\n",
    "        max = self.chain[0].height\n",
    "        r = False\n",
    "        for block in self.chain:\n",
    "            if block.height == max: r = True\n",
    "            if block.height > max:\n",
    "                max = block.height\n",
    "                r = False\n",
    "        return r\n",
    "        \n",
    "    def add(self, newBlock):\n",
    "        self.chain.append(newBlock)\n",
    "        newBlock.previous.children.append(newBlock)\n",
    "        self.size +=1\n",
    "        \n",
    "    def print(self):\n",
    "        for block in self.chain:\n",
    "            block.print()\n",
    "            print(\"________\")\n",
    "\n",
    "    def hasFork(self):\n",
    "        for block1 in self.chain:\n",
    "            for block2 in self.chain:\n",
    "                if block1!=block2 and block1.height == block2.height:\n",
    "                    return True\n",
    "        return False\n",
    "\n",
    "    def checkMiner(self, miner):\n",
    "      last = self.longestChain(miner.static)\n",
    "      count = 0\n",
    "      while last!=None:\n",
    "          if last.creator == miner:\n",
    "                count += 1\n",
    "          last = last.previous\n",
    "      return count\n",
    "    \n",
    "    def inlongestChain(self, block):\n",
    "          last = self.longestChain()\n",
    "          while last!= None:\n",
    "                if last == block:\n",
    "                        return True\n",
    "                last = last.previous\n",
    "          return False\n",
    "          \n",
    "    def forks(self):\n",
    "        fork_list = []\n",
    "        last = self.longestChain()\n",
    "        while last != None:\n",
    "            # print(last.creator.name)\n",
    "            for child in last.children:\n",
    "                if not self.inlongestChain(child):\n",
    "                    length = 1\n",
    "                    forkblock = child\n",
    "                    while forkblock.children:\n",
    "                        length += 1\n",
    "                        forkblock = forkblock.children[0]\n",
    "                    fork_list.append(length)\n",
    "            last = last.previous\n",
    "        return fork_list\n"
   ]
  },
  {
   "cell_type": "markdown",
   "metadata": {},
   "source": [
    "### Hypotheses\n",
    "\n",
    "1. Since the idea of uncles is to increase fairness, we also think that this will increase fairness of the blockchain overall. The rewards of the miners will be about the same over a long enough period of mining. \n",
    "\n",
    "2. We think that uncles makes selfish mining less risky, and therefore “more” profitable\n",
    "\n",
    "3. We define that selfish mining is profitable for when behaving “badly”, aka selfish, gives more rewards than being an honest miner"
   ]
  },
  {
   "cell_type": "markdown",
   "metadata": {},
   "source": [
    "## Miners"
   ]
  },
  {
   "cell_type": "markdown",
   "metadata": {},
   "source": [
    "### Normal miner"
   ]
  },
  {
   "cell_type": "code",
   "execution_count": 6,
   "metadata": {},
   "outputs": [],
   "source": [
    "class Miner:\n",
    "    def __init__(self, miningPower, name, blockchain=None, genesis=False):\n",
    "        self.miningPower = miningPower\n",
    "        self.nonce = 0 if blockchain.static else random.randint(0,100000) #original one\n",
    "        # self.nonce = 0\n",
    "        self.name = name\n",
    "        self.blockchain = blockchain\n",
    "        self.reward = 0\n",
    "        self.uncle_reward = 0\n",
    "        self.color = \"#7EDBF6\"\n",
    "        self.uncles = 0\n",
    "        self.nephews = 0\n",
    "        self.blocks = 0\n",
    "        self.static = sum([ord(c) for c in name]) if blockchain.static else -1\n",
    "        if self.blockchain != None and not genesis:\n",
    "            self.lastBlock = blockchain.longestChain(static=self.static)\n",
    "    \n",
    "    def UpdateLast(self):\n",
    "        latest = self.blockchain.longestChain(static=self.static)\n",
    "        if latest.height > self.lastBlock.height:\n",
    "              self.lastBlock = latest\n",
    "\n",
    "    def PoWSolver(self):\n",
    "        for i in range (0 , self.miningPower):\n",
    "            newBlock = Block(str(self.blockchain.size), self, self.lastBlock, self.nonce)\n",
    "            h = newBlock.hash_block()\n",
    "            count = numberOfInitZeros(h)\n",
    "            if count >= self.blockchain.difficulty:\n",
    "                self.blockchain.add(newBlock)\n",
    "                self.lastBlock = newBlock\n",
    "            self.nonce += 1\n"
   ]
  },
  {
   "cell_type": "markdown",
   "metadata": {},
   "source": [
    "### Selfish miner"
   ]
  },
  {
   "cell_type": "code",
   "execution_count": 7,
   "metadata": {},
   "outputs": [],
   "source": [
    "\n",
    "class SelfishMiner(Miner):\n",
    "    def __init__(self, miningPower, name, blockchain=None):\n",
    "        super().__init__(miningPower, name, blockchain)\n",
    "        self.privateBlocks = []\n",
    "        self.publishNext = False\n",
    "        self.color = \"#F59AEE\"\n",
    "\n",
    "    def UpdateLast(self):\n",
    "        latest = self.blockchain.longestChain()\n",
    "        publicheight = latest.height\n",
    "        if publicheight > self.lastBlock.height:\n",
    "            self.privateBlocks = []\n",
    "            self.lastBlock = latest\n",
    "            self.publishNext = False\n",
    "        if publicheight == self.lastBlock.height-1 and len(self.privateBlocks)> 1:\n",
    "            for block in self.privateBlocks:\n",
    "                self.blockchain.add(block)\n",
    "                self.privateBlocks = []\n",
    "        if publicheight == self.lastBlock.height:\n",
    "            for block in self.privateBlocks:\n",
    "                self.blockchain.add(block)\n",
    "                self.privateBlocks = []\n",
    "                self.publishNext = True\n",
    "\n",
    "    def PoWSolver(self):\n",
    "        for i in range (0 , self.miningPower):\n",
    "            newBlock = Block(str(self.blockchain.size), self, self.lastBlock, self.nonce)\n",
    "            h = newBlock.hash_block()\n",
    "            count = numberOfInitZeros(h)\n",
    "            if count >= self.blockchain.difficulty:\n",
    "                if self.publishNext:\n",
    "                    self.blockchain.add(newBlock)\n",
    "                    self.publishNext = False\n",
    "                else:\n",
    "                    self.privateBlocks.append(newBlock)\n",
    "                self.lastBlock = newBlock\n",
    "            self.nonce += 1"
   ]
  },
  {
   "cell_type": "markdown",
   "metadata": {},
   "source": [
    "## Main program"
   ]
  },
  {
   "cell_type": "markdown",
   "metadata": {},
   "source": [
    "### Run function"
   ]
  },
  {
   "cell_type": "code",
   "execution_count": 58,
   "metadata": {},
   "outputs": [],
   "source": [
    "def run(\n",
    "        reward=10, uncle_reward=0, nephew_reward=0,\n",
    "        difficulty=10,\n",
    "        num_miners=10,\n",
    "        num_selfish_miners=0,\n",
    "        mining_power=10,\n",
    "        mining_power_selfish=15,\n",
    "        genesis_data=\"0\",\n",
    "        num_blocks = 30,\n",
    "        miners = [],\n",
    "        static=False\n",
    "    ):\n",
    "    bc = None\n",
    "    bc = Blockchain(genesis_data , difficulty, reward, static)\n",
    "    miners = [Miner(p, \"m\"+ str(i), bc) for i,p in enumerate(miners)]\n",
    "    selfish = []\n",
    "    len_miners = len(miners)\n",
    "    for i in range(num_miners):\n",
    "        miners.append(Miner(mining_power ,\"m\"+str(len_miners+i), bc))\n",
    "    for i in range(num_selfish_miners):\n",
    "        selfish.append(SelfishMiner(mining_power_selfish ,\"s\"+str(i), bc))\n",
    "    while bc.chain[-1].height < num_blocks or bc.ends_with_fork():\n",
    "        for s in selfish:\n",
    "            s.PoWSolver()\n",
    "\n",
    "        for m in miners:\n",
    "            m.PoWSolver()\n",
    "\n",
    "        for s in selfish:\n",
    "            s.UpdateLast()\n",
    "\n",
    "        for m in miners:\n",
    "            m.UpdateLast()\n",
    "    calculate_reward(bc, reward=reward, uncle_reward=uncle_reward, nephew_reward=nephew_reward)\n",
    "    return bc, miners, selfish\n",
    "\n",
    "def calculate_reward(bc, reward=10, uncle_reward=3, nephew_reward=2):\n",
    "    last_block = bc.chain[-1]\n",
    "    while last_block.previous is not None:\n",
    "        last_block.creator.reward += reward\n",
    "        last_block.creator.blocks += 1\n",
    "        if uncle_reward > 0:\n",
    "            grandparent = last_block.previous.previous\n",
    "            if grandparent is not None and len(grandparent.children) > 1:\n",
    "                for uncle in grandparent.children:\n",
    "                    if uncle != last_block.previous:\n",
    "                        uncle.creator.uncle_reward += uncle_reward\n",
    "                        uncle.creator.uncles += 1\n",
    "                        last_block.creator.uncle_reward += nephew_reward\n",
    "                        last_block.creator.nephews += 1\n",
    "        last_block=last_block.previous\n",
    "\n",
    "def print_run(bc, miners, selfish):\n",
    "    print(\"Has fork:\", bc.hasFork())\n",
    "    longest_chain = bc.longestChain()\n",
    "    print(\"Longest chain height:\",longest_chain.height)\n",
    "    selfish_power = 0\n",
    "    for s in selfish:\n",
    "        selfish_power+=s.miningPower\n",
    "        print(s.name, bc.checkMiner(s))\n",
    "        print(\"Fraction {}\".format(bc.checkMiner(s) /longest_chain.height ))\n",
    "    total = selfish_power\n",
    "    for m in miners:\n",
    "        total += m.miningPower\n",
    "    print(\"alpha {}\".format(selfish_power / total))\n",
    "    for m in miners:    \n",
    "        print(m.name ,m.reward)\n",
    "    for s in selfish:    \n",
    "        print(s.name ,s.reward)\n",
    "        "
   ]
  },
  {
   "cell_type": "code",
   "execution_count": 101,
   "metadata": {},
   "outputs": [],
   "source": [
    "def fairness(df, reward=10, uncle_reward=3, nephew_reward=2):\n",
    "    total_power = df[[\"power\"]].sum().power\n",
    "    rewards = df[\"blocks\"] * reward + df[\"uncles\"] * uncle_reward + df[\"nephews\"] * nephew_reward\n",
    "    total_reward = rewards.sum()\n",
    "    fairness_miners = (rewards/total_reward)/(df[\"power\"]/total_power)\n",
    "    unfairness = (fairness_miners-1).abs()\n",
    "    fairness_miners.rename(\"fairness\", inplace=True)\n",
    "    relative_fairness = df.join(fairness_miners)\n",
    "    relative_fairness = relative_fairness.apply(lambda row: row.fairness if row.fairness <= 1 else 1-(row.fairness*row.power/total_power), axis=1)\n",
    "    return fairness_miners, unfairness, relative_fairness"
   ]
  },
  {
   "cell_type": "markdown",
   "metadata": {},
   "source": [
    "### Dataclass\n",
    "Used for formatting the run function output"
   ]
  },
  {
   "cell_type": "code",
   "execution_count": 39,
   "metadata": {},
   "outputs": [],
   "source": [
    "@dataclass\n",
    "class Stats:\n",
    "    name: str\n",
    "    reward: int\n",
    "    uncle_reward: int\n",
    "    blocks: int\n",
    "    uncles: int\n",
    "    nephews: int\n",
    "    power: int\n",
    "\n",
    "# Transform irregular 2D list into a regular one.\n",
    "def transform(nested_list):\n",
    "    regular_list = []\n",
    "    for e in nested_list:\n",
    "        if type(e) is list:\n",
    "            regular_list.append(e)\n",
    "        else:\n",
    "            regular_list.append([e])\n",
    "    return functools.reduce(operator.iconcat, regular_list, [])\n",
    "\n",
    "def get_stats(*miners):\n",
    "    if len(miners) == 0:\n",
    "        return []\n",
    "    stats = []\n",
    "    transformed_miners = transform(miners)\n",
    "    \n",
    "    for m in transformed_miners:\n",
    "        stats.append(Stats(\n",
    "            m.name,\n",
    "            m.reward,\n",
    "            m.uncle_reward,\n",
    "            m.blocks,\n",
    "            m.uncles,\n",
    "            m.nephews,\n",
    "            m.miningPower\n",
    "        ))\n",
    "    return pd.DataFrame(stats)"
   ]
  },
  {
   "cell_type": "markdown",
   "metadata": {},
   "source": [
    "### Average function\n",
    "Function to do multiple runs of simulation"
   ]
  },
  {
   "cell_type": "code",
   "execution_count": 40,
   "metadata": {},
   "outputs": [],
   "source": [
    "def getavg(tests, run_func, **kwargs):\n",
    "    args = set(kwargs)\n",
    "    num_nodes = 0\n",
    "    if \"num_blocks\" in kwargs:\n",
    "        miner_args = {\"num_miners\",\"miners\",\"num_selfish_miners\"}.intersection(args)\n",
    "        if miner_args:\n",
    "            for arg in miner_args:\n",
    "                val = kwargs.get(arg)\n",
    "                num_nodes += len(val) if type(val) == list else val\n",
    "        miner_rewards_avg = [0]*num_nodes\n",
    "        miner_rewards_avg_uncles = [0]*num_nodes\n",
    "        dfout = pd.DataFrame()\n",
    "        for i in range(tests):\n",
    "            bc, m, s = run_func(**kwargs)\n",
    "            dfa = get_stats(s,m)\n",
    "            if dfout.empty:\n",
    "                dfout = dfa\n",
    "            else:\n",
    "                dfout[['reward', 'uncle_reward', 'blocks', 'uncles', 'nephews']] = \\\n",
    "                dfout[['reward', 'uncle_reward', 'blocks', 'uncles', 'nephews']] + dfa[['reward', 'uncle_reward', 'blocks', 'uncles', 'nephews']]\n",
    "            for mi, miner in enumerate(s + m):\n",
    "                miner_rewards_avg[mi] += miner.reward \n",
    "                miner_rewards_avg_uncles[mi] += miner.uncle_reward + miner.reward\n",
    "        miner_rewards_avg[:] = [x / tests for x in miner_rewards_avg]  \n",
    "        miner_rewards_avg_uncles[:] = [x / tests for x in miner_rewards_avg_uncles]\n",
    "        dfout[['reward', 'uncle_reward', 'blocks', 'uncles', 'nephews']] = dfout[['reward', 'uncle_reward', 'blocks', 'uncles', 'nephews']] / tests\n",
    "    else:\n",
    "        miner_rewards_avg = []\n",
    "        dfout = pd.DataFrame()\n",
    "    return miner_rewards_avg, miner_rewards_avg_uncles, dfout"
   ]
  },
  {
   "cell_type": "markdown",
   "metadata": {},
   "source": [
    "## Uncle BlockChain\n",
    "\n",
    "We chose to reward the miners after running the simulation because of trouble with debugging and finding a good way of implementing uncle in the simulation. In the last part of the run function, implemented above the dataclass section, you can see that there is a while loop at the end of the function. This part adds uncle rewards if the uncle reward is set (uncle_reward > 0). It goes through the chain backwards, blockwise, and if a _grandparent_ has more than one child it will reference each of those not in the chain. That block's creator will then receive the nephew reward times how many uncles it referenced, and the creators of those uncle blocks will receive the uncle reward. The miners have an attribute for uncle reward and this is implemented in the dataframe that will be returned by the get_stats() function.\n",
    "\n",
    "```python\n",
    "def run(\n",
    "    ...\n",
    "    while last_block.previous is not None:\n",
    "        last_block.creator.reward += reward\n",
    "        last_block.creator.blocks += 1\n",
    "        if uncle_reward > 0:\n",
    "            grandparent = last_block.previous.previous\n",
    "            if grandparent is not None and len(grandparent.children) > 1:\n",
    "                for uncle in grandparent.children:\n",
    "                    if uncle != last_block.previous:\n",
    "                        uncle.creator.uncle_reward += uncle_reward\n",
    "                        uncle.creator.uncles += 1\n",
    "                        last_block.creator.uncle_reward += nephew_reward\n",
    "                        last_block.creator.nephews += 1\n",
    "        last_block=last_block.previous\n",
    "    return bc, miners, selfish\n",
    "```"
   ]
  },
  {
   "cell_type": "markdown",
   "metadata": {},
   "source": [
    "## Testing"
   ]
  },
  {
   "cell_type": "markdown",
   "metadata": {},
   "source": [
    "### Baseline\n",
    "\n",
    "To begin with we ran the blockchain with 20 different miners and 1000 blocks mined in total. This was done 10 times and we normalised the rewards for each miner and plotted it. This showed us that all the miners had _about_ the same amount of reward when mining for a long time, on many blocks. We can now conclude that the blockchain is somewhat fair, because same amount of mining power roughly equals same reward.\n",
    "\n",
    "We also did this with a single miner that had 3X the mining power of the other nodes to see if there were any difference. The miner with 3X mining power got about 3x the reward of a \"_average_\" miner. This also works as intended."
   ]
  },
  {
   "cell_type": "code",
   "execution_count": 41,
   "metadata": {},
   "outputs": [],
   "source": [
    "# # Multiple runs to show normal, uncles, normal big and uncle big\n",
    "miner_names = [\"m\"+ str(i) for i in range(15)]\n",
    "normal, uncles, df_nobig = getavg(10, run, num_blocks=100,num_miners=15, uncle_reward=3, nephew_reward=2)\n",
    "normal_big, uncles_big, df_big = getavg(10, run, num_blocks=100,num_miners=14, uncle_reward=3, nephew_reward=2,miners=[30])"
   ]
  },
  {
   "cell_type": "markdown",
   "metadata": {},
   "source": [
    "### Configuration of rewards\n",
    "\n",
    "To find a configuration that gives good fairness"
   ]
  },
  {
   "cell_type": "code",
   "execution_count": 123,
   "metadata": {},
   "outputs": [],
   "source": [
    "unfairnesses = {}\n",
    "fairnesses = {}\n",
    "for r in range(1, 100):\n",
    "    for ur in range(30):\n",
    "        for nr in range(11):\n",
    "            _, unfairness, relative = fairness(df_nobig, r, ur, nr/10)\n",
    "            s = f\"{r},{ur},{nr}\"\n",
    "            unfairnesses[s] = np.average(unfairness)\n",
    "            fairnesses[s] = np.average(relative)"
   ]
  },
  {
   "cell_type": "code",
   "execution_count": 127,
   "metadata": {},
<<<<<<< HEAD
   "outputs": [
    {
     "name": "stdout",
     "output_type": "stream",
     "text": [
      "16,11,0 0.9200181857716104\n",
      "32,22,0 0.9200181857716104\n",
      "32,22,1 0.9200164820342863\n",
      "35,24,0 0.9200155446502\n",
      "35,24,1 0.9200139872650831\n",
      "19,13,0 0.9200133200133199\n",
      "38,26,0 0.9200133200133199\n",
      "35,24,2 0.92001243052996\n",
      "38,26,1 0.9200118858261523\n",
      "41,28,0 0.92001142054618\n",
      "\n",
      "29,20,0 0.09163095510702561\n",
      "16,11,0 0.09163256834489708\n",
      "32,22,0 0.09163256834489708\n",
      "32,22,1 0.09163576285238004\n",
      "35,24,0 0.09163752044754132\n",
      "42,29,0 0.091639375117636\n",
      "35,24,1 0.09164044054463588\n",
      "19,13,0 0.09164169164169163\n",
      "38,26,0 0.09164169164169163\n",
      "35,24,2 0.09164335942299216\n"
     ]
    }
   ],
=======
   "outputs": [],
>>>>>>> 4387955a8f728f5979401769b079066d3c8e14c7
   "source": [
    "for k in sorted(fairnesses, key=fairnesses.get, reverse=True)[:10]:\n",
    "    print(k, fairnesses[k])\n",
    "print(\"\")\n",
    "for k in sorted(unfairnesses, key=unfairnesses.get, reverse=False)[:10]:\n",
    "    print(k, unfairnesses[k])"
   ]
  },
  {
   "cell_type": "code",
   "execution_count": 11,
   "metadata": {},
   "outputs": [
    {
     "name": "stdout",
     "output_type": "stream",
     "text": [
      "3.6521896019906865\n",
      "66.71333333333334\n",
      "0.054744522863855595\n",
      "3.2532192602951855\n",
      "68.89333333333335\n",
      "0.04722110402983141\n",
      "\n",
      "0.984374479426953\n",
      "[0.931134432783608, 0.939630184907546, 0.9957021489255371, 0.9243378310844574, 0.9770114942528734, 1.0330834582708643, 1.0619690154922536, 0.9379310344827585, 0.9277361319340328, 1.065367316341829, 1.0364817591204396, 1.0959520239880056, 1.0551724137931031, 1.065367316341829]\n",
      "\n",
      "1.0020834027430727\n",
      "0.058294945594294455\n",
      "\n",
      "1.0009811437766978\n",
      "0.050573660116493495\n",
      "0.050524088721271294\n"
     ]
    }
   ],
   "source": [
    "print(np.std(normal))\n",
    "print(np.average(normal))\n",
    "print(np.std(normal)/ np.average(normal))\n",
    "print(np.std(uncles))\n",
    "print(np.average(uncles))\n",
    "print(np.std(uncles)/ np.average(uncles))\n",
    "print(\"\")\n",
    "all_reward = sum(normal_big)\n",
    "reward_part = normal_big[0]\n",
    "all_power = 170\n",
    "power_part = 30\n",
    "\n",
    "reward_fraction = reward_part/all_reward\n",
    "power_fraction = power_part/all_power\n",
    "# print(reward_fraction/power_fraction)\n",
    "miner_rest = [(x/all_reward)/(10/all_power) for x in normal_big[1:]]\n",
    "print(reward_fraction/power_fraction)\n",
    "print(miner_rest)\n",
    "print(\"\")\n",
    "rest = [reward_fraction/power_fraction] + miner_rest\n",
    "print(np.average(rest))\n",
    "print(np.std(rest))\n",
    "print(\"\")\n",
    "all_reward = sum(uncles_big)\n",
    "reward_part = uncles_big[0]\n",
    "reward_fraction = reward_part/all_reward\n",
    "power_fraction = power_part/all_power\n",
    "# print(reward_fraction/power_fraction)\n",
    "miner_rest = [(x/all_reward)/(10/all_power) for x in uncles_big[1:]]\n",
    "rest = [(reward_part/all_reward)/(30/170)] + miner_rest\n",
    "print(np.average(rest))\n",
    "print(np.std(rest))\n",
    "print(np.std(rest)/np.average(rest))"
   ]
  },
  {
   "cell_type": "code",
   "execution_count": 12,
   "metadata": {},
   "outputs": [
    {
     "data": {
      "image/png": "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",
      "text/plain": [
       "<Figure size 432x288 with 1 Axes>"
      ]
     },
     "metadata": {
      "needs_background": "light"
     },
     "output_type": "display_data"
    }
   ],
   "source": [
    "width = 0.35\n",
    "xpos = np.arange(len(miner_names))\n",
    "\n",
    "fig, ax = plt.subplots()\n",
    "normal_plot = ax.bar(xpos - width/2, normal, width, label= \"Normal\")\n",
    "uncles_plot = ax.bar(xpos + width/2, uncles, width, label= \"Uncles\")\n",
    "\n",
    "ax.set_ylabel(\"Rewards\")\n",
    "ax.set_title(\"Rewards for miners, uncles vs normal\")\n",
    "ax.set_xticks(xpos)\n",
    "ax.set_xticklabels(miner_names)\n",
    "ax.legend()\n",
    "ax.bar_label(normal_plot, padding=3)\n",
    "ax.bar_label(uncles_plot, padding=3)\n",
    "fig.tight_layout()\n",
    "plt.show()"
   ]
  },
  {
   "cell_type": "code",
   "execution_count": 13,
   "metadata": {},
   "outputs": [
    {
     "data": {
      "image/png": "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",
      "text/plain": [
       "<Figure size 432x288 with 1 Axes>"
      ]
     },
     "metadata": {
      "needs_background": "light"
     },
     "output_type": "display_data"
    }
   ],
   "source": [
    "width = 0.35\n",
    "xpos = np.arange(len(miner_names))\n",
    "\n",
    "fig, ax = plt.subplots()\n",
    "normal_plot = ax.bar(xpos - width/2, normal_big, width, label=\"Normal\")\n",
    "uncles_plot = ax.bar(xpos + width/2, uncles_big, width, label=\"Uncles\")\n",
    "\n",
    "ax.set_ylabel(\"Rewards\")\n",
    "ax.set_title(\"Rewards for miners and big, uncles vs normal\")\n",
    "ax.set_xticks(xpos)\n",
    "ax.set_xticklabels([\"big\"] + miner_names[:-1])\n",
    "ax.legend()\n",
    "ax.bar_label(normal_plot, padding=3)\n",
    "ax.bar_label(uncles_plot, padding=3)\n",
    "fig.tight_layout()\n",
    "plt.show()"
   ]
  },
  {
   "cell_type": "markdown",
   "metadata": {},
   "source": [
    "### Testing unclerewards\n",
    "\n",
    "To test uncle rewards we could employ many different ways of testing fairness, but we chose to do a...? Dunno what to write\n",
    "-> show with code and plot what we mean. Numbers plot, whatever. Below we have run the application X times and the plot proves ... Code for uncles does not seem to work :((\n",
    "\n",
    "### Static chain\n",
    "\n",
    "In order to reliably test this, we decided that it was neccessary to implement a version of the blockchain without any randomness. This is achieved with the static parameter for the run method. Normally, the miners will pick randomly between block of the same height to mine on top of, but for the static chain, they will instead use their name to calculate an index (using the mod operator and sum(ord)) of their name) to select which block to mine on top of. \n",
    "\n",
    "Below you can see a chain that has 8 blocks in the longest, with two forks. It will always be that specific chain with the same miners on the same blocks, i.e. miner 7 will always get block 2. The chain has two forks, one of length 1 and one of length 2. We have implemented a uncle reward where a uncle who gets referenced will get a static reward, and the one referencing it will get a smaller nephew reward. In the case below, only two blocks should receive uncle rewards, the block miner 1 made that is the first in the first fork, and the block made by miner 7, in the second fork. This was easy to debug and below you can see the resulting dataframe.\n"
   ]
  },
  {
   "cell_type": "code",
   "execution_count": 14,
   "metadata": {},
   "outputs": [
    {
     "data": {
      "text/html": [
       "<svg height=\"345\" width=\"920\"><defs><marker id=\"markerArrow\" markerWidth=\"10\" markerHeight=\"10\" refX=\"2\" refY=\"6\" orient=\"auto\"><path d=\"M2,2 L2,11 L10,6 L2,2\" style=\"fill: #000000;\" /> </marker> </defs><g><rect x=\"30\" y=\"30\" width=\"60\" height=\"60\" stroke=\"black\" stroke-width=\"1\" fill=\"#AEF751\" /><text x=\"60\" y=\"60\" dominant-baseline=\"middle\" text-anchor=\"middle\" font-family=\"Verdana\" font-size=\"10\" font-weight=\"bold\" fill=\"black\">0</text></g><g><rect x=\"130\" y=\"30\" width=\"60\" height=\"60\" stroke=\"black\" stroke-width=\"1\" fill=\"#7EDBF6\" /><text x=\"160\" y=\"60\" dominant-baseline=\"middle\" text-anchor=\"middle\" font-family=\"Verdana\" font-size=\"10\" font-weight=\"bold\" fill=\"black\">m0</text><line stroke-width=\"1px\" stroke=\"#000000\"  x1=130 y1=\"60\" x2=\"95\" y2=\"60\" style=\"marker-end: url(#markerArrow)\"/></g><g><rect x=\"230\" y=\"30\" width=\"60\" height=\"60\" stroke=\"black\" stroke-width=\"1\" fill=\"#7EDBF6\" /><text x=\"260\" y=\"60\" dominant-baseline=\"middle\" text-anchor=\"middle\" font-family=\"Verdana\" font-size=\"10\" font-weight=\"bold\" fill=\"black\">m7</text><line stroke-width=\"1px\" stroke=\"#000000\"  x1=230 y1=\"60\" x2=\"195\" y2=\"60\" style=\"marker-end: url(#markerArrow)\"/></g><g><rect x=\"330\" y=\"30\" width=\"60\" height=\"60\" stroke=\"black\" stroke-width=\"1\" fill=\"#7EDBF6\" /><text x=\"360\" y=\"60\" dominant-baseline=\"middle\" text-anchor=\"middle\" font-family=\"Verdana\" font-size=\"10\" font-weight=\"bold\" fill=\"black\">m4</text><line stroke-width=\"1px\" stroke=\"#000000\"  x1=330 y1=\"60\" x2=\"295\" y2=\"60\" style=\"marker-end: url(#markerArrow)\"/></g><g><rect x=\"430\" y=\"30\" width=\"60\" height=\"60\" stroke=\"black\" stroke-width=\"1\" fill=\"#7EDBF6\" /><text x=\"460\" y=\"60\" dominant-baseline=\"middle\" text-anchor=\"middle\" font-family=\"Verdana\" font-size=\"10\" font-weight=\"bold\" fill=\"black\">m5</text><line stroke-width=\"1px\" stroke=\"#000000\"  x1=430 y1=\"60\" x2=\"395\" y2=\"60\" style=\"marker-end: url(#markerArrow)\"/></g><g><rect x=\"530\" y=\"30\" width=\"60\" height=\"60\" stroke=\"black\" stroke-width=\"1\" fill=\"#7EDBF6\" /><text x=\"560\" y=\"60\" dominant-baseline=\"middle\" text-anchor=\"middle\" font-family=\"Verdana\" font-size=\"10\" font-weight=\"bold\" fill=\"black\">m3</text><line stroke-width=\"1px\" stroke=\"#000000\"  x1=530 y1=\"60\" x2=\"495\" y2=\"60\" style=\"marker-end: url(#markerArrow)\"/></g><g><rect x=\"630\" y=\"30\" width=\"60\" height=\"60\" stroke=\"black\" stroke-width=\"1\" fill=\"#7EDBF6\" /><text x=\"660\" y=\"60\" dominant-baseline=\"middle\" text-anchor=\"middle\" font-family=\"Verdana\" font-size=\"10\" font-weight=\"bold\" fill=\"black\">m9</text><line stroke-width=\"1px\" stroke=\"#000000\"  x1=630 y1=\"60\" x2=\"595\" y2=\"60\" style=\"marker-end: url(#markerArrow)\"/></g><g><rect x=\"730\" y=\"30\" width=\"60\" height=\"60\" stroke=\"black\" stroke-width=\"1\" fill=\"#7EDBF6\" /><text x=\"760\" y=\"60\" dominant-baseline=\"middle\" text-anchor=\"middle\" font-family=\"Verdana\" font-size=\"10\" font-weight=\"bold\" fill=\"black\">m6</text><line stroke-width=\"1px\" stroke=\"#000000\"  x1=730 y1=\"60\" x2=\"695\" y2=\"60\" style=\"marker-end: url(#markerArrow)\"/></g><g><rect x=\"830\" y=\"30\" width=\"60\" height=\"60\" stroke=\"black\" stroke-width=\"1\" fill=\"#7EDBF6\" /><text x=\"860\" y=\"60\" dominant-baseline=\"middle\" text-anchor=\"middle\" font-family=\"Verdana\" font-size=\"10\" font-weight=\"bold\" fill=\"black\">m7</text><line stroke-width=\"1px\" stroke=\"#000000\"  x1=830 y1=\"60\" x2=\"795\" y2=\"60\" style=\"marker-end: url(#markerArrow)\"/></g><g><rect x=\"630\" y=\"130\" width=\"60\" height=\"60\" stroke=\"black\" stroke-width=\"1\" fill=\"#7EDBF6\" /><text x=\"660\" y=\"160\" dominant-baseline=\"middle\" text-anchor=\"middle\" font-family=\"Verdana\" font-size=\"10\" font-weight=\"bold\" fill=\"black\">m7</text><line stroke-width=\"1px\" stroke=\"#000000\"  x1=630 y1=\"160\" x2=\"565\" y2=\"95\" style=\"marker-end: url(#markerArrow)\"/></g><g><rect x=\"130\" y=\"230\" width=\"60\" height=\"60\" stroke=\"black\" stroke-width=\"1\" fill=\"#7EDBF6\" /><text x=\"160\" y=\"260\" dominant-baseline=\"middle\" text-anchor=\"middle\" font-family=\"Verdana\" font-size=\"10\" font-weight=\"bold\" fill=\"black\">m1</text><line stroke-width=\"1px\" stroke=\"#000000\"  x1=130 y1=\"260\" x2=\"65\" y2=\"95\" style=\"marker-end: url(#markerArrow)\"/></g><g><rect x=\"230\" y=\"230\" width=\"60\" height=\"60\" stroke=\"black\" stroke-width=\"1\" fill=\"#7EDBF6\" /><text x=\"260\" y=\"260\" dominant-baseline=\"middle\" text-anchor=\"middle\" font-family=\"Verdana\" font-size=\"10\" font-weight=\"bold\" fill=\"black\">m2</text><line stroke-width=\"1px\" stroke=\"#000000\"  x1=230 y1=\"260\" x2=\"195\" y2=\"260\" style=\"marker-end: url(#markerArrow)\"/></g></svg>"
      ],
      "text/plain": [
       "<IPython.core.display.HTML object>"
      ]
     },
     "metadata": {},
     "output_type": "display_data"
    },
    {
     "name": "stdout",
     "output_type": "stream",
     "text": [
      "  name  reward  uncle_reward  blocks  uncles  newphes  power\n",
      "0   m0      10             0       1       0        0     40\n",
      "1   m1       0             3       0       1        0     40\n",
      "2   m2       0             0       0       0        0     40\n",
      "3   m3      10             0       1       0        0     40\n",
      "4   m4      10             0       1       0        0     40\n",
      "5   m5      10             0       1       0        0     40\n",
      "6   m6      10             1       1       0        1     40\n",
      "7   m7      20             4       2       1        1     40\n",
      "8   m8       0             0       0       0        0     40\n",
      "9   m9      10             0       1       0        0     40\n"
     ]
    }
   ],
   "source": [
    "bc, m, s = run(mining_power=40, num_blocks=8, uncle_reward=3, nephew_reward=1, static=True)\n",
    "show(bc)\n",
    "print(get_stats(m))"
   ]
  },
  {
   "cell_type": "code",
   "execution_count": 15,
   "metadata": {},
   "outputs": [
    {
     "data": {
      "text/html": [
       "<svg height=\"920\" width=\"3450\"><defs><marker id=\"markerArrow\" markerWidth=\"10\" markerHeight=\"10\" refX=\"2\" refY=\"6\" orient=\"auto\"><path d=\"M2,2 L2,11 L10,6 L2,2\" style=\"fill: #000000;\" /> </marker> </defs><g><rect x=\"30\" y=\"30\" width=\"60\" height=\"60\" stroke=\"black\" stroke-width=\"1\" fill=\"#AEF751\" /><text x=\"60\" y=\"60\" dominant-baseline=\"middle\" text-anchor=\"middle\" font-family=\"Verdana\" font-size=\"10\" font-weight=\"bold\" fill=\"black\">0</text></g><g><rect x=\"130\" y=\"30\" width=\"60\" height=\"60\" stroke=\"black\" stroke-width=\"1\" fill=\"#7EDBF6\" /><text x=\"160\" y=\"60\" dominant-baseline=\"middle\" text-anchor=\"middle\" font-family=\"Verdana\" font-size=\"10\" font-weight=\"bold\" fill=\"black\">m4</text><line stroke-width=\"1px\" stroke=\"#000000\"  x1=130 y1=\"60\" x2=\"95\" y2=\"60\" style=\"marker-end: url(#markerArrow)\"/></g><g><rect x=\"230\" y=\"30\" width=\"60\" height=\"60\" stroke=\"black\" stroke-width=\"1\" fill=\"#7EDBF6\" /><text x=\"260\" y=\"60\" dominant-baseline=\"middle\" text-anchor=\"middle\" font-family=\"Verdana\" font-size=\"10\" font-weight=\"bold\" fill=\"black\">m7</text><line stroke-width=\"1px\" stroke=\"#000000\"  x1=230 y1=\"60\" x2=\"195\" y2=\"60\" style=\"marker-end: url(#markerArrow)\"/></g><g><rect x=\"330\" y=\"30\" width=\"60\" height=\"60\" stroke=\"black\" stroke-width=\"1\" fill=\"#7EDBF6\" /><text x=\"360\" y=\"60\" dominant-baseline=\"middle\" text-anchor=\"middle\" font-family=\"Verdana\" font-size=\"10\" font-weight=\"bold\" fill=\"black\">m0</text><line stroke-width=\"1px\" stroke=\"#000000\"  x1=330 y1=\"60\" x2=\"295\" y2=\"60\" style=\"marker-end: url(#markerArrow)\"/></g><g><rect x=\"430\" y=\"30\" width=\"60\" height=\"60\" stroke=\"black\" stroke-width=\"1\" fill=\"#7EDBF6\" /><text x=\"460\" y=\"60\" dominant-baseline=\"middle\" text-anchor=\"middle\" font-family=\"Verdana\" font-size=\"10\" font-weight=\"bold\" fill=\"black\">m4</text><line stroke-width=\"1px\" stroke=\"#000000\"  x1=430 y1=\"60\" x2=\"395\" y2=\"60\" style=\"marker-end: url(#markerArrow)\"/></g><g><rect x=\"530\" y=\"30\" width=\"60\" height=\"60\" stroke=\"black\" stroke-width=\"1\" fill=\"#7EDBF6\" /><text x=\"560\" y=\"60\" dominant-baseline=\"middle\" text-anchor=\"middle\" font-family=\"Verdana\" font-size=\"10\" font-weight=\"bold\" fill=\"black\">m8</text><line stroke-width=\"1px\" stroke=\"#000000\"  x1=530 y1=\"60\" x2=\"495\" y2=\"60\" style=\"marker-end: url(#markerArrow)\"/></g><g><rect x=\"630\" y=\"30\" width=\"60\" height=\"60\" stroke=\"black\" stroke-width=\"1\" fill=\"#7EDBF6\" /><text x=\"660\" y=\"60\" dominant-baseline=\"middle\" text-anchor=\"middle\" font-family=\"Verdana\" font-size=\"10\" font-weight=\"bold\" fill=\"black\">m8</text><line stroke-width=\"1px\" stroke=\"#000000\"  x1=630 y1=\"60\" x2=\"595\" y2=\"60\" style=\"marker-end: url(#markerArrow)\"/></g><g><rect x=\"730\" y=\"30\" width=\"60\" height=\"60\" stroke=\"black\" stroke-width=\"1\" fill=\"#7EDBF6\" /><text x=\"760\" y=\"60\" dominant-baseline=\"middle\" text-anchor=\"middle\" font-family=\"Verdana\" font-size=\"10\" font-weight=\"bold\" fill=\"black\">m8</text><line stroke-width=\"1px\" stroke=\"#000000\"  x1=730 y1=\"60\" x2=\"695\" y2=\"60\" style=\"marker-end: url(#markerArrow)\"/></g><g><rect x=\"830\" y=\"30\" width=\"60\" height=\"60\" stroke=\"black\" stroke-width=\"1\" fill=\"#7EDBF6\" /><text x=\"860\" y=\"60\" dominant-baseline=\"middle\" text-anchor=\"middle\" font-family=\"Verdana\" font-size=\"10\" font-weight=\"bold\" fill=\"black\">m4</text><line stroke-width=\"1px\" stroke=\"#000000\"  x1=830 y1=\"60\" x2=\"795\" y2=\"60\" style=\"marker-end: url(#markerArrow)\"/></g><g><rect x=\"930\" y=\"30\" width=\"60\" height=\"60\" stroke=\"black\" stroke-width=\"1\" fill=\"#7EDBF6\" /><text x=\"960\" y=\"60\" dominant-baseline=\"middle\" text-anchor=\"middle\" font-family=\"Verdana\" font-size=\"10\" font-weight=\"bold\" fill=\"black\">m8</text><line stroke-width=\"1px\" stroke=\"#000000\"  x1=930 y1=\"60\" x2=\"895\" y2=\"60\" style=\"marker-end: url(#markerArrow)\"/></g><g><rect x=\"1030\" y=\"30\" width=\"60\" height=\"60\" stroke=\"black\" stroke-width=\"1\" fill=\"#7EDBF6\" /><text x=\"1060\" y=\"60\" dominant-baseline=\"middle\" text-anchor=\"middle\" font-family=\"Verdana\" font-size=\"10\" font-weight=\"bold\" fill=\"black\">m0</text><line stroke-width=\"1px\" stroke=\"#000000\"  x1=1030 y1=\"60\" x2=\"995\" y2=\"60\" style=\"marker-end: url(#markerArrow)\"/></g><g><rect x=\"1130\" y=\"30\" width=\"60\" height=\"60\" stroke=\"black\" stroke-width=\"1\" fill=\"#7EDBF6\" /><text x=\"1160\" y=\"60\" dominant-baseline=\"middle\" text-anchor=\"middle\" font-family=\"Verdana\" font-size=\"10\" font-weight=\"bold\" fill=\"black\">m4</text><line stroke-width=\"1px\" stroke=\"#000000\"  x1=1130 y1=\"60\" x2=\"1095\" y2=\"60\" style=\"marker-end: url(#markerArrow)\"/></g><g><rect x=\"1230\" y=\"30\" width=\"60\" height=\"60\" stroke=\"black\" stroke-width=\"1\" fill=\"#7EDBF6\" /><text x=\"1260\" y=\"60\" dominant-baseline=\"middle\" text-anchor=\"middle\" font-family=\"Verdana\" font-size=\"10\" font-weight=\"bold\" fill=\"black\">m7</text><line stroke-width=\"1px\" stroke=\"#000000\"  x1=1230 y1=\"60\" x2=\"1195\" y2=\"60\" style=\"marker-end: url(#markerArrow)\"/></g><g><rect x=\"1330\" y=\"30\" width=\"60\" height=\"60\" stroke=\"black\" stroke-width=\"1\" fill=\"#7EDBF6\" /><text x=\"1360\" y=\"60\" dominant-baseline=\"middle\" text-anchor=\"middle\" font-family=\"Verdana\" font-size=\"10\" font-weight=\"bold\" fill=\"black\">m6</text><line stroke-width=\"1px\" stroke=\"#000000\"  x1=1330 y1=\"60\" x2=\"1295\" y2=\"60\" style=\"marker-end: url(#markerArrow)\"/></g><g><rect x=\"1430\" y=\"30\" width=\"60\" height=\"60\" stroke=\"black\" stroke-width=\"1\" fill=\"#7EDBF6\" /><text x=\"1460\" y=\"60\" dominant-baseline=\"middle\" text-anchor=\"middle\" font-family=\"Verdana\" font-size=\"10\" font-weight=\"bold\" fill=\"black\">m1</text><line stroke-width=\"1px\" stroke=\"#000000\"  x1=1430 y1=\"60\" x2=\"1395\" y2=\"60\" style=\"marker-end: url(#markerArrow)\"/></g><g><rect x=\"1530\" y=\"30\" width=\"60\" height=\"60\" stroke=\"black\" stroke-width=\"1\" fill=\"#7EDBF6\" /><text x=\"1560\" y=\"60\" dominant-baseline=\"middle\" text-anchor=\"middle\" font-family=\"Verdana\" font-size=\"10\" font-weight=\"bold\" fill=\"black\">m0</text><line stroke-width=\"1px\" stroke=\"#000000\"  x1=1530 y1=\"60\" x2=\"1495\" y2=\"60\" style=\"marker-end: url(#markerArrow)\"/></g><g><rect x=\"1630\" y=\"30\" width=\"60\" height=\"60\" stroke=\"black\" stroke-width=\"1\" fill=\"#7EDBF6\" /><text x=\"1660\" y=\"60\" dominant-baseline=\"middle\" text-anchor=\"middle\" font-family=\"Verdana\" font-size=\"10\" font-weight=\"bold\" fill=\"black\">m9</text><line stroke-width=\"1px\" stroke=\"#000000\"  x1=1630 y1=\"60\" x2=\"1595\" y2=\"60\" style=\"marker-end: url(#markerArrow)\"/></g><g><rect x=\"1730\" y=\"30\" width=\"60\" height=\"60\" stroke=\"black\" stroke-width=\"1\" fill=\"#7EDBF6\" /><text x=\"1760\" y=\"60\" dominant-baseline=\"middle\" text-anchor=\"middle\" font-family=\"Verdana\" font-size=\"10\" font-weight=\"bold\" fill=\"black\">m6</text><line stroke-width=\"1px\" stroke=\"#000000\"  x1=1730 y1=\"60\" x2=\"1695\" y2=\"60\" style=\"marker-end: url(#markerArrow)\"/></g><g><rect x=\"1830\" y=\"30\" width=\"60\" height=\"60\" stroke=\"black\" stroke-width=\"1\" fill=\"#7EDBF6\" /><text x=\"1860\" y=\"60\" dominant-baseline=\"middle\" text-anchor=\"middle\" font-family=\"Verdana\" font-size=\"10\" font-weight=\"bold\" fill=\"black\">m1</text><line stroke-width=\"1px\" stroke=\"#000000\"  x1=1830 y1=\"60\" x2=\"1795\" y2=\"60\" style=\"marker-end: url(#markerArrow)\"/></g><g><rect x=\"1930\" y=\"30\" width=\"60\" height=\"60\" stroke=\"black\" stroke-width=\"1\" fill=\"#7EDBF6\" /><text x=\"1960\" y=\"60\" dominant-baseline=\"middle\" text-anchor=\"middle\" font-family=\"Verdana\" font-size=\"10\" font-weight=\"bold\" fill=\"black\">m0</text><line stroke-width=\"1px\" stroke=\"#000000\"  x1=1930 y1=\"60\" x2=\"1895\" y2=\"60\" style=\"marker-end: url(#markerArrow)\"/></g><g><rect x=\"2030\" y=\"30\" width=\"60\" height=\"60\" stroke=\"black\" stroke-width=\"1\" fill=\"#7EDBF6\" /><text x=\"2060\" y=\"60\" dominant-baseline=\"middle\" text-anchor=\"middle\" font-family=\"Verdana\" font-size=\"10\" font-weight=\"bold\" fill=\"black\">m0</text><line stroke-width=\"1px\" stroke=\"#000000\"  x1=2030 y1=\"60\" x2=\"1995\" y2=\"60\" style=\"marker-end: url(#markerArrow)\"/></g><g><rect x=\"2130\" y=\"30\" width=\"60\" height=\"60\" stroke=\"black\" stroke-width=\"1\" fill=\"#7EDBF6\" /><text x=\"2160\" y=\"60\" dominant-baseline=\"middle\" text-anchor=\"middle\" font-family=\"Verdana\" font-size=\"10\" font-weight=\"bold\" fill=\"black\">m2</text><line stroke-width=\"1px\" stroke=\"#000000\"  x1=2130 y1=\"60\" x2=\"2095\" y2=\"60\" style=\"marker-end: url(#markerArrow)\"/></g><g><rect x=\"2230\" y=\"30\" width=\"60\" height=\"60\" stroke=\"black\" stroke-width=\"1\" fill=\"#7EDBF6\" /><text x=\"2260\" y=\"60\" dominant-baseline=\"middle\" text-anchor=\"middle\" font-family=\"Verdana\" font-size=\"10\" font-weight=\"bold\" fill=\"black\">m0</text><line stroke-width=\"1px\" stroke=\"#000000\"  x1=2230 y1=\"60\" x2=\"2195\" y2=\"60\" style=\"marker-end: url(#markerArrow)\"/></g><g><rect x=\"2330\" y=\"30\" width=\"60\" height=\"60\" stroke=\"black\" stroke-width=\"1\" fill=\"#7EDBF6\" /><text x=\"2360\" y=\"60\" dominant-baseline=\"middle\" text-anchor=\"middle\" font-family=\"Verdana\" font-size=\"10\" font-weight=\"bold\" fill=\"black\">m5</text><line stroke-width=\"1px\" stroke=\"#000000\"  x1=2330 y1=\"60\" x2=\"2295\" y2=\"60\" style=\"marker-end: url(#markerArrow)\"/></g><g><rect x=\"2430\" y=\"30\" width=\"60\" height=\"60\" stroke=\"black\" stroke-width=\"1\" fill=\"#7EDBF6\" /><text x=\"2460\" y=\"60\" dominant-baseline=\"middle\" text-anchor=\"middle\" font-family=\"Verdana\" font-size=\"10\" font-weight=\"bold\" fill=\"black\">m6</text><line stroke-width=\"1px\" stroke=\"#000000\"  x1=2430 y1=\"60\" x2=\"2395\" y2=\"60\" style=\"marker-end: url(#markerArrow)\"/></g><g><rect x=\"2530\" y=\"30\" width=\"60\" height=\"60\" stroke=\"black\" stroke-width=\"1\" fill=\"#7EDBF6\" /><text x=\"2560\" y=\"60\" dominant-baseline=\"middle\" text-anchor=\"middle\" font-family=\"Verdana\" font-size=\"10\" font-weight=\"bold\" fill=\"black\">m8</text><line stroke-width=\"1px\" stroke=\"#000000\"  x1=2530 y1=\"60\" x2=\"2495\" y2=\"60\" style=\"marker-end: url(#markerArrow)\"/></g><g><rect x=\"2630\" y=\"30\" width=\"60\" height=\"60\" stroke=\"black\" stroke-width=\"1\" fill=\"#7EDBF6\" /><text x=\"2660\" y=\"60\" dominant-baseline=\"middle\" text-anchor=\"middle\" font-family=\"Verdana\" font-size=\"10\" font-weight=\"bold\" fill=\"black\">m1</text><line stroke-width=\"1px\" stroke=\"#000000\"  x1=2630 y1=\"60\" x2=\"2595\" y2=\"60\" style=\"marker-end: url(#markerArrow)\"/></g><g><rect x=\"2730\" y=\"30\" width=\"60\" height=\"60\" stroke=\"black\" stroke-width=\"1\" fill=\"#7EDBF6\" /><text x=\"2760\" y=\"60\" dominant-baseline=\"middle\" text-anchor=\"middle\" font-family=\"Verdana\" font-size=\"10\" font-weight=\"bold\" fill=\"black\">m3</text><line stroke-width=\"1px\" stroke=\"#000000\"  x1=2730 y1=\"60\" x2=\"2695\" y2=\"60\" style=\"marker-end: url(#markerArrow)\"/></g><g><rect x=\"2830\" y=\"30\" width=\"60\" height=\"60\" stroke=\"black\" stroke-width=\"1\" fill=\"#7EDBF6\" /><text x=\"2860\" y=\"60\" dominant-baseline=\"middle\" text-anchor=\"middle\" font-family=\"Verdana\" font-size=\"10\" font-weight=\"bold\" fill=\"black\">m4</text><line stroke-width=\"1px\" stroke=\"#000000\"  x1=2830 y1=\"60\" x2=\"2795\" y2=\"60\" style=\"marker-end: url(#markerArrow)\"/></g><g><rect x=\"2930\" y=\"30\" width=\"60\" height=\"60\" stroke=\"black\" stroke-width=\"1\" fill=\"#7EDBF6\" /><text x=\"2960\" y=\"60\" dominant-baseline=\"middle\" text-anchor=\"middle\" font-family=\"Verdana\" font-size=\"10\" font-weight=\"bold\" fill=\"black\">m6</text><line stroke-width=\"1px\" stroke=\"#000000\"  x1=2930 y1=\"60\" x2=\"2895\" y2=\"60\" style=\"marker-end: url(#markerArrow)\"/></g><g><rect x=\"3030\" y=\"30\" width=\"60\" height=\"60\" stroke=\"black\" stroke-width=\"1\" fill=\"#7EDBF6\" /><text x=\"3060\" y=\"60\" dominant-baseline=\"middle\" text-anchor=\"middle\" font-family=\"Verdana\" font-size=\"10\" font-weight=\"bold\" fill=\"black\">m7</text><line stroke-width=\"1px\" stroke=\"#000000\"  x1=3030 y1=\"60\" x2=\"2995\" y2=\"60\" style=\"marker-end: url(#markerArrow)\"/></g><g><rect x=\"2730\" y=\"130\" width=\"60\" height=\"60\" stroke=\"black\" stroke-width=\"1\" fill=\"#7EDBF6\" /><text x=\"2760\" y=\"160\" dominant-baseline=\"middle\" text-anchor=\"middle\" font-family=\"Verdana\" font-size=\"10\" font-weight=\"bold\" fill=\"black\">m1</text><line stroke-width=\"1px\" stroke=\"#000000\"  x1=2730 y1=\"160\" x2=\"2665\" y2=\"95\" style=\"marker-end: url(#markerArrow)\"/></g><g><rect x=\"2530\" y=\"230\" width=\"60\" height=\"60\" stroke=\"black\" stroke-width=\"1\" fill=\"#7EDBF6\" /><text x=\"2560\" y=\"260\" dominant-baseline=\"middle\" text-anchor=\"middle\" font-family=\"Verdana\" font-size=\"10\" font-weight=\"bold\" fill=\"black\">m2</text><line stroke-width=\"1px\" stroke=\"#000000\"  x1=2530 y1=\"260\" x2=\"2465\" y2=\"95\" style=\"marker-end: url(#markerArrow)\"/></g><g><rect x=\"2430\" y=\"330\" width=\"60\" height=\"60\" stroke=\"black\" stroke-width=\"1\" fill=\"#7EDBF6\" /><text x=\"2460\" y=\"360\" dominant-baseline=\"middle\" text-anchor=\"middle\" font-family=\"Verdana\" font-size=\"10\" font-weight=\"bold\" fill=\"black\">m5</text><line stroke-width=\"1px\" stroke=\"#000000\"  x1=2430 y1=\"360\" x2=\"2365\" y2=\"95\" style=\"marker-end: url(#markerArrow)\"/></g><g><rect x=\"1230\" y=\"430\" width=\"60\" height=\"60\" stroke=\"black\" stroke-width=\"1\" fill=\"#7EDBF6\" /><text x=\"1260\" y=\"460\" dominant-baseline=\"middle\" text-anchor=\"middle\" font-family=\"Verdana\" font-size=\"10\" font-weight=\"bold\" fill=\"black\">m4</text><line stroke-width=\"1px\" stroke=\"#000000\"  x1=1230 y1=\"460\" x2=\"1165\" y2=\"95\" style=\"marker-end: url(#markerArrow)\"/></g><g><rect x=\"930\" y=\"530\" width=\"60\" height=\"60\" stroke=\"black\" stroke-width=\"1\" fill=\"#7EDBF6\" /><text x=\"960\" y=\"560\" dominant-baseline=\"middle\" text-anchor=\"middle\" font-family=\"Verdana\" font-size=\"10\" font-weight=\"bold\" fill=\"black\">m4</text><line stroke-width=\"1px\" stroke=\"#000000\"  x1=930 y1=\"560\" x2=\"865\" y2=\"95\" style=\"marker-end: url(#markerArrow)\"/></g><g><rect x=\"730\" y=\"630\" width=\"60\" height=\"60\" stroke=\"black\" stroke-width=\"1\" fill=\"#7EDBF6\" /><text x=\"760\" y=\"660\" dominant-baseline=\"middle\" text-anchor=\"middle\" font-family=\"Verdana\" font-size=\"10\" font-weight=\"bold\" fill=\"black\">m0</text><line stroke-width=\"1px\" stroke=\"#000000\"  x1=730 y1=\"660\" x2=\"665\" y2=\"95\" style=\"marker-end: url(#markerArrow)\"/></g><g><rect x=\"530\" y=\"730\" width=\"60\" height=\"60\" stroke=\"black\" stroke-width=\"1\" fill=\"#7EDBF6\" /><text x=\"560\" y=\"760\" dominant-baseline=\"middle\" text-anchor=\"middle\" font-family=\"Verdana\" font-size=\"10\" font-weight=\"bold\" fill=\"black\">m3</text><line stroke-width=\"1px\" stroke=\"#000000\"  x1=530 y1=\"760\" x2=\"465\" y2=\"95\" style=\"marker-end: url(#markerArrow)\"/></g></svg>"
      ],
      "text/plain": [
       "<IPython.core.display.HTML object>"
      ]
     },
     "metadata": {},
     "output_type": "display_data"
    }
   ],
   "source": [
    "bc, m, s = run(mining_power=40, num_blocks=30, uncle_reward=3, nephew_reward=1)\n",
    "show(bc)"
   ]
  },
  {
   "cell_type": "code",
   "execution_count": 16,
   "metadata": {},
   "outputs": [
    {
     "name": "stdout",
     "output_type": "stream",
     "text": [
      "  name  reward  uncle_reward  blocks  uncles  newphes  power\n",
      "0   m0      60             4       6       1        1     40\n",
      "1   m1      30             4       3       1        1     40\n",
      "2   m2      10             3       1       1        0     40\n",
      "3   m3      10             3       1       1        0     40\n",
      "4   m4      50             8       5       2        2     40\n",
      "5   m5      10             3       1       1        0     40\n",
      "6   m6      40             1       4       0        1     40\n",
      "7   m7      30             0       3       0        0     40\n",
      "8   m8      50             2       5       0        2     40\n",
      "9   m9      10             0       1       0        0     40\n"
     ]
    }
   ],
   "source": [
    "stats = get_stats(m, s)\n",
    "print(stats)"
   ]
  },
  {
   "cell_type": "markdown",
   "metadata": {},
   "source": [
    "## Selfish mining"
   ]
  },
  {
   "cell_type": "markdown",
   "metadata": {},
   "source": [
    "When a blockchain has implemented a uncle reward mechanism it eliminates some risk for the miners. When they mine a block that ends up outside the longest chain it will still be compensated somewhat for the time and energy put into the block, even if it is not on the level of the blockreward. However the blockchain may be more vulnerable to selfish mining attacks. Below you can see a model of a big miner on a uncle blockchain and a selfish miner on a uncle blockchain, where both of these have the same amount of _power_. So the difference is only how each of these miners behave. One of them will try to hide their blocks and one just publishes them. So if a uncle blockchain is more profitable to a selfish miner he should end up with more rewards than the big miner. "
   ]
  },
  {
   "cell_type": "code",
   "execution_count": 17,
   "metadata": {},
   "outputs": [],
   "source": [
    "normal_selfish, uncles_selfish, _ = getavg(100,run,num_blocks=100,num_miners=14, uncle_reward=3, nephew_reward=2, num_selfish_miners=1, mining_power_selfish=30)"
   ]
  },
  {
   "cell_type": "code",
   "execution_count": 18,
   "metadata": {},
   "outputs": [],
   "source": [
    "normal_self_big, uncles_self_big, _ = getavg(100,run,num_blocks=100,num_miners=13, uncle_reward=3, nephew_reward=2,miners=[30], num_selfish_miners=1, mining_power_selfish=10)"
   ]
  },
  {
   "cell_type": "code",
   "execution_count": null,
   "metadata": {},
   "outputs": [],
   "source": [
    "normal_self30_big, uncles_self30_big, _= getavg(100, run, num_blocks=100, num_miners=13, uncle_reward=3, nephew_reward=2,miners=[30], num_selfish_miners=1, mining_power_selfish=30)"
   ]
  },
  {
   "cell_type": "code",
   "execution_count": null,
   "metadata": {},
   "outputs": [
    {
     "data": {
      "image/png": "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",
      "text/plain": [
       "<Figure size 432x288 with 1 Axes>"
      ]
     },
     "metadata": {
      "needs_background": "light"
     },
     "output_type": "display_data"
    }
   ],
   "source": [
    "width = 0.35\n",
    "xpos = np.arange(len(miner_names))\n",
    "\n",
    "fig, ax = plt.subplots()\n",
    "normal_plot = ax.bar(xpos - width/2, normal_self30_big, width, label=\"Normal\")\n",
    "uncles_plot = ax.bar(xpos + width/2, uncles_self30_big, width, label=\"Uncle\")\n",
    "\n",
    "ax.set_ylabel(\"Rewards\")\n",
    "ax.set_title(\"Rewards for selfish and big, uncles/normal\")\n",
    "ax.set_xticks(xpos)\n",
    "ax.set_xticklabels([\"S\", \"Big\"] +  miner_names[:-2])\n",
    "ax.legend()\n",
    "ax.bar_label(normal_plot, padding=3)\n",
    "ax.bar_label(uncles_plot, padding=3)\n",
    "fig.tight_layout()\n",
    "plt.show()"
   ]
  },
  {
   "cell_type": "code",
   "execution_count": null,
   "metadata": {},
   "outputs": [],
   "source": [
    "print(normal)\n",
    "print(uncles)\n",
    "avg = np.average(uncles)\n",
    "std = np.std(uncles)\n",
    "print(stats.kstest(uncles, lambda x: stats.norm.cdf(x, avg, std)))"
   ]
  }
 ],
 "metadata": {
  "colab": {
   "collapsed_sections": [],
   "name": "lecture5_Attacks.ipynb",
   "provenance": []
  },
  "interpreter": {
   "hash": "2e5f00c86f82e8626bcf438a22bf019644939299f8b9f90a74399eb4e5a788c5"
  },
  "kernelspec": {
   "display_name": "Python 3.9.7 64-bit (windows store)",
   "name": "python3"
  },
  "language_info": {
   "codemirror_mode": {
    "name": "ipython",
    "version": 3
   },
   "file_extension": ".py",
   "mimetype": "text/x-python",
   "name": "python",
   "nbconvert_exporter": "python",
   "pygments_lexer": "ipython3",
   "version": "3.9.7"
  }
 },
 "nbformat": 4,
 "nbformat_minor": 5
}
