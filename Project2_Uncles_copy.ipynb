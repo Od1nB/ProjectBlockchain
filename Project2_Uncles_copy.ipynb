{
 "cells": [
  {
   "cell_type": "markdown",
   "metadata": {},
   "source": [
    "# Project 2: Uncles and Uncles Rewards\n",
    "- Model a Blockchain that uses uncles and uncle rewards\n",
    "- Model rewarding mechanism to reward uncle block creators\n",
    "- Model selfish mining (only one attacker) in this blockchain\n",
    "\n",
    "Try to answer the following questions with your experiment:\n",
    "1. How do uncles improve the fairness of the blockchain? For this, you should compare the outcome of miners with and without uncles.\n",
    "2. What is the impact of uncles on selfish mining? Is selfish mining more profitable with uncles?\n",
    "3. What does it mean in this model for the selfish mining attack to be profitable?\n",
    "\n",
    " Since more miners will get rewards for mining, even if they don't finish a block that is part of the longest chain, they will be rewarded for it. So the time and energy used for that block will not be as wasted, and it seems more rewarding to mine. Show net money with and without uncle rewards to display point. The concept of it is for fairness, but may encourage selfish mining. "
   ]
  },
  {
   "cell_type": "markdown",
   "metadata": {},
   "source": []
  },
  {
   "cell_type": "markdown",
   "metadata": {},
   "source": [
    "## Introduction\n",
    "\n",
    "Blockchains are currently a hot topic of research, and they have their fair share of problems. In this project, we will explore the concepts of uncles and uncles rewards in blockchains. Uncles is a measure that can be implemented in a blockchain to improve fairness, and it functions by giving some money to miners who lose their mined blocks in a fork while also giving some incentive to the other miners to include this reward in their own blocks. This project assumes knowledge of the implementation of proof-of-work and a full blockchain.\n",
    "\n",
    "### Uncles and uncles reward\n",
    "\n",
    "An uncle is essentailly a block that was discarded because it ended up in a fork that didn't grow to be the longest chain. It is called uncle because it is a block that builds on another block, it's parent, which is also the parent of another block, it's sibling, that ended up in the longest chain, and therefore has a child block that can be regarded as the nephew of that first block. This means it only becomes an uncle block when it has a uncle/nephew relationship with a block in the longest chain. The idea is that the miner who mined the uncle block should also get some reward for the effort they spent to mine that block, and this should in theory increase the fairness of the blockchain.\n",
    "\n",
    "![Uncle and nephew blocks](Figures/UncleBlock.png?raw=true \"Uncle and nephew blocks\")\n",
    "\n",
    "In order to make miners include a uncle reward in the blocks they mine, it is also important that the nephew also gets some reward. So in total, two new rewards/transactions are added, the nephew reward and the uncle reward, in order to help aleviate the loss incured when mining a block that ends up in a discarded fork.\n",
    "\n",
    "There are multiple different implementations possible for this kind of reward system, with differences like:\n",
    "\n",
    "- How many uncles can a single nephew give rewards to?\n",
    "- How far apart in the chain can two blocks be while still being considered uncle/nephew?\n",
    "- If an uncle reward can be given to a block that's further apart than a direct uncle, should the reward be the same? If not, how much should it decrease by?\n",
    "- How much is the uncle reward?\n",
    "- How much is the nephew reward?\n",
    "- Can an uncle reward be given to child blocks of an uncle, or just the uncle?\n",
    "\n",
    "And all of these parameters may affect the fairness. In addition to that, they may have unintended consequenses, like encouraging mining on a fork that isn't the longest, if implemented wrong."
   ]
  },
  {
   "cell_type": "markdown",
   "metadata": {},
   "source": [
    "#### Fairness\n",
    "It is important to define fairness before we continue: the fairness for an individual miner is defined as the portion of the reward given to them compared to the portion of mining power they have. Which is the same as their ratio of reward to power, compared to the total ratio of the same.\n",
    " \n",
    "$Fairness(miner) = \\frac{\\text{miner reward}}{\\text{total reward}} / \\frac{\\text{miner power}}{\\text{total power}} = \\frac{\\text{miner reward} }{\\text{miner power}} / \\frac{\\text{total reward}}{\\text{total power}}$\n",
    "\n",
    "Using this measure, the closer the value is to 1, the more fair the chain is for that particular miner. It is important to note that this measure is defined on the interval $\\left[0, \\frac{\\text{total power}}{\\text{miner power}}\\right].$ The fairness changes equally when increasing or decreasing the reward, in absolute terms, not relative. That means that when increasing the reward by some amount $\\text{k}$ coins, it changes the fairness the same amount as if the reward had been decreased by $\\text{k}$ coins. This is in contrast to a relative fairness measure where increasing the reward by a factor of $\\text{x}$ would have the same amount of dividing the reward by $\\text{x}.$ This means that \n",
    "\n",
    "<!--TODO rewrite-->\n",
    "To figure out how fair the chain as a whole is, we could take the average of the fairness for each miner, but this would be a rather bad measure, since the increased portion of reward for one miner would always result in less for the others, making the average always hover around 1, even when one miner is hoggin a much larger portion than it should. Instead, a cumulative measure of the absolute distance from totally fair, $Fairness = 1$, for each miner would be more useful, however this would be a measure of unfairness, not fariness. Defining the fairness as $\\frac{1}{\\text{unfairness}}$ would result in a value that is hard to manage between 0 and infinity, virtually useless, so instead we are simply going to use $-\\frac{\\text{unfairness}}{\\text{number of miners}}$ as the measure for fairness, even though this value is then between 0 and -infinity.\n",
    "\n",
    "\n",
    "\n",
    "<!-- $Fariness = \\frac{P(t|f) P(f)}{P(t)} = \\frac{P(t|f) P(f)}{\\sum_{f' \\in \\mathcal{F}} P(t|f')P(f')},$ -->"
   ]
  },
  {
   "cell_type": "markdown",
   "metadata": {},
   "source": [
    "### Imports"
   ]
  },
  {
   "cell_type": "code",
   "execution_count": 6,
   "metadata": {
    "colab": {
     "base_uri": "https://localhost:8080/"
    },
    "id": "ef05ce3c",
    "outputId": "935d959b-21d0-4d92-bae9-3e8c72e8ae1c"
   },
   "outputs": [],
   "source": [
    "#Import statements\n",
    "from draw_blockchain import show\n",
    "import hashlib as hasher\n",
    "import random\n",
    "import numpy as np\n",
    "import matplotlib.pyplot as plt\n",
    "from matplotlib import colors\n",
    "from dataclasses import dataclass\n",
    "import functools\n",
    "import operator\n",
    "import pandas as pd\n",
    "from scipy import stats"
   ]
  },
  {
   "cell_type": "markdown",
   "metadata": {},
   "source": [
    "### Hash function"
   ]
  },
  {
   "cell_type": "code",
   "execution_count": 7,
   "metadata": {},
   "outputs": [],
   "source": [
    "def hashbits(input):\n",
    "    hash_obj = hasher.sha256()\n",
    "    inputbytes = input.encode()\n",
    "    hash_obj.update(inputbytes)\n",
    "    hashbytes = hash_obj.digest()\n",
    "    return ''.join(f'{x:08b}' for x in hashbytes)\n",
    "\n",
    "def hash(input):\n",
    "    hash_obj = hasher.sha256()\n",
    "    inputbytes = input.encode()\n",
    "    hash_obj.update(inputbytes)\n",
    "    return hash_obj.hexdigest()\n",
    "\n",
    "def numberOfInitZeros(hashStr):\n",
    "    count = 0\n",
    "    for i in range (0 , len(hashStr)):\n",
    "        if hashStr[i] == '1':\n",
    "            break\n",
    "        count += 1\n",
    "    return count"
   ]
  },
  {
   "cell_type": "markdown",
   "metadata": {},
   "source": [
    "### Block"
   ]
  },
  {
   "cell_type": "code",
   "execution_count": 8,
   "metadata": {},
   "outputs": [],
   "source": [
    "class Block:\n",
    "    def __init__(self, data, creator=None, previous=None, nonce=0, blockchain=None):\n",
    "        self.data = data\n",
    "        if previous is None:\n",
    "            self.previous = None\n",
    "            self.previous_hash = \"\"\n",
    "            self.creator = Miner(0 , \"0\", blockchain, genesis=True)\n",
    "            self.height = 0\n",
    "            self.color = \"#AEF751\"\n",
    "        else:\n",
    "            self.previous = previous\n",
    "            self.previous_hash = previous.hash\n",
    "            self.creator = creator\n",
    "            self.height = previous.height+1\n",
    "            self.color = creator.color\n",
    "        self.nonce = nonce\n",
    "        self.hash = self.hash_block()\n",
    "        self.children = []\n",
    "\n",
    "    def hash_block(self):\n",
    "        return hashbits(self.data + self.creator.name + self.previous_hash + str(self.nonce))\n",
    "\n",
    "    def print(self):\n",
    "        print(self.data + \" \"+ self.creator.name + \" \" + str(self.height))"
   ]
  },
  {
   "cell_type": "markdown",
   "metadata": {
    "id": "ac097c16"
   },
   "source": [
    "### Blockchain"
   ]
  },
  {
   "cell_type": "code",
   "execution_count": 9,
   "metadata": {
    "id": "CDX_Rs4rubpy"
   },
   "outputs": [],
   "source": [
    "class Blockchain:\n",
    "    def __init__(self, genesis_data, difficulty, static=False):\n",
    "        self.chain = []\n",
    "        self.difficulty = difficulty\n",
    "        self.size = 0\n",
    "        self.static = static\n",
    "        self.chain.append(Block(genesis_data, blockchain=self))\n",
    "\n",
    "    def longestChain(self, static=-1):\n",
    "      max = self.chain[0].height\n",
    "      for block in self.chain:\n",
    "          if block.height > max:\n",
    "                max = block.height\n",
    "      maxes = [block for block in self.chain if block.height == max]\n",
    "      static %= len(maxes)\n",
    "      r = maxes[static:static+1] if static >= 0 else random.choices(maxes, k=1)\n",
    "      return r[0]\n",
    "    \n",
    "    def ends_with_fork(self):\n",
    "        max = self.chain[0].height\n",
    "        r = False\n",
    "        for block in self.chain:\n",
    "            if block.height == max: r = True\n",
    "            if block.height > max:\n",
    "                max = block.height\n",
    "                r = False\n",
    "        return r\n",
    "        \n",
    "    def add(self, newBlock):\n",
    "        self.chain.append(newBlock)\n",
    "        newBlock.previous.children.append(newBlock)\n",
    "        self.size +=1\n",
    "        \n",
    "    def print(self):\n",
    "        for block in self.chain:\n",
    "            block.print()\n",
    "            print(\"________\")\n",
    "\n",
    "    def hasFork(self):\n",
    "        for block1 in self.chain:\n",
    "            for block2 in self.chain:\n",
    "                if block1!=block2 and block1.height == block2.height:\n",
    "                    return True\n",
    "        return False\n",
    "\n",
    "    def checkMiner(self, miner):\n",
    "      last = self.longestChain(miner.static)\n",
    "      count = 0\n",
    "      while last!=None:\n",
    "          if last.creator == miner:\n",
    "                count += 1\n",
    "          last = last.previous\n",
    "      return count\n",
    "    \n",
    "    def inlongestChain(self, block):\n",
    "          last = self.longestChain()\n",
    "          while last!= None:\n",
    "                if last == block:\n",
    "                        return True\n",
    "                last = last.previous\n",
    "          return False\n",
    "          \n",
    "    def forks(self):\n",
    "        fork_list = []\n",
    "        last = self.longestChain()\n",
    "        while last != None:\n",
    "            # print(last.creator.name)\n",
    "            for child in last.children:\n",
    "                if not self.inlongestChain(child):\n",
    "                    length = 1\n",
    "                    forkblock = child\n",
    "                    while forkblock.children:\n",
    "                        length += 1\n",
    "                        forkblock = forkblock.children[0]\n",
    "                    fork_list.append(length)\n",
    "            last = last.previous\n",
    "        return fork_list\n"
   ]
  },
  {
   "cell_type": "markdown",
   "metadata": {},
   "source": [
    "## Miners"
   ]
  },
  {
   "cell_type": "markdown",
   "metadata": {},
   "source": [
    "### Normal miner"
   ]
  },
  {
   "cell_type": "code",
   "execution_count": 10,
   "metadata": {},
   "outputs": [],
   "source": [
    "class Miner:\n",
    "    def __init__(self, miningPower, name, blockchain=None, genesis=False):\n",
    "        self.miningPower = miningPower\n",
    "        self.nonce = 0 if blockchain.static else random.randint(0,100000) #original one\n",
    "        # self.nonce = 0\n",
    "        self.name = name\n",
    "        self.blockchain = blockchain\n",
    "        self.color = \"#7EDBF6\"\n",
    "        self.uncles = 0\n",
    "        self.nephews = 0\n",
    "        self.blocks = 0\n",
    "        self.static = sum([ord(c) for c in name]) if blockchain.static else -1\n",
    "        if self.blockchain != None and not genesis:\n",
    "            self.lastBlock = blockchain.longestChain(static=self.static)\n",
    "    \n",
    "    def UpdateLast(self):\n",
    "        latest = self.blockchain.longestChain(static=self.static)\n",
    "        if latest.height > self.lastBlock.height:\n",
    "              self.lastBlock = latest\n",
    "\n",
    "    def PoWSolver(self):\n",
    "        for i in range (0 , self.miningPower):\n",
    "            newBlock = Block(str(self.blockchain.size), self, self.lastBlock, self.nonce)\n",
    "            h = newBlock.hash_block()\n",
    "            count = numberOfInitZeros(h)\n",
    "            if count >= self.blockchain.difficulty:\n",
    "                self.blockchain.add(newBlock)\n",
    "                self.lastBlock = newBlock\n",
    "            self.nonce += 1\n"
   ]
  },
  {
   "cell_type": "markdown",
   "metadata": {},
   "source": [
    "### Selfish miner"
   ]
  },
  {
   "cell_type": "code",
   "execution_count": 11,
   "metadata": {},
   "outputs": [],
   "source": [
    "\n",
    "class SelfishMiner(Miner):\n",
    "    def __init__(self, miningPower, name, blockchain=None):\n",
    "        super().__init__(miningPower, name, blockchain)\n",
    "        self.privateBlocks = []\n",
    "        self.publishNext = False\n",
    "        self.color = \"#F59AEE\"\n",
    "\n",
    "    def UpdateLast(self):\n",
    "        latest = self.blockchain.longestChain()\n",
    "        publicheight = latest.height\n",
    "        if publicheight > self.lastBlock.height:\n",
    "            self.privateBlocks = []\n",
    "            self.lastBlock = latest\n",
    "            self.publishNext = False\n",
    "        if publicheight == self.lastBlock.height-1 and len(self.privateBlocks) > 1:\n",
    "            for block in self.privateBlocks:\n",
    "                self.blockchain.add(block)\n",
    "                self.privateBlocks = []\n",
    "        if publicheight == self.lastBlock.height:\n",
    "            for block in self.privateBlocks:\n",
    "                self.blockchain.add(block)\n",
    "                self.privateBlocks = []\n",
    "                self.publishNext = True\n",
    "    \n",
    "    def Finish(self):\n",
    "        if len(self.privateBlocks) > 1:\n",
    "            for block in self.privateBlocks:\n",
    "                self.blockchain.add(block)\n",
    "            self.privateBlocks = []\n",
    "\n",
    "    def PoWSolver(self):\n",
    "        for i in range (0 , self.miningPower):\n",
    "            newBlock = Block(str(self.blockchain.size), self, self.lastBlock, self.nonce)\n",
    "            h = newBlock.hash_block()\n",
    "            count = numberOfInitZeros(h)\n",
    "            if count >= self.blockchain.difficulty:\n",
    "                if self.publishNext:\n",
    "                    self.blockchain.add(newBlock)\n",
    "                    self.publishNext = False\n",
    "                else:\n",
    "                    self.privateBlocks.append(newBlock)\n",
    "                self.lastBlock = newBlock\n",
    "            self.nonce += 1"
   ]
  },
  {
   "cell_type": "markdown",
   "metadata": {},
   "source": [
    "## Main program"
   ]
  },
  {
   "cell_type": "markdown",
   "metadata": {},
   "source": [
    "### Run function"
   ]
  },
  {
   "cell_type": "code",
   "execution_count": 12,
   "metadata": {},
   "outputs": [],
   "source": [
    "def run(\n",
    "        difficulty=10,\n",
    "        num_miners=10,\n",
    "        num_selfish_miners=0,\n",
    "        mining_power=10,\n",
    "        mining_power_selfish=15,\n",
    "        genesis_data=\"0\",\n",
    "        num_blocks = 30,\n",
    "        miners = [],\n",
    "        static=False\n",
    "    ):\n",
    "    bc = None\n",
    "    bc = Blockchain(genesis_data , difficulty, static)\n",
    "    miners = [Miner(p, \"m\"+ str(i), bc) for i,p in enumerate(miners)]\n",
    "    selfish = []\n",
    "    len_miners = len(miners)\n",
    "    for i in range(num_miners):\n",
    "        miners.append(Miner(mining_power ,\"m\"+str(len_miners+i), bc))\n",
    "    for i in range(num_selfish_miners):\n",
    "        selfish.append(SelfishMiner(mining_power_selfish ,\"s\"+str(i), bc))\n",
    "    while bc.chain[-1].height < num_blocks or bc.ends_with_fork():\n",
    "        for s in selfish:\n",
    "            s.PoWSolver()\n",
    "\n",
    "        for m in miners:\n",
    "            m.PoWSolver()\n",
    "\n",
    "        for s in selfish:\n",
    "            s.UpdateLast()\n",
    "\n",
    "        for m in miners:\n",
    "            m.UpdateLast()\n",
    "\n",
    "    # Making sure the private blocks are published.\n",
    "    for s in selfish:\n",
    "        s.Finish()\n",
    "\n",
    "    for s in selfish:\n",
    "        s.UpdateLast()\n",
    "\n",
    "    for m in miners:\n",
    "        m.UpdateLast()\n",
    "    \n",
    "    calculate_blocks(bc)\n",
    "    return bc, miners, selfish\n",
    "\n",
    "def calculate_blocks(bc):\n",
    "    last_block = bc.chain[-1]\n",
    "    while last_block.previous is not None:\n",
    "        last_block.creator.blocks += 1\n",
    "        grandparent = last_block.previous.previous\n",
    "        if grandparent is not None and len(grandparent.children) > 1:\n",
    "            for uncle in grandparent.children:\n",
    "                if uncle != last_block.previous:\n",
    "                    uncle.creator.uncles += 1\n",
    "                    last_block.creator.nephews += 1\n",
    "        last_block=last_block.previous\n",
    "        "
   ]
  },
  {
   "cell_type": "code",
   "execution_count": 13,
   "metadata": {},
   "outputs": [],
   "source": [
    "def fairness(df, reward=32, uncle_reward=22, nephew_reward=1):\n",
    "    total_power = df[[\"power\"]].sum().power\n",
    "    rewards = df[\"blocks\"] * reward + df[\"uncles\"] * uncle_reward + df[\"nephews\"] * nephew_reward\n",
    "    total_reward = rewards.sum()\n",
    "    fairness_miners = (rewards/total_reward)/(df[\"power\"]/total_power)\n",
    "    unfairness = (fairness_miners-1).abs()\n",
    "    fairness_miners.rename(\"fairness\", inplace=True)\n",
    "    relative_fairness = df.join(fairness_miners)\n",
    "    relative_fairness = relative_fairness.apply(lambda row: row.fairness if row.fairness <= 1 else 1-(row.fairness*row.power/total_power), axis=1)\n",
    "    return fairness_miners, unfairness, relative_fairness"
   ]
  },
  {
   "cell_type": "markdown",
   "metadata": {},
   "source": [
    "### Dataclass\n",
    "Used for formatting the run function output. Returns a dataframe that we can easily get the information we need, after simulating."
   ]
  },
  {
   "cell_type": "code",
   "execution_count": 14,
   "metadata": {},
   "outputs": [],
   "source": [
    "@dataclass\n",
    "class Stats:\n",
    "    name: str\n",
    "    blocks: int\n",
    "    uncles: int\n",
    "    nephews: int\n",
    "    power: int\n",
    "\n",
    "# Transform irregular 2D list into a regular one.\n",
    "def transform(nested_list):\n",
    "    regular_list = []\n",
    "    for e in nested_list:\n",
    "        if type(e) is list:\n",
    "            regular_list.append(e)\n",
    "        else:\n",
    "            regular_list.append([e])\n",
    "    return functools.reduce(operator.iconcat, regular_list, [])\n",
    "\n",
    "def get_stats(*miners):\n",
    "    if len(miners) == 0:\n",
    "        return []\n",
    "    stats = []\n",
    "    transformed_miners = transform(miners)\n",
    "    \n",
    "    for m in transformed_miners:\n",
    "        stats.append(Stats(\n",
    "            m.name,\n",
    "            m.blocks,\n",
    "            m.uncles,\n",
    "            m.nephews,\n",
    "            m.miningPower\n",
    "        ))\n",
    "    return pd.DataFrame(stats)"
   ]
  },
  {
   "cell_type": "markdown",
   "metadata": {},
   "source": [
    "### Average function\n",
    "Function to do multiple runs of simulation"
   ]
  },
  {
   "cell_type": "code",
   "execution_count": 17,
   "metadata": {},
   "outputs": [],
   "source": [
    "def getavg(tests, run_func, **kwargs):\n",
    "    args = set(kwargs)\n",
    "    num_nodes = 0\n",
    "    if \"num_blocks\" in kwargs:\n",
    "        miner_args = {\"num_miners\",\"miners\",\"num_selfish_miners\"}.intersection(args)\n",
    "        if miner_args:\n",
    "            for arg in miner_args:\n",
    "                val = kwargs.get(arg)\n",
    "                num_nodes += len(val) if type(val) == list else val\n",
    "        dfout = pd.DataFrame()\n",
    "        for i in range(tests):\n",
    "            bc, m, s = run_func(**kwargs)\n",
    "            dfa = get_stats(s,m)\n",
    "            if dfout.empty:\n",
    "                dfout = dfa\n",
    "            else:\n",
    "                dfout[['blocks', 'uncles', 'nephews']] += dfa[['blocks', 'uncles', 'nephews']]\n",
    "        dfout[['blocks', 'uncles', 'nephews']] = dfout[['blocks', 'uncles', 'nephews']] / tests\n",
    "    else:\n",
    "        dfout = pd.DataFrame()\n",
    "    return dfout"
   ]
  },
  {
   "cell_type": "markdown",
   "metadata": {},
   "source": [
    "## Uncle BlockChain\n",
    "\n",
    "We chose to reward the miners after running the simulation because of trouble with debugging and finding a good way of implementing uncle in the simulation. In the last part of the run function, implemented above the dataclass section, you can see that there is a while loop at the end of the function. This part adds uncle rewards if the uncle reward is set (uncle_reward > 0). It goes through the chain backwards, blockwise, and if a _grandparent_ has more than one child it will reference each of those not in the chain. That block's creator will then receive the nephew reward times how many uncles it referenced, and the creators of those uncle blocks will receive the uncle reward. The miners have an attribute for uncle reward and this is implemented in the dataframe that will be returned by the get_stats() function.\n",
    "\n",
    "```python\n",
    "def run(\n",
    "    ...\n",
    "    while last_block.previous is not None:\n",
    "        last_block.creator.reward += reward\n",
    "        last_block.creator.blocks += 1\n",
    "        if uncle_reward > 0:\n",
    "            grandparent = last_block.previous.previous\n",
    "            if grandparent is not None and len(grandparent.children) > 1:\n",
    "                for uncle in grandparent.children:\n",
    "                    if uncle != last_block.previous:\n",
    "                        uncle.creator.uncle_reward += uncle_reward\n",
    "                        uncle.creator.uncles += 1\n",
    "                        last_block.creator.uncle_reward += nephew_reward\n",
    "                        last_block.creator.nephews += 1\n",
    "        last_block=last_block.previous\n",
    "    return bc, miners, selfish\n",
    "```"
   ]
  },
  {
   "cell_type": "markdown",
   "metadata": {},
   "source": [
    "## Testing"
   ]
  },
  {
   "cell_type": "markdown",
   "metadata": {},
   "source": [
    "### Baseline\n",
    "\n",
    "To begin with we ran the blockchain with 20 different miners and 1000 blocks mined in total. This was done 10 times and we normalised the rewards for each miner and plotted it. This showed us that all the miners had _about_ the same amount of reward when mining for a long time, on many blocks. We can now conclude that the blockchain is somewhat fair, because same amount of mining power roughly equals same reward.\n",
    "\n",
    "We also did this with a single miner that had 3X the mining power of the other nodes to see if there were any difference. The miner with 3X mining power got about 3x the reward of a \"_average_\" miner. This also works as intended."
   ]
  },
  {
   "cell_type": "code",
   "execution_count": 18,
   "metadata": {},
   "outputs": [],
   "source": [
    "# # Multiple runs to show normal, uncles, normal big and uncle big\n",
    "df_nobig = getavg(10, run, num_blocks=100, num_miners=15)\n",
    "df_big = getavg(10, run, num_blocks=100, num_miners=14, miners=[30])"
   ]
  },
  {
   "cell_type": "markdown",
   "metadata": {},
   "source": [
    "### Configuration of rewards\n",
    "\n",
    "To find a configuration that gives good fairness we calculate the fairness for a variety of configurations. We make the assumption that the block reward should be highest, the uncle reward should be smaller, but not very small, while the nephew reward should be very small in comparison. As a starting point, ethereum can be used, which has a ratio of 28:20:1 for reward, uncle reward and nephew reward [(source)](https://medium.com/@ShariHunt/there-are-two-uncle-rewards-a67e06fa17de). The numbers 100, 30 and 10 here are picked in such a way that that configuration is possible, while allowing for some more exploration of other configurations."
   ]
  },
  {
   "cell_type": "code",
   "execution_count": 19,
   "metadata": {},
   "outputs": [],
   "source": [
    "unfairnesses = {}\n",
    "fairnesses = {}\n",
    "for r in range(1, 50):\n",
    "    for ur in range(r-1):\n",
    "        for nr in range(min(ur,10)):\n",
    "            _, unfairness, relative = fairness(df_nobig, r, ur, nr)\n",
    "            s = f\"{r},{ur},{nr}\"\n",
    "            unfairnesses[s] = np.average(unfairness)\n",
    "            fairnesses[s] = np.average(relative)"
   ]
  },
  {
   "cell_type": "markdown",
   "metadata": {},
   "source": [
    "We examine both the unfairness and the relative fairness to see which configuration would make this chain most fair. Only the top 10 are examined, for the sake of simplicity."
   ]
  },
  {
   "cell_type": "code",
   "execution_count": 20,
   "metadata": {},
   "outputs": [],
   "source": [
    "for k in sorted(fairnesses, key=fairnesses.get, reverse=True)[:10]:\n",
    "    print(k, fairnesses[k])\n",
    "print(\"\")\n",
    "for k in sorted(unfairnesses, key=unfairnesses.get, reverse=False)[:10]:\n",
    "    print(k, unfairnesses[k])"
   ]
  },
  {
   "cell_type": "markdown",
   "metadata": {},
   "source": [
    "Sample output:\\\n",
    "16,11,0 0.9200181857716104\\\n",
    "32,22,0 0.9200181857716104\\\n",
    "32,22,1 0.9200164820342863\\\n",
    "35,24,0 0.9200155446502\\\n",
    "35,24,1 0.9200139872650831\\\n",
    "19,13,0 0.9200133200133199\\\n",
    "38,26,0 0.9200133200133199\\\n",
    "35,24,2 0.92001243052996\\\n",
    "38,26,1 0.9200118858261523\\\n",
    "41,28,0 0.92001142054618\n",
    "\n",
    "29,20,0 0.09163095510702561\\\n",
    "16,11,0 0.09163256834489708\\\n",
    "32,22,0 0.09163256834489708\\\n",
    "32,22,1 0.09163576285238004\\\n",
    "35,24,0 0.09163752044754132\\\n",
    "42,29,0 0.091639375117636\\\n",
    "35,24,1 0.09164044054463588\\\n",
    "19,13,0 0.09164169164169163\\\n",
    "38,26,0 0.09164169164169163\\\n",
    "35,24,2 0.09164335942299216\n",
    "\n",
    "Looking at the results, it is fairly obvious that the nephew reward has little impact on the fairness, and may even lead to less fairness, however this has not been thoroughly examined here. \n",
    "\n",
    "We see that a ratio of reward to uncle reward similar to that of ethereum results in highest fairness, and see that the differences between the top 10 are miniscule. Therefor the conclusion is that any of the configurations that are included in both top 10s should be decent. Looking at just the reward and uncle reward, we can see that 32:22 or 35:24 are good options. We want a configuration that is as fair as possible, but it must also include a nephew reward in order to encourage giving uncle rewards. As such, we conclude by using the values 32:22:1 as our reward configuration, since this seemed to be a decent configuration, although we do not conclude that this is the best configuration."
   ]
  },
  {
   "cell_type": "code",
   "execution_count": 21,
   "metadata": {},
   "outputs": [],
   "source": [
    "reward = 42\n",
    "uncle_reward = 15\n",
    "nephew_reward = 1"
   ]
  },
  {
   "cell_type": "code",
   "execution_count": 23,
   "metadata": {},
   "outputs": [],
   "source": [
    "normal = df_nobig[\"blocks\"] * reward\n",
    "uncles = df_nobig[\"blocks\"] * reward + df_nobig[\"uncles\"] * uncle_reward + df_nobig[\"nephews\"] * nephew_reward\n",
    "normal_big = df_big[\"blocks\"] * reward\n",
    "uncles_big = df_big[\"blocks\"] * reward + df_big[\"uncles\"] * uncle_reward + df_big[\"nephews\"] * nephew_reward"
   ]
  },
  {
   "cell_type": "markdown",
   "metadata": {},
   "source": [
    "## Selfish mining"
   ]
  },
  {
   "cell_type": "markdown",
   "metadata": {},
   "source": [
    "When a blockchain has implemented a uncle reward mechanism it eliminates some risk for the miners. When they mine a block that ends up outside the longest chain it will still be compensated somewhat for the time and energy put into the block, even if it is not on the level of the blockreward. However the blockchain may be more vulnerable to selfish mining attacks. Below you can see a model of a big miner on a uncle blockchain and a selfish miner on a uncle blockchain, where both of these have the same amount of _power_. So the difference is only how each of these miners behave. One of them will try to hide their blocks and one just publishes them. So if a uncle blockchain is more profitable to a selfish miner he should end up with more rewards than the big miner. "
   ]
  },
  {
   "cell_type": "code",
   "execution_count": 25,
   "metadata": {},
   "outputs": [],
   "source": [
    "df_selfish = getavg(10, run, num_blocks=100, num_miners=14, mining_power=10, num_selfish_miners=1, mining_power_selfish=10)"
   ]
  },
  {
   "cell_type": "code",
   "execution_count": 34,
   "metadata": {},
   "outputs": [
    {
     "name": "stdout",
     "output_type": "stream",
     "text": [
      "   name  reward  uncle_reward  portion_reward  portion_uncle_reward\n",
      "0    s0   302.4         312.9        7.192807              7.053334\n",
      "1    m0   277.2         298.7        6.593407              6.733240\n",
      "2    m1   243.6         268.6        5.794206              6.054732\n",
      "3    m2   285.6         306.2        6.793207              6.902304\n",
      "4    m3   252.0         270.7        5.994006              6.102069\n",
      "5    m4   294.0         303.6        6.993007              6.843695\n",
      "6    m5   235.2         252.4        5.594406              5.689554\n",
      "7    m6   243.6         259.4        5.794206              5.847347\n",
      "8    m7   247.8         263.3        5.894106              5.935260\n",
      "9    m8   327.6         344.1        7.792208              7.756639\n",
      "10   m9   319.2         327.6        7.592408              7.384699\n",
      "11  m10   289.8         307.6        6.893107              6.933862\n",
      "12  m11   281.4         291.6        6.693307              6.573193\n",
      "13  m12   273.0         288.9        6.493506              6.512330\n",
      "14  m13   331.8         340.6        7.892108              7.677742\n",
      "6.666666666666666\n",
      "6.666666666666666\n"
     ]
    }
   ],
   "source": [
    "df_selfish[\"reward\"] = df_selfish[\"blocks\"] * reward\n",
    "df_selfish[\"uncle_reward\"] = df_selfish[\"blocks\"] * reward + df_selfish[\"uncles\"] * uncle_reward + df_selfish[\"nephews\"] * nephew_reward\n",
    "df_selfish[\"portion_reward\"] = df_selfish[\"reward\"]*100/df_selfish[\"reward\"].sum()\n",
    "df_selfish[\"portion_uncle_reward\"] = df_selfish[\"uncle_reward\"]*100/df_selfish[\"uncle_reward\"].sum()\n",
    "print(df_selfish[[\"name\", \"reward\", \"uncle_reward\", \"portion_reward\", \"portion_uncle_reward\"]])"
   ]
  }
 ],
 "metadata": {
  "colab": {
   "collapsed_sections": [],
   "name": "lecture5_Attacks.ipynb",
   "provenance": []
  },
  "interpreter": {
   "hash": "d725e4bef31036ed1fa66d37088c13a5fef31be63a886f5393e2a9fada4ff7cb"
  },
  "kernelspec": {
   "display_name": "Python 3.9.7 64-bit (windows store)",
   "name": "python3"
  },
  "language_info": {
   "codemirror_mode": {
    "name": "ipython",
    "version": 3
   },
   "file_extension": ".py",
   "mimetype": "text/x-python",
   "name": "python",
   "nbconvert_exporter": "python",
   "pygments_lexer": "ipython3",
   "version": "3.9.7"
  }
 },
 "nbformat": 4,
 "nbformat_minor": 5
}
